{
 "cells": [
  {
   "cell_type": "markdown",
   "metadata": {},
   "source": [
    "# Dashboard Understanding - Notebook showing the working of dashboard\n",
    "\n",
    "\n",
    "***Data Flow***\n",
    "\n",
    "--> Select Points $(x, Q^2)$ \n",
    "\n",
    "--> add noise to cross section ***(created from concatenation of obs_p and obs_n of corresponding $(x,Q^2)$)***\n",
    "\n",
    "--> send the crossection data to the Model \n",
    "\n",
    "--> generates output (parameters) \n",
    "\n",
    "--> Parameters are used to generate PDF UP and PDF DOWN \n",
    "\n",
    "\n",
    "***Equation to add Noise***\n",
    "\n",
    "$(xsec)' = xsec + (\\sigma * f * R)$\n",
    "\n",
    "- uncertainity ($\\sigma$)\n",
    "\n",
    "- noise ($f$)\n",
    "\n",
    "- Random value ($R$)\n",
    "\n",
    "***To generate PDFs***\n",
    "\n",
    "$x$ = an array of range(0,100)\n",
    "\n",
    "$Q^2$ = constant value"
   ]
  },
  {
   "cell_type": "code",
   "execution_count": 17,
   "metadata": {},
   "outputs": [],
   "source": [
    "# libraries\n",
    "import numpy as np #--- pdf,mlutils\n",
    "import pandas as pd\n",
    "import plotly.graph_objs as go\n",
    "import dash\n",
    "import matplotlib.pyplot as plt\n",
    "\n",
    "#---mlutils\n",
    "from tensorflow.keras.models import load_model\n",
    "#from keras.models import load_model\n",
    "import tensorflow as tf\n",
    "import warnings\n",
    "warnings.filterwarnings('ignore')\n",
    "import h5py\n",
    "\n",
    "#---pdf libs\n",
    "from scipy.special import gamma\n",
    "import sys,os\n",
    "\n",
    "#--- only for jupyter\n",
    "from ipywidgets import interactive, HBox, VBox"
   ]
  },
  {
   "cell_type": "code",
   "execution_count": 3,
   "metadata": {},
   "outputs": [
    {
     "data": {
      "text/plain": [
       "((100, 101), (100, 101), (101,), (101,))"
      ]
     },
     "execution_count": 3,
     "metadata": {},
     "output_type": "execute_result"
    }
   ],
   "source": [
    "#-- Loading the data\n",
    "X = np.load(\"data/X.npy\")\n",
    "Q2 = np.load(\"data/Q2.npy\")\n",
    "obs_p = np.load(\"data/obs_p.npy\") #-- toy data is of shape (100,101)\n",
    "obs_n = np.load(\"data/obs_n.npy\") #-- toy data is of shape (100,101)\n",
    "par = np.load('data/par.npy')\n",
    "obs_p.shape, obs_n.shape, X.shape, Q2.shape"
   ]
  },
  {
   "cell_type": "code",
   "execution_count": 4,
   "metadata": {},
   "outputs": [
    {
     "data": {
      "text/plain": [
       "((100, 10), (10,))"
      ]
     },
     "execution_count": 4,
     "metadata": {},
     "output_type": "execute_result"
    }
   ],
   "source": [
    "truebar = par[0]\n",
    "par.shape, truebar.shape"
   ]
  },
  {
   "cell_type": "code",
   "execution_count": 5,
   "metadata": {},
   "outputs": [
    {
     "data": {
      "text/html": [
       "<div>\n",
       "<style scoped>\n",
       "    .dataframe tbody tr th:only-of-type {\n",
       "        vertical-align: middle;\n",
       "    }\n",
       "\n",
       "    .dataframe tbody tr th {\n",
       "        vertical-align: top;\n",
       "    }\n",
       "\n",
       "    .dataframe thead th {\n",
       "        text-align: right;\n",
       "    }\n",
       "</style>\n",
       "<table border=\"1\" class=\"dataframe\">\n",
       "  <thead>\n",
       "    <tr style=\"text-align: right;\">\n",
       "      <th></th>\n",
       "      <th>X</th>\n",
       "      <th>Q2</th>\n",
       "      <th>obs_p</th>\n",
       "      <th>obs_n</th>\n",
       "      <th>is_selected</th>\n",
       "      <th>err_obs_p</th>\n",
       "      <th>err_obs_n</th>\n",
       "      <th>err_obs_p_mod</th>\n",
       "      <th>err_obs_n_mod</th>\n",
       "    </tr>\n",
       "  </thead>\n",
       "  <tbody>\n",
       "    <tr>\n",
       "      <th>0</th>\n",
       "      <td>0.012055</td>\n",
       "      <td>1.000000</td>\n",
       "      <td>2.627395</td>\n",
       "      <td>0.727704</td>\n",
       "      <td>False</td>\n",
       "      <td>0.131370</td>\n",
       "      <td>0.036385</td>\n",
       "      <td>0.131370</td>\n",
       "      <td>0.036385</td>\n",
       "    </tr>\n",
       "    <tr>\n",
       "      <th>1</th>\n",
       "      <td>0.019467</td>\n",
       "      <td>1.000000</td>\n",
       "      <td>2.862549</td>\n",
       "      <td>0.816804</td>\n",
       "      <td>False</td>\n",
       "      <td>0.143127</td>\n",
       "      <td>0.040840</td>\n",
       "      <td>0.143127</td>\n",
       "      <td>0.040840</td>\n",
       "    </tr>\n",
       "    <tr>\n",
       "      <th>2</th>\n",
       "      <td>0.019467</td>\n",
       "      <td>1.260221</td>\n",
       "      <td>2.798435</td>\n",
       "      <td>0.799198</td>\n",
       "      <td>False</td>\n",
       "      <td>0.139922</td>\n",
       "      <td>0.039960</td>\n",
       "      <td>0.139922</td>\n",
       "      <td>0.039960</td>\n",
       "    </tr>\n",
       "    <tr>\n",
       "      <th>3</th>\n",
       "      <td>0.019467</td>\n",
       "      <td>1.588156</td>\n",
       "      <td>2.739728</td>\n",
       "      <td>0.783056</td>\n",
       "      <td>False</td>\n",
       "      <td>0.136986</td>\n",
       "      <td>0.039153</td>\n",
       "      <td>0.136986</td>\n",
       "      <td>0.039153</td>\n",
       "    </tr>\n",
       "    <tr>\n",
       "      <th>4</th>\n",
       "      <td>0.031435</td>\n",
       "      <td>1.000000</td>\n",
       "      <td>3.108782</td>\n",
       "      <td>0.920222</td>\n",
       "      <td>False</td>\n",
       "      <td>0.155439</td>\n",
       "      <td>0.046011</td>\n",
       "      <td>0.155439</td>\n",
       "      <td>0.046011</td>\n",
       "    </tr>\n",
       "  </tbody>\n",
       "</table>\n",
       "</div>"
      ],
      "text/plain": [
       "          X        Q2     obs_p     obs_n  is_selected  err_obs_p  err_obs_n  \\\n",
       "0  0.012055  1.000000  2.627395  0.727704        False   0.131370   0.036385   \n",
       "1  0.019467  1.000000  2.862549  0.816804        False   0.143127   0.040840   \n",
       "2  0.019467  1.260221  2.798435  0.799198        False   0.139922   0.039960   \n",
       "3  0.019467  1.588156  2.739728  0.783056        False   0.136986   0.039153   \n",
       "4  0.031435  1.000000  3.108782  0.920222        False   0.155439   0.046011   \n",
       "\n",
       "   err_obs_p_mod  err_obs_n_mod  \n",
       "0       0.131370       0.036385  \n",
       "1       0.143127       0.040840  \n",
       "2       0.139922       0.039960  \n",
       "3       0.136986       0.039153  \n",
       "4       0.155439       0.046011  "
      ]
     },
     "execution_count": 5,
     "metadata": {},
     "output_type": "execute_result"
    }
   ],
   "source": [
    "data = pd.DataFrame(data = X,\n",
    "                    index=np.arange(len(X)),\n",
    "                    columns=['X']\n",
    "                    )\n",
    "data['Q2'] = Q2\n",
    "data['obs_p'] = obs_p[0,:] #--- currently taking only one sample\n",
    "data['obs_n'] = obs_n[0,:] #--- currently taking only one sample\n",
    "data['is_selected'] = False\n",
    "#data['co-ord'] = list(zip(X,Q2))\n",
    "data['err_obs_p'] = 0.05 * data['obs_p']\n",
    "data['err_obs_n'] = 0.05 * data['obs_n']\n",
    "data['err_obs_p_mod'] = data['err_obs_p'].copy()\n",
    "data['err_obs_n_mod'] = data['err_obs_n'].copy()\n",
    "data.head()"
   ]
  },
  {
   "cell_type": "code",
   "execution_count": 6,
   "metadata": {},
   "outputs": [],
   "source": [
    "F_value = 0.5"
   ]
  },
  {
   "cell_type": "code",
   "execution_count": 7,
   "metadata": {},
   "outputs": [
    {
     "name": "stdout",
     "output_type": "stream",
     "text": [
      "False\n"
     ]
    }
   ],
   "source": [
    "dataSelected = False\n",
    "print(dataSelected)\n",
    "def selectedData(trace,points,selector):\n",
    "    global dataSelected\n",
    "    dataSelected = True\n",
    "    print(points)\n",
    "#     temp_x = []\n",
    "#     temp_q2 = []\n",
    "#     temp_op = []\n",
    "#     temp_on = []\n",
    "#    t.data[0].cells.values = [data.loc[points.point_inds][col] for col in ['X','Q2','obs_p','obs_n']]\n",
    "    data.loc[points.point_inds,'is_selected'] =  True\n",
    "    for pts in points.point_inds:\n",
    "        data.loc[pts,'err_obs_p_mod'] *= F_value\n",
    "        data.loc[pts,'err_obs_n_mod'] *= F_value\n",
    "    return dataSelected"
   ]
  },
  {
   "cell_type": "code",
   "execution_count": 8,
   "metadata": {},
   "outputs": [
    {
     "data": {
      "application/vnd.jupyter.widget-view+json": {
       "model_id": "eacd48366579421e9501f08edff2f7c9",
       "version_major": 2,
       "version_minor": 0
      },
      "text/plain": [
       "VBox(children=(FigureWidget({\n",
       "    'data': [{'mode': 'markers',\n",
       "              'type': 'scattergl',\n",
       "            …"
      ]
     },
     "metadata": {},
     "output_type": "display_data"
    },
    {
     "name": "stdout",
     "output_type": "stream",
     "text": [
      "Points(point_inds=[81, 82, 83, 84, 85, 86, 87, 88, 89, 90, 91, 92, 93, 94, 95,\n",
      "                   96, 97, 98, 99, 100],\n",
      "       xs=[0.9, 0.9, 0.9, 0.9, 0.9, 0.9, 0.9, 0.9, 0.9, 0.9, 0.9, 0.9, 0.9,\n",
      "           0.9, 0.9, 0.9, 0.9, 0.9, 0.9, 0.9],\n",
      "       ys=[1, 1.260220615891982, 1.5881560007191666, 2.0014269333588555,\n",
      "           2.5222394826202974, 3.1785781942148255, 4.005709769574232,\n",
      "           5.048078032897367, 6.361692007688706, 8.017135420044562,\n",
      "           10.10335933673798, 12.732461725921944, 16.045710758062445,\n",
      "           20.221135493950054, 25.483091826220953, 32.11431767607212,\n",
      "           40.47112520069036, 51.00254632625551, 64.27446034333309, 81],\n",
      "       trace_name='trace 0',\n",
      "       trace_index=0)\n"
     ]
    }
   ],
   "source": [
    "#plotting the data\n",
    "figure = go.FigureWidget(data=go.Scattergl(x=data['X'],y=data['Q2'],mode='markers',),\n",
    "                   layout=go.Layout(xaxis_title=\"X\",yaxis_title=\"Q2\"))\n",
    "#figure.show()\n",
    "input_data = figure.data[0]\n",
    "\n",
    "#--- for jupyter notebook\n",
    "# Create a table FigureWidget that updates on selection from points in the scatter plot of f\n",
    "t = go.FigureWidget([go.Table(\n",
    "    header=dict(values=['X','Q2','obs_p','obs_n'],\n",
    "                fill = dict(color='#C2D4FF'),\n",
    "                align = ['left'] * 5),\n",
    "    cells=dict(values=[data[col] for col in ['X','Q2','obs_p','obs_n']],\n",
    "               fill = dict(color='#F5F8FF'),\n",
    "               align = ['left'] * 5))])\n",
    "\n",
    "\n",
    "input_data.on_selection(selectedData)\n",
    "\n",
    "\n",
    "# Put everything together ---- jupyter\n",
    "VBox((figure,t))"
   ]
  },
  {
   "cell_type": "code",
   "execution_count": 9,
   "metadata": {},
   "outputs": [
    {
     "name": "stdout",
     "output_type": "stream",
     "text": [
      "True\n"
     ]
    },
    {
     "data": {
      "text/html": [
       "<div>\n",
       "<style scoped>\n",
       "    .dataframe tbody tr th:only-of-type {\n",
       "        vertical-align: middle;\n",
       "    }\n",
       "\n",
       "    .dataframe tbody tr th {\n",
       "        vertical-align: top;\n",
       "    }\n",
       "\n",
       "    .dataframe thead th {\n",
       "        text-align: right;\n",
       "    }\n",
       "</style>\n",
       "<table border=\"1\" class=\"dataframe\">\n",
       "  <thead>\n",
       "    <tr style=\"text-align: right;\">\n",
       "      <th></th>\n",
       "      <th>X</th>\n",
       "      <th>Q2</th>\n",
       "      <th>obs_p</th>\n",
       "      <th>obs_n</th>\n",
       "      <th>is_selected</th>\n",
       "      <th>err_obs_p</th>\n",
       "      <th>err_obs_n</th>\n",
       "      <th>err_obs_p_mod</th>\n",
       "      <th>err_obs_n_mod</th>\n",
       "    </tr>\n",
       "  </thead>\n",
       "  <tbody>\n",
       "    <tr>\n",
       "      <th>81</th>\n",
       "      <td>0.9</td>\n",
       "      <td>1.000000</td>\n",
       "      <td>0.356107</td>\n",
       "      <td>0.093364</td>\n",
       "      <td>True</td>\n",
       "      <td>0.017805</td>\n",
       "      <td>0.004668</td>\n",
       "      <td>0.008903</td>\n",
       "      <td>0.002334</td>\n",
       "    </tr>\n",
       "    <tr>\n",
       "      <th>82</th>\n",
       "      <td>0.9</td>\n",
       "      <td>1.260221</td>\n",
       "      <td>0.354355</td>\n",
       "      <td>0.092944</td>\n",
       "      <td>True</td>\n",
       "      <td>0.017718</td>\n",
       "      <td>0.004647</td>\n",
       "      <td>0.008859</td>\n",
       "      <td>0.002324</td>\n",
       "    </tr>\n",
       "    <tr>\n",
       "      <th>83</th>\n",
       "      <td>0.9</td>\n",
       "      <td>1.588156</td>\n",
       "      <td>0.352701</td>\n",
       "      <td>0.092546</td>\n",
       "      <td>True</td>\n",
       "      <td>0.017635</td>\n",
       "      <td>0.004627</td>\n",
       "      <td>0.008818</td>\n",
       "      <td>0.002314</td>\n",
       "    </tr>\n",
       "    <tr>\n",
       "      <th>84</th>\n",
       "      <td>0.9</td>\n",
       "      <td>2.001427</td>\n",
       "      <td>0.351136</td>\n",
       "      <td>0.092169</td>\n",
       "      <td>True</td>\n",
       "      <td>0.017557</td>\n",
       "      <td>0.004608</td>\n",
       "      <td>0.008778</td>\n",
       "      <td>0.002304</td>\n",
       "    </tr>\n",
       "    <tr>\n",
       "      <th>85</th>\n",
       "      <td>0.9</td>\n",
       "      <td>2.522239</td>\n",
       "      <td>0.349649</td>\n",
       "      <td>0.091810</td>\n",
       "      <td>True</td>\n",
       "      <td>0.017482</td>\n",
       "      <td>0.004590</td>\n",
       "      <td>0.008741</td>\n",
       "      <td>0.002295</td>\n",
       "    </tr>\n",
       "    <tr>\n",
       "      <th>86</th>\n",
       "      <td>0.9</td>\n",
       "      <td>3.178578</td>\n",
       "      <td>0.348233</td>\n",
       "      <td>0.091467</td>\n",
       "      <td>True</td>\n",
       "      <td>0.017412</td>\n",
       "      <td>0.004573</td>\n",
       "      <td>0.008706</td>\n",
       "      <td>0.002287</td>\n",
       "    </tr>\n",
       "    <tr>\n",
       "      <th>87</th>\n",
       "      <td>0.9</td>\n",
       "      <td>4.005710</td>\n",
       "      <td>0.346883</td>\n",
       "      <td>0.091140</td>\n",
       "      <td>True</td>\n",
       "      <td>0.017344</td>\n",
       "      <td>0.004557</td>\n",
       "      <td>0.008672</td>\n",
       "      <td>0.002279</td>\n",
       "    </tr>\n",
       "    <tr>\n",
       "      <th>88</th>\n",
       "      <td>0.9</td>\n",
       "      <td>5.048078</td>\n",
       "      <td>0.345591</td>\n",
       "      <td>0.090827</td>\n",
       "      <td>True</td>\n",
       "      <td>0.017280</td>\n",
       "      <td>0.004541</td>\n",
       "      <td>0.008640</td>\n",
       "      <td>0.002271</td>\n",
       "    </tr>\n",
       "    <tr>\n",
       "      <th>89</th>\n",
       "      <td>0.9</td>\n",
       "      <td>6.361692</td>\n",
       "      <td>0.344353</td>\n",
       "      <td>0.090526</td>\n",
       "      <td>True</td>\n",
       "      <td>0.017218</td>\n",
       "      <td>0.004526</td>\n",
       "      <td>0.008609</td>\n",
       "      <td>0.002263</td>\n",
       "    </tr>\n",
       "    <tr>\n",
       "      <th>90</th>\n",
       "      <td>0.9</td>\n",
       "      <td>8.017135</td>\n",
       "      <td>0.343165</td>\n",
       "      <td>0.090237</td>\n",
       "      <td>True</td>\n",
       "      <td>0.017158</td>\n",
       "      <td>0.004512</td>\n",
       "      <td>0.008579</td>\n",
       "      <td>0.002256</td>\n",
       "    </tr>\n",
       "    <tr>\n",
       "      <th>91</th>\n",
       "      <td>0.9</td>\n",
       "      <td>10.103359</td>\n",
       "      <td>0.342023</td>\n",
       "      <td>0.089958</td>\n",
       "      <td>True</td>\n",
       "      <td>0.017101</td>\n",
       "      <td>0.004498</td>\n",
       "      <td>0.008551</td>\n",
       "      <td>0.002249</td>\n",
       "    </tr>\n",
       "    <tr>\n",
       "      <th>92</th>\n",
       "      <td>0.9</td>\n",
       "      <td>12.732462</td>\n",
       "      <td>0.340923</td>\n",
       "      <td>0.089690</td>\n",
       "      <td>True</td>\n",
       "      <td>0.017046</td>\n",
       "      <td>0.004485</td>\n",
       "      <td>0.008523</td>\n",
       "      <td>0.002242</td>\n",
       "    </tr>\n",
       "    <tr>\n",
       "      <th>93</th>\n",
       "      <td>0.9</td>\n",
       "      <td>16.045711</td>\n",
       "      <td>0.339862</td>\n",
       "      <td>0.089431</td>\n",
       "      <td>True</td>\n",
       "      <td>0.016993</td>\n",
       "      <td>0.004472</td>\n",
       "      <td>0.008497</td>\n",
       "      <td>0.002236</td>\n",
       "    </tr>\n",
       "    <tr>\n",
       "      <th>94</th>\n",
       "      <td>0.9</td>\n",
       "      <td>20.221135</td>\n",
       "      <td>0.338838</td>\n",
       "      <td>0.089181</td>\n",
       "      <td>True</td>\n",
       "      <td>0.016942</td>\n",
       "      <td>0.004459</td>\n",
       "      <td>0.008471</td>\n",
       "      <td>0.002230</td>\n",
       "    </tr>\n",
       "    <tr>\n",
       "      <th>95</th>\n",
       "      <td>0.9</td>\n",
       "      <td>25.483092</td>\n",
       "      <td>0.337848</td>\n",
       "      <td>0.088938</td>\n",
       "      <td>True</td>\n",
       "      <td>0.016892</td>\n",
       "      <td>0.004447</td>\n",
       "      <td>0.008446</td>\n",
       "      <td>0.002223</td>\n",
       "    </tr>\n",
       "    <tr>\n",
       "      <th>96</th>\n",
       "      <td>0.9</td>\n",
       "      <td>32.114318</td>\n",
       "      <td>0.336890</td>\n",
       "      <td>0.088704</td>\n",
       "      <td>True</td>\n",
       "      <td>0.016844</td>\n",
       "      <td>0.004435</td>\n",
       "      <td>0.008422</td>\n",
       "      <td>0.002218</td>\n",
       "    </tr>\n",
       "    <tr>\n",
       "      <th>97</th>\n",
       "      <td>0.9</td>\n",
       "      <td>40.471125</td>\n",
       "      <td>0.335961</td>\n",
       "      <td>0.088476</td>\n",
       "      <td>True</td>\n",
       "      <td>0.016798</td>\n",
       "      <td>0.004424</td>\n",
       "      <td>0.008399</td>\n",
       "      <td>0.002212</td>\n",
       "    </tr>\n",
       "    <tr>\n",
       "      <th>98</th>\n",
       "      <td>0.9</td>\n",
       "      <td>51.002546</td>\n",
       "      <td>0.335061</td>\n",
       "      <td>0.088255</td>\n",
       "      <td>True</td>\n",
       "      <td>0.016753</td>\n",
       "      <td>0.004413</td>\n",
       "      <td>0.008377</td>\n",
       "      <td>0.002206</td>\n",
       "    </tr>\n",
       "    <tr>\n",
       "      <th>99</th>\n",
       "      <td>0.9</td>\n",
       "      <td>64.274460</td>\n",
       "      <td>0.334188</td>\n",
       "      <td>0.088041</td>\n",
       "      <td>True</td>\n",
       "      <td>0.016709</td>\n",
       "      <td>0.004402</td>\n",
       "      <td>0.008355</td>\n",
       "      <td>0.002201</td>\n",
       "    </tr>\n",
       "    <tr>\n",
       "      <th>100</th>\n",
       "      <td>0.9</td>\n",
       "      <td>81.000000</td>\n",
       "      <td>0.333339</td>\n",
       "      <td>0.087832</td>\n",
       "      <td>True</td>\n",
       "      <td>0.016667</td>\n",
       "      <td>0.004392</td>\n",
       "      <td>0.008333</td>\n",
       "      <td>0.002196</td>\n",
       "    </tr>\n",
       "  </tbody>\n",
       "</table>\n",
       "</div>"
      ],
      "text/plain": [
       "       X         Q2     obs_p     obs_n  is_selected  err_obs_p  err_obs_n  \\\n",
       "81   0.9   1.000000  0.356107  0.093364         True   0.017805   0.004668   \n",
       "82   0.9   1.260221  0.354355  0.092944         True   0.017718   0.004647   \n",
       "83   0.9   1.588156  0.352701  0.092546         True   0.017635   0.004627   \n",
       "84   0.9   2.001427  0.351136  0.092169         True   0.017557   0.004608   \n",
       "85   0.9   2.522239  0.349649  0.091810         True   0.017482   0.004590   \n",
       "86   0.9   3.178578  0.348233  0.091467         True   0.017412   0.004573   \n",
       "87   0.9   4.005710  0.346883  0.091140         True   0.017344   0.004557   \n",
       "88   0.9   5.048078  0.345591  0.090827         True   0.017280   0.004541   \n",
       "89   0.9   6.361692  0.344353  0.090526         True   0.017218   0.004526   \n",
       "90   0.9   8.017135  0.343165  0.090237         True   0.017158   0.004512   \n",
       "91   0.9  10.103359  0.342023  0.089958         True   0.017101   0.004498   \n",
       "92   0.9  12.732462  0.340923  0.089690         True   0.017046   0.004485   \n",
       "93   0.9  16.045711  0.339862  0.089431         True   0.016993   0.004472   \n",
       "94   0.9  20.221135  0.338838  0.089181         True   0.016942   0.004459   \n",
       "95   0.9  25.483092  0.337848  0.088938         True   0.016892   0.004447   \n",
       "96   0.9  32.114318  0.336890  0.088704         True   0.016844   0.004435   \n",
       "97   0.9  40.471125  0.335961  0.088476         True   0.016798   0.004424   \n",
       "98   0.9  51.002546  0.335061  0.088255         True   0.016753   0.004413   \n",
       "99   0.9  64.274460  0.334188  0.088041         True   0.016709   0.004402   \n",
       "100  0.9  81.000000  0.333339  0.087832         True   0.016667   0.004392   \n",
       "\n",
       "     err_obs_p_mod  err_obs_n_mod  \n",
       "81        0.008903       0.002334  \n",
       "82        0.008859       0.002324  \n",
       "83        0.008818       0.002314  \n",
       "84        0.008778       0.002304  \n",
       "85        0.008741       0.002295  \n",
       "86        0.008706       0.002287  \n",
       "87        0.008672       0.002279  \n",
       "88        0.008640       0.002271  \n",
       "89        0.008609       0.002263  \n",
       "90        0.008579       0.002256  \n",
       "91        0.008551       0.002249  \n",
       "92        0.008523       0.002242  \n",
       "93        0.008497       0.002236  \n",
       "94        0.008471       0.002230  \n",
       "95        0.008446       0.002223  \n",
       "96        0.008422       0.002218  \n",
       "97        0.008399       0.002212  \n",
       "98        0.008377       0.002206  \n",
       "99        0.008355       0.002201  \n",
       "100       0.008333       0.002196  "
      ]
     },
     "execution_count": 9,
     "metadata": {},
     "output_type": "execute_result"
    }
   ],
   "source": [
    "print(dataSelected)\n",
    "data[data['is_selected'] == True]"
   ]
  },
  {
   "cell_type": "markdown",
   "metadata": {},
   "source": [
    "#### Constant Values For Uncertainity, Noise (F-value)\n"
   ]
  },
  {
   "cell_type": "code",
   "execution_count": 10,
   "metadata": {},
   "outputs": [],
   "source": [
    "uncertainity_value = 0.05\n",
    "f_value = 1\n",
    "\n",
    "#--- default values of noise and uncertainity\n",
    "d_uncertainity_value = 0.05\n",
    "d_f_value = 1"
   ]
  },
  {
   "cell_type": "markdown",
   "metadata": {},
   "source": [
    "#### Adding noise to the crossectional values\n",
    "\n",
    "we add noise repeatedly for a range of 1000 where we get an array of shape (1000,101)"
   ]
  },
  {
   "cell_type": "code",
   "execution_count": 13,
   "metadata": {},
   "outputs": [],
   "source": [
    "def addNoiseSelected(data, n_value, uncertainity_value, validation_column, data_column, num_features):\n",
    "    predList = []\n",
    "    #--- formula \n",
    "    #--- for the selected_data : xsec + Randomnumber * uncertainity * noise_value\n",
    "    for i in range(1000):\n",
    "        #--- create a pseudo table \n",
    "        data_copy = data.copy()\n",
    "        #--- modify columns\n",
    "        data_copy['obs_p'] += np.random.randn(len(data_copy['obs_p'])) * data_copy['err_obs_p_mod']\n",
    "        data_copy['obs_n'] += np.random.randn(len(data_copy['obs_n'])) * data_copy['err_obs_n_mod']\n",
    "        predList.append(np.append(data_copy['obs_p'],data_copy['obs_n']))\n",
    "        #predList.append(np.where(data[validation_column]==True, #--- if data is selected\n",
    "                                 \n",
    "#                                  data[data_column] + (float(uncertainity_value) * np.random.randn(num_features,) * float(n_value)), #---- add value (noise * uncertainity * random number)\n",
    "                                 \n",
    "#                                  data[data_column] + (float(d_uncertainity_value) * np.random.randn(num_features,) * float(d_f_value)))) #--- else remain the data as it is\n",
    "#         #predList.append(data + (alpha * np.random.rand(num_features,)))\n",
    "    predList = np.array(predList)\n",
    "    return predList\n"
   ]
  },
  {
   "cell_type": "code",
   "execution_count": 14,
   "metadata": {},
   "outputs": [
    {
     "data": {
      "text/plain": [
       "(1000, 202)"
      ]
     },
     "execution_count": 14,
     "metadata": {},
     "output_type": "execute_result"
    }
   ],
   "source": [
    "xsec = addNoiseSelected(data, f_value, uncertainity_value, 'is_selected', 'obs_p', len(data['obs_p']))\n",
    "xsec.shape"
   ]
  },
  {
   "cell_type": "code",
   "execution_count": 13,
   "metadata": {},
   "outputs": [],
   "source": [
    "def calculate_xsec(p_Data, n_Data):\n",
    "    return np.concatenate((p_Data, n_Data), axis = 1)"
   ]
  },
  {
   "cell_type": "code",
   "execution_count": 14,
   "metadata": {},
   "outputs": [
    {
     "name": "stdout",
     "output_type": "stream",
     "text": [
      "(1000, 202)\n"
     ]
    }
   ],
   "source": [
    "#--- if data is not selected we add noise to all the values\n",
    "if not dataSelected : \n",
    "    data['is_selected'] = True\n",
    "    print('--> no data selected so adding noise to every point')\n",
    "\n",
    "#--- get the list of data with added noise\n",
    "obs_p_noised = addNoiseSelected(data, f_value, uncertainity_value, 'is_selected', 'obs_p', len(data['obs_p']))\n",
    "obs_n_noised = addNoiseSelected(data, f_value, uncertainity_value, 'is_selected', 'obs_n', len(data['obs_n']))\n",
    "\n",
    "#--- concatenate the lists to get the cross-sectional Data\n",
    "xsec = calculate_xsec(obs_p_noised, obs_n_noised)\n",
    "print(xsec.shape)"
   ]
  },
  {
   "cell_type": "code",
   "execution_count": 15,
   "metadata": {},
   "outputs": [
    {
     "name": "stdout",
     "output_type": "stream",
     "text": [
      "[2.62739496 2.86254862 2.79843463 2.73972796 3.10878211 3.04933402\n",
      " 2.99471389 2.9442627  2.8974438  3.35659226 3.30344547 3.25444417\n",
      " 3.20903486 3.16676522 3.12726121 3.09021019 3.58513279 3.54019841\n",
      " 3.49861805 3.45995439 3.42384878 3.39000366 3.3581695  3.32813513\n",
      " 3.29972031 3.74999402 3.71536454 3.6831932  3.65316802 3.62503212\n",
      " 3.59857158 3.57360641 3.54998376 3.52757277 3.50626056 3.48594912\n",
      " 3.75762651 3.73516719 3.71420144 3.69454633 3.67605045 3.65858711\n",
      " 3.64204921 3.62634543 3.61139726 3.59713674 3.58350463 3.57044898\n",
      " 3.55792403 3.41611362 3.40619255 3.39685002 3.38802057 3.37964942\n",
      " 3.37169021 3.36410333 3.35685472 3.34991481 3.34325782 3.33686107\n",
      " 3.33070454 3.32477049 3.31904304 3.31350802 2.37396808 2.37246489\n",
      " 2.37097214 2.36949452 2.36803518 2.36659621 2.36517894 2.36378415\n",
      " 2.36241224 2.36106331 2.35973725 2.35843382 2.35715266 2.35589334\n",
      " 2.35465539 2.3534383  2.35224153 0.35610736 0.35435511 0.35270143\n",
      " 0.35113571 0.34964895 0.34823348 0.3468827  0.34559092 0.34435313\n",
      " 0.34316498 0.3420226  0.34092258 0.33986186 0.33883772 0.3378477\n",
      " 0.33688959 0.33596138 0.33506127 0.33418759 0.33333884]\n",
      "[ 2.65437555  2.90575082  2.75816108  2.70363354  3.13280753  3.13368087\n",
      "  2.95647634  2.94403799  2.91064065  3.37744856  3.29598417  3.21578761\n",
      "  3.09421593  3.1694675   3.09262509  3.15044158  3.65329534  3.48808769\n",
      "  3.44421489  3.54798478  3.41506187  3.40932142  3.33425363  3.27991044\n",
      "  3.25527789  3.78921168  3.73150302  3.65424184  3.65677336  3.63065527\n",
      "  3.56986699  3.53600843  3.61619072  3.59238069  3.50104454  3.58194483\n",
      "  3.74899954  3.76084554  3.60468495  3.79241998  3.62004257  3.66926926\n",
      "  3.54799444  3.50149032  3.62862735  3.56518509  3.54183746  3.50123181\n",
      "  3.63975591  3.35976867  3.41650882  3.39910729  3.26578828  3.47040291\n",
      "  3.39476062  3.23622111  3.31847163  3.44117829  3.41425257  3.31171326\n",
      "  3.23520971  3.28321186  3.37651073  3.37429356  2.28113268  2.48907965\n",
      "  2.38380637  2.37241236  2.27905098  2.38230803  2.31692762  2.36088854\n",
      "  2.36073995  2.38177597  2.33262361  2.39963824  2.33749714  2.27886373\n",
      "  2.37926868  2.37913062  2.36862879 -0.113539    0.77520176  0.24328145\n",
      "  0.08092344  0.44324621  0.17095935  0.09830995  0.352401    0.18262443\n",
      "  0.49627685  0.38050612  0.35469142  0.13923182  0.35615672  0.49093364\n",
      "  0.27810583  0.68472159  0.34282126  0.18783542  0.62385435]\n"
     ]
    }
   ],
   "source": [
    "print(data['obs_p'].to_numpy())\n",
    "print(obs_p_noised[0])"
   ]
  },
  {
   "cell_type": "code",
   "execution_count": 16,
   "metadata": {},
   "outputs": [
    {
     "name": "stdout",
     "output_type": "stream",
     "text": [
      "--> Before Adding Noise :  [0.33506127 0.33418759 0.33333884]\n",
      "--> After Adding Noise :  [0.34282126 0.18783542 0.62385435]\n"
     ]
    }
   ],
   "source": [
    "print('--> Before Adding Noise : ',data['obs_p'].to_numpy()[-3:])\n",
    "print('--> After Adding Noise : ',obs_p_noised[0][-3:])"
   ]
  },
  {
   "cell_type": "code",
   "execution_count": 17,
   "metadata": {},
   "outputs": [
    {
     "name": "stdout",
     "output_type": "stream",
     "text": [
      "--> Before Adding Noise :  [0.08825534 0.08804079 0.0878322 ]\n",
      "--> After Adding Noise :  [0.21578853 0.16168074 0.1892816 ]\n"
     ]
    }
   ],
   "source": [
    "print('--> Before Adding Noise : ',data['obs_n'].to_numpy()[-3:])\n",
    "print('--> After Adding Noise : ',obs_n_noised[0][-3:])"
   ]
  },
  {
   "cell_type": "markdown",
   "metadata": {},
   "source": [
    "#### Running the model to generate the parameters"
   ]
  },
  {
   "cell_type": "code",
   "execution_count": 106,
   "metadata": {},
   "outputs": [],
   "source": [
    "def backwardPredict(fname, model, xsec_noised):\n",
    "    # load xsec file\n",
    "    #xsec = calculate_xsec(dataframe)\n",
    "    ml = load_model('mldata/%s.h5'%model) \n",
    "\n",
    "    # make the prediction\n",
    "    pred = ml.predict(xsec_noised)\n",
    "    #pred = par_scaler.inverse_transform(pred)\n",
    "    np.save('data/%s-par.npy'%fname, pred)\n",
    "    return pred"
   ]
  },
  {
   "cell_type": "code",
   "execution_count": 107,
   "metadata": {},
   "outputs": [],
   "source": [
    "fname = 'test_backward'\n",
    "model_select = 'my_model'\n",
    "nn_pred = backwardPredict(fname, model_select, xsec)"
   ]
  },
  {
   "cell_type": "code",
   "execution_count": 108,
   "metadata": {},
   "outputs": [
    {
     "data": {
      "text/plain": [
       "(1000, 10)"
      ]
     },
     "execution_count": 108,
     "metadata": {},
     "output_type": "execute_result"
    }
   ],
   "source": [
    "nn_pred.shape"
   ]
  },
  {
   "cell_type": "markdown",
   "metadata": {},
   "source": [
    "#### Calculate pdfs from generated parmaeters"
   ]
  },
  {
   "cell_type": "code",
   "execution_count": 109,
   "metadata": {},
   "outputs": [],
   "source": [
    "#--- need to know the significance of each term\n",
    "Q02=4.0\n",
    "lam2=0.2**2\n",
    "pu=np.ones(10)\n",
    "pd=np.ones(10)\n",
    "pu[5:]*=0.1\n",
    "pd[5:]*=0.1"
   ]
  },
  {
   "cell_type": "code",
   "execution_count": 110,
   "metadata": {},
   "outputs": [],
   "source": [
    "def set_params(par):\n",
    "    pu[:5]=par[:5]\n",
    "    pd[:5]=par[5:]\n",
    "  \n",
    "def get_s(Q2):\n",
    "    return np.log(np.log(Q2/lam2)/np.log(Q02/lam2))\n",
    "\n",
    "def _get_shape(x,p):\n",
    "    return p[0]*x**p[1]*(1-x)**p[2]*(1+p[3]*x+p[4]*x**2)\n",
    "    \n",
    "def get_shape(x,p,s):\n",
    "    N=p[0] + p[5] * s\n",
    "    a=p[1] + p[6] * s\n",
    "    b=p[2] + p[7] * s\n",
    "    c=p[3] + p[8] * s\n",
    "    d=p[4] + p[9] * s\n",
    "    return _get_shape(x,[N,a,b,c,d])\n",
    "\n",
    "def get_pdf(x,Q2,flav):\n",
    "    s=get_s(Q2)\n",
    "    if flav=='u': return get_shape(x,pu,s)\n",
    "    if flav=='d': return get_shape(x,pd,s)\n",
    "    \n",
    "def calculate_pdf(data_par):\n",
    "    x = np.linspace(0.01,0.99,100)\n",
    "    Q2=4.0\n",
    "    u=[]\n",
    "    d=[]\n",
    "    for i in range(data_par.shape[0]):\n",
    "        set_params(data_par[i])\n",
    "        u.append(get_pdf(x,Q2,'u'))\n",
    "        d.append(get_pdf(x,Q2,'d'))\n",
    "    u = np.array(u)\n",
    "    d = np.array(d)\n",
    "    print('--> (RUNLOG) - Up data shape : ',u.shape)\n",
    "    print('--> (RUNLOG) - Down data Shape : ',d.shape)\n",
    "    return {'u' : u, 'd' : d, 'x-axis' : x}"
   ]
  },
  {
   "cell_type": "code",
   "execution_count": 111,
   "metadata": {},
   "outputs": [
    {
     "name": "stdout",
     "output_type": "stream",
     "text": [
      "--> (RUNLOG) - Up data shape :  (1000, 100)\n",
      "--> (RUNLOG) - Down data Shape :  (1000, 100)\n"
     ]
    }
   ],
   "source": [
    "pdf_dict = calculate_pdf(nn_pred)"
   ]
  },
  {
   "cell_type": "code",
   "execution_count": 112,
   "metadata": {},
   "outputs": [
    {
     "data": {
      "application/vnd.plotly.v1+json": {
       "config": {
        "plotlyServerURL": "https://plot.ly"
       },
       "data": [
        {
         "error_y": {
          "array": [
           1.440756663546758,
           1.0180876409767894,
           0.8226873690380216,
           0.7039261703138282,
           0.6220436472778033,
           0.5612713267408459,
           0.5139234370808091,
           0.4757424149037547,
           0.44415291922454564,
           0.4174935153708825,
           0.39463822587017666,
           0.374793690969667,
           0.3573830492478529,
           0.3419758489639676,
           0.32824386040270265,
           0.31593218233697584,
           0.30483975318958856,
           0.2948058489980074,
           0.285700508054278,
           0.2774175990359483,
           0.2698697100646271,
           0.26298431784480253,
           0.256700873149195,
           0.250968553042954,
           0.24574450542524165,
           0.24099246200356972,
           0.23668163041241858,
           0.23278580027231172,
           0.22928261501375932,
           0.22615297350268648,
           0.2233805343778086,
           0.22095130253573342,
           0.21885328204874294,
           0.2170761834364041,
           0.2156111759579764,
           0.21445067767612086,
           0.2135881776267643,
           0.21301808563391655,
           0.21273560621964524,
           0.21273663374493232,
           0.2130176664283254,
           0.2135757372671708,
           0.21440836016381606,
           0.21551348976377765,
           0.21688949366673788,
           0.21853513579260223,
           0.2204495697882931,
           0.22263234145761585,
           0.2250833992946762,
           0.2278031123064894,
           0.23079229442591298,
           0.23405223494342617,
           0.237584734525884,
           0.2413921465417546,
           0.24547742357476623,
           0.249844169180919,
           0.25449669512737527,
           0.25944008454689543,
           0.26468026165028413,
           0.27022406886528005,
           0.27607935251875276,
           0.2822550584570755,
           0.2887613393167073,
           0.29560967552565964,
           0.3028130125526311,
           0.3103859174444496,
           0.3183447583304233,
           0.3267079113581888,
           0.3354960005039938,
           0.34473217692941105,
           0.3544424461138151,
           0.36465605298152787,
           0.3754059378054966,
           0.3867292789988223,
           0.39866814326887917,
           0.41127026938082956,
           0.42459001948866226,
           0.43868954240451735,
           0.4536402073991887,
           0.46952438679449127,
           0.48643769317531066,
           0.504491816258573,
           0.5238181611248064,
           0.544572572871656,
           0.5669415577505219,
           0.5911506023726403,
           0.6174754931195763,
           0.6462580223371546,
           0.6779282727525154,
           0.7130370556824752,
           0.7523045552459908,
           0.7966958717199681,
           0.8475433406595113,
           0.9067549044524941,
           0.977192214032584,
           1.0634145486139797,
           1.1733093513772763,
           1.3222553450679744,
           1.54659341176066,
           1.9715263342528575
          ],
          "color": "orange",
          "type": "data",
          "visible": true
         },
         "name": "PDF UP",
         "showlegend": true,
         "type": "scattergl",
         "x": [
          0.01,
          0.0198989898989899,
          0.029797979797979796,
          0.039696969696969696,
          0.049595959595959596,
          0.059494949494949496,
          0.06939393939393938,
          0.07929292929292929,
          0.08919191919191918,
          0.09909090909090908,
          0.10898989898989898,
          0.11888888888888888,
          0.12878787878787878,
          0.1386868686868687,
          0.1485858585858586,
          0.15848484848484848,
          0.16838383838383839,
          0.1782828282828283,
          0.18818181818181817,
          0.19808080808080808,
          0.207979797979798,
          0.21787878787878787,
          0.22777777777777777,
          0.23767676767676768,
          0.24757575757575756,
          0.25747474747474747,
          0.2673737373737374,
          0.2772727272727273,
          0.2871717171717172,
          0.29707070707070704,
          0.30696969696969695,
          0.31686868686868686,
          0.32676767676767676,
          0.33666666666666667,
          0.3465656565656566,
          0.3564646464646465,
          0.36636363636363634,
          0.37626262626262624,
          0.38616161616161615,
          0.39606060606060606,
          0.40595959595959596,
          0.41585858585858587,
          0.4257575757575757,
          0.43565656565656563,
          0.44555555555555554,
          0.45545454545454545,
          0.46535353535353535,
          0.47525252525252526,
          0.4851515151515151,
          0.495050505050505,
          0.5049494949494949,
          0.5148484848484849,
          0.5247474747474747,
          0.5346464646464646,
          0.5445454545454546,
          0.5544444444444444,
          0.5643434343434344,
          0.5742424242424242,
          0.5841414141414141,
          0.594040404040404,
          0.6039393939393939,
          0.6138383838383838,
          0.6237373737373737,
          0.6336363636363637,
          0.6435353535353535,
          0.6534343434343434,
          0.6633333333333333,
          0.6732323232323232,
          0.6831313131313131,
          0.693030303030303,
          0.702929292929293,
          0.7128282828282828,
          0.7227272727272727,
          0.7326262626262626,
          0.7425252525252525,
          0.7524242424242424,
          0.7623232323232323,
          0.7722222222222221,
          0.7821212121212121,
          0.792020202020202,
          0.8019191919191919,
          0.8118181818181818,
          0.8217171717171717,
          0.8316161616161616,
          0.8415151515151514,
          0.8514141414141414,
          0.8613131313131313,
          0.8712121212121212,
          0.8811111111111111,
          0.891010101010101,
          0.9009090909090909,
          0.9108080808080807,
          0.9207070707070707,
          0.9306060606060605,
          0.9405050505050505,
          0.9504040404040404,
          0.9603030303030302,
          0.9702020202020202,
          0.98010101010101,
          0.99
         ],
         "y": [
          1,
          1,
          1,
          1,
          1,
          1,
          1,
          1,
          1,
          1,
          1,
          1,
          1,
          1,
          1,
          1,
          1,
          1,
          1,
          1,
          1,
          1,
          1,
          1,
          1,
          1,
          1,
          1,
          1,
          1,
          1,
          1,
          1,
          1,
          1,
          1,
          1,
          1,
          1,
          1,
          1,
          1,
          1,
          1,
          1,
          1,
          1,
          1,
          1,
          1,
          1,
          1,
          1,
          1,
          1,
          1,
          1,
          1,
          1,
          1,
          1,
          1,
          1,
          1,
          1,
          1,
          1,
          1,
          1,
          1,
          1,
          1,
          1,
          1,
          1,
          1,
          1,
          1,
          1,
          1,
          1,
          1,
          1,
          1,
          1,
          1,
          1,
          1,
          1,
          1,
          1,
          1,
          1,
          1,
          1,
          1,
          1,
          1,
          1,
          1
         ]
        }
       ],
       "layout": {
        "template": {
         "data": {
          "bar": [
           {
            "error_x": {
             "color": "#2a3f5f"
            },
            "error_y": {
             "color": "#2a3f5f"
            },
            "marker": {
             "line": {
              "color": "#E5ECF6",
              "width": 0.5
             }
            },
            "type": "bar"
           }
          ],
          "barpolar": [
           {
            "marker": {
             "line": {
              "color": "#E5ECF6",
              "width": 0.5
             }
            },
            "type": "barpolar"
           }
          ],
          "carpet": [
           {
            "aaxis": {
             "endlinecolor": "#2a3f5f",
             "gridcolor": "white",
             "linecolor": "white",
             "minorgridcolor": "white",
             "startlinecolor": "#2a3f5f"
            },
            "baxis": {
             "endlinecolor": "#2a3f5f",
             "gridcolor": "white",
             "linecolor": "white",
             "minorgridcolor": "white",
             "startlinecolor": "#2a3f5f"
            },
            "type": "carpet"
           }
          ],
          "choropleth": [
           {
            "colorbar": {
             "outlinewidth": 0,
             "ticks": ""
            },
            "type": "choropleth"
           }
          ],
          "contour": [
           {
            "colorbar": {
             "outlinewidth": 0,
             "ticks": ""
            },
            "colorscale": [
             [
              0,
              "#0d0887"
             ],
             [
              0.1111111111111111,
              "#46039f"
             ],
             [
              0.2222222222222222,
              "#7201a8"
             ],
             [
              0.3333333333333333,
              "#9c179e"
             ],
             [
              0.4444444444444444,
              "#bd3786"
             ],
             [
              0.5555555555555556,
              "#d8576b"
             ],
             [
              0.6666666666666666,
              "#ed7953"
             ],
             [
              0.7777777777777778,
              "#fb9f3a"
             ],
             [
              0.8888888888888888,
              "#fdca26"
             ],
             [
              1,
              "#f0f921"
             ]
            ],
            "type": "contour"
           }
          ],
          "contourcarpet": [
           {
            "colorbar": {
             "outlinewidth": 0,
             "ticks": ""
            },
            "type": "contourcarpet"
           }
          ],
          "heatmap": [
           {
            "colorbar": {
             "outlinewidth": 0,
             "ticks": ""
            },
            "colorscale": [
             [
              0,
              "#0d0887"
             ],
             [
              0.1111111111111111,
              "#46039f"
             ],
             [
              0.2222222222222222,
              "#7201a8"
             ],
             [
              0.3333333333333333,
              "#9c179e"
             ],
             [
              0.4444444444444444,
              "#bd3786"
             ],
             [
              0.5555555555555556,
              "#d8576b"
             ],
             [
              0.6666666666666666,
              "#ed7953"
             ],
             [
              0.7777777777777778,
              "#fb9f3a"
             ],
             [
              0.8888888888888888,
              "#fdca26"
             ],
             [
              1,
              "#f0f921"
             ]
            ],
            "type": "heatmap"
           }
          ],
          "heatmapgl": [
           {
            "colorbar": {
             "outlinewidth": 0,
             "ticks": ""
            },
            "colorscale": [
             [
              0,
              "#0d0887"
             ],
             [
              0.1111111111111111,
              "#46039f"
             ],
             [
              0.2222222222222222,
              "#7201a8"
             ],
             [
              0.3333333333333333,
              "#9c179e"
             ],
             [
              0.4444444444444444,
              "#bd3786"
             ],
             [
              0.5555555555555556,
              "#d8576b"
             ],
             [
              0.6666666666666666,
              "#ed7953"
             ],
             [
              0.7777777777777778,
              "#fb9f3a"
             ],
             [
              0.8888888888888888,
              "#fdca26"
             ],
             [
              1,
              "#f0f921"
             ]
            ],
            "type": "heatmapgl"
           }
          ],
          "histogram": [
           {
            "marker": {
             "colorbar": {
              "outlinewidth": 0,
              "ticks": ""
             }
            },
            "type": "histogram"
           }
          ],
          "histogram2d": [
           {
            "colorbar": {
             "outlinewidth": 0,
             "ticks": ""
            },
            "colorscale": [
             [
              0,
              "#0d0887"
             ],
             [
              0.1111111111111111,
              "#46039f"
             ],
             [
              0.2222222222222222,
              "#7201a8"
             ],
             [
              0.3333333333333333,
              "#9c179e"
             ],
             [
              0.4444444444444444,
              "#bd3786"
             ],
             [
              0.5555555555555556,
              "#d8576b"
             ],
             [
              0.6666666666666666,
              "#ed7953"
             ],
             [
              0.7777777777777778,
              "#fb9f3a"
             ],
             [
              0.8888888888888888,
              "#fdca26"
             ],
             [
              1,
              "#f0f921"
             ]
            ],
            "type": "histogram2d"
           }
          ],
          "histogram2dcontour": [
           {
            "colorbar": {
             "outlinewidth": 0,
             "ticks": ""
            },
            "colorscale": [
             [
              0,
              "#0d0887"
             ],
             [
              0.1111111111111111,
              "#46039f"
             ],
             [
              0.2222222222222222,
              "#7201a8"
             ],
             [
              0.3333333333333333,
              "#9c179e"
             ],
             [
              0.4444444444444444,
              "#bd3786"
             ],
             [
              0.5555555555555556,
              "#d8576b"
             ],
             [
              0.6666666666666666,
              "#ed7953"
             ],
             [
              0.7777777777777778,
              "#fb9f3a"
             ],
             [
              0.8888888888888888,
              "#fdca26"
             ],
             [
              1,
              "#f0f921"
             ]
            ],
            "type": "histogram2dcontour"
           }
          ],
          "mesh3d": [
           {
            "colorbar": {
             "outlinewidth": 0,
             "ticks": ""
            },
            "type": "mesh3d"
           }
          ],
          "parcoords": [
           {
            "line": {
             "colorbar": {
              "outlinewidth": 0,
              "ticks": ""
             }
            },
            "type": "parcoords"
           }
          ],
          "pie": [
           {
            "automargin": true,
            "type": "pie"
           }
          ],
          "scatter": [
           {
            "marker": {
             "colorbar": {
              "outlinewidth": 0,
              "ticks": ""
             }
            },
            "type": "scatter"
           }
          ],
          "scatter3d": [
           {
            "line": {
             "colorbar": {
              "outlinewidth": 0,
              "ticks": ""
             }
            },
            "marker": {
             "colorbar": {
              "outlinewidth": 0,
              "ticks": ""
             }
            },
            "type": "scatter3d"
           }
          ],
          "scattercarpet": [
           {
            "marker": {
             "colorbar": {
              "outlinewidth": 0,
              "ticks": ""
             }
            },
            "type": "scattercarpet"
           }
          ],
          "scattergeo": [
           {
            "marker": {
             "colorbar": {
              "outlinewidth": 0,
              "ticks": ""
             }
            },
            "type": "scattergeo"
           }
          ],
          "scattergl": [
           {
            "marker": {
             "colorbar": {
              "outlinewidth": 0,
              "ticks": ""
             }
            },
            "type": "scattergl"
           }
          ],
          "scattermapbox": [
           {
            "marker": {
             "colorbar": {
              "outlinewidth": 0,
              "ticks": ""
             }
            },
            "type": "scattermapbox"
           }
          ],
          "scatterpolar": [
           {
            "marker": {
             "colorbar": {
              "outlinewidth": 0,
              "ticks": ""
             }
            },
            "type": "scatterpolar"
           }
          ],
          "scatterpolargl": [
           {
            "marker": {
             "colorbar": {
              "outlinewidth": 0,
              "ticks": ""
             }
            },
            "type": "scatterpolargl"
           }
          ],
          "scatterternary": [
           {
            "marker": {
             "colorbar": {
              "outlinewidth": 0,
              "ticks": ""
             }
            },
            "type": "scatterternary"
           }
          ],
          "surface": [
           {
            "colorbar": {
             "outlinewidth": 0,
             "ticks": ""
            },
            "colorscale": [
             [
              0,
              "#0d0887"
             ],
             [
              0.1111111111111111,
              "#46039f"
             ],
             [
              0.2222222222222222,
              "#7201a8"
             ],
             [
              0.3333333333333333,
              "#9c179e"
             ],
             [
              0.4444444444444444,
              "#bd3786"
             ],
             [
              0.5555555555555556,
              "#d8576b"
             ],
             [
              0.6666666666666666,
              "#ed7953"
             ],
             [
              0.7777777777777778,
              "#fb9f3a"
             ],
             [
              0.8888888888888888,
              "#fdca26"
             ],
             [
              1,
              "#f0f921"
             ]
            ],
            "type": "surface"
           }
          ],
          "table": [
           {
            "cells": {
             "fill": {
              "color": "#EBF0F8"
             },
             "line": {
              "color": "white"
             }
            },
            "header": {
             "fill": {
              "color": "#C8D4E3"
             },
             "line": {
              "color": "white"
             }
            },
            "type": "table"
           }
          ]
         },
         "layout": {
          "annotationdefaults": {
           "arrowcolor": "#2a3f5f",
           "arrowhead": 0,
           "arrowwidth": 1
          },
          "coloraxis": {
           "colorbar": {
            "outlinewidth": 0,
            "ticks": ""
           }
          },
          "colorscale": {
           "diverging": [
            [
             0,
             "#8e0152"
            ],
            [
             0.1,
             "#c51b7d"
            ],
            [
             0.2,
             "#de77ae"
            ],
            [
             0.3,
             "#f1b6da"
            ],
            [
             0.4,
             "#fde0ef"
            ],
            [
             0.5,
             "#f7f7f7"
            ],
            [
             0.6,
             "#e6f5d0"
            ],
            [
             0.7,
             "#b8e186"
            ],
            [
             0.8,
             "#7fbc41"
            ],
            [
             0.9,
             "#4d9221"
            ],
            [
             1,
             "#276419"
            ]
           ],
           "sequential": [
            [
             0,
             "#0d0887"
            ],
            [
             0.1111111111111111,
             "#46039f"
            ],
            [
             0.2222222222222222,
             "#7201a8"
            ],
            [
             0.3333333333333333,
             "#9c179e"
            ],
            [
             0.4444444444444444,
             "#bd3786"
            ],
            [
             0.5555555555555556,
             "#d8576b"
            ],
            [
             0.6666666666666666,
             "#ed7953"
            ],
            [
             0.7777777777777778,
             "#fb9f3a"
            ],
            [
             0.8888888888888888,
             "#fdca26"
            ],
            [
             1,
             "#f0f921"
            ]
           ],
           "sequentialminus": [
            [
             0,
             "#0d0887"
            ],
            [
             0.1111111111111111,
             "#46039f"
            ],
            [
             0.2222222222222222,
             "#7201a8"
            ],
            [
             0.3333333333333333,
             "#9c179e"
            ],
            [
             0.4444444444444444,
             "#bd3786"
            ],
            [
             0.5555555555555556,
             "#d8576b"
            ],
            [
             0.6666666666666666,
             "#ed7953"
            ],
            [
             0.7777777777777778,
             "#fb9f3a"
            ],
            [
             0.8888888888888888,
             "#fdca26"
            ],
            [
             1,
             "#f0f921"
            ]
           ]
          },
          "colorway": [
           "#636efa",
           "#EF553B",
           "#00cc96",
           "#ab63fa",
           "#FFA15A",
           "#19d3f3",
           "#FF6692",
           "#B6E880",
           "#FF97FF",
           "#FECB52"
          ],
          "font": {
           "color": "#2a3f5f"
          },
          "geo": {
           "bgcolor": "white",
           "lakecolor": "white",
           "landcolor": "#E5ECF6",
           "showlakes": true,
           "showland": true,
           "subunitcolor": "white"
          },
          "hoverlabel": {
           "align": "left"
          },
          "hovermode": "closest",
          "mapbox": {
           "style": "light"
          },
          "paper_bgcolor": "white",
          "plot_bgcolor": "#E5ECF6",
          "polar": {
           "angularaxis": {
            "gridcolor": "white",
            "linecolor": "white",
            "ticks": ""
           },
           "bgcolor": "#E5ECF6",
           "radialaxis": {
            "gridcolor": "white",
            "linecolor": "white",
            "ticks": ""
           }
          },
          "scene": {
           "xaxis": {
            "backgroundcolor": "#E5ECF6",
            "gridcolor": "white",
            "gridwidth": 2,
            "linecolor": "white",
            "showbackground": true,
            "ticks": "",
            "zerolinecolor": "white"
           },
           "yaxis": {
            "backgroundcolor": "#E5ECF6",
            "gridcolor": "white",
            "gridwidth": 2,
            "linecolor": "white",
            "showbackground": true,
            "ticks": "",
            "zerolinecolor": "white"
           },
           "zaxis": {
            "backgroundcolor": "#E5ECF6",
            "gridcolor": "white",
            "gridwidth": 2,
            "linecolor": "white",
            "showbackground": true,
            "ticks": "",
            "zerolinecolor": "white"
           }
          },
          "shapedefaults": {
           "line": {
            "color": "#2a3f5f"
           }
          },
          "ternary": {
           "aaxis": {
            "gridcolor": "white",
            "linecolor": "white",
            "ticks": ""
           },
           "baxis": {
            "gridcolor": "white",
            "linecolor": "white",
            "ticks": ""
           },
           "bgcolor": "#E5ECF6",
           "caxis": {
            "gridcolor": "white",
            "linecolor": "white",
            "ticks": ""
           }
          },
          "title": {
           "x": 0.05
          },
          "xaxis": {
           "automargin": true,
           "gridcolor": "white",
           "linecolor": "white",
           "ticks": "",
           "title": {
            "standoff": 15
           },
           "zerolinecolor": "white",
           "zerolinewidth": 2
          },
          "yaxis": {
           "automargin": true,
           "gridcolor": "white",
           "linecolor": "white",
           "ticks": "",
           "title": {
            "standoff": 15
           },
           "zerolinecolor": "white",
           "zerolinewidth": 2
          }
         }
        }
       }
      },
      "text/html": [
       "<div>\n",
       "        \n",
       "        \n",
       "            <div id=\"4b9190e9-dff1-438f-ac1f-4691716352ee\" class=\"plotly-graph-div\" style=\"height:525px; width:100%;\"></div>\n",
       "            <script type=\"text/javascript\">\n",
       "                require([\"plotly\"], function(Plotly) {\n",
       "                    window.PLOTLYENV=window.PLOTLYENV || {};\n",
       "                    \n",
       "                if (document.getElementById(\"4b9190e9-dff1-438f-ac1f-4691716352ee\")) {\n",
       "                    Plotly.newPlot(\n",
       "                        '4b9190e9-dff1-438f-ac1f-4691716352ee',\n",
       "                        [{\"error_y\": {\"array\": [1.440756663546758, 1.0180876409767894, 0.8226873690380216, 0.7039261703138282, 0.6220436472778033, 0.5612713267408459, 0.5139234370808091, 0.4757424149037547, 0.44415291922454564, 0.4174935153708825, 0.39463822587017666, 0.374793690969667, 0.3573830492478529, 0.3419758489639676, 0.32824386040270265, 0.31593218233697584, 0.30483975318958856, 0.2948058489980074, 0.285700508054278, 0.2774175990359483, 0.2698697100646271, 0.26298431784480253, 0.256700873149195, 0.250968553042954, 0.24574450542524165, 0.24099246200356972, 0.23668163041241858, 0.23278580027231172, 0.22928261501375932, 0.22615297350268648, 0.2233805343778086, 0.22095130253573342, 0.21885328204874294, 0.2170761834364041, 0.2156111759579764, 0.21445067767612086, 0.2135881776267643, 0.21301808563391655, 0.21273560621964524, 0.21273663374493232, 0.2130176664283254, 0.2135757372671708, 0.21440836016381606, 0.21551348976377765, 0.21688949366673788, 0.21853513579260223, 0.2204495697882931, 0.22263234145761585, 0.2250833992946762, 0.2278031123064894, 0.23079229442591298, 0.23405223494342617, 0.237584734525884, 0.2413921465417546, 0.24547742357476623, 0.249844169180919, 0.25449669512737527, 0.25944008454689543, 0.26468026165028413, 0.27022406886528005, 0.27607935251875276, 0.2822550584570755, 0.2887613393167073, 0.29560967552565964, 0.3028130125526311, 0.3103859174444496, 0.3183447583304233, 0.3267079113581888, 0.3354960005039938, 0.34473217692941105, 0.3544424461138151, 0.36465605298152787, 0.3754059378054966, 0.3867292789988223, 0.39866814326887917, 0.41127026938082956, 0.42459001948866226, 0.43868954240451735, 0.4536402073991887, 0.46952438679449127, 0.48643769317531066, 0.504491816258573, 0.5238181611248064, 0.544572572871656, 0.5669415577505219, 0.5911506023726403, 0.6174754931195763, 0.6462580223371546, 0.6779282727525154, 0.7130370556824752, 0.7523045552459908, 0.7966958717199681, 0.8475433406595113, 0.9067549044524941, 0.977192214032584, 1.0634145486139797, 1.1733093513772763, 1.3222553450679744, 1.54659341176066, 1.9715263342528575], \"color\": \"orange\", \"type\": \"data\", \"visible\": true}, \"name\": \"PDF UP\", \"showlegend\": true, \"type\": \"scattergl\", \"x\": [0.01, 0.0198989898989899, 0.029797979797979796, 0.039696969696969696, 0.049595959595959596, 0.059494949494949496, 0.06939393939393938, 0.07929292929292929, 0.08919191919191918, 0.09909090909090908, 0.10898989898989898, 0.11888888888888888, 0.12878787878787878, 0.1386868686868687, 0.1485858585858586, 0.15848484848484848, 0.16838383838383839, 0.1782828282828283, 0.18818181818181817, 0.19808080808080808, 0.207979797979798, 0.21787878787878787, 0.22777777777777777, 0.23767676767676768, 0.24757575757575756, 0.25747474747474747, 0.2673737373737374, 0.2772727272727273, 0.2871717171717172, 0.29707070707070704, 0.30696969696969695, 0.31686868686868686, 0.32676767676767676, 0.33666666666666667, 0.3465656565656566, 0.3564646464646465, 0.36636363636363634, 0.37626262626262624, 0.38616161616161615, 0.39606060606060606, 0.40595959595959596, 0.41585858585858587, 0.4257575757575757, 0.43565656565656563, 0.44555555555555554, 0.45545454545454545, 0.46535353535353535, 0.47525252525252526, 0.4851515151515151, 0.495050505050505, 0.5049494949494949, 0.5148484848484849, 0.5247474747474747, 0.5346464646464646, 0.5445454545454546, 0.5544444444444444, 0.5643434343434344, 0.5742424242424242, 0.5841414141414141, 0.594040404040404, 0.6039393939393939, 0.6138383838383838, 0.6237373737373737, 0.6336363636363637, 0.6435353535353535, 0.6534343434343434, 0.6633333333333333, 0.6732323232323232, 0.6831313131313131, 0.693030303030303, 0.702929292929293, 0.7128282828282828, 0.7227272727272727, 0.7326262626262626, 0.7425252525252525, 0.7524242424242424, 0.7623232323232323, 0.7722222222222221, 0.7821212121212121, 0.792020202020202, 0.8019191919191919, 0.8118181818181818, 0.8217171717171717, 0.8316161616161616, 0.8415151515151514, 0.8514141414141414, 0.8613131313131313, 0.8712121212121212, 0.8811111111111111, 0.891010101010101, 0.9009090909090909, 0.9108080808080807, 0.9207070707070707, 0.9306060606060605, 0.9405050505050505, 0.9504040404040404, 0.9603030303030302, 0.9702020202020202, 0.98010101010101, 0.99], \"y\": [1.0, 1.0, 1.0, 1.0, 1.0, 1.0, 1.0, 1.0, 1.0, 1.0, 1.0, 1.0, 1.0, 1.0, 1.0, 1.0, 1.0, 1.0, 1.0, 1.0, 1.0, 1.0, 1.0, 1.0, 1.0, 1.0, 1.0, 1.0, 1.0, 1.0, 1.0, 1.0, 1.0, 1.0, 1.0, 1.0, 1.0, 1.0, 1.0, 1.0, 1.0, 1.0, 1.0, 1.0, 1.0, 1.0, 1.0, 1.0, 1.0, 1.0, 1.0, 1.0, 1.0, 1.0, 1.0, 1.0, 1.0, 1.0, 1.0, 1.0, 1.0, 1.0, 1.0, 1.0, 1.0, 1.0, 1.0, 1.0, 1.0, 1.0, 1.0, 1.0, 1.0, 1.0, 1.0, 1.0, 1.0, 1.0, 1.0, 1.0, 1.0, 1.0, 1.0, 1.0, 1.0, 1.0, 1.0, 1.0, 1.0, 1.0, 1.0, 1.0, 1.0, 1.0, 1.0, 1.0, 1.0, 1.0, 1.0, 1.0]}],\n",
       "                        {\"template\": {\"data\": {\"bar\": [{\"error_x\": {\"color\": \"#2a3f5f\"}, \"error_y\": {\"color\": \"#2a3f5f\"}, \"marker\": {\"line\": {\"color\": \"#E5ECF6\", \"width\": 0.5}}, \"type\": \"bar\"}], \"barpolar\": [{\"marker\": {\"line\": {\"color\": \"#E5ECF6\", \"width\": 0.5}}, \"type\": \"barpolar\"}], \"carpet\": [{\"aaxis\": {\"endlinecolor\": \"#2a3f5f\", \"gridcolor\": \"white\", \"linecolor\": \"white\", \"minorgridcolor\": \"white\", \"startlinecolor\": \"#2a3f5f\"}, \"baxis\": {\"endlinecolor\": \"#2a3f5f\", \"gridcolor\": \"white\", \"linecolor\": \"white\", \"minorgridcolor\": \"white\", \"startlinecolor\": \"#2a3f5f\"}, \"type\": \"carpet\"}], \"choropleth\": [{\"colorbar\": {\"outlinewidth\": 0, \"ticks\": \"\"}, \"type\": \"choropleth\"}], \"contour\": [{\"colorbar\": {\"outlinewidth\": 0, \"ticks\": \"\"}, \"colorscale\": [[0.0, \"#0d0887\"], [0.1111111111111111, \"#46039f\"], [0.2222222222222222, \"#7201a8\"], [0.3333333333333333, \"#9c179e\"], [0.4444444444444444, \"#bd3786\"], [0.5555555555555556, \"#d8576b\"], [0.6666666666666666, \"#ed7953\"], [0.7777777777777778, \"#fb9f3a\"], [0.8888888888888888, \"#fdca26\"], [1.0, \"#f0f921\"]], \"type\": \"contour\"}], \"contourcarpet\": [{\"colorbar\": {\"outlinewidth\": 0, \"ticks\": \"\"}, \"type\": \"contourcarpet\"}], \"heatmap\": [{\"colorbar\": {\"outlinewidth\": 0, \"ticks\": \"\"}, \"colorscale\": [[0.0, \"#0d0887\"], [0.1111111111111111, \"#46039f\"], [0.2222222222222222, \"#7201a8\"], [0.3333333333333333, \"#9c179e\"], [0.4444444444444444, \"#bd3786\"], [0.5555555555555556, \"#d8576b\"], [0.6666666666666666, \"#ed7953\"], [0.7777777777777778, \"#fb9f3a\"], [0.8888888888888888, \"#fdca26\"], [1.0, \"#f0f921\"]], \"type\": \"heatmap\"}], \"heatmapgl\": [{\"colorbar\": {\"outlinewidth\": 0, \"ticks\": \"\"}, \"colorscale\": [[0.0, \"#0d0887\"], [0.1111111111111111, \"#46039f\"], [0.2222222222222222, \"#7201a8\"], [0.3333333333333333, \"#9c179e\"], [0.4444444444444444, \"#bd3786\"], [0.5555555555555556, \"#d8576b\"], [0.6666666666666666, \"#ed7953\"], [0.7777777777777778, \"#fb9f3a\"], [0.8888888888888888, \"#fdca26\"], [1.0, \"#f0f921\"]], \"type\": \"heatmapgl\"}], \"histogram\": [{\"marker\": {\"colorbar\": {\"outlinewidth\": 0, \"ticks\": \"\"}}, \"type\": \"histogram\"}], \"histogram2d\": [{\"colorbar\": {\"outlinewidth\": 0, \"ticks\": \"\"}, \"colorscale\": [[0.0, \"#0d0887\"], [0.1111111111111111, \"#46039f\"], [0.2222222222222222, \"#7201a8\"], [0.3333333333333333, \"#9c179e\"], [0.4444444444444444, \"#bd3786\"], [0.5555555555555556, \"#d8576b\"], [0.6666666666666666, \"#ed7953\"], [0.7777777777777778, \"#fb9f3a\"], [0.8888888888888888, \"#fdca26\"], [1.0, \"#f0f921\"]], \"type\": \"histogram2d\"}], \"histogram2dcontour\": [{\"colorbar\": {\"outlinewidth\": 0, \"ticks\": \"\"}, \"colorscale\": [[0.0, \"#0d0887\"], [0.1111111111111111, \"#46039f\"], [0.2222222222222222, \"#7201a8\"], [0.3333333333333333, \"#9c179e\"], [0.4444444444444444, \"#bd3786\"], [0.5555555555555556, \"#d8576b\"], [0.6666666666666666, \"#ed7953\"], [0.7777777777777778, \"#fb9f3a\"], [0.8888888888888888, \"#fdca26\"], [1.0, \"#f0f921\"]], \"type\": \"histogram2dcontour\"}], \"mesh3d\": [{\"colorbar\": {\"outlinewidth\": 0, \"ticks\": \"\"}, \"type\": \"mesh3d\"}], \"parcoords\": [{\"line\": {\"colorbar\": {\"outlinewidth\": 0, \"ticks\": \"\"}}, \"type\": \"parcoords\"}], \"pie\": [{\"automargin\": true, \"type\": \"pie\"}], \"scatter\": [{\"marker\": {\"colorbar\": {\"outlinewidth\": 0, \"ticks\": \"\"}}, \"type\": \"scatter\"}], \"scatter3d\": [{\"line\": {\"colorbar\": {\"outlinewidth\": 0, \"ticks\": \"\"}}, \"marker\": {\"colorbar\": {\"outlinewidth\": 0, \"ticks\": \"\"}}, \"type\": \"scatter3d\"}], \"scattercarpet\": [{\"marker\": {\"colorbar\": {\"outlinewidth\": 0, \"ticks\": \"\"}}, \"type\": \"scattercarpet\"}], \"scattergeo\": [{\"marker\": {\"colorbar\": {\"outlinewidth\": 0, \"ticks\": \"\"}}, \"type\": \"scattergeo\"}], \"scattergl\": [{\"marker\": {\"colorbar\": {\"outlinewidth\": 0, \"ticks\": \"\"}}, \"type\": \"scattergl\"}], \"scattermapbox\": [{\"marker\": {\"colorbar\": {\"outlinewidth\": 0, \"ticks\": \"\"}}, \"type\": \"scattermapbox\"}], \"scatterpolar\": [{\"marker\": {\"colorbar\": {\"outlinewidth\": 0, \"ticks\": \"\"}}, \"type\": \"scatterpolar\"}], \"scatterpolargl\": [{\"marker\": {\"colorbar\": {\"outlinewidth\": 0, \"ticks\": \"\"}}, \"type\": \"scatterpolargl\"}], \"scatterternary\": [{\"marker\": {\"colorbar\": {\"outlinewidth\": 0, \"ticks\": \"\"}}, \"type\": \"scatterternary\"}], \"surface\": [{\"colorbar\": {\"outlinewidth\": 0, \"ticks\": \"\"}, \"colorscale\": [[0.0, \"#0d0887\"], [0.1111111111111111, \"#46039f\"], [0.2222222222222222, \"#7201a8\"], [0.3333333333333333, \"#9c179e\"], [0.4444444444444444, \"#bd3786\"], [0.5555555555555556, \"#d8576b\"], [0.6666666666666666, \"#ed7953\"], [0.7777777777777778, \"#fb9f3a\"], [0.8888888888888888, \"#fdca26\"], [1.0, \"#f0f921\"]], \"type\": \"surface\"}], \"table\": [{\"cells\": {\"fill\": {\"color\": \"#EBF0F8\"}, \"line\": {\"color\": \"white\"}}, \"header\": {\"fill\": {\"color\": \"#C8D4E3\"}, \"line\": {\"color\": \"white\"}}, \"type\": \"table\"}]}, \"layout\": {\"annotationdefaults\": {\"arrowcolor\": \"#2a3f5f\", \"arrowhead\": 0, \"arrowwidth\": 1}, \"coloraxis\": {\"colorbar\": {\"outlinewidth\": 0, \"ticks\": \"\"}}, \"colorscale\": {\"diverging\": [[0, \"#8e0152\"], [0.1, \"#c51b7d\"], [0.2, \"#de77ae\"], [0.3, \"#f1b6da\"], [0.4, \"#fde0ef\"], [0.5, \"#f7f7f7\"], [0.6, \"#e6f5d0\"], [0.7, \"#b8e186\"], [0.8, \"#7fbc41\"], [0.9, \"#4d9221\"], [1, \"#276419\"]], \"sequential\": [[0.0, \"#0d0887\"], [0.1111111111111111, \"#46039f\"], [0.2222222222222222, \"#7201a8\"], [0.3333333333333333, \"#9c179e\"], [0.4444444444444444, \"#bd3786\"], [0.5555555555555556, \"#d8576b\"], [0.6666666666666666, \"#ed7953\"], [0.7777777777777778, \"#fb9f3a\"], [0.8888888888888888, \"#fdca26\"], [1.0, \"#f0f921\"]], \"sequentialminus\": [[0.0, \"#0d0887\"], [0.1111111111111111, \"#46039f\"], [0.2222222222222222, \"#7201a8\"], [0.3333333333333333, \"#9c179e\"], [0.4444444444444444, \"#bd3786\"], [0.5555555555555556, \"#d8576b\"], [0.6666666666666666, \"#ed7953\"], [0.7777777777777778, \"#fb9f3a\"], [0.8888888888888888, \"#fdca26\"], [1.0, \"#f0f921\"]]}, \"colorway\": [\"#636efa\", \"#EF553B\", \"#00cc96\", \"#ab63fa\", \"#FFA15A\", \"#19d3f3\", \"#FF6692\", \"#B6E880\", \"#FF97FF\", \"#FECB52\"], \"font\": {\"color\": \"#2a3f5f\"}, \"geo\": {\"bgcolor\": \"white\", \"lakecolor\": \"white\", \"landcolor\": \"#E5ECF6\", \"showlakes\": true, \"showland\": true, \"subunitcolor\": \"white\"}, \"hoverlabel\": {\"align\": \"left\"}, \"hovermode\": \"closest\", \"mapbox\": {\"style\": \"light\"}, \"paper_bgcolor\": \"white\", \"plot_bgcolor\": \"#E5ECF6\", \"polar\": {\"angularaxis\": {\"gridcolor\": \"white\", \"linecolor\": \"white\", \"ticks\": \"\"}, \"bgcolor\": \"#E5ECF6\", \"radialaxis\": {\"gridcolor\": \"white\", \"linecolor\": \"white\", \"ticks\": \"\"}}, \"scene\": {\"xaxis\": {\"backgroundcolor\": \"#E5ECF6\", \"gridcolor\": \"white\", \"gridwidth\": 2, \"linecolor\": \"white\", \"showbackground\": true, \"ticks\": \"\", \"zerolinecolor\": \"white\"}, \"yaxis\": {\"backgroundcolor\": \"#E5ECF6\", \"gridcolor\": \"white\", \"gridwidth\": 2, \"linecolor\": \"white\", \"showbackground\": true, \"ticks\": \"\", \"zerolinecolor\": \"white\"}, \"zaxis\": {\"backgroundcolor\": \"#E5ECF6\", \"gridcolor\": \"white\", \"gridwidth\": 2, \"linecolor\": \"white\", \"showbackground\": true, \"ticks\": \"\", \"zerolinecolor\": \"white\"}}, \"shapedefaults\": {\"line\": {\"color\": \"#2a3f5f\"}}, \"ternary\": {\"aaxis\": {\"gridcolor\": \"white\", \"linecolor\": \"white\", \"ticks\": \"\"}, \"baxis\": {\"gridcolor\": \"white\", \"linecolor\": \"white\", \"ticks\": \"\"}, \"bgcolor\": \"#E5ECF6\", \"caxis\": {\"gridcolor\": \"white\", \"linecolor\": \"white\", \"ticks\": \"\"}}, \"title\": {\"x\": 0.05}, \"xaxis\": {\"automargin\": true, \"gridcolor\": \"white\", \"linecolor\": \"white\", \"ticks\": \"\", \"title\": {\"standoff\": 15}, \"zerolinecolor\": \"white\", \"zerolinewidth\": 2}, \"yaxis\": {\"automargin\": true, \"gridcolor\": \"white\", \"linecolor\": \"white\", \"ticks\": \"\", \"title\": {\"standoff\": 15}, \"zerolinecolor\": \"white\", \"zerolinewidth\": 2}}}},\n",
       "                        {\"responsive\": true}\n",
       "                    ).then(function(){\n",
       "                            \n",
       "var gd = document.getElementById('4b9190e9-dff1-438f-ac1f-4691716352ee');\n",
       "var x = new MutationObserver(function (mutations, observer) {{\n",
       "        var display = window.getComputedStyle(gd).display;\n",
       "        if (!display || display === 'none') {{\n",
       "            console.log([gd, 'removed!']);\n",
       "            Plotly.purge(gd);\n",
       "            observer.disconnect();\n",
       "        }}\n",
       "}});\n",
       "\n",
       "// Listen for the removal of the full notebook cells\n",
       "var notebookContainer = gd.closest('#notebook-container');\n",
       "if (notebookContainer) {{\n",
       "    x.observe(notebookContainer, {childList: true});\n",
       "}}\n",
       "\n",
       "// Listen for the clearing of the current output cell\n",
       "var outputEl = gd.closest('.output');\n",
       "if (outputEl) {{\n",
       "    x.observe(outputEl, {childList: true});\n",
       "}}\n",
       "\n",
       "                        })\n",
       "                };\n",
       "                });\n",
       "            </script>\n",
       "        </div>"
      ]
     },
     "metadata": {},
     "output_type": "display_data"
    }
   ],
   "source": [
    "#--- Plot the figure (Ratio Plot)\n",
    "figure_g = go.Figure()\n",
    "pdf_up_trace = go.Scattergl(\n",
    "                        x = pdf_dict['x-axis'],\n",
    "                        y = np.ones(len(pdf_dict['x-axis'])),#pdf_dict['u'].mean(axis=0),\n",
    "                        name='PDF UP',\n",
    "                        showlegend=True,\n",
    "                        error_y=dict(\n",
    "                                type='data',\n",
    "                                color='orange',\n",
    "                                array=pdf_dict['u'].std(axis=0)/pdf_dict['d'].mean(axis=0),\n",
    "                                #array=pdf_dict['u'].std(axis=0)*5,\n",
    "                                visible=True\n",
    "                                )\n",
    "                        )\n",
    "#--- Plotting pdf_up\n",
    "figure_g.add_trace(pdf_up_trace)"
   ]
  },
  {
   "cell_type": "code",
   "execution_count": 113,
   "metadata": {},
   "outputs": [],
   "source": [
    "#---- generate Plots Function\n",
    "def generatePDFplots(x,yTrue,yPredUpper,yPred,yPredLower,graphTitle):\n",
    "    #--- Pred ERROR trace upperBound\n",
    "    predErrTraceUpper = go.Scatter(\n",
    "                        x = x,\n",
    "                        y = yPredUpper,\n",
    "                        line_color='rgba(255,255,255,0)',\n",
    "                        name='Pred Value Upper',\n",
    "                        mode='lines',\n",
    "                        marker=dict(color=\"#444\"),\n",
    "                        line=dict(width=0),\n",
    "                        fillcolor='rgba(248, 148, 6, 0.4)',\n",
    "                        fill='tonexty',\n",
    "                        showlegend=False)\n",
    "\n",
    "    #--- Pred trace\n",
    "    predTrace = go.Scatter(x = x,\n",
    "                         y = yPred,\n",
    "                         #line_color='rgb(248, 148, 6)',\n",
    "                         name='Pred Value',\n",
    "                         mode='lines',\n",
    "                         line=dict(color='rgba(217, 30, 24, 1)'),\n",
    "                         #marker=dict(color=\"rgba(248, 148, 6,0.4)\"),\n",
    "                         fillcolor='rgba(248, 148, 6, 0.4)',\n",
    "                         fill='tonexty',\n",
    "                         showlegend=True)\n",
    "\n",
    "    #--- Pred ERROR trace lowerBound\n",
    "    predErrTraceLower = go.Scatter(\n",
    "                        x = x,\n",
    "                        y = yPredLower,\n",
    "                        #fillcolor='rgba(248, 148, 6,0.4)',\n",
    "                        #line_color='rgba(255,255,255,0)',\n",
    "                        mode='lines',                    \n",
    "                        marker=dict(color=\"#444\"),\n",
    "                        line=dict(width=0),\n",
    "                        name='Pred Value Lower',\n",
    "                        showlegend=False)\n",
    "\n",
    "    #--- concatenate the data\n",
    "    predData = [predErrTraceLower, predTrace, predErrTraceUpper]\n",
    "    predLayout = go.Layout(\n",
    "                #yaxis=dict(title='Wind speed (m/s)'),\n",
    "                title=dict(\n",
    "                        text = graphTitle,\n",
    "                        xanchor = \"left\",\n",
    "                        yanchor = \"top\",\n",
    "                        pad = dict(l=350)\n",
    "                    ),\n",
    "                #showlegend = False\n",
    "                )\n",
    "    #--- create figure\n",
    "    graphPlot = go.Figure(data=predData, layout=predLayout)\n",
    "\n",
    "    #--- true trace\n",
    "    True_Trace = go.Scattergl(\n",
    "                        x = x,\n",
    "                        y = yTrue,\n",
    "                        name='True Value',\n",
    "                        line_color='rgba(83, 51, 237, 1)',\n",
    "                        showlegend=True)\n",
    "    #--- add true trace - rgba(248, 148, 6, 1)\n",
    "    graphPlot.add_trace(True_Trace)\n",
    "    return graphPlot"
   ]
  },
  {
   "cell_type": "code",
   "execution_count": 114,
   "metadata": {},
   "outputs": [
    {
     "data": {
      "application/vnd.plotly.v1+json": {
       "config": {
        "plotlyServerURL": "https://plot.ly"
       },
       "data": [
        {
         "line": {
          "width": 0
         },
         "marker": {
          "color": "#444"
         },
         "mode": "lines",
         "name": "Pred Value Lower",
         "showlegend": false,
         "type": "scatter",
         "x": [
          0.01,
          0.0198989898989899,
          0.029797979797979796,
          0.039696969696969696,
          0.049595959595959596,
          0.059494949494949496,
          0.06939393939393938,
          0.07929292929292929,
          0.08919191919191918,
          0.09909090909090908,
          0.10898989898989898,
          0.11888888888888888,
          0.12878787878787878,
          0.1386868686868687,
          0.1485858585858586,
          0.15848484848484848,
          0.16838383838383839,
          0.1782828282828283,
          0.18818181818181817,
          0.19808080808080808,
          0.207979797979798,
          0.21787878787878787,
          0.22777777777777777,
          0.23767676767676768,
          0.24757575757575756,
          0.25747474747474747,
          0.2673737373737374,
          0.2772727272727273,
          0.2871717171717172,
          0.29707070707070704,
          0.30696969696969695,
          0.31686868686868686,
          0.32676767676767676,
          0.33666666666666667,
          0.3465656565656566,
          0.3564646464646465,
          0.36636363636363634,
          0.37626262626262624,
          0.38616161616161615,
          0.39606060606060606,
          0.40595959595959596,
          0.41585858585858587,
          0.4257575757575757,
          0.43565656565656563,
          0.44555555555555554,
          0.45545454545454545,
          0.46535353535353535,
          0.47525252525252526,
          0.4851515151515151,
          0.495050505050505,
          0.5049494949494949,
          0.5148484848484849,
          0.5247474747474747,
          0.5346464646464646,
          0.5445454545454546,
          0.5544444444444444,
          0.5643434343434344,
          0.5742424242424242,
          0.5841414141414141,
          0.594040404040404,
          0.6039393939393939,
          0.6138383838383838,
          0.6237373737373737,
          0.6336363636363637,
          0.6435353535353535,
          0.6534343434343434,
          0.6633333333333333,
          0.6732323232323232,
          0.6831313131313131,
          0.693030303030303,
          0.702929292929293,
          0.7128282828282828,
          0.7227272727272727,
          0.7326262626262626,
          0.7425252525252525,
          0.7524242424242424,
          0.7623232323232323,
          0.7722222222222221,
          0.7821212121212121,
          0.792020202020202,
          0.8019191919191919,
          0.8118181818181818,
          0.8217171717171717,
          0.8316161616161616,
          0.8415151515151514,
          0.8514141414141414,
          0.8613131313131313,
          0.8712121212121212,
          0.8811111111111111,
          0.891010101010101,
          0.9009090909090909,
          0.9108080808080807,
          0.9207070707070707,
          0.9306060606060605,
          0.9405050505050505,
          0.9504040404040404,
          0.9603030303030302,
          0.9702020202020202,
          0.98010101010101,
          0.99
         ],
         "y": [
          1.0586593824185357,
          1.214170080687889,
          1.3085242896433666,
          1.3745183969949786,
          1.4235691801076347,
          1.4611355845520217,
          1.4902955053912512,
          1.5129733547714252,
          1.5304615985949686,
          1.5436752717178475,
          1.5532890357990286,
          1.5598166551883863,
          1.5636598277223157,
          1.5651396171977296,
          1.5645174776055066,
          1.562009775367275,
          1.5577980990433193,
          1.5520367535420119,
          1.5448583212478382,
          1.5363778643772459,
          1.526696152272594,
          1.5159021760027311,
          1.5040751333969988,
          1.491286014701285,
          1.4775988829488842,
          1.4630719180675298,
          1.447758276035537,
          1.431706801698589,
          1.4149626246210638,
          1.397567660541228,
          1.379561035929419,
          1.3609794493318095,
          1.3418574802842351,
          1.3222278543625494,
          1.3021216712295252,
          1.2815686012186545,
          1.2605970549721826,
          1.2392343298562118,
          1.2175067362579326,
          1.195439706389251,
          1.1730578878459532,
          1.1503852238771501,
          1.127445022086281,
          1.1042600130965943,
          1.0808524005578934,
          1.057243903738181,
          1.0334557938256632,
          1.009508924958792,
          0.9854237609006645,
          0.9612203981775355,
          0.9369185864082885,
          0.9125377464627413,
          0.8880969870019407,
          0.8636151198740032,
          0.8391106747657574,
          0.8146019134438092,
          0.7901068438599145,
          0.7656432343447275,
          0.7412286280715599,
          0.7168803579375261,
          0.6926155619834509,
          0.6684511994553151,
          0.6444040675990668,
          0.620490819276169,
          0.5967279814894962,
          0.573131974917344,
          0.5497191345675322,
          0.5265057316836119,
          0.5035079970614753,
          0.4807421459675803,
          0.45822440489047844,
          0.4359710404067272,
          0.4139983905022825,
          0.39232289876381227,
          0.3709611519443425,
          0.34992992151905433,
          0.32924620998600496,
          0.30892730284181646,
          0.28899082738552045,
          0.2694548197910735,
          0.25033780226333113,
          0.23165887258568615,
          0.21343780902682713,
          0.19569519446726946,
          0.17845256483543076,
          0.16173258866332985,
          0.1455592870253405,
          0.12995830669656241,
          0.11495726469574347,
          0.10058619053981954,
          0.0868781054313782,
          0.07386979871167274,
          0.061602897960783186,
          0.050125393852789954,
          0.0394939044223509,
          0.029777217953069007,
          0.021062232558449218,
          0.013464914958190423,
          0.007153650874756867,
          0.0024131266932979644
         ]
        },
        {
         "fill": "tonexty",
         "fillcolor": "rgba(248, 148, 6, 0.4)",
         "line": {
          "color": "rgba(217, 30, 24, 1)"
         },
         "mode": "lines",
         "name": "Pred Value",
         "showlegend": true,
         "type": "scatter",
         "x": [
          0.01,
          0.0198989898989899,
          0.029797979797979796,
          0.039696969696969696,
          0.049595959595959596,
          0.059494949494949496,
          0.06939393939393938,
          0.07929292929292929,
          0.08919191919191918,
          0.09909090909090908,
          0.10898989898989898,
          0.11888888888888888,
          0.12878787878787878,
          0.1386868686868687,
          0.1485858585858586,
          0.15848484848484848,
          0.16838383838383839,
          0.1782828282828283,
          0.18818181818181817,
          0.19808080808080808,
          0.207979797979798,
          0.21787878787878787,
          0.22777777777777777,
          0.23767676767676768,
          0.24757575757575756,
          0.25747474747474747,
          0.2673737373737374,
          0.2772727272727273,
          0.2871717171717172,
          0.29707070707070704,
          0.30696969696969695,
          0.31686868686868686,
          0.32676767676767676,
          0.33666666666666667,
          0.3465656565656566,
          0.3564646464646465,
          0.36636363636363634,
          0.37626262626262624,
          0.38616161616161615,
          0.39606060606060606,
          0.40595959595959596,
          0.41585858585858587,
          0.4257575757575757,
          0.43565656565656563,
          0.44555555555555554,
          0.45545454545454545,
          0.46535353535353535,
          0.47525252525252526,
          0.4851515151515151,
          0.495050505050505,
          0.5049494949494949,
          0.5148484848484849,
          0.5247474747474747,
          0.5346464646464646,
          0.5445454545454546,
          0.5544444444444444,
          0.5643434343434344,
          0.5742424242424242,
          0.5841414141414141,
          0.594040404040404,
          0.6039393939393939,
          0.6138383838383838,
          0.6237373737373737,
          0.6336363636363637,
          0.6435353535353535,
          0.6534343434343434,
          0.6633333333333333,
          0.6732323232323232,
          0.6831313131313131,
          0.693030303030303,
          0.702929292929293,
          0.7128282828282828,
          0.7227272727272727,
          0.7326262626262626,
          0.7425252525252525,
          0.7524242424242424,
          0.7623232323232323,
          0.7722222222222221,
          0.7821212121212121,
          0.792020202020202,
          0.8019191919191919,
          0.8118181818181818,
          0.8217171717171717,
          0.8316161616161616,
          0.8415151515151514,
          0.8514141414141414,
          0.8613131313131313,
          0.8712121212121212,
          0.8811111111111111,
          0.891010101010101,
          0.9009090909090909,
          0.9108080808080807,
          0.9207070707070707,
          0.9306060606060605,
          0.9405050505050505,
          0.9504040404040404,
          0.9603030303030302,
          0.9702020202020202,
          0.98010101010101,
          0.99
         ],
         "y": [
          1.2256297796667985,
          1.3734729615645793,
          1.4611863945281995,
          1.5213497780729293,
          1.5651747977031878,
          1.5979828580894908,
          1.6227581897541705,
          1.6413589905627943,
          1.6550292924976011,
          1.664647687507068,
          1.6708607794035404,
          1.6741603223460035,
          1.6749304810357386,
          1.67347817394788,
          1.6700533209040955,
          1.6648627977779353,
          1.658080322293368,
          1.649853625246792,
          1.6403097610101156,
          1.62955911208192,
          1.6176984577534097,
          1.6048133595637257,
          1.5909800396794642,
          1.5762668772809472,
          1.56073561328311,
          1.5444423296182628,
          1.5274382523138055,
          1.5097704154297766,
          1.4914822140863526,
          1.4726138683136925,
          1.4532028146205829,
          1.4332840385396197,
          1.4128903586410444,
          1.3920526703845282,
          1.3708001565354662,
          1.3491604695896,
          1.3271598906409352,
          1.3048234683286133,
          1.2821751408606805,
          1.2592378436007687,
          1.2360336042902542,
          1.212583627642624,
          1.1889083707725754,
          1.1650276106974657,
          1.1409605049631601,
          1.116725646292984,
          1.0923411120307918,
          1.0678245090429221,
          1.0431930146548163,
          1.0184634141235986,
          0.9936521350852475,
          0.9687752793624677,
          0.9438486524751621,
          0.9188877911582823,
          0.8939079891610046,
          0.8689243215753335,
          0.8439516679212494,
          0.8190047341984478,
          0.7940980741014224,
          0.7692461095846366,
          0.7444631509579202,
          0.7197634166884054,
          0.6951610530849445,
          0.670670154043417,
          0.646304781037427,
          0.6220789835484548,
          0.5980068201433404,
          0.5741023804253679,
          0.550379808109225,
          0.5268533255006073,
          0.5035372596996804,
          0.4804460708958585,
          0.45759438318161405,
          0.4349970183885864,
          0.41266903354403317,
          0.39062576266530774,
          0.36888286376168233,
          0.34745637210665375,
          0.32636276109334583,
          0.30561901230980315,
          0.28524269689651177,
          0.2652520708132963,
          0.24566618740195142,
          0.22650503166544736,
          0.20778968211588056,
          0.18954250805759099,
          0.17178741306040216,
          0.15455013960918224,
          0.13785865626414925,
          0.12174365845393777,
          0.10623922959383958,
          0.09138373490875955,
          0.07722106456986538,
          0.06380242290601308,
          0.05118901504345031,
          0.03945630465495463,
          0.028701259764374796,
          0.019055968191223627,
          0.010717343439647338,
          0.004031248218946317
         ]
        },
        {
         "fill": "tonexty",
         "fillcolor": "rgba(248, 148, 6, 0.4)",
         "line": {
          "color": "rgba(255,255,255,0)",
          "width": 0
         },
         "marker": {
          "color": "#444"
         },
         "mode": "lines",
         "name": "Pred Value Upper",
         "showlegend": false,
         "type": "scatter",
         "x": [
          0.01,
          0.0198989898989899,
          0.029797979797979796,
          0.039696969696969696,
          0.049595959595959596,
          0.059494949494949496,
          0.06939393939393938,
          0.07929292929292929,
          0.08919191919191918,
          0.09909090909090908,
          0.10898989898989898,
          0.11888888888888888,
          0.12878787878787878,
          0.1386868686868687,
          0.1485858585858586,
          0.15848484848484848,
          0.16838383838383839,
          0.1782828282828283,
          0.18818181818181817,
          0.19808080808080808,
          0.207979797979798,
          0.21787878787878787,
          0.22777777777777777,
          0.23767676767676768,
          0.24757575757575756,
          0.25747474747474747,
          0.2673737373737374,
          0.2772727272727273,
          0.2871717171717172,
          0.29707070707070704,
          0.30696969696969695,
          0.31686868686868686,
          0.32676767676767676,
          0.33666666666666667,
          0.3465656565656566,
          0.3564646464646465,
          0.36636363636363634,
          0.37626262626262624,
          0.38616161616161615,
          0.39606060606060606,
          0.40595959595959596,
          0.41585858585858587,
          0.4257575757575757,
          0.43565656565656563,
          0.44555555555555554,
          0.45545454545454545,
          0.46535353535353535,
          0.47525252525252526,
          0.4851515151515151,
          0.495050505050505,
          0.5049494949494949,
          0.5148484848484849,
          0.5247474747474747,
          0.5346464646464646,
          0.5445454545454546,
          0.5544444444444444,
          0.5643434343434344,
          0.5742424242424242,
          0.5841414141414141,
          0.594040404040404,
          0.6039393939393939,
          0.6138383838383838,
          0.6237373737373737,
          0.6336363636363637,
          0.6435353535353535,
          0.6534343434343434,
          0.6633333333333333,
          0.6732323232323232,
          0.6831313131313131,
          0.693030303030303,
          0.702929292929293,
          0.7128282828282828,
          0.7227272727272727,
          0.7326262626262626,
          0.7425252525252525,
          0.7524242424242424,
          0.7623232323232323,
          0.7722222222222221,
          0.7821212121212121,
          0.792020202020202,
          0.8019191919191919,
          0.8118181818181818,
          0.8217171717171717,
          0.8316161616161616,
          0.8415151515151514,
          0.8514141414141414,
          0.8613131313131313,
          0.8712121212121212,
          0.8811111111111111,
          0.891010101010101,
          0.9009090909090909,
          0.9108080808080807,
          0.9207070707070707,
          0.9306060606060605,
          0.9405050505050505,
          0.9504040404040404,
          0.9603030303030302,
          0.9702020202020202,
          0.98010101010101,
          0.99
         ],
         "y": [
          1.3926001769150613,
          1.5327758424412696,
          1.6138484994130324,
          1.66818115915088,
          1.706780415298741,
          1.7348301316269599,
          1.7552208741170898,
          1.7697446263541634,
          1.7795969864002337,
          1.7856201032962884,
          1.7884325230080522,
          1.7885039895036208,
          1.7862011343491615,
          1.7818167306980301,
          1.7755891642026844,
          1.7677158201885956,
          1.7583625455434166,
          1.747670496951572,
          1.735761200772393,
          1.722740359786594,
          1.7087007632342255,
          1.6937245431247203,
          1.6778849459619296,
          1.6612477398606094,
          1.643872343617336,
          1.6258127411689958,
          1.607118228592074,
          1.5878340291609643,
          1.5680018035516414,
          1.547660076086157,
          1.5268445933117467,
          1.50558862774743,
          1.4839232369978537,
          1.461877486406507,
          1.4394786418414072,
          1.4167523379605456,
          1.3937227263096879,
          1.3704126068010147,
          1.3468435454634284,
          1.3230359808122865,
          1.2990093207345552,
          1.274782031408098,
          1.2503717194588697,
          1.2257952082983372,
          1.2010686093684269,
          1.176207388847787,
          1.1512264302359203,
          1.1261400931270522,
          1.1009622684089682,
          1.0757064300696617,
          1.0503856837622065,
          1.025012812262194,
          0.9996003179483836,
          0.9741604624425615,
          0.9487053035562517,
          0.9232467297068578,
          0.8977964919825844,
          0.8723662340521681,
          0.846967520131285,
          0.821611861231747,
          0.7963107399323894,
          0.7710756339214957,
          0.7459180385708222,
          0.720849488810665,
          0.6958815805853577,
          0.6710259921795656,
          0.6462945057191486,
          0.6216990291671238,
          0.5972516191569748,
          0.5729645050336343,
          0.5488501145088824,
          0.5249211013849898,
          0.5011903758609456,
          0.47767113801336053,
          0.45437691514372386,
          0.43132160381156115,
          0.4085195175373597,
          0.38598544137149104,
          0.3637346948011712,
          0.3417832048285328,
          0.3201475915296924,
          0.2988452690409065,
          0.2778945657770757,
          0.25731486886362526,
          0.23712679939633036,
          0.21735242745185213,
          0.19801553909546382,
          0.17914197252180206,
          0.16076004783255504,
          0.142901126368056,
          0.12560035375630096,
          0.10889767110584636,
          0.09283923117894757,
          0.07747945195923621,
          0.06288412566454972,
          0.04913539135684025,
          0.036340286970300374,
          0.02464702142425683,
          0.01428103600453781,
          0.00564936974459467
         ]
        },
        {
         "line": {
          "color": "rgba(83, 51, 237, 1)"
         },
         "name": "True Value",
         "showlegend": true,
         "type": "scattergl",
         "x": [
          0.01,
          0.0198989898989899,
          0.029797979797979796,
          0.039696969696969696,
          0.049595959595959596,
          0.059494949494949496,
          0.06939393939393938,
          0.07929292929292929,
          0.08919191919191918,
          0.09909090909090908,
          0.10898989898989898,
          0.11888888888888888,
          0.12878787878787878,
          0.1386868686868687,
          0.1485858585858586,
          0.15848484848484848,
          0.16838383838383839,
          0.1782828282828283,
          0.18818181818181817,
          0.19808080808080808,
          0.207979797979798,
          0.21787878787878787,
          0.22777777777777777,
          0.23767676767676768,
          0.24757575757575756,
          0.25747474747474747,
          0.2673737373737374,
          0.2772727272727273,
          0.2871717171717172,
          0.29707070707070704,
          0.30696969696969695,
          0.31686868686868686,
          0.32676767676767676,
          0.33666666666666667,
          0.3465656565656566,
          0.3564646464646465,
          0.36636363636363634,
          0.37626262626262624,
          0.38616161616161615,
          0.39606060606060606,
          0.40595959595959596,
          0.41585858585858587,
          0.4257575757575757,
          0.43565656565656563,
          0.44555555555555554,
          0.45545454545454545,
          0.46535353535353535,
          0.47525252525252526,
          0.4851515151515151,
          0.495050505050505,
          0.5049494949494949,
          0.5148484848484849,
          0.5247474747474747,
          0.5346464646464646,
          0.5445454545454546,
          0.5544444444444444,
          0.5643434343434344,
          0.5742424242424242,
          0.5841414141414141,
          0.594040404040404,
          0.6039393939393939,
          0.6138383838383838,
          0.6237373737373737,
          0.6336363636363637,
          0.6435353535353535,
          0.6534343434343434,
          0.6633333333333333,
          0.6732323232323232,
          0.6831313131313131,
          0.693030303030303,
          0.702929292929293,
          0.7128282828282828,
          0.7227272727272727,
          0.7326262626262626,
          0.7425252525252525,
          0.7524242424242424,
          0.7623232323232323,
          0.7722222222222221,
          0.7821212121212121,
          0.792020202020202,
          0.8019191919191919,
          0.8118181818181818,
          0.8217171717171717,
          0.8316161616161616,
          0.8415151515151514,
          0.8514141414141414,
          0.8613131313131313,
          0.8712121212121212,
          0.8811111111111111,
          0.891010101010101,
          0.9009090909090909,
          0.9108080808080807,
          0.9207070707070707,
          0.9306060606060605,
          0.9405050505050505,
          0.9504040404040404,
          0.9603030303030302,
          0.9702020202020202,
          0.98010101010101,
          0.99
         ],
         "y": [
          0.5476615663797472,
          0.6331781991501693,
          0.6870973010520348,
          0.7263463857881763,
          0.7568186117267931,
          0.7813289341950681,
          0.8014618906031188,
          0.8182061086058042,
          0.8322239171286705,
          0.8439829057261008,
          0.8538267507666835,
          0.862016269140126,
          0.8687546294885813,
          0.8742035712313262,
          0.8784942457781089,
          0.88173469940509,
          0.8840151811454245,
          0.8854119975754093,
          0.8859903703212273,
          0.8858065928544004,
          0.8849096846528031,
          0.8833426781218868,
          0.8811436327527699,
          0.8783464436714682,
          0.8749814931147751,
          0.8710761804454179,
          0.866655357199,
          0.8617416871202752,
          0.8563559463980952,
          0.8505172758140687,
          0.8442433939178798,
          0.837550778383306,
          0.8304548212092773,
          0.8229699622867236,
          0.8151098049663433,
          0.8068872165709509,
          0.7983144162520387,
          0.7894030521590817,
          0.7801642695462341,
          0.7706087711649872,
          0.7607468710684812,
          0.7505885427721931,
          0.7401434625680932,
          0.7294210486683386,
          0.718430496754972,
          0.7071808124298024,
          0.6956808409904632,
          0.6839392949019895,
          0.6719647792861267,
          0.6597658157113343,
          0.6473508645337827,
          0.6347283460125285,
          0.6219066603996505,
          0.6088942071877635,
          0.5956994036824863,
          0.5823307030556869,
          0.5687966120263654,
          0.5551057083096084,
          0.5412666579700227,
          0.5272882328143117,
          0.5131793279581938,
          0.49894897970571617,
          0.48460638388429106,
          0.4701609147866775,
          0.4556221448819234,
          0.4409998654713351,
          0.42630410848337985,
          0.41154516962368815,
          0.3967336331238374,
          0.38188039836650345,
          0.36699670870618345,
          0.35209418285591026,
          0.33718484927345743,
          0.3222811840586027,
          0.3073961529700324,
          0.292543258291784,
          0.2777365914318515,
          0.26299089232930295,
          0.24832161699413488,
          0.23374501482421656,
          0.21927821776144243,
          0.20493934390065432,
          0.19074761890191755,
          0.17672351955552743,
          0.16288894522336186,
          0.14926742480327948,
          0.13588436960545072,
          0.1227673865230927,
          0.10994667183622837,
          0.09745551511413827,
          0.0853309571100298,
          0.07361466918708388,
          0.06235416224844602,
          0.051604505881757815,
          0.04143087762535732,
          0.031912550026669186,
          0.023149580474969046,
          0.015275187483492996,
          0.008482270353401954,
          0.003096790250664425
         ]
        }
       ],
       "layout": {
        "template": {
         "data": {
          "bar": [
           {
            "error_x": {
             "color": "#2a3f5f"
            },
            "error_y": {
             "color": "#2a3f5f"
            },
            "marker": {
             "line": {
              "color": "#E5ECF6",
              "width": 0.5
             }
            },
            "type": "bar"
           }
          ],
          "barpolar": [
           {
            "marker": {
             "line": {
              "color": "#E5ECF6",
              "width": 0.5
             }
            },
            "type": "barpolar"
           }
          ],
          "carpet": [
           {
            "aaxis": {
             "endlinecolor": "#2a3f5f",
             "gridcolor": "white",
             "linecolor": "white",
             "minorgridcolor": "white",
             "startlinecolor": "#2a3f5f"
            },
            "baxis": {
             "endlinecolor": "#2a3f5f",
             "gridcolor": "white",
             "linecolor": "white",
             "minorgridcolor": "white",
             "startlinecolor": "#2a3f5f"
            },
            "type": "carpet"
           }
          ],
          "choropleth": [
           {
            "colorbar": {
             "outlinewidth": 0,
             "ticks": ""
            },
            "type": "choropleth"
           }
          ],
          "contour": [
           {
            "colorbar": {
             "outlinewidth": 0,
             "ticks": ""
            },
            "colorscale": [
             [
              0,
              "#0d0887"
             ],
             [
              0.1111111111111111,
              "#46039f"
             ],
             [
              0.2222222222222222,
              "#7201a8"
             ],
             [
              0.3333333333333333,
              "#9c179e"
             ],
             [
              0.4444444444444444,
              "#bd3786"
             ],
             [
              0.5555555555555556,
              "#d8576b"
             ],
             [
              0.6666666666666666,
              "#ed7953"
             ],
             [
              0.7777777777777778,
              "#fb9f3a"
             ],
             [
              0.8888888888888888,
              "#fdca26"
             ],
             [
              1,
              "#f0f921"
             ]
            ],
            "type": "contour"
           }
          ],
          "contourcarpet": [
           {
            "colorbar": {
             "outlinewidth": 0,
             "ticks": ""
            },
            "type": "contourcarpet"
           }
          ],
          "heatmap": [
           {
            "colorbar": {
             "outlinewidth": 0,
             "ticks": ""
            },
            "colorscale": [
             [
              0,
              "#0d0887"
             ],
             [
              0.1111111111111111,
              "#46039f"
             ],
             [
              0.2222222222222222,
              "#7201a8"
             ],
             [
              0.3333333333333333,
              "#9c179e"
             ],
             [
              0.4444444444444444,
              "#bd3786"
             ],
             [
              0.5555555555555556,
              "#d8576b"
             ],
             [
              0.6666666666666666,
              "#ed7953"
             ],
             [
              0.7777777777777778,
              "#fb9f3a"
             ],
             [
              0.8888888888888888,
              "#fdca26"
             ],
             [
              1,
              "#f0f921"
             ]
            ],
            "type": "heatmap"
           }
          ],
          "heatmapgl": [
           {
            "colorbar": {
             "outlinewidth": 0,
             "ticks": ""
            },
            "colorscale": [
             [
              0,
              "#0d0887"
             ],
             [
              0.1111111111111111,
              "#46039f"
             ],
             [
              0.2222222222222222,
              "#7201a8"
             ],
             [
              0.3333333333333333,
              "#9c179e"
             ],
             [
              0.4444444444444444,
              "#bd3786"
             ],
             [
              0.5555555555555556,
              "#d8576b"
             ],
             [
              0.6666666666666666,
              "#ed7953"
             ],
             [
              0.7777777777777778,
              "#fb9f3a"
             ],
             [
              0.8888888888888888,
              "#fdca26"
             ],
             [
              1,
              "#f0f921"
             ]
            ],
            "type": "heatmapgl"
           }
          ],
          "histogram": [
           {
            "marker": {
             "colorbar": {
              "outlinewidth": 0,
              "ticks": ""
             }
            },
            "type": "histogram"
           }
          ],
          "histogram2d": [
           {
            "colorbar": {
             "outlinewidth": 0,
             "ticks": ""
            },
            "colorscale": [
             [
              0,
              "#0d0887"
             ],
             [
              0.1111111111111111,
              "#46039f"
             ],
             [
              0.2222222222222222,
              "#7201a8"
             ],
             [
              0.3333333333333333,
              "#9c179e"
             ],
             [
              0.4444444444444444,
              "#bd3786"
             ],
             [
              0.5555555555555556,
              "#d8576b"
             ],
             [
              0.6666666666666666,
              "#ed7953"
             ],
             [
              0.7777777777777778,
              "#fb9f3a"
             ],
             [
              0.8888888888888888,
              "#fdca26"
             ],
             [
              1,
              "#f0f921"
             ]
            ],
            "type": "histogram2d"
           }
          ],
          "histogram2dcontour": [
           {
            "colorbar": {
             "outlinewidth": 0,
             "ticks": ""
            },
            "colorscale": [
             [
              0,
              "#0d0887"
             ],
             [
              0.1111111111111111,
              "#46039f"
             ],
             [
              0.2222222222222222,
              "#7201a8"
             ],
             [
              0.3333333333333333,
              "#9c179e"
             ],
             [
              0.4444444444444444,
              "#bd3786"
             ],
             [
              0.5555555555555556,
              "#d8576b"
             ],
             [
              0.6666666666666666,
              "#ed7953"
             ],
             [
              0.7777777777777778,
              "#fb9f3a"
             ],
             [
              0.8888888888888888,
              "#fdca26"
             ],
             [
              1,
              "#f0f921"
             ]
            ],
            "type": "histogram2dcontour"
           }
          ],
          "mesh3d": [
           {
            "colorbar": {
             "outlinewidth": 0,
             "ticks": ""
            },
            "type": "mesh3d"
           }
          ],
          "parcoords": [
           {
            "line": {
             "colorbar": {
              "outlinewidth": 0,
              "ticks": ""
             }
            },
            "type": "parcoords"
           }
          ],
          "pie": [
           {
            "automargin": true,
            "type": "pie"
           }
          ],
          "scatter": [
           {
            "marker": {
             "colorbar": {
              "outlinewidth": 0,
              "ticks": ""
             }
            },
            "type": "scatter"
           }
          ],
          "scatter3d": [
           {
            "line": {
             "colorbar": {
              "outlinewidth": 0,
              "ticks": ""
             }
            },
            "marker": {
             "colorbar": {
              "outlinewidth": 0,
              "ticks": ""
             }
            },
            "type": "scatter3d"
           }
          ],
          "scattercarpet": [
           {
            "marker": {
             "colorbar": {
              "outlinewidth": 0,
              "ticks": ""
             }
            },
            "type": "scattercarpet"
           }
          ],
          "scattergeo": [
           {
            "marker": {
             "colorbar": {
              "outlinewidth": 0,
              "ticks": ""
             }
            },
            "type": "scattergeo"
           }
          ],
          "scattergl": [
           {
            "marker": {
             "colorbar": {
              "outlinewidth": 0,
              "ticks": ""
             }
            },
            "type": "scattergl"
           }
          ],
          "scattermapbox": [
           {
            "marker": {
             "colorbar": {
              "outlinewidth": 0,
              "ticks": ""
             }
            },
            "type": "scattermapbox"
           }
          ],
          "scatterpolar": [
           {
            "marker": {
             "colorbar": {
              "outlinewidth": 0,
              "ticks": ""
             }
            },
            "type": "scatterpolar"
           }
          ],
          "scatterpolargl": [
           {
            "marker": {
             "colorbar": {
              "outlinewidth": 0,
              "ticks": ""
             }
            },
            "type": "scatterpolargl"
           }
          ],
          "scatterternary": [
           {
            "marker": {
             "colorbar": {
              "outlinewidth": 0,
              "ticks": ""
             }
            },
            "type": "scatterternary"
           }
          ],
          "surface": [
           {
            "colorbar": {
             "outlinewidth": 0,
             "ticks": ""
            },
            "colorscale": [
             [
              0,
              "#0d0887"
             ],
             [
              0.1111111111111111,
              "#46039f"
             ],
             [
              0.2222222222222222,
              "#7201a8"
             ],
             [
              0.3333333333333333,
              "#9c179e"
             ],
             [
              0.4444444444444444,
              "#bd3786"
             ],
             [
              0.5555555555555556,
              "#d8576b"
             ],
             [
              0.6666666666666666,
              "#ed7953"
             ],
             [
              0.7777777777777778,
              "#fb9f3a"
             ],
             [
              0.8888888888888888,
              "#fdca26"
             ],
             [
              1,
              "#f0f921"
             ]
            ],
            "type": "surface"
           }
          ],
          "table": [
           {
            "cells": {
             "fill": {
              "color": "#EBF0F8"
             },
             "line": {
              "color": "white"
             }
            },
            "header": {
             "fill": {
              "color": "#C8D4E3"
             },
             "line": {
              "color": "white"
             }
            },
            "type": "table"
           }
          ]
         },
         "layout": {
          "annotationdefaults": {
           "arrowcolor": "#2a3f5f",
           "arrowhead": 0,
           "arrowwidth": 1
          },
          "coloraxis": {
           "colorbar": {
            "outlinewidth": 0,
            "ticks": ""
           }
          },
          "colorscale": {
           "diverging": [
            [
             0,
             "#8e0152"
            ],
            [
             0.1,
             "#c51b7d"
            ],
            [
             0.2,
             "#de77ae"
            ],
            [
             0.3,
             "#f1b6da"
            ],
            [
             0.4,
             "#fde0ef"
            ],
            [
             0.5,
             "#f7f7f7"
            ],
            [
             0.6,
             "#e6f5d0"
            ],
            [
             0.7,
             "#b8e186"
            ],
            [
             0.8,
             "#7fbc41"
            ],
            [
             0.9,
             "#4d9221"
            ],
            [
             1,
             "#276419"
            ]
           ],
           "sequential": [
            [
             0,
             "#0d0887"
            ],
            [
             0.1111111111111111,
             "#46039f"
            ],
            [
             0.2222222222222222,
             "#7201a8"
            ],
            [
             0.3333333333333333,
             "#9c179e"
            ],
            [
             0.4444444444444444,
             "#bd3786"
            ],
            [
             0.5555555555555556,
             "#d8576b"
            ],
            [
             0.6666666666666666,
             "#ed7953"
            ],
            [
             0.7777777777777778,
             "#fb9f3a"
            ],
            [
             0.8888888888888888,
             "#fdca26"
            ],
            [
             1,
             "#f0f921"
            ]
           ],
           "sequentialminus": [
            [
             0,
             "#0d0887"
            ],
            [
             0.1111111111111111,
             "#46039f"
            ],
            [
             0.2222222222222222,
             "#7201a8"
            ],
            [
             0.3333333333333333,
             "#9c179e"
            ],
            [
             0.4444444444444444,
             "#bd3786"
            ],
            [
             0.5555555555555556,
             "#d8576b"
            ],
            [
             0.6666666666666666,
             "#ed7953"
            ],
            [
             0.7777777777777778,
             "#fb9f3a"
            ],
            [
             0.8888888888888888,
             "#fdca26"
            ],
            [
             1,
             "#f0f921"
            ]
           ]
          },
          "colorway": [
           "#636efa",
           "#EF553B",
           "#00cc96",
           "#ab63fa",
           "#FFA15A",
           "#19d3f3",
           "#FF6692",
           "#B6E880",
           "#FF97FF",
           "#FECB52"
          ],
          "font": {
           "color": "#2a3f5f"
          },
          "geo": {
           "bgcolor": "white",
           "lakecolor": "white",
           "landcolor": "#E5ECF6",
           "showlakes": true,
           "showland": true,
           "subunitcolor": "white"
          },
          "hoverlabel": {
           "align": "left"
          },
          "hovermode": "closest",
          "mapbox": {
           "style": "light"
          },
          "paper_bgcolor": "white",
          "plot_bgcolor": "#E5ECF6",
          "polar": {
           "angularaxis": {
            "gridcolor": "white",
            "linecolor": "white",
            "ticks": ""
           },
           "bgcolor": "#E5ECF6",
           "radialaxis": {
            "gridcolor": "white",
            "linecolor": "white",
            "ticks": ""
           }
          },
          "scene": {
           "xaxis": {
            "backgroundcolor": "#E5ECF6",
            "gridcolor": "white",
            "gridwidth": 2,
            "linecolor": "white",
            "showbackground": true,
            "ticks": "",
            "zerolinecolor": "white"
           },
           "yaxis": {
            "backgroundcolor": "#E5ECF6",
            "gridcolor": "white",
            "gridwidth": 2,
            "linecolor": "white",
            "showbackground": true,
            "ticks": "",
            "zerolinecolor": "white"
           },
           "zaxis": {
            "backgroundcolor": "#E5ECF6",
            "gridcolor": "white",
            "gridwidth": 2,
            "linecolor": "white",
            "showbackground": true,
            "ticks": "",
            "zerolinecolor": "white"
           }
          },
          "shapedefaults": {
           "line": {
            "color": "#2a3f5f"
           }
          },
          "ternary": {
           "aaxis": {
            "gridcolor": "white",
            "linecolor": "white",
            "ticks": ""
           },
           "baxis": {
            "gridcolor": "white",
            "linecolor": "white",
            "ticks": ""
           },
           "bgcolor": "#E5ECF6",
           "caxis": {
            "gridcolor": "white",
            "linecolor": "white",
            "ticks": ""
           }
          },
          "title": {
           "x": 0.05
          },
          "xaxis": {
           "automargin": true,
           "gridcolor": "white",
           "linecolor": "white",
           "ticks": "",
           "title": {
            "standoff": 15
           },
           "zerolinecolor": "white",
           "zerolinewidth": 2
          },
          "yaxis": {
           "automargin": true,
           "gridcolor": "white",
           "linecolor": "white",
           "ticks": "",
           "title": {
            "standoff": 15
           },
           "zerolinecolor": "white",
           "zerolinewidth": 2
          }
         }
        },
        "title": {
         "pad": {
          "l": 350
         },
         "text": "PDF-Up Absolute Plot",
         "xanchor": "left",
         "yanchor": "top"
        }
       }
      },
      "text/html": [
       "<div>\n",
       "        \n",
       "        \n",
       "            <div id=\"be7d255f-613f-4431-8ef5-2f1caaddc95f\" class=\"plotly-graph-div\" style=\"height:525px; width:100%;\"></div>\n",
       "            <script type=\"text/javascript\">\n",
       "                require([\"plotly\"], function(Plotly) {\n",
       "                    window.PLOTLYENV=window.PLOTLYENV || {};\n",
       "                    \n",
       "                if (document.getElementById(\"be7d255f-613f-4431-8ef5-2f1caaddc95f\")) {\n",
       "                    Plotly.newPlot(\n",
       "                        'be7d255f-613f-4431-8ef5-2f1caaddc95f',\n",
       "                        [{\"line\": {\"width\": 0}, \"marker\": {\"color\": \"#444\"}, \"mode\": \"lines\", \"name\": \"Pred Value Lower\", \"showlegend\": false, \"type\": \"scatter\", \"x\": [0.01, 0.0198989898989899, 0.029797979797979796, 0.039696969696969696, 0.049595959595959596, 0.059494949494949496, 0.06939393939393938, 0.07929292929292929, 0.08919191919191918, 0.09909090909090908, 0.10898989898989898, 0.11888888888888888, 0.12878787878787878, 0.1386868686868687, 0.1485858585858586, 0.15848484848484848, 0.16838383838383839, 0.1782828282828283, 0.18818181818181817, 0.19808080808080808, 0.207979797979798, 0.21787878787878787, 0.22777777777777777, 0.23767676767676768, 0.24757575757575756, 0.25747474747474747, 0.2673737373737374, 0.2772727272727273, 0.2871717171717172, 0.29707070707070704, 0.30696969696969695, 0.31686868686868686, 0.32676767676767676, 0.33666666666666667, 0.3465656565656566, 0.3564646464646465, 0.36636363636363634, 0.37626262626262624, 0.38616161616161615, 0.39606060606060606, 0.40595959595959596, 0.41585858585858587, 0.4257575757575757, 0.43565656565656563, 0.44555555555555554, 0.45545454545454545, 0.46535353535353535, 0.47525252525252526, 0.4851515151515151, 0.495050505050505, 0.5049494949494949, 0.5148484848484849, 0.5247474747474747, 0.5346464646464646, 0.5445454545454546, 0.5544444444444444, 0.5643434343434344, 0.5742424242424242, 0.5841414141414141, 0.594040404040404, 0.6039393939393939, 0.6138383838383838, 0.6237373737373737, 0.6336363636363637, 0.6435353535353535, 0.6534343434343434, 0.6633333333333333, 0.6732323232323232, 0.6831313131313131, 0.693030303030303, 0.702929292929293, 0.7128282828282828, 0.7227272727272727, 0.7326262626262626, 0.7425252525252525, 0.7524242424242424, 0.7623232323232323, 0.7722222222222221, 0.7821212121212121, 0.792020202020202, 0.8019191919191919, 0.8118181818181818, 0.8217171717171717, 0.8316161616161616, 0.8415151515151514, 0.8514141414141414, 0.8613131313131313, 0.8712121212121212, 0.8811111111111111, 0.891010101010101, 0.9009090909090909, 0.9108080808080807, 0.9207070707070707, 0.9306060606060605, 0.9405050505050505, 0.9504040404040404, 0.9603030303030302, 0.9702020202020202, 0.98010101010101, 0.99], \"y\": [1.0586593824185357, 1.214170080687889, 1.3085242896433666, 1.3745183969949786, 1.4235691801076347, 1.4611355845520217, 1.4902955053912512, 1.5129733547714252, 1.5304615985949686, 1.5436752717178475, 1.5532890357990286, 1.5598166551883863, 1.5636598277223157, 1.5651396171977296, 1.5645174776055066, 1.562009775367275, 1.5577980990433193, 1.5520367535420119, 1.5448583212478382, 1.5363778643772459, 1.526696152272594, 1.5159021760027311, 1.5040751333969988, 1.491286014701285, 1.4775988829488842, 1.4630719180675298, 1.447758276035537, 1.431706801698589, 1.4149626246210638, 1.397567660541228, 1.379561035929419, 1.3609794493318095, 1.3418574802842351, 1.3222278543625494, 1.3021216712295252, 1.2815686012186545, 1.2605970549721826, 1.2392343298562118, 1.2175067362579326, 1.195439706389251, 1.1730578878459532, 1.1503852238771501, 1.127445022086281, 1.1042600130965943, 1.0808524005578934, 1.057243903738181, 1.0334557938256632, 1.009508924958792, 0.9854237609006645, 0.9612203981775355, 0.9369185864082885, 0.9125377464627413, 0.8880969870019407, 0.8636151198740032, 0.8391106747657574, 0.8146019134438092, 0.7901068438599145, 0.7656432343447275, 0.7412286280715599, 0.7168803579375261, 0.6926155619834509, 0.6684511994553151, 0.6444040675990668, 0.620490819276169, 0.5967279814894962, 0.573131974917344, 0.5497191345675322, 0.5265057316836119, 0.5035079970614753, 0.4807421459675803, 0.45822440489047844, 0.4359710404067272, 0.4139983905022825, 0.39232289876381227, 0.3709611519443425, 0.34992992151905433, 0.32924620998600496, 0.30892730284181646, 0.28899082738552045, 0.2694548197910735, 0.25033780226333113, 0.23165887258568615, 0.21343780902682713, 0.19569519446726946, 0.17845256483543076, 0.16173258866332985, 0.1455592870253405, 0.12995830669656241, 0.11495726469574347, 0.10058619053981954, 0.0868781054313782, 0.07386979871167274, 0.061602897960783186, 0.050125393852789954, 0.0394939044223509, 0.029777217953069007, 0.021062232558449218, 0.013464914958190423, 0.007153650874756867, 0.0024131266932979644]}, {\"fill\": \"tonexty\", \"fillcolor\": \"rgba(248, 148, 6, 0.4)\", \"line\": {\"color\": \"rgba(217, 30, 24, 1)\"}, \"mode\": \"lines\", \"name\": \"Pred Value\", \"showlegend\": true, \"type\": \"scatter\", \"x\": [0.01, 0.0198989898989899, 0.029797979797979796, 0.039696969696969696, 0.049595959595959596, 0.059494949494949496, 0.06939393939393938, 0.07929292929292929, 0.08919191919191918, 0.09909090909090908, 0.10898989898989898, 0.11888888888888888, 0.12878787878787878, 0.1386868686868687, 0.1485858585858586, 0.15848484848484848, 0.16838383838383839, 0.1782828282828283, 0.18818181818181817, 0.19808080808080808, 0.207979797979798, 0.21787878787878787, 0.22777777777777777, 0.23767676767676768, 0.24757575757575756, 0.25747474747474747, 0.2673737373737374, 0.2772727272727273, 0.2871717171717172, 0.29707070707070704, 0.30696969696969695, 0.31686868686868686, 0.32676767676767676, 0.33666666666666667, 0.3465656565656566, 0.3564646464646465, 0.36636363636363634, 0.37626262626262624, 0.38616161616161615, 0.39606060606060606, 0.40595959595959596, 0.41585858585858587, 0.4257575757575757, 0.43565656565656563, 0.44555555555555554, 0.45545454545454545, 0.46535353535353535, 0.47525252525252526, 0.4851515151515151, 0.495050505050505, 0.5049494949494949, 0.5148484848484849, 0.5247474747474747, 0.5346464646464646, 0.5445454545454546, 0.5544444444444444, 0.5643434343434344, 0.5742424242424242, 0.5841414141414141, 0.594040404040404, 0.6039393939393939, 0.6138383838383838, 0.6237373737373737, 0.6336363636363637, 0.6435353535353535, 0.6534343434343434, 0.6633333333333333, 0.6732323232323232, 0.6831313131313131, 0.693030303030303, 0.702929292929293, 0.7128282828282828, 0.7227272727272727, 0.7326262626262626, 0.7425252525252525, 0.7524242424242424, 0.7623232323232323, 0.7722222222222221, 0.7821212121212121, 0.792020202020202, 0.8019191919191919, 0.8118181818181818, 0.8217171717171717, 0.8316161616161616, 0.8415151515151514, 0.8514141414141414, 0.8613131313131313, 0.8712121212121212, 0.8811111111111111, 0.891010101010101, 0.9009090909090909, 0.9108080808080807, 0.9207070707070707, 0.9306060606060605, 0.9405050505050505, 0.9504040404040404, 0.9603030303030302, 0.9702020202020202, 0.98010101010101, 0.99], \"y\": [1.2256297796667985, 1.3734729615645793, 1.4611863945281995, 1.5213497780729293, 1.5651747977031878, 1.5979828580894908, 1.6227581897541705, 1.6413589905627943, 1.6550292924976011, 1.664647687507068, 1.6708607794035404, 1.6741603223460035, 1.6749304810357386, 1.67347817394788, 1.6700533209040955, 1.6648627977779353, 1.658080322293368, 1.649853625246792, 1.6403097610101156, 1.62955911208192, 1.6176984577534097, 1.6048133595637257, 1.5909800396794642, 1.5762668772809472, 1.56073561328311, 1.5444423296182628, 1.5274382523138055, 1.5097704154297766, 1.4914822140863526, 1.4726138683136925, 1.4532028146205829, 1.4332840385396197, 1.4128903586410444, 1.3920526703845282, 1.3708001565354662, 1.3491604695896, 1.3271598906409352, 1.3048234683286133, 1.2821751408606805, 1.2592378436007687, 1.2360336042902542, 1.212583627642624, 1.1889083707725754, 1.1650276106974657, 1.1409605049631601, 1.116725646292984, 1.0923411120307918, 1.0678245090429221, 1.0431930146548163, 1.0184634141235986, 0.9936521350852475, 0.9687752793624677, 0.9438486524751621, 0.9188877911582823, 0.8939079891610046, 0.8689243215753335, 0.8439516679212494, 0.8190047341984478, 0.7940980741014224, 0.7692461095846366, 0.7444631509579202, 0.7197634166884054, 0.6951610530849445, 0.670670154043417, 0.646304781037427, 0.6220789835484548, 0.5980068201433404, 0.5741023804253679, 0.550379808109225, 0.5268533255006073, 0.5035372596996804, 0.4804460708958585, 0.45759438318161405, 0.4349970183885864, 0.41266903354403317, 0.39062576266530774, 0.36888286376168233, 0.34745637210665375, 0.32636276109334583, 0.30561901230980315, 0.28524269689651177, 0.2652520708132963, 0.24566618740195142, 0.22650503166544736, 0.20778968211588056, 0.18954250805759099, 0.17178741306040216, 0.15455013960918224, 0.13785865626414925, 0.12174365845393777, 0.10623922959383958, 0.09138373490875955, 0.07722106456986538, 0.06380242290601308, 0.05118901504345031, 0.03945630465495463, 0.028701259764374796, 0.019055968191223627, 0.010717343439647338, 0.004031248218946317]}, {\"fill\": \"tonexty\", \"fillcolor\": \"rgba(248, 148, 6, 0.4)\", \"line\": {\"color\": \"rgba(255,255,255,0)\", \"width\": 0}, \"marker\": {\"color\": \"#444\"}, \"mode\": \"lines\", \"name\": \"Pred Value Upper\", \"showlegend\": false, \"type\": \"scatter\", \"x\": [0.01, 0.0198989898989899, 0.029797979797979796, 0.039696969696969696, 0.049595959595959596, 0.059494949494949496, 0.06939393939393938, 0.07929292929292929, 0.08919191919191918, 0.09909090909090908, 0.10898989898989898, 0.11888888888888888, 0.12878787878787878, 0.1386868686868687, 0.1485858585858586, 0.15848484848484848, 0.16838383838383839, 0.1782828282828283, 0.18818181818181817, 0.19808080808080808, 0.207979797979798, 0.21787878787878787, 0.22777777777777777, 0.23767676767676768, 0.24757575757575756, 0.25747474747474747, 0.2673737373737374, 0.2772727272727273, 0.2871717171717172, 0.29707070707070704, 0.30696969696969695, 0.31686868686868686, 0.32676767676767676, 0.33666666666666667, 0.3465656565656566, 0.3564646464646465, 0.36636363636363634, 0.37626262626262624, 0.38616161616161615, 0.39606060606060606, 0.40595959595959596, 0.41585858585858587, 0.4257575757575757, 0.43565656565656563, 0.44555555555555554, 0.45545454545454545, 0.46535353535353535, 0.47525252525252526, 0.4851515151515151, 0.495050505050505, 0.5049494949494949, 0.5148484848484849, 0.5247474747474747, 0.5346464646464646, 0.5445454545454546, 0.5544444444444444, 0.5643434343434344, 0.5742424242424242, 0.5841414141414141, 0.594040404040404, 0.6039393939393939, 0.6138383838383838, 0.6237373737373737, 0.6336363636363637, 0.6435353535353535, 0.6534343434343434, 0.6633333333333333, 0.6732323232323232, 0.6831313131313131, 0.693030303030303, 0.702929292929293, 0.7128282828282828, 0.7227272727272727, 0.7326262626262626, 0.7425252525252525, 0.7524242424242424, 0.7623232323232323, 0.7722222222222221, 0.7821212121212121, 0.792020202020202, 0.8019191919191919, 0.8118181818181818, 0.8217171717171717, 0.8316161616161616, 0.8415151515151514, 0.8514141414141414, 0.8613131313131313, 0.8712121212121212, 0.8811111111111111, 0.891010101010101, 0.9009090909090909, 0.9108080808080807, 0.9207070707070707, 0.9306060606060605, 0.9405050505050505, 0.9504040404040404, 0.9603030303030302, 0.9702020202020202, 0.98010101010101, 0.99], \"y\": [1.3926001769150613, 1.5327758424412696, 1.6138484994130324, 1.66818115915088, 1.706780415298741, 1.7348301316269599, 1.7552208741170898, 1.7697446263541634, 1.7795969864002337, 1.7856201032962884, 1.7884325230080522, 1.7885039895036208, 1.7862011343491615, 1.7818167306980301, 1.7755891642026844, 1.7677158201885956, 1.7583625455434166, 1.747670496951572, 1.735761200772393, 1.722740359786594, 1.7087007632342255, 1.6937245431247203, 1.6778849459619296, 1.6612477398606094, 1.643872343617336, 1.6258127411689958, 1.607118228592074, 1.5878340291609643, 1.5680018035516414, 1.547660076086157, 1.5268445933117467, 1.50558862774743, 1.4839232369978537, 1.461877486406507, 1.4394786418414072, 1.4167523379605456, 1.3937227263096879, 1.3704126068010147, 1.3468435454634284, 1.3230359808122865, 1.2990093207345552, 1.274782031408098, 1.2503717194588697, 1.2257952082983372, 1.2010686093684269, 1.176207388847787, 1.1512264302359203, 1.1261400931270522, 1.1009622684089682, 1.0757064300696617, 1.0503856837622065, 1.025012812262194, 0.9996003179483836, 0.9741604624425615, 0.9487053035562517, 0.9232467297068578, 0.8977964919825844, 0.8723662340521681, 0.846967520131285, 0.821611861231747, 0.7963107399323894, 0.7710756339214957, 0.7459180385708222, 0.720849488810665, 0.6958815805853577, 0.6710259921795656, 0.6462945057191486, 0.6216990291671238, 0.5972516191569748, 0.5729645050336343, 0.5488501145088824, 0.5249211013849898, 0.5011903758609456, 0.47767113801336053, 0.45437691514372386, 0.43132160381156115, 0.4085195175373597, 0.38598544137149104, 0.3637346948011712, 0.3417832048285328, 0.3201475915296924, 0.2988452690409065, 0.2778945657770757, 0.25731486886362526, 0.23712679939633036, 0.21735242745185213, 0.19801553909546382, 0.17914197252180206, 0.16076004783255504, 0.142901126368056, 0.12560035375630096, 0.10889767110584636, 0.09283923117894757, 0.07747945195923621, 0.06288412566454972, 0.04913539135684025, 0.036340286970300374, 0.02464702142425683, 0.01428103600453781, 0.00564936974459467]}, {\"line\": {\"color\": \"rgba(83, 51, 237, 1)\"}, \"name\": \"True Value\", \"showlegend\": true, \"type\": \"scattergl\", \"x\": [0.01, 0.0198989898989899, 0.029797979797979796, 0.039696969696969696, 0.049595959595959596, 0.059494949494949496, 0.06939393939393938, 0.07929292929292929, 0.08919191919191918, 0.09909090909090908, 0.10898989898989898, 0.11888888888888888, 0.12878787878787878, 0.1386868686868687, 0.1485858585858586, 0.15848484848484848, 0.16838383838383839, 0.1782828282828283, 0.18818181818181817, 0.19808080808080808, 0.207979797979798, 0.21787878787878787, 0.22777777777777777, 0.23767676767676768, 0.24757575757575756, 0.25747474747474747, 0.2673737373737374, 0.2772727272727273, 0.2871717171717172, 0.29707070707070704, 0.30696969696969695, 0.31686868686868686, 0.32676767676767676, 0.33666666666666667, 0.3465656565656566, 0.3564646464646465, 0.36636363636363634, 0.37626262626262624, 0.38616161616161615, 0.39606060606060606, 0.40595959595959596, 0.41585858585858587, 0.4257575757575757, 0.43565656565656563, 0.44555555555555554, 0.45545454545454545, 0.46535353535353535, 0.47525252525252526, 0.4851515151515151, 0.495050505050505, 0.5049494949494949, 0.5148484848484849, 0.5247474747474747, 0.5346464646464646, 0.5445454545454546, 0.5544444444444444, 0.5643434343434344, 0.5742424242424242, 0.5841414141414141, 0.594040404040404, 0.6039393939393939, 0.6138383838383838, 0.6237373737373737, 0.6336363636363637, 0.6435353535353535, 0.6534343434343434, 0.6633333333333333, 0.6732323232323232, 0.6831313131313131, 0.693030303030303, 0.702929292929293, 0.7128282828282828, 0.7227272727272727, 0.7326262626262626, 0.7425252525252525, 0.7524242424242424, 0.7623232323232323, 0.7722222222222221, 0.7821212121212121, 0.792020202020202, 0.8019191919191919, 0.8118181818181818, 0.8217171717171717, 0.8316161616161616, 0.8415151515151514, 0.8514141414141414, 0.8613131313131313, 0.8712121212121212, 0.8811111111111111, 0.891010101010101, 0.9009090909090909, 0.9108080808080807, 0.9207070707070707, 0.9306060606060605, 0.9405050505050505, 0.9504040404040404, 0.9603030303030302, 0.9702020202020202, 0.98010101010101, 0.99], \"y\": [0.5476615663797472, 0.6331781991501693, 0.6870973010520348, 0.7263463857881763, 0.7568186117267931, 0.7813289341950681, 0.8014618906031188, 0.8182061086058042, 0.8322239171286705, 0.8439829057261008, 0.8538267507666835, 0.862016269140126, 0.8687546294885813, 0.8742035712313262, 0.8784942457781089, 0.88173469940509, 0.8840151811454245, 0.8854119975754093, 0.8859903703212273, 0.8858065928544004, 0.8849096846528031, 0.8833426781218868, 0.8811436327527699, 0.8783464436714682, 0.8749814931147751, 0.8710761804454179, 0.866655357199, 0.8617416871202752, 0.8563559463980952, 0.8505172758140687, 0.8442433939178798, 0.837550778383306, 0.8304548212092773, 0.8229699622867236, 0.8151098049663433, 0.8068872165709509, 0.7983144162520387, 0.7894030521590817, 0.7801642695462341, 0.7706087711649872, 0.7607468710684812, 0.7505885427721931, 0.7401434625680932, 0.7294210486683386, 0.718430496754972, 0.7071808124298024, 0.6956808409904632, 0.6839392949019895, 0.6719647792861267, 0.6597658157113343, 0.6473508645337827, 0.6347283460125285, 0.6219066603996505, 0.6088942071877635, 0.5956994036824863, 0.5823307030556869, 0.5687966120263654, 0.5551057083096084, 0.5412666579700227, 0.5272882328143117, 0.5131793279581938, 0.49894897970571617, 0.48460638388429106, 0.4701609147866775, 0.4556221448819234, 0.4409998654713351, 0.42630410848337985, 0.41154516962368815, 0.3967336331238374, 0.38188039836650345, 0.36699670870618345, 0.35209418285591026, 0.33718484927345743, 0.3222811840586027, 0.3073961529700324, 0.292543258291784, 0.2777365914318515, 0.26299089232930295, 0.24832161699413488, 0.23374501482421656, 0.21927821776144243, 0.20493934390065432, 0.19074761890191755, 0.17672351955552743, 0.16288894522336186, 0.14926742480327948, 0.13588436960545072, 0.1227673865230927, 0.10994667183622837, 0.09745551511413827, 0.0853309571100298, 0.07361466918708388, 0.06235416224844602, 0.051604505881757815, 0.04143087762535732, 0.031912550026669186, 0.023149580474969046, 0.015275187483492996, 0.008482270353401954, 0.003096790250664425]}],\n",
       "                        {\"template\": {\"data\": {\"bar\": [{\"error_x\": {\"color\": \"#2a3f5f\"}, \"error_y\": {\"color\": \"#2a3f5f\"}, \"marker\": {\"line\": {\"color\": \"#E5ECF6\", \"width\": 0.5}}, \"type\": \"bar\"}], \"barpolar\": [{\"marker\": {\"line\": {\"color\": \"#E5ECF6\", \"width\": 0.5}}, \"type\": \"barpolar\"}], \"carpet\": [{\"aaxis\": {\"endlinecolor\": \"#2a3f5f\", \"gridcolor\": \"white\", \"linecolor\": \"white\", \"minorgridcolor\": \"white\", \"startlinecolor\": \"#2a3f5f\"}, \"baxis\": {\"endlinecolor\": \"#2a3f5f\", \"gridcolor\": \"white\", \"linecolor\": \"white\", \"minorgridcolor\": \"white\", \"startlinecolor\": \"#2a3f5f\"}, \"type\": \"carpet\"}], \"choropleth\": [{\"colorbar\": {\"outlinewidth\": 0, \"ticks\": \"\"}, \"type\": \"choropleth\"}], \"contour\": [{\"colorbar\": {\"outlinewidth\": 0, \"ticks\": \"\"}, \"colorscale\": [[0.0, \"#0d0887\"], [0.1111111111111111, \"#46039f\"], [0.2222222222222222, \"#7201a8\"], [0.3333333333333333, \"#9c179e\"], [0.4444444444444444, \"#bd3786\"], [0.5555555555555556, \"#d8576b\"], [0.6666666666666666, \"#ed7953\"], [0.7777777777777778, \"#fb9f3a\"], [0.8888888888888888, \"#fdca26\"], [1.0, \"#f0f921\"]], \"type\": \"contour\"}], \"contourcarpet\": [{\"colorbar\": {\"outlinewidth\": 0, \"ticks\": \"\"}, \"type\": \"contourcarpet\"}], \"heatmap\": [{\"colorbar\": {\"outlinewidth\": 0, \"ticks\": \"\"}, \"colorscale\": [[0.0, \"#0d0887\"], [0.1111111111111111, \"#46039f\"], [0.2222222222222222, \"#7201a8\"], [0.3333333333333333, \"#9c179e\"], [0.4444444444444444, \"#bd3786\"], [0.5555555555555556, \"#d8576b\"], [0.6666666666666666, \"#ed7953\"], [0.7777777777777778, \"#fb9f3a\"], [0.8888888888888888, \"#fdca26\"], [1.0, \"#f0f921\"]], \"type\": \"heatmap\"}], \"heatmapgl\": [{\"colorbar\": {\"outlinewidth\": 0, \"ticks\": \"\"}, \"colorscale\": [[0.0, \"#0d0887\"], [0.1111111111111111, \"#46039f\"], [0.2222222222222222, \"#7201a8\"], [0.3333333333333333, \"#9c179e\"], [0.4444444444444444, \"#bd3786\"], [0.5555555555555556, \"#d8576b\"], [0.6666666666666666, \"#ed7953\"], [0.7777777777777778, \"#fb9f3a\"], [0.8888888888888888, \"#fdca26\"], [1.0, \"#f0f921\"]], \"type\": \"heatmapgl\"}], \"histogram\": [{\"marker\": {\"colorbar\": {\"outlinewidth\": 0, \"ticks\": \"\"}}, \"type\": \"histogram\"}], \"histogram2d\": [{\"colorbar\": {\"outlinewidth\": 0, \"ticks\": \"\"}, \"colorscale\": [[0.0, \"#0d0887\"], [0.1111111111111111, \"#46039f\"], [0.2222222222222222, \"#7201a8\"], [0.3333333333333333, \"#9c179e\"], [0.4444444444444444, \"#bd3786\"], [0.5555555555555556, \"#d8576b\"], [0.6666666666666666, \"#ed7953\"], [0.7777777777777778, \"#fb9f3a\"], [0.8888888888888888, \"#fdca26\"], [1.0, \"#f0f921\"]], \"type\": \"histogram2d\"}], \"histogram2dcontour\": [{\"colorbar\": {\"outlinewidth\": 0, \"ticks\": \"\"}, \"colorscale\": [[0.0, \"#0d0887\"], [0.1111111111111111, \"#46039f\"], [0.2222222222222222, \"#7201a8\"], [0.3333333333333333, \"#9c179e\"], [0.4444444444444444, \"#bd3786\"], [0.5555555555555556, \"#d8576b\"], [0.6666666666666666, \"#ed7953\"], [0.7777777777777778, \"#fb9f3a\"], [0.8888888888888888, \"#fdca26\"], [1.0, \"#f0f921\"]], \"type\": \"histogram2dcontour\"}], \"mesh3d\": [{\"colorbar\": {\"outlinewidth\": 0, \"ticks\": \"\"}, \"type\": \"mesh3d\"}], \"parcoords\": [{\"line\": {\"colorbar\": {\"outlinewidth\": 0, \"ticks\": \"\"}}, \"type\": \"parcoords\"}], \"pie\": [{\"automargin\": true, \"type\": \"pie\"}], \"scatter\": [{\"marker\": {\"colorbar\": {\"outlinewidth\": 0, \"ticks\": \"\"}}, \"type\": \"scatter\"}], \"scatter3d\": [{\"line\": {\"colorbar\": {\"outlinewidth\": 0, \"ticks\": \"\"}}, \"marker\": {\"colorbar\": {\"outlinewidth\": 0, \"ticks\": \"\"}}, \"type\": \"scatter3d\"}], \"scattercarpet\": [{\"marker\": {\"colorbar\": {\"outlinewidth\": 0, \"ticks\": \"\"}}, \"type\": \"scattercarpet\"}], \"scattergeo\": [{\"marker\": {\"colorbar\": {\"outlinewidth\": 0, \"ticks\": \"\"}}, \"type\": \"scattergeo\"}], \"scattergl\": [{\"marker\": {\"colorbar\": {\"outlinewidth\": 0, \"ticks\": \"\"}}, \"type\": \"scattergl\"}], \"scattermapbox\": [{\"marker\": {\"colorbar\": {\"outlinewidth\": 0, \"ticks\": \"\"}}, \"type\": \"scattermapbox\"}], \"scatterpolar\": [{\"marker\": {\"colorbar\": {\"outlinewidth\": 0, \"ticks\": \"\"}}, \"type\": \"scatterpolar\"}], \"scatterpolargl\": [{\"marker\": {\"colorbar\": {\"outlinewidth\": 0, \"ticks\": \"\"}}, \"type\": \"scatterpolargl\"}], \"scatterternary\": [{\"marker\": {\"colorbar\": {\"outlinewidth\": 0, \"ticks\": \"\"}}, \"type\": \"scatterternary\"}], \"surface\": [{\"colorbar\": {\"outlinewidth\": 0, \"ticks\": \"\"}, \"colorscale\": [[0.0, \"#0d0887\"], [0.1111111111111111, \"#46039f\"], [0.2222222222222222, \"#7201a8\"], [0.3333333333333333, \"#9c179e\"], [0.4444444444444444, \"#bd3786\"], [0.5555555555555556, \"#d8576b\"], [0.6666666666666666, \"#ed7953\"], [0.7777777777777778, \"#fb9f3a\"], [0.8888888888888888, \"#fdca26\"], [1.0, \"#f0f921\"]], \"type\": \"surface\"}], \"table\": [{\"cells\": {\"fill\": {\"color\": \"#EBF0F8\"}, \"line\": {\"color\": \"white\"}}, \"header\": {\"fill\": {\"color\": \"#C8D4E3\"}, \"line\": {\"color\": \"white\"}}, \"type\": \"table\"}]}, \"layout\": {\"annotationdefaults\": {\"arrowcolor\": \"#2a3f5f\", \"arrowhead\": 0, \"arrowwidth\": 1}, \"coloraxis\": {\"colorbar\": {\"outlinewidth\": 0, \"ticks\": \"\"}}, \"colorscale\": {\"diverging\": [[0, \"#8e0152\"], [0.1, \"#c51b7d\"], [0.2, \"#de77ae\"], [0.3, \"#f1b6da\"], [0.4, \"#fde0ef\"], [0.5, \"#f7f7f7\"], [0.6, \"#e6f5d0\"], [0.7, \"#b8e186\"], [0.8, \"#7fbc41\"], [0.9, \"#4d9221\"], [1, \"#276419\"]], \"sequential\": [[0.0, \"#0d0887\"], [0.1111111111111111, \"#46039f\"], [0.2222222222222222, \"#7201a8\"], [0.3333333333333333, \"#9c179e\"], [0.4444444444444444, \"#bd3786\"], [0.5555555555555556, \"#d8576b\"], [0.6666666666666666, \"#ed7953\"], [0.7777777777777778, \"#fb9f3a\"], [0.8888888888888888, \"#fdca26\"], [1.0, \"#f0f921\"]], \"sequentialminus\": [[0.0, \"#0d0887\"], [0.1111111111111111, \"#46039f\"], [0.2222222222222222, \"#7201a8\"], [0.3333333333333333, \"#9c179e\"], [0.4444444444444444, \"#bd3786\"], [0.5555555555555556, \"#d8576b\"], [0.6666666666666666, \"#ed7953\"], [0.7777777777777778, \"#fb9f3a\"], [0.8888888888888888, \"#fdca26\"], [1.0, \"#f0f921\"]]}, \"colorway\": [\"#636efa\", \"#EF553B\", \"#00cc96\", \"#ab63fa\", \"#FFA15A\", \"#19d3f3\", \"#FF6692\", \"#B6E880\", \"#FF97FF\", \"#FECB52\"], \"font\": {\"color\": \"#2a3f5f\"}, \"geo\": {\"bgcolor\": \"white\", \"lakecolor\": \"white\", \"landcolor\": \"#E5ECF6\", \"showlakes\": true, \"showland\": true, \"subunitcolor\": \"white\"}, \"hoverlabel\": {\"align\": \"left\"}, \"hovermode\": \"closest\", \"mapbox\": {\"style\": \"light\"}, \"paper_bgcolor\": \"white\", \"plot_bgcolor\": \"#E5ECF6\", \"polar\": {\"angularaxis\": {\"gridcolor\": \"white\", \"linecolor\": \"white\", \"ticks\": \"\"}, \"bgcolor\": \"#E5ECF6\", \"radialaxis\": {\"gridcolor\": \"white\", \"linecolor\": \"white\", \"ticks\": \"\"}}, \"scene\": {\"xaxis\": {\"backgroundcolor\": \"#E5ECF6\", \"gridcolor\": \"white\", \"gridwidth\": 2, \"linecolor\": \"white\", \"showbackground\": true, \"ticks\": \"\", \"zerolinecolor\": \"white\"}, \"yaxis\": {\"backgroundcolor\": \"#E5ECF6\", \"gridcolor\": \"white\", \"gridwidth\": 2, \"linecolor\": \"white\", \"showbackground\": true, \"ticks\": \"\", \"zerolinecolor\": \"white\"}, \"zaxis\": {\"backgroundcolor\": \"#E5ECF6\", \"gridcolor\": \"white\", \"gridwidth\": 2, \"linecolor\": \"white\", \"showbackground\": true, \"ticks\": \"\", \"zerolinecolor\": \"white\"}}, \"shapedefaults\": {\"line\": {\"color\": \"#2a3f5f\"}}, \"ternary\": {\"aaxis\": {\"gridcolor\": \"white\", \"linecolor\": \"white\", \"ticks\": \"\"}, \"baxis\": {\"gridcolor\": \"white\", \"linecolor\": \"white\", \"ticks\": \"\"}, \"bgcolor\": \"#E5ECF6\", \"caxis\": {\"gridcolor\": \"white\", \"linecolor\": \"white\", \"ticks\": \"\"}}, \"title\": {\"x\": 0.05}, \"xaxis\": {\"automargin\": true, \"gridcolor\": \"white\", \"linecolor\": \"white\", \"ticks\": \"\", \"title\": {\"standoff\": 15}, \"zerolinecolor\": \"white\", \"zerolinewidth\": 2}, \"yaxis\": {\"automargin\": true, \"gridcolor\": \"white\", \"linecolor\": \"white\", \"ticks\": \"\", \"title\": {\"standoff\": 15}, \"zerolinecolor\": \"white\", \"zerolinewidth\": 2}}}, \"title\": {\"pad\": {\"l\": 350}, \"text\": \"PDF-Up Absolute Plot\", \"xanchor\": \"left\", \"yanchor\": \"top\"}},\n",
       "                        {\"responsive\": true}\n",
       "                    ).then(function(){\n",
       "                            \n",
       "var gd = document.getElementById('be7d255f-613f-4431-8ef5-2f1caaddc95f');\n",
       "var x = new MutationObserver(function (mutations, observer) {{\n",
       "        var display = window.getComputedStyle(gd).display;\n",
       "        if (!display || display === 'none') {{\n",
       "            console.log([gd, 'removed!']);\n",
       "            Plotly.purge(gd);\n",
       "            observer.disconnect();\n",
       "        }}\n",
       "}});\n",
       "\n",
       "// Listen for the removal of the full notebook cells\n",
       "var notebookContainer = gd.closest('#notebook-container');\n",
       "if (notebookContainer) {{\n",
       "    x.observe(notebookContainer, {childList: true});\n",
       "}}\n",
       "\n",
       "// Listen for the clearing of the current output cell\n",
       "var outputEl = gd.closest('.output');\n",
       "if (outputEl) {{\n",
       "    x.observe(outputEl, {childList: true});\n",
       "}}\n",
       "\n",
       "                        })\n",
       "                };\n",
       "                });\n",
       "            </script>\n",
       "        </div>"
      ]
     },
     "metadata": {},
     "output_type": "display_data"
    }
   ],
   "source": [
    "#--- generate PDF PLots ---- PDF UP\n",
    "x = np.linspace(0.01,0.99,100)\n",
    "Q2=4.0\n",
    "\n",
    "set_params(truebar)\n",
    "u = get_pdf(x,Q2,'u')\n",
    "d = get_pdf(x,Q2,'d')\n",
    "\n",
    "#--- yPred\n",
    "yPred = pdf_dict['u'].mean(axis = 0)\n",
    "\n",
    "#--- bounds\n",
    "upperBound = pdf_dict['u'].mean(axis=0) + pdf_dict['u'].std(axis=0)\n",
    "lowerbound = pdf_dict['u'].mean(axis=0) - pdf_dict['u'].std(axis=0)\n",
    "\n",
    "\n",
    "pdfUpPlot = generatePDFplots(x,u,upperBound,yPred,lowerbound,'PDF-Up Absolute Plot')\n",
    "pdfUpPlot.show()"
   ]
  },
  {
   "cell_type": "code",
   "execution_count": 115,
   "metadata": {},
   "outputs": [
    {
     "data": {
      "application/vnd.plotly.v1+json": {
       "config": {
        "plotlyServerURL": "https://plot.ly"
       },
       "data": [
        {
         "line": {
          "width": 0
         },
         "marker": {
          "color": "#444"
         },
         "mode": "lines",
         "name": "Pred Value Lower",
         "showlegend": false,
         "type": "scatter",
         "x": [
          0.01,
          0.0198989898989899,
          0.029797979797979796,
          0.039696969696969696,
          0.049595959595959596,
          0.059494949494949496,
          0.06939393939393938,
          0.07929292929292929,
          0.08919191919191918,
          0.09909090909090908,
          0.10898989898989898,
          0.11888888888888888,
          0.12878787878787878,
          0.1386868686868687,
          0.1485858585858586,
          0.15848484848484848,
          0.16838383838383839,
          0.1782828282828283,
          0.18818181818181817,
          0.19808080808080808,
          0.207979797979798,
          0.21787878787878787,
          0.22777777777777777,
          0.23767676767676768,
          0.24757575757575756,
          0.25747474747474747,
          0.2673737373737374,
          0.2772727272727273,
          0.2871717171717172,
          0.29707070707070704,
          0.30696969696969695,
          0.31686868686868686,
          0.32676767676767676,
          0.33666666666666667,
          0.3465656565656566,
          0.3564646464646465,
          0.36636363636363634,
          0.37626262626262624,
          0.38616161616161615,
          0.39606060606060606,
          0.40595959595959596,
          0.41585858585858587,
          0.4257575757575757,
          0.43565656565656563,
          0.44555555555555554,
          0.45545454545454545,
          0.46535353535353535,
          0.47525252525252526,
          0.4851515151515151,
          0.495050505050505,
          0.5049494949494949,
          0.5148484848484849,
          0.5247474747474747,
          0.5346464646464646,
          0.5445454545454546,
          0.5544444444444444,
          0.5643434343434344,
          0.5742424242424242,
          0.5841414141414141,
          0.594040404040404,
          0.6039393939393939,
          0.6138383838383838,
          0.6237373737373737,
          0.6336363636363637,
          0.6435353535353535,
          0.6534343434343434,
          0.6633333333333333,
          0.6732323232323232,
          0.6831313131313131,
          0.693030303030303,
          0.702929292929293,
          0.7128282828282828,
          0.7227272727272727,
          0.7326262626262626,
          0.7425252525252525,
          0.7524242424242424,
          0.7623232323232323,
          0.7722222222222221,
          0.7821212121212121,
          0.792020202020202,
          0.8019191919191919,
          0.8118181818181818,
          0.8217171717171717,
          0.8316161616161616,
          0.8415151515151514,
          0.8514141414141414,
          0.8613131313131313,
          0.8712121212121212,
          0.8811111111111111,
          0.891010101010101,
          0.9009090909090909,
          0.9108080808080807,
          0.9207070707070707,
          0.9306060606060605,
          0.9405050505050505,
          0.9504040404040404,
          0.9603030303030302,
          0.9702020202020202,
          0.98010101010101,
          0.99
         ],
         "y": [
          0.09468125362408918,
          0.13141805896419878,
          0.15818394011649636,
          0.17957872854571927,
          0.19741969018502922,
          0.21265427572480627,
          0.2258539432946704,
          0.2373965158489759,
          0.24754821853419287,
          0.25650566219844034,
          0.2644193955393499,
          0.271408063419702,
          0.27756739130856084,
          0.2829761404589909,
          0.28770019941787467,
          0.2917954809739533,
          0.29531002651332156,
          0.2982855687371948,
          0.30075871467097565,
          0.30276185648319726,
          0.30432388331838606,
          0.3054707451020429,
          0.30622590449758463,
          0.30661070316139905,
          0.30664466149511327,
          0.30634572619860817,
          0.30573047642163925,
          0.30481429676451155,
          0.3036115235023045,
          0.30213556900850475,
          0.3003990282992383,
          0.29841377081554954,
          0.2961910199427245,
          0.29374142228523537,
          0.29107510833962374,
          0.28820174591036507,
          0.28513058737719227,
          0.28187051173246985,
          0.2784300621538174,
          0.2748174797521736,
          0.27104073403290974,
          0.26710755052264856,
          0.2630254359435975,
          0.25880170125746416,
          0.2544434828502567,
          0.24995776208569362,
          0.24535138341717144,
          0.24063107121524635,
          0.23580344543859352,
          0.23087503625077302,
          0.22585229766256157,
          0.22074162025980298,
          0.21554934305962042,
          0.21028176452338998,
          0.20494515274324812,
          0.19954575481011658,
          0.19408980536553208,
          0.18858353433701286,
          0.18303317385737,
          0.177444964372296,
          0.17182515994757813,
          0.16618003279717214,
          0.16051587706577283,
          0.1548390119139494,
          0.1491557839697708,
          0.14347256922759008,
          0.13779577449156727,
          0.13213183847809243,
          0.12648723270702672,
          0.12086846232632985,
          0.11528206702811168,
          0.10973462222661227,
          0.10423274068054364,
          0.09878307475440101,
          0.09339231952688323,
          0.0880672169709368,
          0.08281456145108942,
          0.07764120681206563,
          0.0725540753713428,
          0.06756016918134415,
          0.06266658399978522,
          0.057880526506671734,
          0.05320933544398255,
          0.048660507544037536,
          0.04424172937699021,
          0.03996091662002255,
          0.03582626278211049,
          0.03184630019040636,
          0.02802997719087462,
          0.024386757261982247,
          0.020926748479559405,
          0.017660876220427862,
          0.014601119523261433,
          0.011760844914700704,
          0.009155296787514488,
          0.006802354856534684,
          0.004723784515211675,
          0.002947500427681495,
          0.001512273366647734,
          0.0004801648022923356
         ]
        },
        {
         "fill": "tonexty",
         "fillcolor": "rgba(248, 148, 6, 0.4)",
         "line": {
          "color": "rgba(217, 30, 24, 1)"
         },
         "mode": "lines",
         "name": "Pred Value",
         "showlegend": true,
         "type": "scatter",
         "x": [
          0.01,
          0.0198989898989899,
          0.029797979797979796,
          0.039696969696969696,
          0.049595959595959596,
          0.059494949494949496,
          0.06939393939393938,
          0.07929292929292929,
          0.08919191919191918,
          0.09909090909090908,
          0.10898989898989898,
          0.11888888888888888,
          0.12878787878787878,
          0.1386868686868687,
          0.1485858585858586,
          0.15848484848484848,
          0.16838383838383839,
          0.1782828282828283,
          0.18818181818181817,
          0.19808080808080808,
          0.207979797979798,
          0.21787878787878787,
          0.22777777777777777,
          0.23767676767676768,
          0.24757575757575756,
          0.25747474747474747,
          0.2673737373737374,
          0.2772727272727273,
          0.2871717171717172,
          0.29707070707070704,
          0.30696969696969695,
          0.31686868686868686,
          0.32676767676767676,
          0.33666666666666667,
          0.3465656565656566,
          0.3564646464646465,
          0.36636363636363634,
          0.37626262626262624,
          0.38616161616161615,
          0.39606060606060606,
          0.40595959595959596,
          0.41585858585858587,
          0.4257575757575757,
          0.43565656565656563,
          0.44555555555555554,
          0.45545454545454545,
          0.46535353535353535,
          0.47525252525252526,
          0.4851515151515151,
          0.495050505050505,
          0.5049494949494949,
          0.5148484848484849,
          0.5247474747474747,
          0.5346464646464646,
          0.5445454545454546,
          0.5544444444444444,
          0.5643434343434344,
          0.5742424242424242,
          0.5841414141414141,
          0.594040404040404,
          0.6039393939393939,
          0.6138383838383838,
          0.6237373737373737,
          0.6336363636363637,
          0.6435353535353535,
          0.6534343434343434,
          0.6633333333333333,
          0.6732323232323232,
          0.6831313131313131,
          0.693030303030303,
          0.702929292929293,
          0.7128282828282828,
          0.7227272727272727,
          0.7326262626262626,
          0.7425252525252525,
          0.7524242424242424,
          0.7623232323232323,
          0.7722222222222221,
          0.7821212121212121,
          0.792020202020202,
          0.8019191919191919,
          0.8118181818181818,
          0.8217171717171717,
          0.8316161616161616,
          0.8415151515151514,
          0.8514141414141414,
          0.8613131313131313,
          0.8712121212121212,
          0.8811111111111111,
          0.891010101010101,
          0.9009090909090909,
          0.9108080808080807,
          0.9207070707070707,
          0.9306060606060605,
          0.9405050505050505,
          0.9504040404040404,
          0.9603030303030302,
          0.9702020202020202,
          0.98010101010101,
          0.99
         ],
         "y": [
          0.11589076870012616,
          0.15647265958739012,
          0.18556514981303587,
          0.20858917777199504,
          0.2276457901551598,
          0.24381661242541097,
          0.25774789551403743,
          0.2698637577171718,
          0.2804612747342005,
          0.2897587898622905,
          0.2979228465394254,
          0.30508429013782795,
          0.31134843565637127,
          0.316801777313711,
          0.32151657968290226,
          0.3255541162342123,
          0.3289670136548112,
          0.33180098711488304,
          0.33409614988904146,
          0.3358880187431782,
          0.33720829751150244,
          0.3380854960844643,
          0.3385454253283979,
          0.3386115971474619,
          0.33830555108593036,
          0.3376471233756997,
          0.33665467040862357,
          0.33534525576675683,
          0.33373480785142356,
          0.3318382535950735,
          0.32966963256794735,
          0.32724219490001283,
          0.3245684857537972,
          0.3216604185527106,
          0.31852933875434564,
          0.3151860796309902,
          0.3116410112598474,
          0.3079040837176611,
          0.3039848653073104,
          0.2998925765085234,
          0.29563612023461294,
          0.2912241088868038,
          0.2866648886234377,
          0.2819665611998503,
          0.27713700368366373,
          0.2721838863076617,
          0.2671146886867535,
          0.2619367145955835,
          0.2566571054781391,
          0.25128285283937474,
          0.24582080965086636,
          0.24027770088723915,
          0.23466013329718988,
          0.22897460450196722,
          0.22322751150497266,
          0.21742515868836607,
          0.21157376536613048,
          0.20567947295775293,
          0.19974835184241174,
          0.19378640795027532,
          0.18779958914510841,
          0.18179379145084035,
          0.1757748651740685,
          0.16974862097466203,
          0.16372083593770223,
          0.15769725970209617,
          0.15168362070434468,
          0.14568563260034725,
          0.13970900093395217,
          0.13375943012847594,
          0.12784263088696654,
          0.12196432809901633,
          0.11613026936702135,
          0.11034623428370963,
          0.10461804461652478,
          0.09895157558439921,
          0.09335276845040352,
          0.08782764470211483,
          0.0823823221536871,
          0.07702303338411805,
          0.0717561470315603,
          0.06658819260289502,
          0.06152588964445136,
          0.05657618237310516,
          0.051746281216095584,
          0.047043713197015,
          0.04247638380359573,
          0.038052653990560736,
          0.03378143748957667,
          0.02967232592683082,
          0.025735752930713843,
          0.02198321444703407,
          0.018427572797550393,
          0.015083490572881351,
          0.011968075935477565,
          0.009101894190277002,
          0.006510667623128199,
          0.004228421729500197,
          0.0023042207071304684,
          0.0008207455804852673
         ]
        },
        {
         "fill": "tonexty",
         "fillcolor": "rgba(248, 148, 6, 0.4)",
         "line": {
          "color": "rgba(255,255,255,0)",
          "width": 0
         },
         "marker": {
          "color": "#444"
         },
         "mode": "lines",
         "name": "Pred Value Upper",
         "showlegend": false,
         "type": "scatter",
         "x": [
          0.01,
          0.0198989898989899,
          0.029797979797979796,
          0.039696969696969696,
          0.049595959595959596,
          0.059494949494949496,
          0.06939393939393938,
          0.07929292929292929,
          0.08919191919191918,
          0.09909090909090908,
          0.10898989898989898,
          0.11888888888888888,
          0.12878787878787878,
          0.1386868686868687,
          0.1485858585858586,
          0.15848484848484848,
          0.16838383838383839,
          0.1782828282828283,
          0.18818181818181817,
          0.19808080808080808,
          0.207979797979798,
          0.21787878787878787,
          0.22777777777777777,
          0.23767676767676768,
          0.24757575757575756,
          0.25747474747474747,
          0.2673737373737374,
          0.2772727272727273,
          0.2871717171717172,
          0.29707070707070704,
          0.30696969696969695,
          0.31686868686868686,
          0.32676767676767676,
          0.33666666666666667,
          0.3465656565656566,
          0.3564646464646465,
          0.36636363636363634,
          0.37626262626262624,
          0.38616161616161615,
          0.39606060606060606,
          0.40595959595959596,
          0.41585858585858587,
          0.4257575757575757,
          0.43565656565656563,
          0.44555555555555554,
          0.45545454545454545,
          0.46535353535353535,
          0.47525252525252526,
          0.4851515151515151,
          0.495050505050505,
          0.5049494949494949,
          0.5148484848484849,
          0.5247474747474747,
          0.5346464646464646,
          0.5445454545454546,
          0.5544444444444444,
          0.5643434343434344,
          0.5742424242424242,
          0.5841414141414141,
          0.594040404040404,
          0.6039393939393939,
          0.6138383838383838,
          0.6237373737373737,
          0.6336363636363637,
          0.6435353535353535,
          0.6534343434343434,
          0.6633333333333333,
          0.6732323232323232,
          0.6831313131313131,
          0.693030303030303,
          0.702929292929293,
          0.7128282828282828,
          0.7227272727272727,
          0.7326262626262626,
          0.7425252525252525,
          0.7524242424242424,
          0.7623232323232323,
          0.7722222222222221,
          0.7821212121212121,
          0.792020202020202,
          0.8019191919191919,
          0.8118181818181818,
          0.8217171717171717,
          0.8316161616161616,
          0.8415151515151514,
          0.8514141414141414,
          0.8613131313131313,
          0.8712121212121212,
          0.8811111111111111,
          0.891010101010101,
          0.9009090909090909,
          0.9108080808080807,
          0.9207070707070707,
          0.9306060606060605,
          0.9405050505050505,
          0.9504040404040404,
          0.9603030303030302,
          0.9702020202020202,
          0.98010101010101,
          0.99
         ],
         "y": [
          0.13710028377616315,
          0.18152726021058146,
          0.21294635950957538,
          0.2375996269982708,
          0.2578718901252904,
          0.27497894912601567,
          0.28964184773340446,
          0.30233099958536774,
          0.3133743309342082,
          0.3230119175261406,
          0.3314262975395009,
          0.33876051685595393,
          0.3451294800041817,
          0.35062741416843113,
          0.35533295994792985,
          0.35931275149447134,
          0.3626240007963008,
          0.3653164054925713,
          0.3674335851071073,
          0.36901418100315914,
          0.3700927117046188,
          0.3707002470668857,
          0.3708649461592111,
          0.3706124911335248,
          0.36996644067674744,
          0.3689485205527912,
          0.3675788643956079,
          0.3658762147690021,
          0.3638580922005426,
          0.3615409381816423,
          0.3589402368366564,
          0.3560706189844761,
          0.3529459515648699,
          0.34957941482018584,
          0.34598356916906753,
          0.34217041335161535,
          0.3381514351425025,
          0.33393765570285233,
          0.3295396684608034,
          0.32496767326487325,
          0.32023150643631615,
          0.315340667250959,
          0.3103043413032779,
          0.30513142114223646,
          0.29983052451707076,
          0.29441001052962984,
          0.2888779939563355,
          0.2832423579759206,
          0.2775107655176846,
          0.27169066942797643,
          0.2657893216391711,
          0.2598137815146753,
          0.25377092353475933,
          0.24766744448054445,
          0.2415098702666972,
          0.23530456256661555,
          0.2290577253667289,
          0.222775411578493,
          0.21646352982745348,
          0.21012785152825464,
          0.2037740183426387,
          0.19740755010450856,
          0.1910338532823642,
          0.18465823003537468,
          0.17828588790563366,
          0.17192195017660225,
          0.1655714669171221,
          0.15923942672260208,
          0.1529307691608776,
          0.14665039793062204,
          0.1404031947458214,
          0.13419403397142038,
          0.12802779805349906,
          0.12190939381301824,
          0.11584376970616633,
          0.10983593419786161,
          0.10389097544971762,
          0.09801408259216404,
          0.0922105689360314,
          0.08648589758689194,
          0.08084571006333538,
          0.0752958586991183,
          0.06984244384492017,
          0.06449185720217279,
          0.05925083305520096,
          0.05412650977400745,
          0.04912650482508097,
          0.044259007790715114,
          0.03953289778827872,
          0.03495789459167939,
          0.030544757381868282,
          0.02630555267364028,
          0.022254026071839354,
          0.018406136231062,
          0.014780855083440642,
          0.01140143352401932,
          0.008297550731044722,
          0.005509343031318899,
          0.0030961680476132027,
          0.001161326358678199
         ]
        },
        {
         "line": {
          "color": "rgba(83, 51, 237, 1)"
         },
         "name": "True Value",
         "showlegend": true,
         "type": "scattergl",
         "x": [
          0.01,
          0.0198989898989899,
          0.029797979797979796,
          0.039696969696969696,
          0.049595959595959596,
          0.059494949494949496,
          0.06939393939393938,
          0.07929292929292929,
          0.08919191919191918,
          0.09909090909090908,
          0.10898989898989898,
          0.11888888888888888,
          0.12878787878787878,
          0.1386868686868687,
          0.1485858585858586,
          0.15848484848484848,
          0.16838383838383839,
          0.1782828282828283,
          0.18818181818181817,
          0.19808080808080808,
          0.207979797979798,
          0.21787878787878787,
          0.22777777777777777,
          0.23767676767676768,
          0.24757575757575756,
          0.25747474747474747,
          0.2673737373737374,
          0.2772727272727273,
          0.2871717171717172,
          0.29707070707070704,
          0.30696969696969695,
          0.31686868686868686,
          0.32676767676767676,
          0.33666666666666667,
          0.3465656565656566,
          0.3564646464646465,
          0.36636363636363634,
          0.37626262626262624,
          0.38616161616161615,
          0.39606060606060606,
          0.40595959595959596,
          0.41585858585858587,
          0.4257575757575757,
          0.43565656565656563,
          0.44555555555555554,
          0.45545454545454545,
          0.46535353535353535,
          0.47525252525252526,
          0.4851515151515151,
          0.495050505050505,
          0.5049494949494949,
          0.5148484848484849,
          0.5247474747474747,
          0.5346464646464646,
          0.5445454545454546,
          0.5544444444444444,
          0.5643434343434344,
          0.5742424242424242,
          0.5841414141414141,
          0.594040404040404,
          0.6039393939393939,
          0.6138383838383838,
          0.6237373737373737,
          0.6336363636363637,
          0.6435353535353535,
          0.6534343434343434,
          0.6633333333333333,
          0.6732323232323232,
          0.6831313131313131,
          0.693030303030303,
          0.702929292929293,
          0.7128282828282828,
          0.7227272727272727,
          0.7326262626262626,
          0.7425252525252525,
          0.7524242424242424,
          0.7623232323232323,
          0.7722222222222221,
          0.7821212121212121,
          0.792020202020202,
          0.8019191919191919,
          0.8118181818181818,
          0.8217171717171717,
          0.8316161616161616,
          0.8415151515151514,
          0.8514141414141414,
          0.8613131313131313,
          0.8712121212121212,
          0.8811111111111111,
          0.891010101010101,
          0.9009090909090909,
          0.9108080808080807,
          0.9207070707070707,
          0.9306060606060605,
          0.9405050505050505,
          0.9504040404040404,
          0.9603030303030302,
          0.9702020202020202,
          0.98010101010101,
          0.99
         ],
         "y": [
          0.014759019638463437,
          0.025264566294281993,
          0.03433019766241383,
          0.04241070891907813,
          0.04971357730550152,
          0.05635901416277545,
          0.06242628612324882,
          0.06797222711775261,
          0.07304009619389369,
          0.07766434624035666,
          0.08187341599544468,
          0.08569147086951741,
          0.08913954274117984,
          0.09223630590825123,
          0.09499862234912201,
          0.09744193501764821,
          0.09958055775992969,
          0.1014278929533815,
          0.10299659740572112,
          0.10429871044816143,
          0.10534575390356957,
          0.106148810797435,
          0.1067185877754409,
          0.10706546487553562,
          0.10719953537586305,
          0.10713063777644209,
          0.10686838149009213,
          0.10642216746243455,
          0.10580120467521718,
          0.1050145232865509,
          0.10407098500840264,
          0.10297929120347808,
          0.10174798909159896,
          0.1003854763834057,
          0.09890000460201406,
          0.0972996813076239,
          0.09559247140343674,
          0.09378619767160935,
          0.09188854066387375,
          0.08990703805172749,
          0.08784908352487644,
          0.08572192531318651,
          0.08353266439624614,
          0.08128825245532106,
          0.07899548961466533,
          0.07666102201256246,
          0.07429133923689411,
          0.07189277165529548,
          0.06947148766591157,
          0.06703349089130582,
          0.06458461733509024,
          0.062130532518274294,
          0.059676728610094376,
          0.05722852156614165,
          0.054791048284900806,
          0.05236926379231288,
          0.049967938462646154,
          0.04759165528277714,
          0.045244807165918284,
          0.042931594319868004,
          0.04065602167397715,
          0.038421896368211354,
          0.03623282530692588,
          0.03409221277924354,
          0.032003258147226786,
          0.02996895360234495,
          0.027992081990051064,
          0.026075214701578083,
          0.02422070963133504,
          0.022430709197509807,
          0.02070713842264919,
          0.019051703070071514,
          0.01746588783094284,
          0.015950954555691153,
          0.014507940522102747,
          0.013137656730900102,
          0.01184068621778385,
          0.010617382368759169,
          0.009467867222970263,
          0.008392029744110263,
          0.007389524037601131,
          0.006459767485933117,
          0.005601938768524538,
          0.00481497572481128,
          0.004097573009438072,
          0.0034481794756049417,
          0.0028649952056620945,
          0.0023459680852311927,
          0.00188878978585813,
          0.0014908909774174481,
          0.0011494355286812792,
          0.0008613133618031389,
          0.0006231314851793659,
          0.0004312025050964764,
          0.000281529543930703,
          0.00016978583510554783,
          9.128601328296062e-05,
          4.0943481324080335e-05,
          1.3201817550104141e-05,
          1.9085225786970124e-06
         ]
        }
       ],
       "layout": {
        "template": {
         "data": {
          "bar": [
           {
            "error_x": {
             "color": "#2a3f5f"
            },
            "error_y": {
             "color": "#2a3f5f"
            },
            "marker": {
             "line": {
              "color": "#E5ECF6",
              "width": 0.5
             }
            },
            "type": "bar"
           }
          ],
          "barpolar": [
           {
            "marker": {
             "line": {
              "color": "#E5ECF6",
              "width": 0.5
             }
            },
            "type": "barpolar"
           }
          ],
          "carpet": [
           {
            "aaxis": {
             "endlinecolor": "#2a3f5f",
             "gridcolor": "white",
             "linecolor": "white",
             "minorgridcolor": "white",
             "startlinecolor": "#2a3f5f"
            },
            "baxis": {
             "endlinecolor": "#2a3f5f",
             "gridcolor": "white",
             "linecolor": "white",
             "minorgridcolor": "white",
             "startlinecolor": "#2a3f5f"
            },
            "type": "carpet"
           }
          ],
          "choropleth": [
           {
            "colorbar": {
             "outlinewidth": 0,
             "ticks": ""
            },
            "type": "choropleth"
           }
          ],
          "contour": [
           {
            "colorbar": {
             "outlinewidth": 0,
             "ticks": ""
            },
            "colorscale": [
             [
              0,
              "#0d0887"
             ],
             [
              0.1111111111111111,
              "#46039f"
             ],
             [
              0.2222222222222222,
              "#7201a8"
             ],
             [
              0.3333333333333333,
              "#9c179e"
             ],
             [
              0.4444444444444444,
              "#bd3786"
             ],
             [
              0.5555555555555556,
              "#d8576b"
             ],
             [
              0.6666666666666666,
              "#ed7953"
             ],
             [
              0.7777777777777778,
              "#fb9f3a"
             ],
             [
              0.8888888888888888,
              "#fdca26"
             ],
             [
              1,
              "#f0f921"
             ]
            ],
            "type": "contour"
           }
          ],
          "contourcarpet": [
           {
            "colorbar": {
             "outlinewidth": 0,
             "ticks": ""
            },
            "type": "contourcarpet"
           }
          ],
          "heatmap": [
           {
            "colorbar": {
             "outlinewidth": 0,
             "ticks": ""
            },
            "colorscale": [
             [
              0,
              "#0d0887"
             ],
             [
              0.1111111111111111,
              "#46039f"
             ],
             [
              0.2222222222222222,
              "#7201a8"
             ],
             [
              0.3333333333333333,
              "#9c179e"
             ],
             [
              0.4444444444444444,
              "#bd3786"
             ],
             [
              0.5555555555555556,
              "#d8576b"
             ],
             [
              0.6666666666666666,
              "#ed7953"
             ],
             [
              0.7777777777777778,
              "#fb9f3a"
             ],
             [
              0.8888888888888888,
              "#fdca26"
             ],
             [
              1,
              "#f0f921"
             ]
            ],
            "type": "heatmap"
           }
          ],
          "heatmapgl": [
           {
            "colorbar": {
             "outlinewidth": 0,
             "ticks": ""
            },
            "colorscale": [
             [
              0,
              "#0d0887"
             ],
             [
              0.1111111111111111,
              "#46039f"
             ],
             [
              0.2222222222222222,
              "#7201a8"
             ],
             [
              0.3333333333333333,
              "#9c179e"
             ],
             [
              0.4444444444444444,
              "#bd3786"
             ],
             [
              0.5555555555555556,
              "#d8576b"
             ],
             [
              0.6666666666666666,
              "#ed7953"
             ],
             [
              0.7777777777777778,
              "#fb9f3a"
             ],
             [
              0.8888888888888888,
              "#fdca26"
             ],
             [
              1,
              "#f0f921"
             ]
            ],
            "type": "heatmapgl"
           }
          ],
          "histogram": [
           {
            "marker": {
             "colorbar": {
              "outlinewidth": 0,
              "ticks": ""
             }
            },
            "type": "histogram"
           }
          ],
          "histogram2d": [
           {
            "colorbar": {
             "outlinewidth": 0,
             "ticks": ""
            },
            "colorscale": [
             [
              0,
              "#0d0887"
             ],
             [
              0.1111111111111111,
              "#46039f"
             ],
             [
              0.2222222222222222,
              "#7201a8"
             ],
             [
              0.3333333333333333,
              "#9c179e"
             ],
             [
              0.4444444444444444,
              "#bd3786"
             ],
             [
              0.5555555555555556,
              "#d8576b"
             ],
             [
              0.6666666666666666,
              "#ed7953"
             ],
             [
              0.7777777777777778,
              "#fb9f3a"
             ],
             [
              0.8888888888888888,
              "#fdca26"
             ],
             [
              1,
              "#f0f921"
             ]
            ],
            "type": "histogram2d"
           }
          ],
          "histogram2dcontour": [
           {
            "colorbar": {
             "outlinewidth": 0,
             "ticks": ""
            },
            "colorscale": [
             [
              0,
              "#0d0887"
             ],
             [
              0.1111111111111111,
              "#46039f"
             ],
             [
              0.2222222222222222,
              "#7201a8"
             ],
             [
              0.3333333333333333,
              "#9c179e"
             ],
             [
              0.4444444444444444,
              "#bd3786"
             ],
             [
              0.5555555555555556,
              "#d8576b"
             ],
             [
              0.6666666666666666,
              "#ed7953"
             ],
             [
              0.7777777777777778,
              "#fb9f3a"
             ],
             [
              0.8888888888888888,
              "#fdca26"
             ],
             [
              1,
              "#f0f921"
             ]
            ],
            "type": "histogram2dcontour"
           }
          ],
          "mesh3d": [
           {
            "colorbar": {
             "outlinewidth": 0,
             "ticks": ""
            },
            "type": "mesh3d"
           }
          ],
          "parcoords": [
           {
            "line": {
             "colorbar": {
              "outlinewidth": 0,
              "ticks": ""
             }
            },
            "type": "parcoords"
           }
          ],
          "pie": [
           {
            "automargin": true,
            "type": "pie"
           }
          ],
          "scatter": [
           {
            "marker": {
             "colorbar": {
              "outlinewidth": 0,
              "ticks": ""
             }
            },
            "type": "scatter"
           }
          ],
          "scatter3d": [
           {
            "line": {
             "colorbar": {
              "outlinewidth": 0,
              "ticks": ""
             }
            },
            "marker": {
             "colorbar": {
              "outlinewidth": 0,
              "ticks": ""
             }
            },
            "type": "scatter3d"
           }
          ],
          "scattercarpet": [
           {
            "marker": {
             "colorbar": {
              "outlinewidth": 0,
              "ticks": ""
             }
            },
            "type": "scattercarpet"
           }
          ],
          "scattergeo": [
           {
            "marker": {
             "colorbar": {
              "outlinewidth": 0,
              "ticks": ""
             }
            },
            "type": "scattergeo"
           }
          ],
          "scattergl": [
           {
            "marker": {
             "colorbar": {
              "outlinewidth": 0,
              "ticks": ""
             }
            },
            "type": "scattergl"
           }
          ],
          "scattermapbox": [
           {
            "marker": {
             "colorbar": {
              "outlinewidth": 0,
              "ticks": ""
             }
            },
            "type": "scattermapbox"
           }
          ],
          "scatterpolar": [
           {
            "marker": {
             "colorbar": {
              "outlinewidth": 0,
              "ticks": ""
             }
            },
            "type": "scatterpolar"
           }
          ],
          "scatterpolargl": [
           {
            "marker": {
             "colorbar": {
              "outlinewidth": 0,
              "ticks": ""
             }
            },
            "type": "scatterpolargl"
           }
          ],
          "scatterternary": [
           {
            "marker": {
             "colorbar": {
              "outlinewidth": 0,
              "ticks": ""
             }
            },
            "type": "scatterternary"
           }
          ],
          "surface": [
           {
            "colorbar": {
             "outlinewidth": 0,
             "ticks": ""
            },
            "colorscale": [
             [
              0,
              "#0d0887"
             ],
             [
              0.1111111111111111,
              "#46039f"
             ],
             [
              0.2222222222222222,
              "#7201a8"
             ],
             [
              0.3333333333333333,
              "#9c179e"
             ],
             [
              0.4444444444444444,
              "#bd3786"
             ],
             [
              0.5555555555555556,
              "#d8576b"
             ],
             [
              0.6666666666666666,
              "#ed7953"
             ],
             [
              0.7777777777777778,
              "#fb9f3a"
             ],
             [
              0.8888888888888888,
              "#fdca26"
             ],
             [
              1,
              "#f0f921"
             ]
            ],
            "type": "surface"
           }
          ],
          "table": [
           {
            "cells": {
             "fill": {
              "color": "#EBF0F8"
             },
             "line": {
              "color": "white"
             }
            },
            "header": {
             "fill": {
              "color": "#C8D4E3"
             },
             "line": {
              "color": "white"
             }
            },
            "type": "table"
           }
          ]
         },
         "layout": {
          "annotationdefaults": {
           "arrowcolor": "#2a3f5f",
           "arrowhead": 0,
           "arrowwidth": 1
          },
          "coloraxis": {
           "colorbar": {
            "outlinewidth": 0,
            "ticks": ""
           }
          },
          "colorscale": {
           "diverging": [
            [
             0,
             "#8e0152"
            ],
            [
             0.1,
             "#c51b7d"
            ],
            [
             0.2,
             "#de77ae"
            ],
            [
             0.3,
             "#f1b6da"
            ],
            [
             0.4,
             "#fde0ef"
            ],
            [
             0.5,
             "#f7f7f7"
            ],
            [
             0.6,
             "#e6f5d0"
            ],
            [
             0.7,
             "#b8e186"
            ],
            [
             0.8,
             "#7fbc41"
            ],
            [
             0.9,
             "#4d9221"
            ],
            [
             1,
             "#276419"
            ]
           ],
           "sequential": [
            [
             0,
             "#0d0887"
            ],
            [
             0.1111111111111111,
             "#46039f"
            ],
            [
             0.2222222222222222,
             "#7201a8"
            ],
            [
             0.3333333333333333,
             "#9c179e"
            ],
            [
             0.4444444444444444,
             "#bd3786"
            ],
            [
             0.5555555555555556,
             "#d8576b"
            ],
            [
             0.6666666666666666,
             "#ed7953"
            ],
            [
             0.7777777777777778,
             "#fb9f3a"
            ],
            [
             0.8888888888888888,
             "#fdca26"
            ],
            [
             1,
             "#f0f921"
            ]
           ],
           "sequentialminus": [
            [
             0,
             "#0d0887"
            ],
            [
             0.1111111111111111,
             "#46039f"
            ],
            [
             0.2222222222222222,
             "#7201a8"
            ],
            [
             0.3333333333333333,
             "#9c179e"
            ],
            [
             0.4444444444444444,
             "#bd3786"
            ],
            [
             0.5555555555555556,
             "#d8576b"
            ],
            [
             0.6666666666666666,
             "#ed7953"
            ],
            [
             0.7777777777777778,
             "#fb9f3a"
            ],
            [
             0.8888888888888888,
             "#fdca26"
            ],
            [
             1,
             "#f0f921"
            ]
           ]
          },
          "colorway": [
           "#636efa",
           "#EF553B",
           "#00cc96",
           "#ab63fa",
           "#FFA15A",
           "#19d3f3",
           "#FF6692",
           "#B6E880",
           "#FF97FF",
           "#FECB52"
          ],
          "font": {
           "color": "#2a3f5f"
          },
          "geo": {
           "bgcolor": "white",
           "lakecolor": "white",
           "landcolor": "#E5ECF6",
           "showlakes": true,
           "showland": true,
           "subunitcolor": "white"
          },
          "hoverlabel": {
           "align": "left"
          },
          "hovermode": "closest",
          "mapbox": {
           "style": "light"
          },
          "paper_bgcolor": "white",
          "plot_bgcolor": "#E5ECF6",
          "polar": {
           "angularaxis": {
            "gridcolor": "white",
            "linecolor": "white",
            "ticks": ""
           },
           "bgcolor": "#E5ECF6",
           "radialaxis": {
            "gridcolor": "white",
            "linecolor": "white",
            "ticks": ""
           }
          },
          "scene": {
           "xaxis": {
            "backgroundcolor": "#E5ECF6",
            "gridcolor": "white",
            "gridwidth": 2,
            "linecolor": "white",
            "showbackground": true,
            "ticks": "",
            "zerolinecolor": "white"
           },
           "yaxis": {
            "backgroundcolor": "#E5ECF6",
            "gridcolor": "white",
            "gridwidth": 2,
            "linecolor": "white",
            "showbackground": true,
            "ticks": "",
            "zerolinecolor": "white"
           },
           "zaxis": {
            "backgroundcolor": "#E5ECF6",
            "gridcolor": "white",
            "gridwidth": 2,
            "linecolor": "white",
            "showbackground": true,
            "ticks": "",
            "zerolinecolor": "white"
           }
          },
          "shapedefaults": {
           "line": {
            "color": "#2a3f5f"
           }
          },
          "ternary": {
           "aaxis": {
            "gridcolor": "white",
            "linecolor": "white",
            "ticks": ""
           },
           "baxis": {
            "gridcolor": "white",
            "linecolor": "white",
            "ticks": ""
           },
           "bgcolor": "#E5ECF6",
           "caxis": {
            "gridcolor": "white",
            "linecolor": "white",
            "ticks": ""
           }
          },
          "title": {
           "x": 0.05
          },
          "xaxis": {
           "automargin": true,
           "gridcolor": "white",
           "linecolor": "white",
           "ticks": "",
           "title": {
            "standoff": 15
           },
           "zerolinecolor": "white",
           "zerolinewidth": 2
          },
          "yaxis": {
           "automargin": true,
           "gridcolor": "white",
           "linecolor": "white",
           "ticks": "",
           "title": {
            "standoff": 15
           },
           "zerolinecolor": "white",
           "zerolinewidth": 2
          }
         }
        },
        "title": {
         "pad": {
          "l": 350
         },
         "text": "PDF-Down Absolute Plot",
         "xanchor": "left",
         "yanchor": "top"
        }
       }
      },
      "text/html": [
       "<div>\n",
       "        \n",
       "        \n",
       "            <div id=\"505a5236-83ff-42c9-a784-62f1084e2110\" class=\"plotly-graph-div\" style=\"height:525px; width:100%;\"></div>\n",
       "            <script type=\"text/javascript\">\n",
       "                require([\"plotly\"], function(Plotly) {\n",
       "                    window.PLOTLYENV=window.PLOTLYENV || {};\n",
       "                    \n",
       "                if (document.getElementById(\"505a5236-83ff-42c9-a784-62f1084e2110\")) {\n",
       "                    Plotly.newPlot(\n",
       "                        '505a5236-83ff-42c9-a784-62f1084e2110',\n",
       "                        [{\"line\": {\"width\": 0}, \"marker\": {\"color\": \"#444\"}, \"mode\": \"lines\", \"name\": \"Pred Value Lower\", \"showlegend\": false, \"type\": \"scatter\", \"x\": [0.01, 0.0198989898989899, 0.029797979797979796, 0.039696969696969696, 0.049595959595959596, 0.059494949494949496, 0.06939393939393938, 0.07929292929292929, 0.08919191919191918, 0.09909090909090908, 0.10898989898989898, 0.11888888888888888, 0.12878787878787878, 0.1386868686868687, 0.1485858585858586, 0.15848484848484848, 0.16838383838383839, 0.1782828282828283, 0.18818181818181817, 0.19808080808080808, 0.207979797979798, 0.21787878787878787, 0.22777777777777777, 0.23767676767676768, 0.24757575757575756, 0.25747474747474747, 0.2673737373737374, 0.2772727272727273, 0.2871717171717172, 0.29707070707070704, 0.30696969696969695, 0.31686868686868686, 0.32676767676767676, 0.33666666666666667, 0.3465656565656566, 0.3564646464646465, 0.36636363636363634, 0.37626262626262624, 0.38616161616161615, 0.39606060606060606, 0.40595959595959596, 0.41585858585858587, 0.4257575757575757, 0.43565656565656563, 0.44555555555555554, 0.45545454545454545, 0.46535353535353535, 0.47525252525252526, 0.4851515151515151, 0.495050505050505, 0.5049494949494949, 0.5148484848484849, 0.5247474747474747, 0.5346464646464646, 0.5445454545454546, 0.5544444444444444, 0.5643434343434344, 0.5742424242424242, 0.5841414141414141, 0.594040404040404, 0.6039393939393939, 0.6138383838383838, 0.6237373737373737, 0.6336363636363637, 0.6435353535353535, 0.6534343434343434, 0.6633333333333333, 0.6732323232323232, 0.6831313131313131, 0.693030303030303, 0.702929292929293, 0.7128282828282828, 0.7227272727272727, 0.7326262626262626, 0.7425252525252525, 0.7524242424242424, 0.7623232323232323, 0.7722222222222221, 0.7821212121212121, 0.792020202020202, 0.8019191919191919, 0.8118181818181818, 0.8217171717171717, 0.8316161616161616, 0.8415151515151514, 0.8514141414141414, 0.8613131313131313, 0.8712121212121212, 0.8811111111111111, 0.891010101010101, 0.9009090909090909, 0.9108080808080807, 0.9207070707070707, 0.9306060606060605, 0.9405050505050505, 0.9504040404040404, 0.9603030303030302, 0.9702020202020202, 0.98010101010101, 0.99], \"y\": [0.09468125362408918, 0.13141805896419878, 0.15818394011649636, 0.17957872854571927, 0.19741969018502922, 0.21265427572480627, 0.2258539432946704, 0.2373965158489759, 0.24754821853419287, 0.25650566219844034, 0.2644193955393499, 0.271408063419702, 0.27756739130856084, 0.2829761404589909, 0.28770019941787467, 0.2917954809739533, 0.29531002651332156, 0.2982855687371948, 0.30075871467097565, 0.30276185648319726, 0.30432388331838606, 0.3054707451020429, 0.30622590449758463, 0.30661070316139905, 0.30664466149511327, 0.30634572619860817, 0.30573047642163925, 0.30481429676451155, 0.3036115235023045, 0.30213556900850475, 0.3003990282992383, 0.29841377081554954, 0.2961910199427245, 0.29374142228523537, 0.29107510833962374, 0.28820174591036507, 0.28513058737719227, 0.28187051173246985, 0.2784300621538174, 0.2748174797521736, 0.27104073403290974, 0.26710755052264856, 0.2630254359435975, 0.25880170125746416, 0.2544434828502567, 0.24995776208569362, 0.24535138341717144, 0.24063107121524635, 0.23580344543859352, 0.23087503625077302, 0.22585229766256157, 0.22074162025980298, 0.21554934305962042, 0.21028176452338998, 0.20494515274324812, 0.19954575481011658, 0.19408980536553208, 0.18858353433701286, 0.18303317385737, 0.177444964372296, 0.17182515994757813, 0.16618003279717214, 0.16051587706577283, 0.1548390119139494, 0.1491557839697708, 0.14347256922759008, 0.13779577449156727, 0.13213183847809243, 0.12648723270702672, 0.12086846232632985, 0.11528206702811168, 0.10973462222661227, 0.10423274068054364, 0.09878307475440101, 0.09339231952688323, 0.0880672169709368, 0.08281456145108942, 0.07764120681206563, 0.0725540753713428, 0.06756016918134415, 0.06266658399978522, 0.057880526506671734, 0.05320933544398255, 0.048660507544037536, 0.04424172937699021, 0.03996091662002255, 0.03582626278211049, 0.03184630019040636, 0.02802997719087462, 0.024386757261982247, 0.020926748479559405, 0.017660876220427862, 0.014601119523261433, 0.011760844914700704, 0.009155296787514488, 0.006802354856534684, 0.004723784515211675, 0.002947500427681495, 0.001512273366647734, 0.0004801648022923356]}, {\"fill\": \"tonexty\", \"fillcolor\": \"rgba(248, 148, 6, 0.4)\", \"line\": {\"color\": \"rgba(217, 30, 24, 1)\"}, \"mode\": \"lines\", \"name\": \"Pred Value\", \"showlegend\": true, \"type\": \"scatter\", \"x\": [0.01, 0.0198989898989899, 0.029797979797979796, 0.039696969696969696, 0.049595959595959596, 0.059494949494949496, 0.06939393939393938, 0.07929292929292929, 0.08919191919191918, 0.09909090909090908, 0.10898989898989898, 0.11888888888888888, 0.12878787878787878, 0.1386868686868687, 0.1485858585858586, 0.15848484848484848, 0.16838383838383839, 0.1782828282828283, 0.18818181818181817, 0.19808080808080808, 0.207979797979798, 0.21787878787878787, 0.22777777777777777, 0.23767676767676768, 0.24757575757575756, 0.25747474747474747, 0.2673737373737374, 0.2772727272727273, 0.2871717171717172, 0.29707070707070704, 0.30696969696969695, 0.31686868686868686, 0.32676767676767676, 0.33666666666666667, 0.3465656565656566, 0.3564646464646465, 0.36636363636363634, 0.37626262626262624, 0.38616161616161615, 0.39606060606060606, 0.40595959595959596, 0.41585858585858587, 0.4257575757575757, 0.43565656565656563, 0.44555555555555554, 0.45545454545454545, 0.46535353535353535, 0.47525252525252526, 0.4851515151515151, 0.495050505050505, 0.5049494949494949, 0.5148484848484849, 0.5247474747474747, 0.5346464646464646, 0.5445454545454546, 0.5544444444444444, 0.5643434343434344, 0.5742424242424242, 0.5841414141414141, 0.594040404040404, 0.6039393939393939, 0.6138383838383838, 0.6237373737373737, 0.6336363636363637, 0.6435353535353535, 0.6534343434343434, 0.6633333333333333, 0.6732323232323232, 0.6831313131313131, 0.693030303030303, 0.702929292929293, 0.7128282828282828, 0.7227272727272727, 0.7326262626262626, 0.7425252525252525, 0.7524242424242424, 0.7623232323232323, 0.7722222222222221, 0.7821212121212121, 0.792020202020202, 0.8019191919191919, 0.8118181818181818, 0.8217171717171717, 0.8316161616161616, 0.8415151515151514, 0.8514141414141414, 0.8613131313131313, 0.8712121212121212, 0.8811111111111111, 0.891010101010101, 0.9009090909090909, 0.9108080808080807, 0.9207070707070707, 0.9306060606060605, 0.9405050505050505, 0.9504040404040404, 0.9603030303030302, 0.9702020202020202, 0.98010101010101, 0.99], \"y\": [0.11589076870012616, 0.15647265958739012, 0.18556514981303587, 0.20858917777199504, 0.2276457901551598, 0.24381661242541097, 0.25774789551403743, 0.2698637577171718, 0.2804612747342005, 0.2897587898622905, 0.2979228465394254, 0.30508429013782795, 0.31134843565637127, 0.316801777313711, 0.32151657968290226, 0.3255541162342123, 0.3289670136548112, 0.33180098711488304, 0.33409614988904146, 0.3358880187431782, 0.33720829751150244, 0.3380854960844643, 0.3385454253283979, 0.3386115971474619, 0.33830555108593036, 0.3376471233756997, 0.33665467040862357, 0.33534525576675683, 0.33373480785142356, 0.3318382535950735, 0.32966963256794735, 0.32724219490001283, 0.3245684857537972, 0.3216604185527106, 0.31852933875434564, 0.3151860796309902, 0.3116410112598474, 0.3079040837176611, 0.3039848653073104, 0.2998925765085234, 0.29563612023461294, 0.2912241088868038, 0.2866648886234377, 0.2819665611998503, 0.27713700368366373, 0.2721838863076617, 0.2671146886867535, 0.2619367145955835, 0.2566571054781391, 0.25128285283937474, 0.24582080965086636, 0.24027770088723915, 0.23466013329718988, 0.22897460450196722, 0.22322751150497266, 0.21742515868836607, 0.21157376536613048, 0.20567947295775293, 0.19974835184241174, 0.19378640795027532, 0.18779958914510841, 0.18179379145084035, 0.1757748651740685, 0.16974862097466203, 0.16372083593770223, 0.15769725970209617, 0.15168362070434468, 0.14568563260034725, 0.13970900093395217, 0.13375943012847594, 0.12784263088696654, 0.12196432809901633, 0.11613026936702135, 0.11034623428370963, 0.10461804461652478, 0.09895157558439921, 0.09335276845040352, 0.08782764470211483, 0.0823823221536871, 0.07702303338411805, 0.0717561470315603, 0.06658819260289502, 0.06152588964445136, 0.05657618237310516, 0.051746281216095584, 0.047043713197015, 0.04247638380359573, 0.038052653990560736, 0.03378143748957667, 0.02967232592683082, 0.025735752930713843, 0.02198321444703407, 0.018427572797550393, 0.015083490572881351, 0.011968075935477565, 0.009101894190277002, 0.006510667623128199, 0.004228421729500197, 0.0023042207071304684, 0.0008207455804852673]}, {\"fill\": \"tonexty\", \"fillcolor\": \"rgba(248, 148, 6, 0.4)\", \"line\": {\"color\": \"rgba(255,255,255,0)\", \"width\": 0}, \"marker\": {\"color\": \"#444\"}, \"mode\": \"lines\", \"name\": \"Pred Value Upper\", \"showlegend\": false, \"type\": \"scatter\", \"x\": [0.01, 0.0198989898989899, 0.029797979797979796, 0.039696969696969696, 0.049595959595959596, 0.059494949494949496, 0.06939393939393938, 0.07929292929292929, 0.08919191919191918, 0.09909090909090908, 0.10898989898989898, 0.11888888888888888, 0.12878787878787878, 0.1386868686868687, 0.1485858585858586, 0.15848484848484848, 0.16838383838383839, 0.1782828282828283, 0.18818181818181817, 0.19808080808080808, 0.207979797979798, 0.21787878787878787, 0.22777777777777777, 0.23767676767676768, 0.24757575757575756, 0.25747474747474747, 0.2673737373737374, 0.2772727272727273, 0.2871717171717172, 0.29707070707070704, 0.30696969696969695, 0.31686868686868686, 0.32676767676767676, 0.33666666666666667, 0.3465656565656566, 0.3564646464646465, 0.36636363636363634, 0.37626262626262624, 0.38616161616161615, 0.39606060606060606, 0.40595959595959596, 0.41585858585858587, 0.4257575757575757, 0.43565656565656563, 0.44555555555555554, 0.45545454545454545, 0.46535353535353535, 0.47525252525252526, 0.4851515151515151, 0.495050505050505, 0.5049494949494949, 0.5148484848484849, 0.5247474747474747, 0.5346464646464646, 0.5445454545454546, 0.5544444444444444, 0.5643434343434344, 0.5742424242424242, 0.5841414141414141, 0.594040404040404, 0.6039393939393939, 0.6138383838383838, 0.6237373737373737, 0.6336363636363637, 0.6435353535353535, 0.6534343434343434, 0.6633333333333333, 0.6732323232323232, 0.6831313131313131, 0.693030303030303, 0.702929292929293, 0.7128282828282828, 0.7227272727272727, 0.7326262626262626, 0.7425252525252525, 0.7524242424242424, 0.7623232323232323, 0.7722222222222221, 0.7821212121212121, 0.792020202020202, 0.8019191919191919, 0.8118181818181818, 0.8217171717171717, 0.8316161616161616, 0.8415151515151514, 0.8514141414141414, 0.8613131313131313, 0.8712121212121212, 0.8811111111111111, 0.891010101010101, 0.9009090909090909, 0.9108080808080807, 0.9207070707070707, 0.9306060606060605, 0.9405050505050505, 0.9504040404040404, 0.9603030303030302, 0.9702020202020202, 0.98010101010101, 0.99], \"y\": [0.13710028377616315, 0.18152726021058146, 0.21294635950957538, 0.2375996269982708, 0.2578718901252904, 0.27497894912601567, 0.28964184773340446, 0.30233099958536774, 0.3133743309342082, 0.3230119175261406, 0.3314262975395009, 0.33876051685595393, 0.3451294800041817, 0.35062741416843113, 0.35533295994792985, 0.35931275149447134, 0.3626240007963008, 0.3653164054925713, 0.3674335851071073, 0.36901418100315914, 0.3700927117046188, 0.3707002470668857, 0.3708649461592111, 0.3706124911335248, 0.36996644067674744, 0.3689485205527912, 0.3675788643956079, 0.3658762147690021, 0.3638580922005426, 0.3615409381816423, 0.3589402368366564, 0.3560706189844761, 0.3529459515648699, 0.34957941482018584, 0.34598356916906753, 0.34217041335161535, 0.3381514351425025, 0.33393765570285233, 0.3295396684608034, 0.32496767326487325, 0.32023150643631615, 0.315340667250959, 0.3103043413032779, 0.30513142114223646, 0.29983052451707076, 0.29441001052962984, 0.2888779939563355, 0.2832423579759206, 0.2775107655176846, 0.27169066942797643, 0.2657893216391711, 0.2598137815146753, 0.25377092353475933, 0.24766744448054445, 0.2415098702666972, 0.23530456256661555, 0.2290577253667289, 0.222775411578493, 0.21646352982745348, 0.21012785152825464, 0.2037740183426387, 0.19740755010450856, 0.1910338532823642, 0.18465823003537468, 0.17828588790563366, 0.17192195017660225, 0.1655714669171221, 0.15923942672260208, 0.1529307691608776, 0.14665039793062204, 0.1404031947458214, 0.13419403397142038, 0.12802779805349906, 0.12190939381301824, 0.11584376970616633, 0.10983593419786161, 0.10389097544971762, 0.09801408259216404, 0.0922105689360314, 0.08648589758689194, 0.08084571006333538, 0.0752958586991183, 0.06984244384492017, 0.06449185720217279, 0.05925083305520096, 0.05412650977400745, 0.04912650482508097, 0.044259007790715114, 0.03953289778827872, 0.03495789459167939, 0.030544757381868282, 0.02630555267364028, 0.022254026071839354, 0.018406136231062, 0.014780855083440642, 0.01140143352401932, 0.008297550731044722, 0.005509343031318899, 0.0030961680476132027, 0.001161326358678199]}, {\"line\": {\"color\": \"rgba(83, 51, 237, 1)\"}, \"name\": \"True Value\", \"showlegend\": true, \"type\": \"scattergl\", \"x\": [0.01, 0.0198989898989899, 0.029797979797979796, 0.039696969696969696, 0.049595959595959596, 0.059494949494949496, 0.06939393939393938, 0.07929292929292929, 0.08919191919191918, 0.09909090909090908, 0.10898989898989898, 0.11888888888888888, 0.12878787878787878, 0.1386868686868687, 0.1485858585858586, 0.15848484848484848, 0.16838383838383839, 0.1782828282828283, 0.18818181818181817, 0.19808080808080808, 0.207979797979798, 0.21787878787878787, 0.22777777777777777, 0.23767676767676768, 0.24757575757575756, 0.25747474747474747, 0.2673737373737374, 0.2772727272727273, 0.2871717171717172, 0.29707070707070704, 0.30696969696969695, 0.31686868686868686, 0.32676767676767676, 0.33666666666666667, 0.3465656565656566, 0.3564646464646465, 0.36636363636363634, 0.37626262626262624, 0.38616161616161615, 0.39606060606060606, 0.40595959595959596, 0.41585858585858587, 0.4257575757575757, 0.43565656565656563, 0.44555555555555554, 0.45545454545454545, 0.46535353535353535, 0.47525252525252526, 0.4851515151515151, 0.495050505050505, 0.5049494949494949, 0.5148484848484849, 0.5247474747474747, 0.5346464646464646, 0.5445454545454546, 0.5544444444444444, 0.5643434343434344, 0.5742424242424242, 0.5841414141414141, 0.594040404040404, 0.6039393939393939, 0.6138383838383838, 0.6237373737373737, 0.6336363636363637, 0.6435353535353535, 0.6534343434343434, 0.6633333333333333, 0.6732323232323232, 0.6831313131313131, 0.693030303030303, 0.702929292929293, 0.7128282828282828, 0.7227272727272727, 0.7326262626262626, 0.7425252525252525, 0.7524242424242424, 0.7623232323232323, 0.7722222222222221, 0.7821212121212121, 0.792020202020202, 0.8019191919191919, 0.8118181818181818, 0.8217171717171717, 0.8316161616161616, 0.8415151515151514, 0.8514141414141414, 0.8613131313131313, 0.8712121212121212, 0.8811111111111111, 0.891010101010101, 0.9009090909090909, 0.9108080808080807, 0.9207070707070707, 0.9306060606060605, 0.9405050505050505, 0.9504040404040404, 0.9603030303030302, 0.9702020202020202, 0.98010101010101, 0.99], \"y\": [0.014759019638463437, 0.025264566294281993, 0.03433019766241383, 0.04241070891907813, 0.04971357730550152, 0.05635901416277545, 0.06242628612324882, 0.06797222711775261, 0.07304009619389369, 0.07766434624035666, 0.08187341599544468, 0.08569147086951741, 0.08913954274117984, 0.09223630590825123, 0.09499862234912201, 0.09744193501764821, 0.09958055775992969, 0.1014278929533815, 0.10299659740572112, 0.10429871044816143, 0.10534575390356957, 0.106148810797435, 0.1067185877754409, 0.10706546487553562, 0.10719953537586305, 0.10713063777644209, 0.10686838149009213, 0.10642216746243455, 0.10580120467521718, 0.1050145232865509, 0.10407098500840264, 0.10297929120347808, 0.10174798909159896, 0.1003854763834057, 0.09890000460201406, 0.0972996813076239, 0.09559247140343674, 0.09378619767160935, 0.09188854066387375, 0.08990703805172749, 0.08784908352487644, 0.08572192531318651, 0.08353266439624614, 0.08128825245532106, 0.07899548961466533, 0.07666102201256246, 0.07429133923689411, 0.07189277165529548, 0.06947148766591157, 0.06703349089130582, 0.06458461733509024, 0.062130532518274294, 0.059676728610094376, 0.05722852156614165, 0.054791048284900806, 0.05236926379231288, 0.049967938462646154, 0.04759165528277714, 0.045244807165918284, 0.042931594319868004, 0.04065602167397715, 0.038421896368211354, 0.03623282530692588, 0.03409221277924354, 0.032003258147226786, 0.02996895360234495, 0.027992081990051064, 0.026075214701578083, 0.02422070963133504, 0.022430709197509807, 0.02070713842264919, 0.019051703070071514, 0.01746588783094284, 0.015950954555691153, 0.014507940522102747, 0.013137656730900102, 0.01184068621778385, 0.010617382368759169, 0.009467867222970263, 0.008392029744110263, 0.007389524037601131, 0.006459767485933117, 0.005601938768524538, 0.00481497572481128, 0.004097573009438072, 0.0034481794756049417, 0.0028649952056620945, 0.0023459680852311927, 0.00188878978585813, 0.0014908909774174481, 0.0011494355286812792, 0.0008613133618031389, 0.0006231314851793659, 0.0004312025050964764, 0.000281529543930703, 0.00016978583510554783, 9.128601328296062e-05, 4.0943481324080335e-05, 1.3201817550104141e-05, 1.9085225786970124e-06]}],\n",
       "                        {\"template\": {\"data\": {\"bar\": [{\"error_x\": {\"color\": \"#2a3f5f\"}, \"error_y\": {\"color\": \"#2a3f5f\"}, \"marker\": {\"line\": {\"color\": \"#E5ECF6\", \"width\": 0.5}}, \"type\": \"bar\"}], \"barpolar\": [{\"marker\": {\"line\": {\"color\": \"#E5ECF6\", \"width\": 0.5}}, \"type\": \"barpolar\"}], \"carpet\": [{\"aaxis\": {\"endlinecolor\": \"#2a3f5f\", \"gridcolor\": \"white\", \"linecolor\": \"white\", \"minorgridcolor\": \"white\", \"startlinecolor\": \"#2a3f5f\"}, \"baxis\": {\"endlinecolor\": \"#2a3f5f\", \"gridcolor\": \"white\", \"linecolor\": \"white\", \"minorgridcolor\": \"white\", \"startlinecolor\": \"#2a3f5f\"}, \"type\": \"carpet\"}], \"choropleth\": [{\"colorbar\": {\"outlinewidth\": 0, \"ticks\": \"\"}, \"type\": \"choropleth\"}], \"contour\": [{\"colorbar\": {\"outlinewidth\": 0, \"ticks\": \"\"}, \"colorscale\": [[0.0, \"#0d0887\"], [0.1111111111111111, \"#46039f\"], [0.2222222222222222, \"#7201a8\"], [0.3333333333333333, \"#9c179e\"], [0.4444444444444444, \"#bd3786\"], [0.5555555555555556, \"#d8576b\"], [0.6666666666666666, \"#ed7953\"], [0.7777777777777778, \"#fb9f3a\"], [0.8888888888888888, \"#fdca26\"], [1.0, \"#f0f921\"]], \"type\": \"contour\"}], \"contourcarpet\": [{\"colorbar\": {\"outlinewidth\": 0, \"ticks\": \"\"}, \"type\": \"contourcarpet\"}], \"heatmap\": [{\"colorbar\": {\"outlinewidth\": 0, \"ticks\": \"\"}, \"colorscale\": [[0.0, \"#0d0887\"], [0.1111111111111111, \"#46039f\"], [0.2222222222222222, \"#7201a8\"], [0.3333333333333333, \"#9c179e\"], [0.4444444444444444, \"#bd3786\"], [0.5555555555555556, \"#d8576b\"], [0.6666666666666666, \"#ed7953\"], [0.7777777777777778, \"#fb9f3a\"], [0.8888888888888888, \"#fdca26\"], [1.0, \"#f0f921\"]], \"type\": \"heatmap\"}], \"heatmapgl\": [{\"colorbar\": {\"outlinewidth\": 0, \"ticks\": \"\"}, \"colorscale\": [[0.0, \"#0d0887\"], [0.1111111111111111, \"#46039f\"], [0.2222222222222222, \"#7201a8\"], [0.3333333333333333, \"#9c179e\"], [0.4444444444444444, \"#bd3786\"], [0.5555555555555556, \"#d8576b\"], [0.6666666666666666, \"#ed7953\"], [0.7777777777777778, \"#fb9f3a\"], [0.8888888888888888, \"#fdca26\"], [1.0, \"#f0f921\"]], \"type\": \"heatmapgl\"}], \"histogram\": [{\"marker\": {\"colorbar\": {\"outlinewidth\": 0, \"ticks\": \"\"}}, \"type\": \"histogram\"}], \"histogram2d\": [{\"colorbar\": {\"outlinewidth\": 0, \"ticks\": \"\"}, \"colorscale\": [[0.0, \"#0d0887\"], [0.1111111111111111, \"#46039f\"], [0.2222222222222222, \"#7201a8\"], [0.3333333333333333, \"#9c179e\"], [0.4444444444444444, \"#bd3786\"], [0.5555555555555556, \"#d8576b\"], [0.6666666666666666, \"#ed7953\"], [0.7777777777777778, \"#fb9f3a\"], [0.8888888888888888, \"#fdca26\"], [1.0, \"#f0f921\"]], \"type\": \"histogram2d\"}], \"histogram2dcontour\": [{\"colorbar\": {\"outlinewidth\": 0, \"ticks\": \"\"}, \"colorscale\": [[0.0, \"#0d0887\"], [0.1111111111111111, \"#46039f\"], [0.2222222222222222, \"#7201a8\"], [0.3333333333333333, \"#9c179e\"], [0.4444444444444444, \"#bd3786\"], [0.5555555555555556, \"#d8576b\"], [0.6666666666666666, \"#ed7953\"], [0.7777777777777778, \"#fb9f3a\"], [0.8888888888888888, \"#fdca26\"], [1.0, \"#f0f921\"]], \"type\": \"histogram2dcontour\"}], \"mesh3d\": [{\"colorbar\": {\"outlinewidth\": 0, \"ticks\": \"\"}, \"type\": \"mesh3d\"}], \"parcoords\": [{\"line\": {\"colorbar\": {\"outlinewidth\": 0, \"ticks\": \"\"}}, \"type\": \"parcoords\"}], \"pie\": [{\"automargin\": true, \"type\": \"pie\"}], \"scatter\": [{\"marker\": {\"colorbar\": {\"outlinewidth\": 0, \"ticks\": \"\"}}, \"type\": \"scatter\"}], \"scatter3d\": [{\"line\": {\"colorbar\": {\"outlinewidth\": 0, \"ticks\": \"\"}}, \"marker\": {\"colorbar\": {\"outlinewidth\": 0, \"ticks\": \"\"}}, \"type\": \"scatter3d\"}], \"scattercarpet\": [{\"marker\": {\"colorbar\": {\"outlinewidth\": 0, \"ticks\": \"\"}}, \"type\": \"scattercarpet\"}], \"scattergeo\": [{\"marker\": {\"colorbar\": {\"outlinewidth\": 0, \"ticks\": \"\"}}, \"type\": \"scattergeo\"}], \"scattergl\": [{\"marker\": {\"colorbar\": {\"outlinewidth\": 0, \"ticks\": \"\"}}, \"type\": \"scattergl\"}], \"scattermapbox\": [{\"marker\": {\"colorbar\": {\"outlinewidth\": 0, \"ticks\": \"\"}}, \"type\": \"scattermapbox\"}], \"scatterpolar\": [{\"marker\": {\"colorbar\": {\"outlinewidth\": 0, \"ticks\": \"\"}}, \"type\": \"scatterpolar\"}], \"scatterpolargl\": [{\"marker\": {\"colorbar\": {\"outlinewidth\": 0, \"ticks\": \"\"}}, \"type\": \"scatterpolargl\"}], \"scatterternary\": [{\"marker\": {\"colorbar\": {\"outlinewidth\": 0, \"ticks\": \"\"}}, \"type\": \"scatterternary\"}], \"surface\": [{\"colorbar\": {\"outlinewidth\": 0, \"ticks\": \"\"}, \"colorscale\": [[0.0, \"#0d0887\"], [0.1111111111111111, \"#46039f\"], [0.2222222222222222, \"#7201a8\"], [0.3333333333333333, \"#9c179e\"], [0.4444444444444444, \"#bd3786\"], [0.5555555555555556, \"#d8576b\"], [0.6666666666666666, \"#ed7953\"], [0.7777777777777778, \"#fb9f3a\"], [0.8888888888888888, \"#fdca26\"], [1.0, \"#f0f921\"]], \"type\": \"surface\"}], \"table\": [{\"cells\": {\"fill\": {\"color\": \"#EBF0F8\"}, \"line\": {\"color\": \"white\"}}, \"header\": {\"fill\": {\"color\": \"#C8D4E3\"}, \"line\": {\"color\": \"white\"}}, \"type\": \"table\"}]}, \"layout\": {\"annotationdefaults\": {\"arrowcolor\": \"#2a3f5f\", \"arrowhead\": 0, \"arrowwidth\": 1}, \"coloraxis\": {\"colorbar\": {\"outlinewidth\": 0, \"ticks\": \"\"}}, \"colorscale\": {\"diverging\": [[0, \"#8e0152\"], [0.1, \"#c51b7d\"], [0.2, \"#de77ae\"], [0.3, \"#f1b6da\"], [0.4, \"#fde0ef\"], [0.5, \"#f7f7f7\"], [0.6, \"#e6f5d0\"], [0.7, \"#b8e186\"], [0.8, \"#7fbc41\"], [0.9, \"#4d9221\"], [1, \"#276419\"]], \"sequential\": [[0.0, \"#0d0887\"], [0.1111111111111111, \"#46039f\"], [0.2222222222222222, \"#7201a8\"], [0.3333333333333333, \"#9c179e\"], [0.4444444444444444, \"#bd3786\"], [0.5555555555555556, \"#d8576b\"], [0.6666666666666666, \"#ed7953\"], [0.7777777777777778, \"#fb9f3a\"], [0.8888888888888888, \"#fdca26\"], [1.0, \"#f0f921\"]], \"sequentialminus\": [[0.0, \"#0d0887\"], [0.1111111111111111, \"#46039f\"], [0.2222222222222222, \"#7201a8\"], [0.3333333333333333, \"#9c179e\"], [0.4444444444444444, \"#bd3786\"], [0.5555555555555556, \"#d8576b\"], [0.6666666666666666, \"#ed7953\"], [0.7777777777777778, \"#fb9f3a\"], [0.8888888888888888, \"#fdca26\"], [1.0, \"#f0f921\"]]}, \"colorway\": [\"#636efa\", \"#EF553B\", \"#00cc96\", \"#ab63fa\", \"#FFA15A\", \"#19d3f3\", \"#FF6692\", \"#B6E880\", \"#FF97FF\", \"#FECB52\"], \"font\": {\"color\": \"#2a3f5f\"}, \"geo\": {\"bgcolor\": \"white\", \"lakecolor\": \"white\", \"landcolor\": \"#E5ECF6\", \"showlakes\": true, \"showland\": true, \"subunitcolor\": \"white\"}, \"hoverlabel\": {\"align\": \"left\"}, \"hovermode\": \"closest\", \"mapbox\": {\"style\": \"light\"}, \"paper_bgcolor\": \"white\", \"plot_bgcolor\": \"#E5ECF6\", \"polar\": {\"angularaxis\": {\"gridcolor\": \"white\", \"linecolor\": \"white\", \"ticks\": \"\"}, \"bgcolor\": \"#E5ECF6\", \"radialaxis\": {\"gridcolor\": \"white\", \"linecolor\": \"white\", \"ticks\": \"\"}}, \"scene\": {\"xaxis\": {\"backgroundcolor\": \"#E5ECF6\", \"gridcolor\": \"white\", \"gridwidth\": 2, \"linecolor\": \"white\", \"showbackground\": true, \"ticks\": \"\", \"zerolinecolor\": \"white\"}, \"yaxis\": {\"backgroundcolor\": \"#E5ECF6\", \"gridcolor\": \"white\", \"gridwidth\": 2, \"linecolor\": \"white\", \"showbackground\": true, \"ticks\": \"\", \"zerolinecolor\": \"white\"}, \"zaxis\": {\"backgroundcolor\": \"#E5ECF6\", \"gridcolor\": \"white\", \"gridwidth\": 2, \"linecolor\": \"white\", \"showbackground\": true, \"ticks\": \"\", \"zerolinecolor\": \"white\"}}, \"shapedefaults\": {\"line\": {\"color\": \"#2a3f5f\"}}, \"ternary\": {\"aaxis\": {\"gridcolor\": \"white\", \"linecolor\": \"white\", \"ticks\": \"\"}, \"baxis\": {\"gridcolor\": \"white\", \"linecolor\": \"white\", \"ticks\": \"\"}, \"bgcolor\": \"#E5ECF6\", \"caxis\": {\"gridcolor\": \"white\", \"linecolor\": \"white\", \"ticks\": \"\"}}, \"title\": {\"x\": 0.05}, \"xaxis\": {\"automargin\": true, \"gridcolor\": \"white\", \"linecolor\": \"white\", \"ticks\": \"\", \"title\": {\"standoff\": 15}, \"zerolinecolor\": \"white\", \"zerolinewidth\": 2}, \"yaxis\": {\"automargin\": true, \"gridcolor\": \"white\", \"linecolor\": \"white\", \"ticks\": \"\", \"title\": {\"standoff\": 15}, \"zerolinecolor\": \"white\", \"zerolinewidth\": 2}}}, \"title\": {\"pad\": {\"l\": 350}, \"text\": \"PDF-Down Absolute Plot\", \"xanchor\": \"left\", \"yanchor\": \"top\"}},\n",
       "                        {\"responsive\": true}\n",
       "                    ).then(function(){\n",
       "                            \n",
       "var gd = document.getElementById('505a5236-83ff-42c9-a784-62f1084e2110');\n",
       "var x = new MutationObserver(function (mutations, observer) {{\n",
       "        var display = window.getComputedStyle(gd).display;\n",
       "        if (!display || display === 'none') {{\n",
       "            console.log([gd, 'removed!']);\n",
       "            Plotly.purge(gd);\n",
       "            observer.disconnect();\n",
       "        }}\n",
       "}});\n",
       "\n",
       "// Listen for the removal of the full notebook cells\n",
       "var notebookContainer = gd.closest('#notebook-container');\n",
       "if (notebookContainer) {{\n",
       "    x.observe(notebookContainer, {childList: true});\n",
       "}}\n",
       "\n",
       "// Listen for the clearing of the current output cell\n",
       "var outputEl = gd.closest('.output');\n",
       "if (outputEl) {{\n",
       "    x.observe(outputEl, {childList: true});\n",
       "}}\n",
       "\n",
       "                        })\n",
       "                };\n",
       "                });\n",
       "            </script>\n",
       "        </div>"
      ]
     },
     "metadata": {},
     "output_type": "display_data"
    }
   ],
   "source": [
    "#--- PDF Down Plot\n",
    "#--- yPred\n",
    "yPred = pdf_dict['d'].mean(axis = 0)\n",
    "\n",
    "#--- bounds\n",
    "upperBound = pdf_dict['d'].mean(axis=0) + pdf_dict['d'].std(axis=0)\n",
    "lowerbound = pdf_dict['d'].mean(axis=0) - pdf_dict['d'].std(axis=0)\n",
    "\n",
    "\n",
    "pdfUpPlot = generatePDFplots(x,d,upperBound,yPred,lowerbound,'PDF-Down Absolute Plot')\n",
    "pdfUpPlot.show()"
   ]
  },
  {
   "cell_type": "code",
   "execution_count": 116,
   "metadata": {},
   "outputs": [
    {
     "data": {
      "application/vnd.plotly.v1+json": {
       "config": {
        "plotlyServerURL": "https://plot.ly"
       },
       "data": [
        {
         "line": {
          "width": 0
         },
         "marker": {
          "color": "#444"
         },
         "mode": "lines",
         "name": "Pred Value Lower",
         "showlegend": false,
         "type": "scatter",
         "x": [
          0.01,
          0.0198989898989899,
          0.029797979797979796,
          0.039696969696969696,
          0.049595959595959596,
          0.059494949494949496,
          0.06939393939393938,
          0.07929292929292929,
          0.08919191919191918,
          0.09909090909090908,
          0.10898989898989898,
          0.11888888888888888,
          0.12878787878787878,
          0.1386868686868687,
          0.1485858585858586,
          0.15848484848484848,
          0.16838383838383839,
          0.1782828282828283,
          0.18818181818181817,
          0.19808080808080808,
          0.207979797979798,
          0.21787878787878787,
          0.22777777777777777,
          0.23767676767676768,
          0.24757575757575756,
          0.25747474747474747,
          0.2673737373737374,
          0.2772727272727273,
          0.2871717171717172,
          0.29707070707070704,
          0.30696969696969695,
          0.31686868686868686,
          0.32676767676767676,
          0.33666666666666667,
          0.3465656565656566,
          0.3564646464646465,
          0.36636363636363634,
          0.37626262626262624,
          0.38616161616161615,
          0.39606060606060606,
          0.40595959595959596,
          0.41585858585858587,
          0.4257575757575757,
          0.43565656565656563,
          0.44555555555555554,
          0.45545454545454545,
          0.46535353535353535,
          0.47525252525252526,
          0.4851515151515151,
          0.495050505050505,
          0.5049494949494949,
          0.5148484848484849,
          0.5247474747474747,
          0.5346464646464646,
          0.5445454545454546,
          0.5544444444444444,
          0.5643434343434344,
          0.5742424242424242,
          0.5841414141414141,
          0.594040404040404,
          0.6039393939393939,
          0.6138383838383838,
          0.6237373737373737,
          0.6336363636363637,
          0.6435353535353535,
          0.6534343434343434,
          0.6633333333333333,
          0.6732323232323232,
          0.6831313131313131,
          0.693030303030303,
          0.702929292929293,
          0.7128282828282828,
          0.7227272727272727,
          0.7326262626262626,
          0.7425252525252525,
          0.7524242424242424,
          0.7623232323232323,
          0.7722222222222221,
          0.7821212121212121,
          0.792020202020202,
          0.8019191919191919,
          0.8118181818181818,
          0.8217171717171717,
          0.8316161616161616,
          0.8415151515151514,
          0.8514141414141414,
          0.8613131313131313,
          0.8712121212121212,
          0.8811111111111111,
          0.891010101010101,
          0.9009090909090909,
          0.9108080808080807,
          0.9207070707070707,
          0.9306060606060605,
          0.9405050505050505,
          0.9504040404040404,
          0.9603030303030302,
          0.9702020202020202,
          0.98010101010101,
          0.99
         ],
         "y": [
          1.933054001610301,
          1.9175803625543457,
          1.9044235621939523,
          1.8923731485267252,
          1.8809912415599188,
          1.8700646048098764,
          1.8594714519361226,
          1.849134758171729,
          1.8390021808978405,
          1.8290361821840253,
          1.819208679517562,
          1.8094979306415255,
          1.7998866131427829,
          1.7903605849987687,
          1.780908053893701,
          1.7715190027353687,
          1.762184781741949,
          1.752897812308927,
          1.7436513680027128,
          1.734439410104706,
          1.7252564626090603,
          1.7160975163407215,
          1.706957954968291,
          1.697833497757153,
          1.6887201553131148,
          1.6796141955338506,
          1.6705121176595983,
          1.6614106327883411,
          1.6523066495567817,
          1.6431972639280636,
          1.6340797521995296,
          1.6249515664696281,
          1.6158103318977335,
          1.6066538451641372,
          1.597480073599766,
          1.5882871545108486,
          1.5790733942780195,
          1.5698372668648861,
          1.560577411429095,
          1.551292628790112,
          1.5419818765713418,
          1.532644262898504,
          1.523279038599299,
          1.5138855879091744,
          1.504463417741757,
          1.4950121456287777,
          1.4855314864705758,
          1.4760212382642202,
          1.4664812669907288,
          1.4569114908464669,
          1.4473118639967375,
          1.4376823600134747,
          1.428022955134828,
          1.4183336114539382,
          1.408614260109301,
          1.3988647845104447,
          1.3890850035922693,
          1.3792746550494712,
          1.3694333784598491,
          1.3595606981617976,
          1.349656005706985,
          1.3397185416624613,
          1.3297473764871626,
          1.319741390152985,
          1.3096992501190676,
          1.29961938719593,
          1.2894999687505098,
          1.279338868598658,
          1.2691336328027152,
          1.2588814404299324,
          1.2485790581226484,
          1.2382227870692835,
          1.2278084006275418,
          1.217331070412331,
          1.2067852780854642,
          1.1961647093232024,
          1.1854621254210662,
          1.1746692066240623,
          1.1637763593990536,
          1.1527724772813308,
          1.1416446413098775,
          1.1303777409279903,
          1.118953988812709,
          1.1073522922102115,
          1.095547427056681,
          1.083508936236277,
          1.0711996342771546,
          1.058573537949487,
          1.0455729380056056,
          1.0321241483564545,
          1.0181311492774354,
          1.0034657430021245,
          0.9879516577470888,
          0.9713375410985048,
          0.9532480769410272,
          0.9330880148463319,
          0.9098321492790412,
          0.8814893416359812,
          0.8433651106024671,
          0.7792347876257429
         ]
        },
        {
         "fill": "tonexty",
         "fillcolor": "rgba(248, 148, 6, 0.4)",
         "line": {
          "color": "rgba(217, 30, 24, 1)"
         },
         "mode": "lines",
         "name": "Pred Value",
         "showlegend": true,
         "type": "scatter",
         "x": [
          0.01,
          0.0198989898989899,
          0.029797979797979796,
          0.039696969696969696,
          0.049595959595959596,
          0.059494949494949496,
          0.06939393939393938,
          0.07929292929292929,
          0.08919191919191918,
          0.09909090909090908,
          0.10898989898989898,
          0.11888888888888888,
          0.12878787878787878,
          0.1386868686868687,
          0.1485858585858586,
          0.15848484848484848,
          0.16838383838383839,
          0.1782828282828283,
          0.18818181818181817,
          0.19808080808080808,
          0.207979797979798,
          0.21787878787878787,
          0.22777777777777777,
          0.23767676767676768,
          0.24757575757575756,
          0.25747474747474747,
          0.2673737373737374,
          0.2772727272727273,
          0.2871717171717172,
          0.29707070707070704,
          0.30696969696969695,
          0.31686868686868686,
          0.32676767676767676,
          0.33666666666666667,
          0.3465656565656566,
          0.3564646464646465,
          0.36636363636363634,
          0.37626262626262624,
          0.38616161616161615,
          0.39606060606060606,
          0.40595959595959596,
          0.41585858585858587,
          0.4257575757575757,
          0.43565656565656563,
          0.44555555555555554,
          0.45545454545454545,
          0.46535353535353535,
          0.47525252525252526,
          0.4851515151515151,
          0.495050505050505,
          0.5049494949494949,
          0.5148484848484849,
          0.5247474747474747,
          0.5346464646464646,
          0.5445454545454546,
          0.5544444444444444,
          0.5643434343434344,
          0.5742424242424242,
          0.5841414141414141,
          0.594040404040404,
          0.6039393939393939,
          0.6138383838383838,
          0.6237373737373737,
          0.6336363636363637,
          0.6435353535353535,
          0.6534343434343434,
          0.6633333333333333,
          0.6732323232323232,
          0.6831313131313131,
          0.693030303030303,
          0.702929292929293,
          0.7128282828282828,
          0.7227272727272727,
          0.7326262626262626,
          0.7425252525252525,
          0.7524242424242424,
          0.7623232323232323,
          0.7722222222222221,
          0.7821212121212121,
          0.792020202020202,
          0.8019191919191919,
          0.8118181818181818,
          0.8217171717171717,
          0.8316161616161616,
          0.8415151515151514,
          0.8514141414141414,
          0.8613131313131313,
          0.8712121212121212,
          0.8811111111111111,
          0.891010101010101,
          0.9009090909090909,
          0.9108080808080807,
          0.9207070707070707,
          0.9306060606060605,
          0.9405050505050505,
          0.9504040404040404,
          0.9603030303030302,
          0.9702020202020202,
          0.98010101010101,
          0.99
         ],
         "y": [
          2.2379327944604204,
          2.169172854352865,
          2.1266076759302273,
          2.094523780719409,
          2.068097657022481,
          2.0452114188446724,
          2.0247477874874464,
          2.0060458768263354,
          1.988682683150665,
          1.9723713314725582,
          1.9569084453060426,
          1.942144692948781,
          1.927967258167864,
          1.914288878494017,
          1.9010407056507,
          1.8881674940333244,
          1.8756242626342479,
          1.8633739205756314,
          1.85138554092343,
          1.8396330815634037,
          1.8280944211703576,
          1.8167506215999765,
          1.8055853558279746,
          1.7945844588294653,
          1.7837355710543943,
          1.7730278525450258,
          1.7624517515825817,
          1.7519988158807207,
          1.741661537307765,
          1.731433223274844,
          1.721307889513598,
          1.7112801701482936,
          1.7013452418563195,
          1.6914987595859976,
          1.6817368018190726,
          1.672055823765757,
          1.662452617192789,
          1.6529242758307239,
          1.6434681655011327,
          1.6340818982595855,
          1.6247633099748742,
          1.6155104408656669,
          1.6063215185977486,
          1.5971949436123192,
          1.588129276411127,
          1.579123226570623,
          1.5701756432958403,
          1.5612855073577028,
          1.5524519242854815,
          1.543674118710637,
          1.5349514297796891,
          1.5262833075731987,
          1.517669310485636,
          1.5091091035374666,
          1.5006024576070691,
          1.4921492495858326,
          1.483749463476287,
          1.475403192470236,
          1.4671106420624977,
          1.4588721342763817,
          1.4506881131006273,
          1.4425591512641778,
          1.4344859585071568,
          1.426469391543776,
          1.4185104659584091,
          1.410610370331031,
          1.4027704829559593,
          1.3949923916014373,
          1.3872779168622393,
          1.3796291397888625,
          1.3720484346436224,
          1.3645385078471304,
          1.357102444453263,
          1.3497437638478076,
          1.3424664868342175,
          1.3352752168901318,
          1.3281752392075263,
          1.3211726422510013,
          1.3142744681026066,
          1.3074888999863294,
          1.300825498348557,
          1.2942955011209512,
          1.287912209946238,
          1.2816914932156402,
          1.2756524503915747,
          1.26981830300476,
          1.2642176105993523,
          1.2588859630086786,
          1.2538683887539344,
          1.2492228717005254,
          1.2450256412435365,
          1.2413794141561305,
          1.2384267831581663,
          1.2363730999034181,
          1.235528136920774,
          1.2363883369389521,
          1.239817706217554,
          1.2475112473621879,
          1.2634993926300606,
          1.3017504876481065
         ]
        },
        {
         "fill": "tonexty",
         "fillcolor": "rgba(248, 148, 6, 0.4)",
         "line": {
          "color": "rgba(255,255,255,0)",
          "width": 0
         },
         "marker": {
          "color": "#444"
         },
         "mode": "lines",
         "name": "Pred Value Upper",
         "showlegend": false,
         "type": "scatter",
         "x": [
          0.01,
          0.0198989898989899,
          0.029797979797979796,
          0.039696969696969696,
          0.049595959595959596,
          0.059494949494949496,
          0.06939393939393938,
          0.07929292929292929,
          0.08919191919191918,
          0.09909090909090908,
          0.10898989898989898,
          0.11888888888888888,
          0.12878787878787878,
          0.1386868686868687,
          0.1485858585858586,
          0.15848484848484848,
          0.16838383838383839,
          0.1782828282828283,
          0.18818181818181817,
          0.19808080808080808,
          0.207979797979798,
          0.21787878787878787,
          0.22777777777777777,
          0.23767676767676768,
          0.24757575757575756,
          0.25747474747474747,
          0.2673737373737374,
          0.2772727272727273,
          0.2871717171717172,
          0.29707070707070704,
          0.30696969696969695,
          0.31686868686868686,
          0.32676767676767676,
          0.33666666666666667,
          0.3465656565656566,
          0.3564646464646465,
          0.36636363636363634,
          0.37626262626262624,
          0.38616161616161615,
          0.39606060606060606,
          0.40595959595959596,
          0.41585858585858587,
          0.4257575757575757,
          0.43565656565656563,
          0.44555555555555554,
          0.45545454545454545,
          0.46535353535353535,
          0.47525252525252526,
          0.4851515151515151,
          0.495050505050505,
          0.5049494949494949,
          0.5148484848484849,
          0.5247474747474747,
          0.5346464646464646,
          0.5445454545454546,
          0.5544444444444444,
          0.5643434343434344,
          0.5742424242424242,
          0.5841414141414141,
          0.594040404040404,
          0.6039393939393939,
          0.6138383838383838,
          0.6237373737373737,
          0.6336363636363637,
          0.6435353535353535,
          0.6534343434343434,
          0.6633333333333333,
          0.6732323232323232,
          0.6831313131313131,
          0.693030303030303,
          0.702929292929293,
          0.7128282828282828,
          0.7227272727272727,
          0.7326262626262626,
          0.7425252525252525,
          0.7524242424242424,
          0.7623232323232323,
          0.7722222222222221,
          0.7821212121212121,
          0.792020202020202,
          0.8019191919191919,
          0.8118181818181818,
          0.8217171717171717,
          0.8316161616161616,
          0.8415151515151514,
          0.8514141414141414,
          0.8613131313131313,
          0.8712121212121212,
          0.8811111111111111,
          0.891010101010101,
          0.9009090909090909,
          0.9108080808080807,
          0.9207070707070707,
          0.9306060606060605,
          0.9405050505050505,
          0.9504040404040404,
          0.9603030303030302,
          0.9702020202020202,
          0.98010101010101,
          0.99
         ],
         "y": [
          2.5428115873105397,
          2.4207653461513843,
          2.3487917896665023,
          2.2966744129120924,
          2.2552040724850437,
          2.2203582328794687,
          2.19002412303877,
          2.1629569954809416,
          2.1383631854034895,
          2.1157064807610912,
          2.094608211094523,
          2.0747914552560363,
          2.0560479031929453,
          2.0382171719892654,
          2.021173357407699,
          2.00481598533128,
          1.9890637435265468,
          1.973850028842336,
          1.9591197138441474,
          1.9448267530221013,
          1.9309323797316549,
          1.9174037268592314,
          1.9042127566876583,
          1.8913354199017776,
          1.8787509867956738,
          1.866441509556201,
          1.8543913855055651,
          1.8425869989731003,
          1.8310164250587484,
          1.8196691826216242,
          1.8085360268276665,
          1.797608773826959,
          1.7868801518149056,
          1.776343674007858,
          1.7659935300383791,
          1.7558244930206655,
          1.7458318401075583,
          1.7360112847965616,
          1.7263589195731706,
          1.716871167729059,
          1.7075447433784066,
          1.6983766188328298,
          1.6893639985961983,
          1.680504299315464,
          1.671795135080497,
          1.6632343075124683,
          1.6548198001211047,
          1.6465497764511854,
          1.6384225815802342,
          1.6304367465748073,
          1.6225909955626407,
          1.6148842551329228,
          1.607315665836444,
          1.599884595620995,
          1.5925906551048372,
          1.5854337146612205,
          1.5784139233603045,
          1.5715317298910008,
          1.5647879056651464,
          1.5581835703909659,
          1.5517202204942695,
          1.5453997608658943,
          1.539224540527151,
          1.533197392934567,
          1.5273216817977506,
          1.5216013534661321,
          1.5160409971614088,
          1.5106459146042166,
          1.5054222009217635,
          1.5003768391477925,
          1.4955178111645964,
          1.4908542286249773,
          1.486396488278984,
          1.4821564572832842,
          1.4781476955829709,
          1.4743857244570613,
          1.4708883529939865,
          1.4676760778779403,
          1.4647725768061597,
          1.462205322691328,
          1.4600063553872364,
          1.458213261313912,
          1.4568704310797669,
          1.456030694221069,
          1.4557574737264685,
          1.456127669773243,
          1.45723558692155,
          1.4591983880678703,
          1.4621638395022631,
          1.4663215950445962,
          1.4719201332096377,
          1.4792930853101365,
          1.4889019085692439,
          1.5014086587083315,
          1.5178081969005208,
          1.5396886590315724,
          1.5698032631560666,
          1.6135331530883945,
          1.6836336746576541,
          1.82426618767047
         ]
        },
        {
         "line": {
          "color": "rgba(83, 51, 237, 1)"
         },
         "name": "True Value",
         "showlegend": true,
         "type": "scattergl",
         "x": [
          0.01,
          0.0198989898989899,
          0.029797979797979796,
          0.039696969696969696,
          0.049595959595959596,
          0.059494949494949496,
          0.06939393939393938,
          0.07929292929292929,
          0.08919191919191918,
          0.09909090909090908,
          0.10898989898989898,
          0.11888888888888888,
          0.12878787878787878,
          0.1386868686868687,
          0.1485858585858586,
          0.15848484848484848,
          0.16838383838383839,
          0.1782828282828283,
          0.18818181818181817,
          0.19808080808080808,
          0.207979797979798,
          0.21787878787878787,
          0.22777777777777777,
          0.23767676767676768,
          0.24757575757575756,
          0.25747474747474747,
          0.2673737373737374,
          0.2772727272727273,
          0.2871717171717172,
          0.29707070707070704,
          0.30696969696969695,
          0.31686868686868686,
          0.32676767676767676,
          0.33666666666666667,
          0.3465656565656566,
          0.3564646464646465,
          0.36636363636363634,
          0.37626262626262624,
          0.38616161616161615,
          0.39606060606060606,
          0.40595959595959596,
          0.41585858585858587,
          0.4257575757575757,
          0.43565656565656563,
          0.44555555555555554,
          0.45545454545454545,
          0.46535353535353535,
          0.47525252525252526,
          0.4851515151515151,
          0.495050505050505,
          0.5049494949494949,
          0.5148484848484849,
          0.5247474747474747,
          0.5346464646464646,
          0.5445454545454546,
          0.5544444444444444,
          0.5643434343434344,
          0.5742424242424242,
          0.5841414141414141,
          0.594040404040404,
          0.6039393939393939,
          0.6138383838383838,
          0.6237373737373737,
          0.6336363636363637,
          0.6435353535353535,
          0.6534343434343434,
          0.6633333333333333,
          0.6732323232323232,
          0.6831313131313131,
          0.693030303030303,
          0.702929292929293,
          0.7128282828282828,
          0.7227272727272727,
          0.7326262626262626,
          0.7425252525252525,
          0.7524242424242424,
          0.7623232323232323,
          0.7722222222222221,
          0.7821212121212121,
          0.792020202020202,
          0.8019191919191919,
          0.8118181818181818,
          0.8217171717171717,
          0.8316161616161616,
          0.8415151515151514,
          0.8514141414141414,
          0.8613131313131313,
          0.8712121212121212,
          0.8811111111111111,
          0.891010101010101,
          0.9009090909090909,
          0.9108080808080807,
          0.9207070707070707,
          0.9306060606060605,
          0.9405050505050505,
          0.9504040404040404,
          0.9603030303030302,
          0.9702020202020202,
          0.98010101010101,
          0.99
         ],
         "y": [
          1,
          1,
          1,
          1,
          1,
          1,
          1,
          1,
          1,
          1,
          1,
          1,
          1,
          1,
          1,
          1,
          1,
          1,
          1,
          1,
          1,
          1,
          1,
          1,
          1,
          1,
          1,
          1,
          1,
          1,
          1,
          1,
          1,
          1,
          1,
          1,
          1,
          1,
          1,
          1,
          1,
          1,
          1,
          1,
          1,
          1,
          1,
          1,
          1,
          1,
          1,
          1,
          1,
          1,
          1,
          1,
          1,
          1,
          1,
          1,
          1,
          1,
          1,
          1,
          1,
          1,
          1,
          1,
          1,
          1,
          1,
          1,
          1,
          1,
          1,
          1,
          1,
          1,
          1,
          1,
          1,
          1,
          1,
          1,
          1,
          1,
          1,
          1,
          1,
          1,
          1,
          1,
          1,
          1,
          1,
          1,
          1,
          1,
          1,
          1
         ]
        }
       ],
       "layout": {
        "template": {
         "data": {
          "bar": [
           {
            "error_x": {
             "color": "#2a3f5f"
            },
            "error_y": {
             "color": "#2a3f5f"
            },
            "marker": {
             "line": {
              "color": "#E5ECF6",
              "width": 0.5
             }
            },
            "type": "bar"
           }
          ],
          "barpolar": [
           {
            "marker": {
             "line": {
              "color": "#E5ECF6",
              "width": 0.5
             }
            },
            "type": "barpolar"
           }
          ],
          "carpet": [
           {
            "aaxis": {
             "endlinecolor": "#2a3f5f",
             "gridcolor": "white",
             "linecolor": "white",
             "minorgridcolor": "white",
             "startlinecolor": "#2a3f5f"
            },
            "baxis": {
             "endlinecolor": "#2a3f5f",
             "gridcolor": "white",
             "linecolor": "white",
             "minorgridcolor": "white",
             "startlinecolor": "#2a3f5f"
            },
            "type": "carpet"
           }
          ],
          "choropleth": [
           {
            "colorbar": {
             "outlinewidth": 0,
             "ticks": ""
            },
            "type": "choropleth"
           }
          ],
          "contour": [
           {
            "colorbar": {
             "outlinewidth": 0,
             "ticks": ""
            },
            "colorscale": [
             [
              0,
              "#0d0887"
             ],
             [
              0.1111111111111111,
              "#46039f"
             ],
             [
              0.2222222222222222,
              "#7201a8"
             ],
             [
              0.3333333333333333,
              "#9c179e"
             ],
             [
              0.4444444444444444,
              "#bd3786"
             ],
             [
              0.5555555555555556,
              "#d8576b"
             ],
             [
              0.6666666666666666,
              "#ed7953"
             ],
             [
              0.7777777777777778,
              "#fb9f3a"
             ],
             [
              0.8888888888888888,
              "#fdca26"
             ],
             [
              1,
              "#f0f921"
             ]
            ],
            "type": "contour"
           }
          ],
          "contourcarpet": [
           {
            "colorbar": {
             "outlinewidth": 0,
             "ticks": ""
            },
            "type": "contourcarpet"
           }
          ],
          "heatmap": [
           {
            "colorbar": {
             "outlinewidth": 0,
             "ticks": ""
            },
            "colorscale": [
             [
              0,
              "#0d0887"
             ],
             [
              0.1111111111111111,
              "#46039f"
             ],
             [
              0.2222222222222222,
              "#7201a8"
             ],
             [
              0.3333333333333333,
              "#9c179e"
             ],
             [
              0.4444444444444444,
              "#bd3786"
             ],
             [
              0.5555555555555556,
              "#d8576b"
             ],
             [
              0.6666666666666666,
              "#ed7953"
             ],
             [
              0.7777777777777778,
              "#fb9f3a"
             ],
             [
              0.8888888888888888,
              "#fdca26"
             ],
             [
              1,
              "#f0f921"
             ]
            ],
            "type": "heatmap"
           }
          ],
          "heatmapgl": [
           {
            "colorbar": {
             "outlinewidth": 0,
             "ticks": ""
            },
            "colorscale": [
             [
              0,
              "#0d0887"
             ],
             [
              0.1111111111111111,
              "#46039f"
             ],
             [
              0.2222222222222222,
              "#7201a8"
             ],
             [
              0.3333333333333333,
              "#9c179e"
             ],
             [
              0.4444444444444444,
              "#bd3786"
             ],
             [
              0.5555555555555556,
              "#d8576b"
             ],
             [
              0.6666666666666666,
              "#ed7953"
             ],
             [
              0.7777777777777778,
              "#fb9f3a"
             ],
             [
              0.8888888888888888,
              "#fdca26"
             ],
             [
              1,
              "#f0f921"
             ]
            ],
            "type": "heatmapgl"
           }
          ],
          "histogram": [
           {
            "marker": {
             "colorbar": {
              "outlinewidth": 0,
              "ticks": ""
             }
            },
            "type": "histogram"
           }
          ],
          "histogram2d": [
           {
            "colorbar": {
             "outlinewidth": 0,
             "ticks": ""
            },
            "colorscale": [
             [
              0,
              "#0d0887"
             ],
             [
              0.1111111111111111,
              "#46039f"
             ],
             [
              0.2222222222222222,
              "#7201a8"
             ],
             [
              0.3333333333333333,
              "#9c179e"
             ],
             [
              0.4444444444444444,
              "#bd3786"
             ],
             [
              0.5555555555555556,
              "#d8576b"
             ],
             [
              0.6666666666666666,
              "#ed7953"
             ],
             [
              0.7777777777777778,
              "#fb9f3a"
             ],
             [
              0.8888888888888888,
              "#fdca26"
             ],
             [
              1,
              "#f0f921"
             ]
            ],
            "type": "histogram2d"
           }
          ],
          "histogram2dcontour": [
           {
            "colorbar": {
             "outlinewidth": 0,
             "ticks": ""
            },
            "colorscale": [
             [
              0,
              "#0d0887"
             ],
             [
              0.1111111111111111,
              "#46039f"
             ],
             [
              0.2222222222222222,
              "#7201a8"
             ],
             [
              0.3333333333333333,
              "#9c179e"
             ],
             [
              0.4444444444444444,
              "#bd3786"
             ],
             [
              0.5555555555555556,
              "#d8576b"
             ],
             [
              0.6666666666666666,
              "#ed7953"
             ],
             [
              0.7777777777777778,
              "#fb9f3a"
             ],
             [
              0.8888888888888888,
              "#fdca26"
             ],
             [
              1,
              "#f0f921"
             ]
            ],
            "type": "histogram2dcontour"
           }
          ],
          "mesh3d": [
           {
            "colorbar": {
             "outlinewidth": 0,
             "ticks": ""
            },
            "type": "mesh3d"
           }
          ],
          "parcoords": [
           {
            "line": {
             "colorbar": {
              "outlinewidth": 0,
              "ticks": ""
             }
            },
            "type": "parcoords"
           }
          ],
          "pie": [
           {
            "automargin": true,
            "type": "pie"
           }
          ],
          "scatter": [
           {
            "marker": {
             "colorbar": {
              "outlinewidth": 0,
              "ticks": ""
             }
            },
            "type": "scatter"
           }
          ],
          "scatter3d": [
           {
            "line": {
             "colorbar": {
              "outlinewidth": 0,
              "ticks": ""
             }
            },
            "marker": {
             "colorbar": {
              "outlinewidth": 0,
              "ticks": ""
             }
            },
            "type": "scatter3d"
           }
          ],
          "scattercarpet": [
           {
            "marker": {
             "colorbar": {
              "outlinewidth": 0,
              "ticks": ""
             }
            },
            "type": "scattercarpet"
           }
          ],
          "scattergeo": [
           {
            "marker": {
             "colorbar": {
              "outlinewidth": 0,
              "ticks": ""
             }
            },
            "type": "scattergeo"
           }
          ],
          "scattergl": [
           {
            "marker": {
             "colorbar": {
              "outlinewidth": 0,
              "ticks": ""
             }
            },
            "type": "scattergl"
           }
          ],
          "scattermapbox": [
           {
            "marker": {
             "colorbar": {
              "outlinewidth": 0,
              "ticks": ""
             }
            },
            "type": "scattermapbox"
           }
          ],
          "scatterpolar": [
           {
            "marker": {
             "colorbar": {
              "outlinewidth": 0,
              "ticks": ""
             }
            },
            "type": "scatterpolar"
           }
          ],
          "scatterpolargl": [
           {
            "marker": {
             "colorbar": {
              "outlinewidth": 0,
              "ticks": ""
             }
            },
            "type": "scatterpolargl"
           }
          ],
          "scatterternary": [
           {
            "marker": {
             "colorbar": {
              "outlinewidth": 0,
              "ticks": ""
             }
            },
            "type": "scatterternary"
           }
          ],
          "surface": [
           {
            "colorbar": {
             "outlinewidth": 0,
             "ticks": ""
            },
            "colorscale": [
             [
              0,
              "#0d0887"
             ],
             [
              0.1111111111111111,
              "#46039f"
             ],
             [
              0.2222222222222222,
              "#7201a8"
             ],
             [
              0.3333333333333333,
              "#9c179e"
             ],
             [
              0.4444444444444444,
              "#bd3786"
             ],
             [
              0.5555555555555556,
              "#d8576b"
             ],
             [
              0.6666666666666666,
              "#ed7953"
             ],
             [
              0.7777777777777778,
              "#fb9f3a"
             ],
             [
              0.8888888888888888,
              "#fdca26"
             ],
             [
              1,
              "#f0f921"
             ]
            ],
            "type": "surface"
           }
          ],
          "table": [
           {
            "cells": {
             "fill": {
              "color": "#EBF0F8"
             },
             "line": {
              "color": "white"
             }
            },
            "header": {
             "fill": {
              "color": "#C8D4E3"
             },
             "line": {
              "color": "white"
             }
            },
            "type": "table"
           }
          ]
         },
         "layout": {
          "annotationdefaults": {
           "arrowcolor": "#2a3f5f",
           "arrowhead": 0,
           "arrowwidth": 1
          },
          "coloraxis": {
           "colorbar": {
            "outlinewidth": 0,
            "ticks": ""
           }
          },
          "colorscale": {
           "diverging": [
            [
             0,
             "#8e0152"
            ],
            [
             0.1,
             "#c51b7d"
            ],
            [
             0.2,
             "#de77ae"
            ],
            [
             0.3,
             "#f1b6da"
            ],
            [
             0.4,
             "#fde0ef"
            ],
            [
             0.5,
             "#f7f7f7"
            ],
            [
             0.6,
             "#e6f5d0"
            ],
            [
             0.7,
             "#b8e186"
            ],
            [
             0.8,
             "#7fbc41"
            ],
            [
             0.9,
             "#4d9221"
            ],
            [
             1,
             "#276419"
            ]
           ],
           "sequential": [
            [
             0,
             "#0d0887"
            ],
            [
             0.1111111111111111,
             "#46039f"
            ],
            [
             0.2222222222222222,
             "#7201a8"
            ],
            [
             0.3333333333333333,
             "#9c179e"
            ],
            [
             0.4444444444444444,
             "#bd3786"
            ],
            [
             0.5555555555555556,
             "#d8576b"
            ],
            [
             0.6666666666666666,
             "#ed7953"
            ],
            [
             0.7777777777777778,
             "#fb9f3a"
            ],
            [
             0.8888888888888888,
             "#fdca26"
            ],
            [
             1,
             "#f0f921"
            ]
           ],
           "sequentialminus": [
            [
             0,
             "#0d0887"
            ],
            [
             0.1111111111111111,
             "#46039f"
            ],
            [
             0.2222222222222222,
             "#7201a8"
            ],
            [
             0.3333333333333333,
             "#9c179e"
            ],
            [
             0.4444444444444444,
             "#bd3786"
            ],
            [
             0.5555555555555556,
             "#d8576b"
            ],
            [
             0.6666666666666666,
             "#ed7953"
            ],
            [
             0.7777777777777778,
             "#fb9f3a"
            ],
            [
             0.8888888888888888,
             "#fdca26"
            ],
            [
             1,
             "#f0f921"
            ]
           ]
          },
          "colorway": [
           "#636efa",
           "#EF553B",
           "#00cc96",
           "#ab63fa",
           "#FFA15A",
           "#19d3f3",
           "#FF6692",
           "#B6E880",
           "#FF97FF",
           "#FECB52"
          ],
          "font": {
           "color": "#2a3f5f"
          },
          "geo": {
           "bgcolor": "white",
           "lakecolor": "white",
           "landcolor": "#E5ECF6",
           "showlakes": true,
           "showland": true,
           "subunitcolor": "white"
          },
          "hoverlabel": {
           "align": "left"
          },
          "hovermode": "closest",
          "mapbox": {
           "style": "light"
          },
          "paper_bgcolor": "white",
          "plot_bgcolor": "#E5ECF6",
          "polar": {
           "angularaxis": {
            "gridcolor": "white",
            "linecolor": "white",
            "ticks": ""
           },
           "bgcolor": "#E5ECF6",
           "radialaxis": {
            "gridcolor": "white",
            "linecolor": "white",
            "ticks": ""
           }
          },
          "scene": {
           "xaxis": {
            "backgroundcolor": "#E5ECF6",
            "gridcolor": "white",
            "gridwidth": 2,
            "linecolor": "white",
            "showbackground": true,
            "ticks": "",
            "zerolinecolor": "white"
           },
           "yaxis": {
            "backgroundcolor": "#E5ECF6",
            "gridcolor": "white",
            "gridwidth": 2,
            "linecolor": "white",
            "showbackground": true,
            "ticks": "",
            "zerolinecolor": "white"
           },
           "zaxis": {
            "backgroundcolor": "#E5ECF6",
            "gridcolor": "white",
            "gridwidth": 2,
            "linecolor": "white",
            "showbackground": true,
            "ticks": "",
            "zerolinecolor": "white"
           }
          },
          "shapedefaults": {
           "line": {
            "color": "#2a3f5f"
           }
          },
          "ternary": {
           "aaxis": {
            "gridcolor": "white",
            "linecolor": "white",
            "ticks": ""
           },
           "baxis": {
            "gridcolor": "white",
            "linecolor": "white",
            "ticks": ""
           },
           "bgcolor": "#E5ECF6",
           "caxis": {
            "gridcolor": "white",
            "linecolor": "white",
            "ticks": ""
           }
          },
          "title": {
           "x": 0.05
          },
          "xaxis": {
           "automargin": true,
           "gridcolor": "white",
           "linecolor": "white",
           "ticks": "",
           "title": {
            "standoff": 15
           },
           "zerolinecolor": "white",
           "zerolinewidth": 2
          },
          "yaxis": {
           "automargin": true,
           "gridcolor": "white",
           "linecolor": "white",
           "ticks": "",
           "title": {
            "standoff": 15
           },
           "zerolinecolor": "white",
           "zerolinewidth": 2
          }
         }
        },
        "title": {
         "pad": {
          "l": 350
         },
         "text": "PDF-Up Ratio Plot",
         "xanchor": "left",
         "yanchor": "top"
        }
       }
      },
      "text/html": [
       "<div>\n",
       "        \n",
       "        \n",
       "            <div id=\"edc0584a-a786-4315-b821-72c8ac44745a\" class=\"plotly-graph-div\" style=\"height:525px; width:100%;\"></div>\n",
       "            <script type=\"text/javascript\">\n",
       "                require([\"plotly\"], function(Plotly) {\n",
       "                    window.PLOTLYENV=window.PLOTLYENV || {};\n",
       "                    \n",
       "                if (document.getElementById(\"edc0584a-a786-4315-b821-72c8ac44745a\")) {\n",
       "                    Plotly.newPlot(\n",
       "                        'edc0584a-a786-4315-b821-72c8ac44745a',\n",
       "                        [{\"line\": {\"width\": 0}, \"marker\": {\"color\": \"#444\"}, \"mode\": \"lines\", \"name\": \"Pred Value Lower\", \"showlegend\": false, \"type\": \"scatter\", \"x\": [0.01, 0.0198989898989899, 0.029797979797979796, 0.039696969696969696, 0.049595959595959596, 0.059494949494949496, 0.06939393939393938, 0.07929292929292929, 0.08919191919191918, 0.09909090909090908, 0.10898989898989898, 0.11888888888888888, 0.12878787878787878, 0.1386868686868687, 0.1485858585858586, 0.15848484848484848, 0.16838383838383839, 0.1782828282828283, 0.18818181818181817, 0.19808080808080808, 0.207979797979798, 0.21787878787878787, 0.22777777777777777, 0.23767676767676768, 0.24757575757575756, 0.25747474747474747, 0.2673737373737374, 0.2772727272727273, 0.2871717171717172, 0.29707070707070704, 0.30696969696969695, 0.31686868686868686, 0.32676767676767676, 0.33666666666666667, 0.3465656565656566, 0.3564646464646465, 0.36636363636363634, 0.37626262626262624, 0.38616161616161615, 0.39606060606060606, 0.40595959595959596, 0.41585858585858587, 0.4257575757575757, 0.43565656565656563, 0.44555555555555554, 0.45545454545454545, 0.46535353535353535, 0.47525252525252526, 0.4851515151515151, 0.495050505050505, 0.5049494949494949, 0.5148484848484849, 0.5247474747474747, 0.5346464646464646, 0.5445454545454546, 0.5544444444444444, 0.5643434343434344, 0.5742424242424242, 0.5841414141414141, 0.594040404040404, 0.6039393939393939, 0.6138383838383838, 0.6237373737373737, 0.6336363636363637, 0.6435353535353535, 0.6534343434343434, 0.6633333333333333, 0.6732323232323232, 0.6831313131313131, 0.693030303030303, 0.702929292929293, 0.7128282828282828, 0.7227272727272727, 0.7326262626262626, 0.7425252525252525, 0.7524242424242424, 0.7623232323232323, 0.7722222222222221, 0.7821212121212121, 0.792020202020202, 0.8019191919191919, 0.8118181818181818, 0.8217171717171717, 0.8316161616161616, 0.8415151515151514, 0.8514141414141414, 0.8613131313131313, 0.8712121212121212, 0.8811111111111111, 0.891010101010101, 0.9009090909090909, 0.9108080808080807, 0.9207070707070707, 0.9306060606060605, 0.9405050505050505, 0.9504040404040404, 0.9603030303030302, 0.9702020202020202, 0.98010101010101, 0.99], \"y\": [1.933054001610301, 1.9175803625543457, 1.9044235621939523, 1.8923731485267252, 1.8809912415599188, 1.8700646048098764, 1.8594714519361226, 1.849134758171729, 1.8390021808978405, 1.8290361821840253, 1.819208679517562, 1.8094979306415255, 1.7998866131427829, 1.7903605849987687, 1.780908053893701, 1.7715190027353687, 1.762184781741949, 1.752897812308927, 1.7436513680027128, 1.734439410104706, 1.7252564626090603, 1.7160975163407215, 1.706957954968291, 1.697833497757153, 1.6887201553131148, 1.6796141955338506, 1.6705121176595983, 1.6614106327883411, 1.6523066495567817, 1.6431972639280636, 1.6340797521995296, 1.6249515664696281, 1.6158103318977335, 1.6066538451641372, 1.597480073599766, 1.5882871545108486, 1.5790733942780195, 1.5698372668648861, 1.560577411429095, 1.551292628790112, 1.5419818765713418, 1.532644262898504, 1.523279038599299, 1.5138855879091744, 1.504463417741757, 1.4950121456287777, 1.4855314864705758, 1.4760212382642202, 1.4664812669907288, 1.4569114908464669, 1.4473118639967375, 1.4376823600134747, 1.428022955134828, 1.4183336114539382, 1.408614260109301, 1.3988647845104447, 1.3890850035922693, 1.3792746550494712, 1.3694333784598491, 1.3595606981617976, 1.349656005706985, 1.3397185416624613, 1.3297473764871626, 1.319741390152985, 1.3096992501190676, 1.29961938719593, 1.2894999687505098, 1.279338868598658, 1.2691336328027152, 1.2588814404299324, 1.2485790581226484, 1.2382227870692835, 1.2278084006275418, 1.217331070412331, 1.2067852780854642, 1.1961647093232024, 1.1854621254210662, 1.1746692066240623, 1.1637763593990536, 1.1527724772813308, 1.1416446413098775, 1.1303777409279903, 1.118953988812709, 1.1073522922102115, 1.095547427056681, 1.083508936236277, 1.0711996342771546, 1.058573537949487, 1.0455729380056056, 1.0321241483564545, 1.0181311492774354, 1.0034657430021245, 0.9879516577470888, 0.9713375410985048, 0.9532480769410272, 0.9330880148463319, 0.9098321492790412, 0.8814893416359812, 0.8433651106024671, 0.7792347876257429]}, {\"fill\": \"tonexty\", \"fillcolor\": \"rgba(248, 148, 6, 0.4)\", \"line\": {\"color\": \"rgba(217, 30, 24, 1)\"}, \"mode\": \"lines\", \"name\": \"Pred Value\", \"showlegend\": true, \"type\": \"scatter\", \"x\": [0.01, 0.0198989898989899, 0.029797979797979796, 0.039696969696969696, 0.049595959595959596, 0.059494949494949496, 0.06939393939393938, 0.07929292929292929, 0.08919191919191918, 0.09909090909090908, 0.10898989898989898, 0.11888888888888888, 0.12878787878787878, 0.1386868686868687, 0.1485858585858586, 0.15848484848484848, 0.16838383838383839, 0.1782828282828283, 0.18818181818181817, 0.19808080808080808, 0.207979797979798, 0.21787878787878787, 0.22777777777777777, 0.23767676767676768, 0.24757575757575756, 0.25747474747474747, 0.2673737373737374, 0.2772727272727273, 0.2871717171717172, 0.29707070707070704, 0.30696969696969695, 0.31686868686868686, 0.32676767676767676, 0.33666666666666667, 0.3465656565656566, 0.3564646464646465, 0.36636363636363634, 0.37626262626262624, 0.38616161616161615, 0.39606060606060606, 0.40595959595959596, 0.41585858585858587, 0.4257575757575757, 0.43565656565656563, 0.44555555555555554, 0.45545454545454545, 0.46535353535353535, 0.47525252525252526, 0.4851515151515151, 0.495050505050505, 0.5049494949494949, 0.5148484848484849, 0.5247474747474747, 0.5346464646464646, 0.5445454545454546, 0.5544444444444444, 0.5643434343434344, 0.5742424242424242, 0.5841414141414141, 0.594040404040404, 0.6039393939393939, 0.6138383838383838, 0.6237373737373737, 0.6336363636363637, 0.6435353535353535, 0.6534343434343434, 0.6633333333333333, 0.6732323232323232, 0.6831313131313131, 0.693030303030303, 0.702929292929293, 0.7128282828282828, 0.7227272727272727, 0.7326262626262626, 0.7425252525252525, 0.7524242424242424, 0.7623232323232323, 0.7722222222222221, 0.7821212121212121, 0.792020202020202, 0.8019191919191919, 0.8118181818181818, 0.8217171717171717, 0.8316161616161616, 0.8415151515151514, 0.8514141414141414, 0.8613131313131313, 0.8712121212121212, 0.8811111111111111, 0.891010101010101, 0.9009090909090909, 0.9108080808080807, 0.9207070707070707, 0.9306060606060605, 0.9405050505050505, 0.9504040404040404, 0.9603030303030302, 0.9702020202020202, 0.98010101010101, 0.99], \"y\": [2.2379327944604204, 2.169172854352865, 2.1266076759302273, 2.094523780719409, 2.068097657022481, 2.0452114188446724, 2.0247477874874464, 2.0060458768263354, 1.988682683150665, 1.9723713314725582, 1.9569084453060426, 1.942144692948781, 1.927967258167864, 1.914288878494017, 1.9010407056507, 1.8881674940333244, 1.8756242626342479, 1.8633739205756314, 1.85138554092343, 1.8396330815634037, 1.8280944211703576, 1.8167506215999765, 1.8055853558279746, 1.7945844588294653, 1.7837355710543943, 1.7730278525450258, 1.7624517515825817, 1.7519988158807207, 1.741661537307765, 1.731433223274844, 1.721307889513598, 1.7112801701482936, 1.7013452418563195, 1.6914987595859976, 1.6817368018190726, 1.672055823765757, 1.662452617192789, 1.6529242758307239, 1.6434681655011327, 1.6340818982595855, 1.6247633099748742, 1.6155104408656669, 1.6063215185977486, 1.5971949436123192, 1.588129276411127, 1.579123226570623, 1.5701756432958403, 1.5612855073577028, 1.5524519242854815, 1.543674118710637, 1.5349514297796891, 1.5262833075731987, 1.517669310485636, 1.5091091035374666, 1.5006024576070691, 1.4921492495858326, 1.483749463476287, 1.475403192470236, 1.4671106420624977, 1.4588721342763817, 1.4506881131006273, 1.4425591512641778, 1.4344859585071568, 1.426469391543776, 1.4185104659584091, 1.410610370331031, 1.4027704829559593, 1.3949923916014373, 1.3872779168622393, 1.3796291397888625, 1.3720484346436224, 1.3645385078471304, 1.357102444453263, 1.3497437638478076, 1.3424664868342175, 1.3352752168901318, 1.3281752392075263, 1.3211726422510013, 1.3142744681026066, 1.3074888999863294, 1.300825498348557, 1.2942955011209512, 1.287912209946238, 1.2816914932156402, 1.2756524503915747, 1.26981830300476, 1.2642176105993523, 1.2588859630086786, 1.2538683887539344, 1.2492228717005254, 1.2450256412435365, 1.2413794141561305, 1.2384267831581663, 1.2363730999034181, 1.235528136920774, 1.2363883369389521, 1.239817706217554, 1.2475112473621879, 1.2634993926300606, 1.3017504876481065]}, {\"fill\": \"tonexty\", \"fillcolor\": \"rgba(248, 148, 6, 0.4)\", \"line\": {\"color\": \"rgba(255,255,255,0)\", \"width\": 0}, \"marker\": {\"color\": \"#444\"}, \"mode\": \"lines\", \"name\": \"Pred Value Upper\", \"showlegend\": false, \"type\": \"scatter\", \"x\": [0.01, 0.0198989898989899, 0.029797979797979796, 0.039696969696969696, 0.049595959595959596, 0.059494949494949496, 0.06939393939393938, 0.07929292929292929, 0.08919191919191918, 0.09909090909090908, 0.10898989898989898, 0.11888888888888888, 0.12878787878787878, 0.1386868686868687, 0.1485858585858586, 0.15848484848484848, 0.16838383838383839, 0.1782828282828283, 0.18818181818181817, 0.19808080808080808, 0.207979797979798, 0.21787878787878787, 0.22777777777777777, 0.23767676767676768, 0.24757575757575756, 0.25747474747474747, 0.2673737373737374, 0.2772727272727273, 0.2871717171717172, 0.29707070707070704, 0.30696969696969695, 0.31686868686868686, 0.32676767676767676, 0.33666666666666667, 0.3465656565656566, 0.3564646464646465, 0.36636363636363634, 0.37626262626262624, 0.38616161616161615, 0.39606060606060606, 0.40595959595959596, 0.41585858585858587, 0.4257575757575757, 0.43565656565656563, 0.44555555555555554, 0.45545454545454545, 0.46535353535353535, 0.47525252525252526, 0.4851515151515151, 0.495050505050505, 0.5049494949494949, 0.5148484848484849, 0.5247474747474747, 0.5346464646464646, 0.5445454545454546, 0.5544444444444444, 0.5643434343434344, 0.5742424242424242, 0.5841414141414141, 0.594040404040404, 0.6039393939393939, 0.6138383838383838, 0.6237373737373737, 0.6336363636363637, 0.6435353535353535, 0.6534343434343434, 0.6633333333333333, 0.6732323232323232, 0.6831313131313131, 0.693030303030303, 0.702929292929293, 0.7128282828282828, 0.7227272727272727, 0.7326262626262626, 0.7425252525252525, 0.7524242424242424, 0.7623232323232323, 0.7722222222222221, 0.7821212121212121, 0.792020202020202, 0.8019191919191919, 0.8118181818181818, 0.8217171717171717, 0.8316161616161616, 0.8415151515151514, 0.8514141414141414, 0.8613131313131313, 0.8712121212121212, 0.8811111111111111, 0.891010101010101, 0.9009090909090909, 0.9108080808080807, 0.9207070707070707, 0.9306060606060605, 0.9405050505050505, 0.9504040404040404, 0.9603030303030302, 0.9702020202020202, 0.98010101010101, 0.99], \"y\": [2.5428115873105397, 2.4207653461513843, 2.3487917896665023, 2.2966744129120924, 2.2552040724850437, 2.2203582328794687, 2.19002412303877, 2.1629569954809416, 2.1383631854034895, 2.1157064807610912, 2.094608211094523, 2.0747914552560363, 2.0560479031929453, 2.0382171719892654, 2.021173357407699, 2.00481598533128, 1.9890637435265468, 1.973850028842336, 1.9591197138441474, 1.9448267530221013, 1.9309323797316549, 1.9174037268592314, 1.9042127566876583, 1.8913354199017776, 1.8787509867956738, 1.866441509556201, 1.8543913855055651, 1.8425869989731003, 1.8310164250587484, 1.8196691826216242, 1.8085360268276665, 1.797608773826959, 1.7868801518149056, 1.776343674007858, 1.7659935300383791, 1.7558244930206655, 1.7458318401075583, 1.7360112847965616, 1.7263589195731706, 1.716871167729059, 1.7075447433784066, 1.6983766188328298, 1.6893639985961983, 1.680504299315464, 1.671795135080497, 1.6632343075124683, 1.6548198001211047, 1.6465497764511854, 1.6384225815802342, 1.6304367465748073, 1.6225909955626407, 1.6148842551329228, 1.607315665836444, 1.599884595620995, 1.5925906551048372, 1.5854337146612205, 1.5784139233603045, 1.5715317298910008, 1.5647879056651464, 1.5581835703909659, 1.5517202204942695, 1.5453997608658943, 1.539224540527151, 1.533197392934567, 1.5273216817977506, 1.5216013534661321, 1.5160409971614088, 1.5106459146042166, 1.5054222009217635, 1.5003768391477925, 1.4955178111645964, 1.4908542286249773, 1.486396488278984, 1.4821564572832842, 1.4781476955829709, 1.4743857244570613, 1.4708883529939865, 1.4676760778779403, 1.4647725768061597, 1.462205322691328, 1.4600063553872364, 1.458213261313912, 1.4568704310797669, 1.456030694221069, 1.4557574737264685, 1.456127669773243, 1.45723558692155, 1.4591983880678703, 1.4621638395022631, 1.4663215950445962, 1.4719201332096377, 1.4792930853101365, 1.4889019085692439, 1.5014086587083315, 1.5178081969005208, 1.5396886590315724, 1.5698032631560666, 1.6135331530883945, 1.6836336746576541, 1.82426618767047]}, {\"line\": {\"color\": \"rgba(83, 51, 237, 1)\"}, \"name\": \"True Value\", \"showlegend\": true, \"type\": \"scattergl\", \"x\": [0.01, 0.0198989898989899, 0.029797979797979796, 0.039696969696969696, 0.049595959595959596, 0.059494949494949496, 0.06939393939393938, 0.07929292929292929, 0.08919191919191918, 0.09909090909090908, 0.10898989898989898, 0.11888888888888888, 0.12878787878787878, 0.1386868686868687, 0.1485858585858586, 0.15848484848484848, 0.16838383838383839, 0.1782828282828283, 0.18818181818181817, 0.19808080808080808, 0.207979797979798, 0.21787878787878787, 0.22777777777777777, 0.23767676767676768, 0.24757575757575756, 0.25747474747474747, 0.2673737373737374, 0.2772727272727273, 0.2871717171717172, 0.29707070707070704, 0.30696969696969695, 0.31686868686868686, 0.32676767676767676, 0.33666666666666667, 0.3465656565656566, 0.3564646464646465, 0.36636363636363634, 0.37626262626262624, 0.38616161616161615, 0.39606060606060606, 0.40595959595959596, 0.41585858585858587, 0.4257575757575757, 0.43565656565656563, 0.44555555555555554, 0.45545454545454545, 0.46535353535353535, 0.47525252525252526, 0.4851515151515151, 0.495050505050505, 0.5049494949494949, 0.5148484848484849, 0.5247474747474747, 0.5346464646464646, 0.5445454545454546, 0.5544444444444444, 0.5643434343434344, 0.5742424242424242, 0.5841414141414141, 0.594040404040404, 0.6039393939393939, 0.6138383838383838, 0.6237373737373737, 0.6336363636363637, 0.6435353535353535, 0.6534343434343434, 0.6633333333333333, 0.6732323232323232, 0.6831313131313131, 0.693030303030303, 0.702929292929293, 0.7128282828282828, 0.7227272727272727, 0.7326262626262626, 0.7425252525252525, 0.7524242424242424, 0.7623232323232323, 0.7722222222222221, 0.7821212121212121, 0.792020202020202, 0.8019191919191919, 0.8118181818181818, 0.8217171717171717, 0.8316161616161616, 0.8415151515151514, 0.8514141414141414, 0.8613131313131313, 0.8712121212121212, 0.8811111111111111, 0.891010101010101, 0.9009090909090909, 0.9108080808080807, 0.9207070707070707, 0.9306060606060605, 0.9405050505050505, 0.9504040404040404, 0.9603030303030302, 0.9702020202020202, 0.98010101010101, 0.99], \"y\": [1.0, 1.0, 1.0, 1.0, 1.0, 1.0, 1.0, 1.0, 1.0, 1.0, 1.0, 1.0, 1.0, 1.0, 1.0, 1.0, 1.0, 1.0, 1.0, 1.0, 1.0, 1.0, 1.0, 1.0, 1.0, 1.0, 1.0, 1.0, 1.0, 1.0, 1.0, 1.0, 1.0, 1.0, 1.0, 1.0, 1.0, 1.0, 1.0, 1.0, 1.0, 1.0, 1.0, 1.0, 1.0, 1.0, 1.0, 1.0, 1.0, 1.0, 1.0, 1.0, 1.0, 1.0, 1.0, 1.0, 1.0, 1.0, 1.0, 1.0, 1.0, 1.0, 1.0, 1.0, 1.0, 1.0, 1.0, 1.0, 1.0, 1.0, 1.0, 1.0, 1.0, 1.0, 1.0, 1.0, 1.0, 1.0, 1.0, 1.0, 1.0, 1.0, 1.0, 1.0, 1.0, 1.0, 1.0, 1.0, 1.0, 1.0, 1.0, 1.0, 1.0, 1.0, 1.0, 1.0, 1.0, 1.0, 1.0, 1.0]}],\n",
       "                        {\"template\": {\"data\": {\"bar\": [{\"error_x\": {\"color\": \"#2a3f5f\"}, \"error_y\": {\"color\": \"#2a3f5f\"}, \"marker\": {\"line\": {\"color\": \"#E5ECF6\", \"width\": 0.5}}, \"type\": \"bar\"}], \"barpolar\": [{\"marker\": {\"line\": {\"color\": \"#E5ECF6\", \"width\": 0.5}}, \"type\": \"barpolar\"}], \"carpet\": [{\"aaxis\": {\"endlinecolor\": \"#2a3f5f\", \"gridcolor\": \"white\", \"linecolor\": \"white\", \"minorgridcolor\": \"white\", \"startlinecolor\": \"#2a3f5f\"}, \"baxis\": {\"endlinecolor\": \"#2a3f5f\", \"gridcolor\": \"white\", \"linecolor\": \"white\", \"minorgridcolor\": \"white\", \"startlinecolor\": \"#2a3f5f\"}, \"type\": \"carpet\"}], \"choropleth\": [{\"colorbar\": {\"outlinewidth\": 0, \"ticks\": \"\"}, \"type\": \"choropleth\"}], \"contour\": [{\"colorbar\": {\"outlinewidth\": 0, \"ticks\": \"\"}, \"colorscale\": [[0.0, \"#0d0887\"], [0.1111111111111111, \"#46039f\"], [0.2222222222222222, \"#7201a8\"], [0.3333333333333333, \"#9c179e\"], [0.4444444444444444, \"#bd3786\"], [0.5555555555555556, \"#d8576b\"], [0.6666666666666666, \"#ed7953\"], [0.7777777777777778, \"#fb9f3a\"], [0.8888888888888888, \"#fdca26\"], [1.0, \"#f0f921\"]], \"type\": \"contour\"}], \"contourcarpet\": [{\"colorbar\": {\"outlinewidth\": 0, \"ticks\": \"\"}, \"type\": \"contourcarpet\"}], \"heatmap\": [{\"colorbar\": {\"outlinewidth\": 0, \"ticks\": \"\"}, \"colorscale\": [[0.0, \"#0d0887\"], [0.1111111111111111, \"#46039f\"], [0.2222222222222222, \"#7201a8\"], [0.3333333333333333, \"#9c179e\"], [0.4444444444444444, \"#bd3786\"], [0.5555555555555556, \"#d8576b\"], [0.6666666666666666, \"#ed7953\"], [0.7777777777777778, \"#fb9f3a\"], [0.8888888888888888, \"#fdca26\"], [1.0, \"#f0f921\"]], \"type\": \"heatmap\"}], \"heatmapgl\": [{\"colorbar\": {\"outlinewidth\": 0, \"ticks\": \"\"}, \"colorscale\": [[0.0, \"#0d0887\"], [0.1111111111111111, \"#46039f\"], [0.2222222222222222, \"#7201a8\"], [0.3333333333333333, \"#9c179e\"], [0.4444444444444444, \"#bd3786\"], [0.5555555555555556, \"#d8576b\"], [0.6666666666666666, \"#ed7953\"], [0.7777777777777778, \"#fb9f3a\"], [0.8888888888888888, \"#fdca26\"], [1.0, \"#f0f921\"]], \"type\": \"heatmapgl\"}], \"histogram\": [{\"marker\": {\"colorbar\": {\"outlinewidth\": 0, \"ticks\": \"\"}}, \"type\": \"histogram\"}], \"histogram2d\": [{\"colorbar\": {\"outlinewidth\": 0, \"ticks\": \"\"}, \"colorscale\": [[0.0, \"#0d0887\"], [0.1111111111111111, \"#46039f\"], [0.2222222222222222, \"#7201a8\"], [0.3333333333333333, \"#9c179e\"], [0.4444444444444444, \"#bd3786\"], [0.5555555555555556, \"#d8576b\"], [0.6666666666666666, \"#ed7953\"], [0.7777777777777778, \"#fb9f3a\"], [0.8888888888888888, \"#fdca26\"], [1.0, \"#f0f921\"]], \"type\": \"histogram2d\"}], \"histogram2dcontour\": [{\"colorbar\": {\"outlinewidth\": 0, \"ticks\": \"\"}, \"colorscale\": [[0.0, \"#0d0887\"], [0.1111111111111111, \"#46039f\"], [0.2222222222222222, \"#7201a8\"], [0.3333333333333333, \"#9c179e\"], [0.4444444444444444, \"#bd3786\"], [0.5555555555555556, \"#d8576b\"], [0.6666666666666666, \"#ed7953\"], [0.7777777777777778, \"#fb9f3a\"], [0.8888888888888888, \"#fdca26\"], [1.0, \"#f0f921\"]], \"type\": \"histogram2dcontour\"}], \"mesh3d\": [{\"colorbar\": {\"outlinewidth\": 0, \"ticks\": \"\"}, \"type\": \"mesh3d\"}], \"parcoords\": [{\"line\": {\"colorbar\": {\"outlinewidth\": 0, \"ticks\": \"\"}}, \"type\": \"parcoords\"}], \"pie\": [{\"automargin\": true, \"type\": \"pie\"}], \"scatter\": [{\"marker\": {\"colorbar\": {\"outlinewidth\": 0, \"ticks\": \"\"}}, \"type\": \"scatter\"}], \"scatter3d\": [{\"line\": {\"colorbar\": {\"outlinewidth\": 0, \"ticks\": \"\"}}, \"marker\": {\"colorbar\": {\"outlinewidth\": 0, \"ticks\": \"\"}}, \"type\": \"scatter3d\"}], \"scattercarpet\": [{\"marker\": {\"colorbar\": {\"outlinewidth\": 0, \"ticks\": \"\"}}, \"type\": \"scattercarpet\"}], \"scattergeo\": [{\"marker\": {\"colorbar\": {\"outlinewidth\": 0, \"ticks\": \"\"}}, \"type\": \"scattergeo\"}], \"scattergl\": [{\"marker\": {\"colorbar\": {\"outlinewidth\": 0, \"ticks\": \"\"}}, \"type\": \"scattergl\"}], \"scattermapbox\": [{\"marker\": {\"colorbar\": {\"outlinewidth\": 0, \"ticks\": \"\"}}, \"type\": \"scattermapbox\"}], \"scatterpolar\": [{\"marker\": {\"colorbar\": {\"outlinewidth\": 0, \"ticks\": \"\"}}, \"type\": \"scatterpolar\"}], \"scatterpolargl\": [{\"marker\": {\"colorbar\": {\"outlinewidth\": 0, \"ticks\": \"\"}}, \"type\": \"scatterpolargl\"}], \"scatterternary\": [{\"marker\": {\"colorbar\": {\"outlinewidth\": 0, \"ticks\": \"\"}}, \"type\": \"scatterternary\"}], \"surface\": [{\"colorbar\": {\"outlinewidth\": 0, \"ticks\": \"\"}, \"colorscale\": [[0.0, \"#0d0887\"], [0.1111111111111111, \"#46039f\"], [0.2222222222222222, \"#7201a8\"], [0.3333333333333333, \"#9c179e\"], [0.4444444444444444, \"#bd3786\"], [0.5555555555555556, \"#d8576b\"], [0.6666666666666666, \"#ed7953\"], [0.7777777777777778, \"#fb9f3a\"], [0.8888888888888888, \"#fdca26\"], [1.0, \"#f0f921\"]], \"type\": \"surface\"}], \"table\": [{\"cells\": {\"fill\": {\"color\": \"#EBF0F8\"}, \"line\": {\"color\": \"white\"}}, \"header\": {\"fill\": {\"color\": \"#C8D4E3\"}, \"line\": {\"color\": \"white\"}}, \"type\": \"table\"}]}, \"layout\": {\"annotationdefaults\": {\"arrowcolor\": \"#2a3f5f\", \"arrowhead\": 0, \"arrowwidth\": 1}, \"coloraxis\": {\"colorbar\": {\"outlinewidth\": 0, \"ticks\": \"\"}}, \"colorscale\": {\"diverging\": [[0, \"#8e0152\"], [0.1, \"#c51b7d\"], [0.2, \"#de77ae\"], [0.3, \"#f1b6da\"], [0.4, \"#fde0ef\"], [0.5, \"#f7f7f7\"], [0.6, \"#e6f5d0\"], [0.7, \"#b8e186\"], [0.8, \"#7fbc41\"], [0.9, \"#4d9221\"], [1, \"#276419\"]], \"sequential\": [[0.0, \"#0d0887\"], [0.1111111111111111, \"#46039f\"], [0.2222222222222222, \"#7201a8\"], [0.3333333333333333, \"#9c179e\"], [0.4444444444444444, \"#bd3786\"], [0.5555555555555556, \"#d8576b\"], [0.6666666666666666, \"#ed7953\"], [0.7777777777777778, \"#fb9f3a\"], [0.8888888888888888, \"#fdca26\"], [1.0, \"#f0f921\"]], \"sequentialminus\": [[0.0, \"#0d0887\"], [0.1111111111111111, \"#46039f\"], [0.2222222222222222, \"#7201a8\"], [0.3333333333333333, \"#9c179e\"], [0.4444444444444444, \"#bd3786\"], [0.5555555555555556, \"#d8576b\"], [0.6666666666666666, \"#ed7953\"], [0.7777777777777778, \"#fb9f3a\"], [0.8888888888888888, \"#fdca26\"], [1.0, \"#f0f921\"]]}, \"colorway\": [\"#636efa\", \"#EF553B\", \"#00cc96\", \"#ab63fa\", \"#FFA15A\", \"#19d3f3\", \"#FF6692\", \"#B6E880\", \"#FF97FF\", \"#FECB52\"], \"font\": {\"color\": \"#2a3f5f\"}, \"geo\": {\"bgcolor\": \"white\", \"lakecolor\": \"white\", \"landcolor\": \"#E5ECF6\", \"showlakes\": true, \"showland\": true, \"subunitcolor\": \"white\"}, \"hoverlabel\": {\"align\": \"left\"}, \"hovermode\": \"closest\", \"mapbox\": {\"style\": \"light\"}, \"paper_bgcolor\": \"white\", \"plot_bgcolor\": \"#E5ECF6\", \"polar\": {\"angularaxis\": {\"gridcolor\": \"white\", \"linecolor\": \"white\", \"ticks\": \"\"}, \"bgcolor\": \"#E5ECF6\", \"radialaxis\": {\"gridcolor\": \"white\", \"linecolor\": \"white\", \"ticks\": \"\"}}, \"scene\": {\"xaxis\": {\"backgroundcolor\": \"#E5ECF6\", \"gridcolor\": \"white\", \"gridwidth\": 2, \"linecolor\": \"white\", \"showbackground\": true, \"ticks\": \"\", \"zerolinecolor\": \"white\"}, \"yaxis\": {\"backgroundcolor\": \"#E5ECF6\", \"gridcolor\": \"white\", \"gridwidth\": 2, \"linecolor\": \"white\", \"showbackground\": true, \"ticks\": \"\", \"zerolinecolor\": \"white\"}, \"zaxis\": {\"backgroundcolor\": \"#E5ECF6\", \"gridcolor\": \"white\", \"gridwidth\": 2, \"linecolor\": \"white\", \"showbackground\": true, \"ticks\": \"\", \"zerolinecolor\": \"white\"}}, \"shapedefaults\": {\"line\": {\"color\": \"#2a3f5f\"}}, \"ternary\": {\"aaxis\": {\"gridcolor\": \"white\", \"linecolor\": \"white\", \"ticks\": \"\"}, \"baxis\": {\"gridcolor\": \"white\", \"linecolor\": \"white\", \"ticks\": \"\"}, \"bgcolor\": \"#E5ECF6\", \"caxis\": {\"gridcolor\": \"white\", \"linecolor\": \"white\", \"ticks\": \"\"}}, \"title\": {\"x\": 0.05}, \"xaxis\": {\"automargin\": true, \"gridcolor\": \"white\", \"linecolor\": \"white\", \"ticks\": \"\", \"title\": {\"standoff\": 15}, \"zerolinecolor\": \"white\", \"zerolinewidth\": 2}, \"yaxis\": {\"automargin\": true, \"gridcolor\": \"white\", \"linecolor\": \"white\", \"ticks\": \"\", \"title\": {\"standoff\": 15}, \"zerolinecolor\": \"white\", \"zerolinewidth\": 2}}}, \"title\": {\"pad\": {\"l\": 350}, \"text\": \"PDF-Up Ratio Plot\", \"xanchor\": \"left\", \"yanchor\": \"top\"}},\n",
       "                        {\"responsive\": true}\n",
       "                    ).then(function(){\n",
       "                            \n",
       "var gd = document.getElementById('edc0584a-a786-4315-b821-72c8ac44745a');\n",
       "var x = new MutationObserver(function (mutations, observer) {{\n",
       "        var display = window.getComputedStyle(gd).display;\n",
       "        if (!display || display === 'none') {{\n",
       "            console.log([gd, 'removed!']);\n",
       "            Plotly.purge(gd);\n",
       "            observer.disconnect();\n",
       "        }}\n",
       "}});\n",
       "\n",
       "// Listen for the removal of the full notebook cells\n",
       "var notebookContainer = gd.closest('#notebook-container');\n",
       "if (notebookContainer) {{\n",
       "    x.observe(notebookContainer, {childList: true});\n",
       "}}\n",
       "\n",
       "// Listen for the clearing of the current output cell\n",
       "var outputEl = gd.closest('.output');\n",
       "if (outputEl) {{\n",
       "    x.observe(outputEl, {childList: true});\n",
       "}}\n",
       "\n",
       "                        })\n",
       "                };\n",
       "                });\n",
       "            </script>\n",
       "        </div>"
      ]
     },
     "metadata": {},
     "output_type": "display_data"
    }
   ],
   "source": [
    "#---- ratio plot\n",
    "u_n = u/u \n",
    "d_n = d/d\n",
    "\n",
    "#--- bounds\n",
    "upperBound = pdf_dict['u'].mean(axis=0)/u + pdf_dict['u'].std(axis=0)/u\n",
    "lowerbound = pdf_dict['u'].mean(axis=0)/u - pdf_dict['u'].std(axis=0)/u\n",
    "\n",
    "#--- yPred\n",
    "yPred = pdf_dict['u'].mean(axis = 0)/u\n",
    "\n",
    "ratioPlot = generatePDFplots(x,u_n,upperBound,yPred,lowerbound,'PDF-Up Ratio Plot')\n",
    "ratioPlot.show()"
   ]
  },
  {
   "cell_type": "code",
   "execution_count": 117,
   "metadata": {},
   "outputs": [
    {
     "data": {
      "application/vnd.plotly.v1+json": {
       "config": {
        "plotlyServerURL": "https://plot.ly"
       },
       "data": [
        {
         "line": {
          "width": 0
         },
         "marker": {
          "color": "#444"
         },
         "mode": "lines",
         "name": "Pred Value Lower",
         "showlegend": false,
         "type": "scatter",
         "x": [
          0.01,
          0.0198989898989899,
          0.029797979797979796,
          0.039696969696969696,
          0.049595959595959596,
          0.059494949494949496,
          0.06939393939393938,
          0.07929292929292929,
          0.08919191919191918,
          0.09909090909090908,
          0.10898989898989898,
          0.11888888888888888,
          0.12878787878787878,
          0.1386868686868687,
          0.1485858585858586,
          0.15848484848484848,
          0.16838383838383839,
          0.1782828282828283,
          0.18818181818181817,
          0.19808080808080808,
          0.207979797979798,
          0.21787878787878787,
          0.22777777777777777,
          0.23767676767676768,
          0.24757575757575756,
          0.25747474747474747,
          0.2673737373737374,
          0.2772727272727273,
          0.2871717171717172,
          0.29707070707070704,
          0.30696969696969695,
          0.31686868686868686,
          0.32676767676767676,
          0.33666666666666667,
          0.3465656565656566,
          0.3564646464646465,
          0.36636363636363634,
          0.37626262626262624,
          0.38616161616161615,
          0.39606060606060606,
          0.40595959595959596,
          0.41585858585858587,
          0.4257575757575757,
          0.43565656565656563,
          0.44555555555555554,
          0.45545454545454545,
          0.46535353535353535,
          0.47525252525252526,
          0.4851515151515151,
          0.495050505050505,
          0.5049494949494949,
          0.5148484848484849,
          0.5247474747474747,
          0.5346464646464646,
          0.5445454545454546,
          0.5544444444444444,
          0.5643434343434344,
          0.5742424242424242,
          0.5841414141414141,
          0.594040404040404,
          0.6039393939393939,
          0.6138383838383838,
          0.6237373737373737,
          0.6336363636363637,
          0.6435353535353535,
          0.6534343434343434,
          0.6633333333333333,
          0.6732323232323232,
          0.6831313131313131,
          0.693030303030303,
          0.702929292929293,
          0.7128282828282828,
          0.7227272727272727,
          0.7326262626262626,
          0.7425252525252525,
          0.7524242424242424,
          0.7623232323232323,
          0.7722222222222221,
          0.7821212121212121,
          0.792020202020202,
          0.8019191919191919,
          0.8118181818181818,
          0.8217171717171717,
          0.8316161616161616,
          0.8415151515151514,
          0.8514141414141414,
          0.8613131313131313,
          0.8712121212121212,
          0.8811111111111111,
          0.891010101010101,
          0.9009090909090909,
          0.9108080808080807,
          0.9207070707070707,
          0.9306060606060605,
          0.9405050505050505,
          0.9504040404040404,
          0.9603030303030302,
          0.9702020202020202,
          0.98010101010101,
          0.99
         ],
         "y": [
          6.415145175180921,
          5.201674845055306,
          4.607720050784412,
          4.234277924671454,
          3.9711423093099736,
          3.7732078689421478,
          3.6179301592403688,
          3.492551677580298,
          3.38920991939888,
          3.302746686421633,
          3.2296123512674964,
          3.167270449038921,
          3.1138525369654255,
          3.067947460303444,
          3.0284670693493867,
          2.994557537482242,
          2.965538988295882,
          2.94086330743648,
          2.9200839857479552,
          2.902834130760189,
          2.888810151730987,
          2.8777594662362844,
          2.8694711097747145,
          2.863768475837061,
          2.860503643229009,
          2.8595529024841975,
          2.8608131999265263,
          2.8641992926154836,
          2.8696414604570406,
          2.8770836599817136,
          2.886482032191626,
          2.897803697501763,
          2.911025786230306,
          2.9261346647730067,
          2.9431253265451933,
          2.962000923715082,
          2.982772421207024,
          3.0054583588027985,
          3.0300847106964985,
          3.0566848347741025,
          3.0852995063535116,
          3.1159770332591874,
          3.1487734510168166,
          3.1837527987172662,
          3.220987477784046,
          3.2605586975442744,
          3.3025570132046633,
          3.3470829636253416,
          3.3942478182210873,
          3.4441744444599305,
          3.4969983098413597,
          3.552868634996438,
          3.6119497177524575,
          3.674422451755243,
          3.740486067679899,
          3.810360130352019,
          3.884286831457438,
          3.962533625201707,
          4.045396263623465,
          4.1332022996913835,
          4.226315140361087,
          4.325138749129063,
          4.430123119189669,
          4.541770665241783,
          4.6606437158241585,
          4.787373330791366,
          4.922669722836001,
          5.067334631384483,
          5.222276086551423,
          5.388526116675273,
          5.567262104261481,
          5.759832694379714,
          5.96778942413012,
          6.192925596365399,
          6.4373244007032335,
          6.703418941050612,
          6.9940677362692005,
          7.312650530560047,
          7.663191050600845,
          8.050515934927372,
          8.480462839136896,
          8.960156326479739,
          9.49837862258481,
          10.106075362601075,
          10.797057007913418,
          11.588989756112358,
          12.504824689167714,
          13.574907685612416,
          14.8401782986876,
          16.35717006231099,
          18.20610896164675,
          20.50458869400939,
          23.431843632581906,
          27.274528268497313,
          32.519843777987354,
          40.06432487319087,
          51.74707871806483,
          71.98949215752116,
          114.55039133121521,
          251.5897939337736
         ]
        },
        {
         "fill": "tonexty",
         "fillcolor": "rgba(248, 148, 6, 0.4)",
         "line": {
          "color": "rgba(217, 30, 24, 1)"
         },
         "mode": "lines",
         "name": "Pred Value",
         "showlegend": true,
         "type": "scatter",
         "x": [
          0.01,
          0.0198989898989899,
          0.029797979797979796,
          0.039696969696969696,
          0.049595959595959596,
          0.059494949494949496,
          0.06939393939393938,
          0.07929292929292929,
          0.08919191919191918,
          0.09909090909090908,
          0.10898989898989898,
          0.11888888888888888,
          0.12878787878787878,
          0.1386868686868687,
          0.1485858585858586,
          0.15848484848484848,
          0.16838383838383839,
          0.1782828282828283,
          0.18818181818181817,
          0.19808080808080808,
          0.207979797979798,
          0.21787878787878787,
          0.22777777777777777,
          0.23767676767676768,
          0.24757575757575756,
          0.25747474747474747,
          0.2673737373737374,
          0.2772727272727273,
          0.2871717171717172,
          0.29707070707070704,
          0.30696969696969695,
          0.31686868686868686,
          0.32676767676767676,
          0.33666666666666667,
          0.3465656565656566,
          0.3564646464646465,
          0.36636363636363634,
          0.37626262626262624,
          0.38616161616161615,
          0.39606060606060606,
          0.40595959595959596,
          0.41585858585858587,
          0.4257575757575757,
          0.43565656565656563,
          0.44555555555555554,
          0.45545454545454545,
          0.46535353535353535,
          0.47525252525252526,
          0.4851515151515151,
          0.495050505050505,
          0.5049494949494949,
          0.5148484848484849,
          0.5247474747474747,
          0.5346464646464646,
          0.5445454545454546,
          0.5544444444444444,
          0.5643434343434344,
          0.5742424242424242,
          0.5841414141414141,
          0.594040404040404,
          0.6039393939393939,
          0.6138383838383838,
          0.6237373737373737,
          0.6336363636363637,
          0.6435353535353535,
          0.6534343434343434,
          0.6633333333333333,
          0.6732323232323232,
          0.6831313131313131,
          0.693030303030303,
          0.702929292929293,
          0.7128282828282828,
          0.7227272727272727,
          0.7326262626262626,
          0.7425252525252525,
          0.7524242424242424,
          0.7623232323232323,
          0.7722222222222221,
          0.7821212121212121,
          0.792020202020202,
          0.8019191919191919,
          0.8118181818181818,
          0.8217171717171717,
          0.8316161616161616,
          0.8415151515151514,
          0.8514141414141414,
          0.8613131313131313,
          0.8712121212121212,
          0.8811111111111111,
          0.891010101010101,
          0.9009090909090909,
          0.9108080808080807,
          0.9207070707070707,
          0.9306060606060605,
          0.9405050505050505,
          0.9504040404040404,
          0.9603030303030302,
          0.9702020202020202,
          0.98010101010101,
          0.99
         ],
         "y": [
          7.852199640557668,
          6.193364167221182,
          5.405303856324735,
          4.918313866669718,
          4.579147236905189,
          4.3261333798569055,
          4.128835968315707,
          3.9702062027432126,
          3.8398261961441347,
          3.730911336915669,
          3.638822723068028,
          3.5602643651942967,
          3.4928206504310175,
          3.434675469644657,
          3.3844341289637003,
          3.34100627389275,
          3.3035265221941197,
          3.2712992201009845,
          3.243759097914467,
          3.2204426814090032,
          3.200967148805761,
          3.185014448533359,
          3.1723192031061265,
          3.162659383593957,
          3.1558490426265684,
          3.151732598477519,
          3.1501803032343587,
          3.151084626096614,
          3.154357352318479,
          3.159927248249211,
          3.16773817929493,
          3.177747594449945,
          3.1899253110703087,
          3.2042525486872417,
          3.2207211722198332,
          3.239333113892675,
          3.260099950179165,
          3.283042615671248,
          3.3081912402905633,
          3.3355850999782906,
          3.365272674141181,
          3.397311805851438,
          3.431769963227943,
          3.4687246026703455,
          3.5082636367660904,
          3.5504860118230472,
          3.5955024021710003,
          3.6434360306971105,
          3.694423627609693,
          3.74861654224196,
          3.806182025906446,
          3.867304707497347,
          3.932188287839506,
          4.001057483851486,
          4.074160259614693,
          4.15177038865078,
          4.234190400396321,
          4.321754974389091,
          4.414834858504533,
          4.513841403290124,
          4.6192318237894385,
          4.731515324195419,
          4.851260250479812,
          4.979102473454306,
          5.1157552516848765,
          5.262020883163467,
          5.418804530447432,
          5.587130701229865,
          5.768162991938376,
          5.963227865453559,
          6.173843448457078,
          6.401754617444734,
          6.648976020633955,
          6.917845192176233,
          7.2110886074518925,
          7.5319044797130825,
          7.884067420872487,
          8.272061950084884,
          8.701254486735618,
          9.17811730090384,
          9.710523528502463,
          10.308140772543041,
          10.98296361076726,
          11.750045193700872,
          12.628519637577343,
          13.643058178913888,
          14.825987743242846,
          16.220448278950347,
          17.885228807624465,
          19.902411629205666,
          22.38990555672129,
          25.522899587918545,
          29.572527204665462,
          34.9800624871291,
          42.51090584803222,
          53.60808918257983,
          71.32163393911162,
          103.2746017865684,
          174.5381420691041,
          430.04237395273947
         ]
        },
        {
         "fill": "tonexty",
         "fillcolor": "rgba(248, 148, 6, 0.4)",
         "line": {
          "color": "rgba(255,255,255,0)",
          "width": 0
         },
         "marker": {
          "color": "#444"
         },
         "mode": "lines",
         "name": "Pred Value Upper",
         "showlegend": false,
         "type": "scatter",
         "x": [
          0.01,
          0.0198989898989899,
          0.029797979797979796,
          0.039696969696969696,
          0.049595959595959596,
          0.059494949494949496,
          0.06939393939393938,
          0.07929292929292929,
          0.08919191919191918,
          0.09909090909090908,
          0.10898989898989898,
          0.11888888888888888,
          0.12878787878787878,
          0.1386868686868687,
          0.1485858585858586,
          0.15848484848484848,
          0.16838383838383839,
          0.1782828282828283,
          0.18818181818181817,
          0.19808080808080808,
          0.207979797979798,
          0.21787878787878787,
          0.22777777777777777,
          0.23767676767676768,
          0.24757575757575756,
          0.25747474747474747,
          0.2673737373737374,
          0.2772727272727273,
          0.2871717171717172,
          0.29707070707070704,
          0.30696969696969695,
          0.31686868686868686,
          0.32676767676767676,
          0.33666666666666667,
          0.3465656565656566,
          0.3564646464646465,
          0.36636363636363634,
          0.37626262626262624,
          0.38616161616161615,
          0.39606060606060606,
          0.40595959595959596,
          0.41585858585858587,
          0.4257575757575757,
          0.43565656565656563,
          0.44555555555555554,
          0.45545454545454545,
          0.46535353535353535,
          0.47525252525252526,
          0.4851515151515151,
          0.495050505050505,
          0.5049494949494949,
          0.5148484848484849,
          0.5247474747474747,
          0.5346464646464646,
          0.5445454545454546,
          0.5544444444444444,
          0.5643434343434344,
          0.5742424242424242,
          0.5841414141414141,
          0.594040404040404,
          0.6039393939393939,
          0.6138383838383838,
          0.6237373737373737,
          0.6336363636363637,
          0.6435353535353535,
          0.6534343434343434,
          0.6633333333333333,
          0.6732323232323232,
          0.6831313131313131,
          0.693030303030303,
          0.702929292929293,
          0.7128282828282828,
          0.7227272727272727,
          0.7326262626262626,
          0.7425252525252525,
          0.7524242424242424,
          0.7623232323232323,
          0.7722222222222221,
          0.7821212121212121,
          0.792020202020202,
          0.8019191919191919,
          0.8118181818181818,
          0.8217171717171717,
          0.8316161616161616,
          0.8415151515151514,
          0.8514141414141414,
          0.8613131313131313,
          0.8712121212121212,
          0.8811111111111111,
          0.891010101010101,
          0.9009090909090909,
          0.9108080808080807,
          0.9207070707070707,
          0.9306060606060605,
          0.9405050505050505,
          0.9504040404040404,
          0.9603030303030302,
          0.9702020202020202,
          0.98010101010101,
          0.99
         ],
         "y": [
          9.289254105934415,
          7.185053489387057,
          6.2028876618650575,
          5.602349808667982,
          5.187152164500404,
          4.879058890771663,
          4.639741777391046,
          4.447860727906127,
          4.2904424728893895,
          4.159075987409705,
          4.0480330948685594,
          3.9532582813496724,
          3.8717887638966095,
          3.8014034789858697,
          3.740401188578014,
          3.6874550103032577,
          3.6415140560923573,
          3.601735132765489,
          3.567434210080979,
          3.5380512320578177,
          3.5131241458805347,
          3.492269430830434,
          3.4751672964375384,
          3.461550291350853,
          3.4511944420241276,
          3.4439122944708407,
          3.439547406542191,
          3.4379699595777446,
          3.439073244179917,
          3.4427708365167087,
          3.448994326398234,
          3.4576914913981267,
          3.4688248359103113,
          3.482370432601477,
          3.498317017894473,
          3.5166653040702682,
          3.537427479151306,
          3.560626872539698,
          3.586297769884628,
          3.6144853651824786,
          3.6452458419288507,
          3.678646578443689,
          3.714766475439069,
          3.753696406623425,
          3.7955397957481347,
          3.84041332610182,
          3.888447791137337,
          3.9397890977688794,
          3.994599436998299,
          4.053058640023989,
          4.115365741971532,
          4.181740779998256,
          4.2524268579265545,
          4.32769251594773,
          4.407834451549487,
          4.493180646949541,
          4.584093969335205,
          4.680976323576474,
          4.784273453385602,
          4.894480506888865,
          5.01214850721779,
          5.137891899261775,
          5.272397381769955,
          5.416434281666829,
          5.570866787545595,
          5.736668435535568,
          5.914939338058864,
          6.106926771075248,
          6.314049897325329,
          6.537929614231846,
          6.780424792652676,
          7.043676540509754,
          7.33016261713779,
          7.642764787987067,
          7.9848528142005515,
          8.360390018375554,
          8.774067105475773,
          9.231473369609722,
          9.73931792287039,
          10.30571866688031,
          10.94058421786803,
          11.656125218606343,
          12.467548598949712,
          13.39401502480067,
          14.459982267241267,
          15.697126601715418,
          17.147150797317977,
          18.865988872288277,
          20.93027931656133,
          23.447653196100344,
          26.57370215179583,
          30.5412104818277,
          35.71321077674902,
          42.685596705760894,
          52.50196791807709,
          67.1518534919688,
          90.89618916015841,
          134.55971141561565,
          234.525892806993,
          608.4949539717054
         ]
        },
        {
         "line": {
          "color": "rgba(83, 51, 237, 1)"
         },
         "name": "True Value",
         "showlegend": true,
         "type": "scattergl",
         "x": [
          0.01,
          0.0198989898989899,
          0.029797979797979796,
          0.039696969696969696,
          0.049595959595959596,
          0.059494949494949496,
          0.06939393939393938,
          0.07929292929292929,
          0.08919191919191918,
          0.09909090909090908,
          0.10898989898989898,
          0.11888888888888888,
          0.12878787878787878,
          0.1386868686868687,
          0.1485858585858586,
          0.15848484848484848,
          0.16838383838383839,
          0.1782828282828283,
          0.18818181818181817,
          0.19808080808080808,
          0.207979797979798,
          0.21787878787878787,
          0.22777777777777777,
          0.23767676767676768,
          0.24757575757575756,
          0.25747474747474747,
          0.2673737373737374,
          0.2772727272727273,
          0.2871717171717172,
          0.29707070707070704,
          0.30696969696969695,
          0.31686868686868686,
          0.32676767676767676,
          0.33666666666666667,
          0.3465656565656566,
          0.3564646464646465,
          0.36636363636363634,
          0.37626262626262624,
          0.38616161616161615,
          0.39606060606060606,
          0.40595959595959596,
          0.41585858585858587,
          0.4257575757575757,
          0.43565656565656563,
          0.44555555555555554,
          0.45545454545454545,
          0.46535353535353535,
          0.47525252525252526,
          0.4851515151515151,
          0.495050505050505,
          0.5049494949494949,
          0.5148484848484849,
          0.5247474747474747,
          0.5346464646464646,
          0.5445454545454546,
          0.5544444444444444,
          0.5643434343434344,
          0.5742424242424242,
          0.5841414141414141,
          0.594040404040404,
          0.6039393939393939,
          0.6138383838383838,
          0.6237373737373737,
          0.6336363636363637,
          0.6435353535353535,
          0.6534343434343434,
          0.6633333333333333,
          0.6732323232323232,
          0.6831313131313131,
          0.693030303030303,
          0.702929292929293,
          0.7128282828282828,
          0.7227272727272727,
          0.7326262626262626,
          0.7425252525252525,
          0.7524242424242424,
          0.7623232323232323,
          0.7722222222222221,
          0.7821212121212121,
          0.792020202020202,
          0.8019191919191919,
          0.8118181818181818,
          0.8217171717171717,
          0.8316161616161616,
          0.8415151515151514,
          0.8514141414141414,
          0.8613131313131313,
          0.8712121212121212,
          0.8811111111111111,
          0.891010101010101,
          0.9009090909090909,
          0.9108080808080807,
          0.9207070707070707,
          0.9306060606060605,
          0.9405050505050505,
          0.9504040404040404,
          0.9603030303030302,
          0.9702020202020202,
          0.98010101010101,
          0.99
         ],
         "y": [
          1,
          1,
          1,
          1,
          1,
          1,
          1,
          1,
          1,
          1,
          1,
          1,
          1,
          1,
          1,
          1,
          1,
          1,
          1,
          1,
          1,
          1,
          1,
          1,
          1,
          1,
          1,
          1,
          1,
          1,
          1,
          1,
          1,
          1,
          1,
          1,
          1,
          1,
          1,
          1,
          1,
          1,
          1,
          1,
          1,
          1,
          1,
          1,
          1,
          1,
          1,
          1,
          1,
          1,
          1,
          1,
          1,
          1,
          1,
          1,
          1,
          1,
          1,
          1,
          1,
          1,
          1,
          1,
          1,
          1,
          1,
          1,
          1,
          1,
          1,
          1,
          1,
          1,
          1,
          1,
          1,
          1,
          1,
          1,
          1,
          1,
          1,
          1,
          1,
          1,
          1,
          1,
          1,
          1,
          1,
          1,
          1,
          1,
          1,
          1
         ]
        }
       ],
       "layout": {
        "template": {
         "data": {
          "bar": [
           {
            "error_x": {
             "color": "#2a3f5f"
            },
            "error_y": {
             "color": "#2a3f5f"
            },
            "marker": {
             "line": {
              "color": "#E5ECF6",
              "width": 0.5
             }
            },
            "type": "bar"
           }
          ],
          "barpolar": [
           {
            "marker": {
             "line": {
              "color": "#E5ECF6",
              "width": 0.5
             }
            },
            "type": "barpolar"
           }
          ],
          "carpet": [
           {
            "aaxis": {
             "endlinecolor": "#2a3f5f",
             "gridcolor": "white",
             "linecolor": "white",
             "minorgridcolor": "white",
             "startlinecolor": "#2a3f5f"
            },
            "baxis": {
             "endlinecolor": "#2a3f5f",
             "gridcolor": "white",
             "linecolor": "white",
             "minorgridcolor": "white",
             "startlinecolor": "#2a3f5f"
            },
            "type": "carpet"
           }
          ],
          "choropleth": [
           {
            "colorbar": {
             "outlinewidth": 0,
             "ticks": ""
            },
            "type": "choropleth"
           }
          ],
          "contour": [
           {
            "colorbar": {
             "outlinewidth": 0,
             "ticks": ""
            },
            "colorscale": [
             [
              0,
              "#0d0887"
             ],
             [
              0.1111111111111111,
              "#46039f"
             ],
             [
              0.2222222222222222,
              "#7201a8"
             ],
             [
              0.3333333333333333,
              "#9c179e"
             ],
             [
              0.4444444444444444,
              "#bd3786"
             ],
             [
              0.5555555555555556,
              "#d8576b"
             ],
             [
              0.6666666666666666,
              "#ed7953"
             ],
             [
              0.7777777777777778,
              "#fb9f3a"
             ],
             [
              0.8888888888888888,
              "#fdca26"
             ],
             [
              1,
              "#f0f921"
             ]
            ],
            "type": "contour"
           }
          ],
          "contourcarpet": [
           {
            "colorbar": {
             "outlinewidth": 0,
             "ticks": ""
            },
            "type": "contourcarpet"
           }
          ],
          "heatmap": [
           {
            "colorbar": {
             "outlinewidth": 0,
             "ticks": ""
            },
            "colorscale": [
             [
              0,
              "#0d0887"
             ],
             [
              0.1111111111111111,
              "#46039f"
             ],
             [
              0.2222222222222222,
              "#7201a8"
             ],
             [
              0.3333333333333333,
              "#9c179e"
             ],
             [
              0.4444444444444444,
              "#bd3786"
             ],
             [
              0.5555555555555556,
              "#d8576b"
             ],
             [
              0.6666666666666666,
              "#ed7953"
             ],
             [
              0.7777777777777778,
              "#fb9f3a"
             ],
             [
              0.8888888888888888,
              "#fdca26"
             ],
             [
              1,
              "#f0f921"
             ]
            ],
            "type": "heatmap"
           }
          ],
          "heatmapgl": [
           {
            "colorbar": {
             "outlinewidth": 0,
             "ticks": ""
            },
            "colorscale": [
             [
              0,
              "#0d0887"
             ],
             [
              0.1111111111111111,
              "#46039f"
             ],
             [
              0.2222222222222222,
              "#7201a8"
             ],
             [
              0.3333333333333333,
              "#9c179e"
             ],
             [
              0.4444444444444444,
              "#bd3786"
             ],
             [
              0.5555555555555556,
              "#d8576b"
             ],
             [
              0.6666666666666666,
              "#ed7953"
             ],
             [
              0.7777777777777778,
              "#fb9f3a"
             ],
             [
              0.8888888888888888,
              "#fdca26"
             ],
             [
              1,
              "#f0f921"
             ]
            ],
            "type": "heatmapgl"
           }
          ],
          "histogram": [
           {
            "marker": {
             "colorbar": {
              "outlinewidth": 0,
              "ticks": ""
             }
            },
            "type": "histogram"
           }
          ],
          "histogram2d": [
           {
            "colorbar": {
             "outlinewidth": 0,
             "ticks": ""
            },
            "colorscale": [
             [
              0,
              "#0d0887"
             ],
             [
              0.1111111111111111,
              "#46039f"
             ],
             [
              0.2222222222222222,
              "#7201a8"
             ],
             [
              0.3333333333333333,
              "#9c179e"
             ],
             [
              0.4444444444444444,
              "#bd3786"
             ],
             [
              0.5555555555555556,
              "#d8576b"
             ],
             [
              0.6666666666666666,
              "#ed7953"
             ],
             [
              0.7777777777777778,
              "#fb9f3a"
             ],
             [
              0.8888888888888888,
              "#fdca26"
             ],
             [
              1,
              "#f0f921"
             ]
            ],
            "type": "histogram2d"
           }
          ],
          "histogram2dcontour": [
           {
            "colorbar": {
             "outlinewidth": 0,
             "ticks": ""
            },
            "colorscale": [
             [
              0,
              "#0d0887"
             ],
             [
              0.1111111111111111,
              "#46039f"
             ],
             [
              0.2222222222222222,
              "#7201a8"
             ],
             [
              0.3333333333333333,
              "#9c179e"
             ],
             [
              0.4444444444444444,
              "#bd3786"
             ],
             [
              0.5555555555555556,
              "#d8576b"
             ],
             [
              0.6666666666666666,
              "#ed7953"
             ],
             [
              0.7777777777777778,
              "#fb9f3a"
             ],
             [
              0.8888888888888888,
              "#fdca26"
             ],
             [
              1,
              "#f0f921"
             ]
            ],
            "type": "histogram2dcontour"
           }
          ],
          "mesh3d": [
           {
            "colorbar": {
             "outlinewidth": 0,
             "ticks": ""
            },
            "type": "mesh3d"
           }
          ],
          "parcoords": [
           {
            "line": {
             "colorbar": {
              "outlinewidth": 0,
              "ticks": ""
             }
            },
            "type": "parcoords"
           }
          ],
          "pie": [
           {
            "automargin": true,
            "type": "pie"
           }
          ],
          "scatter": [
           {
            "marker": {
             "colorbar": {
              "outlinewidth": 0,
              "ticks": ""
             }
            },
            "type": "scatter"
           }
          ],
          "scatter3d": [
           {
            "line": {
             "colorbar": {
              "outlinewidth": 0,
              "ticks": ""
             }
            },
            "marker": {
             "colorbar": {
              "outlinewidth": 0,
              "ticks": ""
             }
            },
            "type": "scatter3d"
           }
          ],
          "scattercarpet": [
           {
            "marker": {
             "colorbar": {
              "outlinewidth": 0,
              "ticks": ""
             }
            },
            "type": "scattercarpet"
           }
          ],
          "scattergeo": [
           {
            "marker": {
             "colorbar": {
              "outlinewidth": 0,
              "ticks": ""
             }
            },
            "type": "scattergeo"
           }
          ],
          "scattergl": [
           {
            "marker": {
             "colorbar": {
              "outlinewidth": 0,
              "ticks": ""
             }
            },
            "type": "scattergl"
           }
          ],
          "scattermapbox": [
           {
            "marker": {
             "colorbar": {
              "outlinewidth": 0,
              "ticks": ""
             }
            },
            "type": "scattermapbox"
           }
          ],
          "scatterpolar": [
           {
            "marker": {
             "colorbar": {
              "outlinewidth": 0,
              "ticks": ""
             }
            },
            "type": "scatterpolar"
           }
          ],
          "scatterpolargl": [
           {
            "marker": {
             "colorbar": {
              "outlinewidth": 0,
              "ticks": ""
             }
            },
            "type": "scatterpolargl"
           }
          ],
          "scatterternary": [
           {
            "marker": {
             "colorbar": {
              "outlinewidth": 0,
              "ticks": ""
             }
            },
            "type": "scatterternary"
           }
          ],
          "surface": [
           {
            "colorbar": {
             "outlinewidth": 0,
             "ticks": ""
            },
            "colorscale": [
             [
              0,
              "#0d0887"
             ],
             [
              0.1111111111111111,
              "#46039f"
             ],
             [
              0.2222222222222222,
              "#7201a8"
             ],
             [
              0.3333333333333333,
              "#9c179e"
             ],
             [
              0.4444444444444444,
              "#bd3786"
             ],
             [
              0.5555555555555556,
              "#d8576b"
             ],
             [
              0.6666666666666666,
              "#ed7953"
             ],
             [
              0.7777777777777778,
              "#fb9f3a"
             ],
             [
              0.8888888888888888,
              "#fdca26"
             ],
             [
              1,
              "#f0f921"
             ]
            ],
            "type": "surface"
           }
          ],
          "table": [
           {
            "cells": {
             "fill": {
              "color": "#EBF0F8"
             },
             "line": {
              "color": "white"
             }
            },
            "header": {
             "fill": {
              "color": "#C8D4E3"
             },
             "line": {
              "color": "white"
             }
            },
            "type": "table"
           }
          ]
         },
         "layout": {
          "annotationdefaults": {
           "arrowcolor": "#2a3f5f",
           "arrowhead": 0,
           "arrowwidth": 1
          },
          "coloraxis": {
           "colorbar": {
            "outlinewidth": 0,
            "ticks": ""
           }
          },
          "colorscale": {
           "diverging": [
            [
             0,
             "#8e0152"
            ],
            [
             0.1,
             "#c51b7d"
            ],
            [
             0.2,
             "#de77ae"
            ],
            [
             0.3,
             "#f1b6da"
            ],
            [
             0.4,
             "#fde0ef"
            ],
            [
             0.5,
             "#f7f7f7"
            ],
            [
             0.6,
             "#e6f5d0"
            ],
            [
             0.7,
             "#b8e186"
            ],
            [
             0.8,
             "#7fbc41"
            ],
            [
             0.9,
             "#4d9221"
            ],
            [
             1,
             "#276419"
            ]
           ],
           "sequential": [
            [
             0,
             "#0d0887"
            ],
            [
             0.1111111111111111,
             "#46039f"
            ],
            [
             0.2222222222222222,
             "#7201a8"
            ],
            [
             0.3333333333333333,
             "#9c179e"
            ],
            [
             0.4444444444444444,
             "#bd3786"
            ],
            [
             0.5555555555555556,
             "#d8576b"
            ],
            [
             0.6666666666666666,
             "#ed7953"
            ],
            [
             0.7777777777777778,
             "#fb9f3a"
            ],
            [
             0.8888888888888888,
             "#fdca26"
            ],
            [
             1,
             "#f0f921"
            ]
           ],
           "sequentialminus": [
            [
             0,
             "#0d0887"
            ],
            [
             0.1111111111111111,
             "#46039f"
            ],
            [
             0.2222222222222222,
             "#7201a8"
            ],
            [
             0.3333333333333333,
             "#9c179e"
            ],
            [
             0.4444444444444444,
             "#bd3786"
            ],
            [
             0.5555555555555556,
             "#d8576b"
            ],
            [
             0.6666666666666666,
             "#ed7953"
            ],
            [
             0.7777777777777778,
             "#fb9f3a"
            ],
            [
             0.8888888888888888,
             "#fdca26"
            ],
            [
             1,
             "#f0f921"
            ]
           ]
          },
          "colorway": [
           "#636efa",
           "#EF553B",
           "#00cc96",
           "#ab63fa",
           "#FFA15A",
           "#19d3f3",
           "#FF6692",
           "#B6E880",
           "#FF97FF",
           "#FECB52"
          ],
          "font": {
           "color": "#2a3f5f"
          },
          "geo": {
           "bgcolor": "white",
           "lakecolor": "white",
           "landcolor": "#E5ECF6",
           "showlakes": true,
           "showland": true,
           "subunitcolor": "white"
          },
          "hoverlabel": {
           "align": "left"
          },
          "hovermode": "closest",
          "mapbox": {
           "style": "light"
          },
          "paper_bgcolor": "white",
          "plot_bgcolor": "#E5ECF6",
          "polar": {
           "angularaxis": {
            "gridcolor": "white",
            "linecolor": "white",
            "ticks": ""
           },
           "bgcolor": "#E5ECF6",
           "radialaxis": {
            "gridcolor": "white",
            "linecolor": "white",
            "ticks": ""
           }
          },
          "scene": {
           "xaxis": {
            "backgroundcolor": "#E5ECF6",
            "gridcolor": "white",
            "gridwidth": 2,
            "linecolor": "white",
            "showbackground": true,
            "ticks": "",
            "zerolinecolor": "white"
           },
           "yaxis": {
            "backgroundcolor": "#E5ECF6",
            "gridcolor": "white",
            "gridwidth": 2,
            "linecolor": "white",
            "showbackground": true,
            "ticks": "",
            "zerolinecolor": "white"
           },
           "zaxis": {
            "backgroundcolor": "#E5ECF6",
            "gridcolor": "white",
            "gridwidth": 2,
            "linecolor": "white",
            "showbackground": true,
            "ticks": "",
            "zerolinecolor": "white"
           }
          },
          "shapedefaults": {
           "line": {
            "color": "#2a3f5f"
           }
          },
          "ternary": {
           "aaxis": {
            "gridcolor": "white",
            "linecolor": "white",
            "ticks": ""
           },
           "baxis": {
            "gridcolor": "white",
            "linecolor": "white",
            "ticks": ""
           },
           "bgcolor": "#E5ECF6",
           "caxis": {
            "gridcolor": "white",
            "linecolor": "white",
            "ticks": ""
           }
          },
          "title": {
           "x": 0.05
          },
          "xaxis": {
           "automargin": true,
           "gridcolor": "white",
           "linecolor": "white",
           "ticks": "",
           "title": {
            "standoff": 15
           },
           "zerolinecolor": "white",
           "zerolinewidth": 2
          },
          "yaxis": {
           "automargin": true,
           "gridcolor": "white",
           "linecolor": "white",
           "ticks": "",
           "title": {
            "standoff": 15
           },
           "zerolinecolor": "white",
           "zerolinewidth": 2
          }
         }
        },
        "title": {
         "pad": {
          "l": 350
         },
         "text": "PDF-Down Ratio Plot",
         "xanchor": "left",
         "yanchor": "top"
        }
       }
      },
      "text/html": [
       "<div>\n",
       "        \n",
       "        \n",
       "            <div id=\"635535b3-2f64-4588-ba7c-18904b29bc02\" class=\"plotly-graph-div\" style=\"height:525px; width:100%;\"></div>\n",
       "            <script type=\"text/javascript\">\n",
       "                require([\"plotly\"], function(Plotly) {\n",
       "                    window.PLOTLYENV=window.PLOTLYENV || {};\n",
       "                    \n",
       "                if (document.getElementById(\"635535b3-2f64-4588-ba7c-18904b29bc02\")) {\n",
       "                    Plotly.newPlot(\n",
       "                        '635535b3-2f64-4588-ba7c-18904b29bc02',\n",
       "                        [{\"line\": {\"width\": 0}, \"marker\": {\"color\": \"#444\"}, \"mode\": \"lines\", \"name\": \"Pred Value Lower\", \"showlegend\": false, \"type\": \"scatter\", \"x\": [0.01, 0.0198989898989899, 0.029797979797979796, 0.039696969696969696, 0.049595959595959596, 0.059494949494949496, 0.06939393939393938, 0.07929292929292929, 0.08919191919191918, 0.09909090909090908, 0.10898989898989898, 0.11888888888888888, 0.12878787878787878, 0.1386868686868687, 0.1485858585858586, 0.15848484848484848, 0.16838383838383839, 0.1782828282828283, 0.18818181818181817, 0.19808080808080808, 0.207979797979798, 0.21787878787878787, 0.22777777777777777, 0.23767676767676768, 0.24757575757575756, 0.25747474747474747, 0.2673737373737374, 0.2772727272727273, 0.2871717171717172, 0.29707070707070704, 0.30696969696969695, 0.31686868686868686, 0.32676767676767676, 0.33666666666666667, 0.3465656565656566, 0.3564646464646465, 0.36636363636363634, 0.37626262626262624, 0.38616161616161615, 0.39606060606060606, 0.40595959595959596, 0.41585858585858587, 0.4257575757575757, 0.43565656565656563, 0.44555555555555554, 0.45545454545454545, 0.46535353535353535, 0.47525252525252526, 0.4851515151515151, 0.495050505050505, 0.5049494949494949, 0.5148484848484849, 0.5247474747474747, 0.5346464646464646, 0.5445454545454546, 0.5544444444444444, 0.5643434343434344, 0.5742424242424242, 0.5841414141414141, 0.594040404040404, 0.6039393939393939, 0.6138383838383838, 0.6237373737373737, 0.6336363636363637, 0.6435353535353535, 0.6534343434343434, 0.6633333333333333, 0.6732323232323232, 0.6831313131313131, 0.693030303030303, 0.702929292929293, 0.7128282828282828, 0.7227272727272727, 0.7326262626262626, 0.7425252525252525, 0.7524242424242424, 0.7623232323232323, 0.7722222222222221, 0.7821212121212121, 0.792020202020202, 0.8019191919191919, 0.8118181818181818, 0.8217171717171717, 0.8316161616161616, 0.8415151515151514, 0.8514141414141414, 0.8613131313131313, 0.8712121212121212, 0.8811111111111111, 0.891010101010101, 0.9009090909090909, 0.9108080808080807, 0.9207070707070707, 0.9306060606060605, 0.9405050505050505, 0.9504040404040404, 0.9603030303030302, 0.9702020202020202, 0.98010101010101, 0.99], \"y\": [6.415145175180921, 5.201674845055306, 4.607720050784412, 4.234277924671454, 3.9711423093099736, 3.7732078689421478, 3.6179301592403688, 3.492551677580298, 3.38920991939888, 3.302746686421633, 3.2296123512674964, 3.167270449038921, 3.1138525369654255, 3.067947460303444, 3.0284670693493867, 2.994557537482242, 2.965538988295882, 2.94086330743648, 2.9200839857479552, 2.902834130760189, 2.888810151730987, 2.8777594662362844, 2.8694711097747145, 2.863768475837061, 2.860503643229009, 2.8595529024841975, 2.8608131999265263, 2.8641992926154836, 2.8696414604570406, 2.8770836599817136, 2.886482032191626, 2.897803697501763, 2.911025786230306, 2.9261346647730067, 2.9431253265451933, 2.962000923715082, 2.982772421207024, 3.0054583588027985, 3.0300847106964985, 3.0566848347741025, 3.0852995063535116, 3.1159770332591874, 3.1487734510168166, 3.1837527987172662, 3.220987477784046, 3.2605586975442744, 3.3025570132046633, 3.3470829636253416, 3.3942478182210873, 3.4441744444599305, 3.4969983098413597, 3.552868634996438, 3.6119497177524575, 3.674422451755243, 3.740486067679899, 3.810360130352019, 3.884286831457438, 3.962533625201707, 4.045396263623465, 4.1332022996913835, 4.226315140361087, 4.325138749129063, 4.430123119189669, 4.541770665241783, 4.6606437158241585, 4.787373330791366, 4.922669722836001, 5.067334631384483, 5.222276086551423, 5.388526116675273, 5.567262104261481, 5.759832694379714, 5.96778942413012, 6.192925596365399, 6.4373244007032335, 6.703418941050612, 6.9940677362692005, 7.312650530560047, 7.663191050600845, 8.050515934927372, 8.480462839136896, 8.960156326479739, 9.49837862258481, 10.106075362601075, 10.797057007913418, 11.588989756112358, 12.504824689167714, 13.574907685612416, 14.8401782986876, 16.35717006231099, 18.20610896164675, 20.50458869400939, 23.431843632581906, 27.274528268497313, 32.519843777987354, 40.06432487319087, 51.74707871806483, 71.98949215752116, 114.55039133121521, 251.5897939337736]}, {\"fill\": \"tonexty\", \"fillcolor\": \"rgba(248, 148, 6, 0.4)\", \"line\": {\"color\": \"rgba(217, 30, 24, 1)\"}, \"mode\": \"lines\", \"name\": \"Pred Value\", \"showlegend\": true, \"type\": \"scatter\", \"x\": [0.01, 0.0198989898989899, 0.029797979797979796, 0.039696969696969696, 0.049595959595959596, 0.059494949494949496, 0.06939393939393938, 0.07929292929292929, 0.08919191919191918, 0.09909090909090908, 0.10898989898989898, 0.11888888888888888, 0.12878787878787878, 0.1386868686868687, 0.1485858585858586, 0.15848484848484848, 0.16838383838383839, 0.1782828282828283, 0.18818181818181817, 0.19808080808080808, 0.207979797979798, 0.21787878787878787, 0.22777777777777777, 0.23767676767676768, 0.24757575757575756, 0.25747474747474747, 0.2673737373737374, 0.2772727272727273, 0.2871717171717172, 0.29707070707070704, 0.30696969696969695, 0.31686868686868686, 0.32676767676767676, 0.33666666666666667, 0.3465656565656566, 0.3564646464646465, 0.36636363636363634, 0.37626262626262624, 0.38616161616161615, 0.39606060606060606, 0.40595959595959596, 0.41585858585858587, 0.4257575757575757, 0.43565656565656563, 0.44555555555555554, 0.45545454545454545, 0.46535353535353535, 0.47525252525252526, 0.4851515151515151, 0.495050505050505, 0.5049494949494949, 0.5148484848484849, 0.5247474747474747, 0.5346464646464646, 0.5445454545454546, 0.5544444444444444, 0.5643434343434344, 0.5742424242424242, 0.5841414141414141, 0.594040404040404, 0.6039393939393939, 0.6138383838383838, 0.6237373737373737, 0.6336363636363637, 0.6435353535353535, 0.6534343434343434, 0.6633333333333333, 0.6732323232323232, 0.6831313131313131, 0.693030303030303, 0.702929292929293, 0.7128282828282828, 0.7227272727272727, 0.7326262626262626, 0.7425252525252525, 0.7524242424242424, 0.7623232323232323, 0.7722222222222221, 0.7821212121212121, 0.792020202020202, 0.8019191919191919, 0.8118181818181818, 0.8217171717171717, 0.8316161616161616, 0.8415151515151514, 0.8514141414141414, 0.8613131313131313, 0.8712121212121212, 0.8811111111111111, 0.891010101010101, 0.9009090909090909, 0.9108080808080807, 0.9207070707070707, 0.9306060606060605, 0.9405050505050505, 0.9504040404040404, 0.9603030303030302, 0.9702020202020202, 0.98010101010101, 0.99], \"y\": [7.852199640557668, 6.193364167221182, 5.405303856324735, 4.918313866669718, 4.579147236905189, 4.3261333798569055, 4.128835968315707, 3.9702062027432126, 3.8398261961441347, 3.730911336915669, 3.638822723068028, 3.5602643651942967, 3.4928206504310175, 3.434675469644657, 3.3844341289637003, 3.34100627389275, 3.3035265221941197, 3.2712992201009845, 3.243759097914467, 3.2204426814090032, 3.200967148805761, 3.185014448533359, 3.1723192031061265, 3.162659383593957, 3.1558490426265684, 3.151732598477519, 3.1501803032343587, 3.151084626096614, 3.154357352318479, 3.159927248249211, 3.16773817929493, 3.177747594449945, 3.1899253110703087, 3.2042525486872417, 3.2207211722198332, 3.239333113892675, 3.260099950179165, 3.283042615671248, 3.3081912402905633, 3.3355850999782906, 3.365272674141181, 3.397311805851438, 3.431769963227943, 3.4687246026703455, 3.5082636367660904, 3.5504860118230472, 3.5955024021710003, 3.6434360306971105, 3.694423627609693, 3.74861654224196, 3.806182025906446, 3.867304707497347, 3.932188287839506, 4.001057483851486, 4.074160259614693, 4.15177038865078, 4.234190400396321, 4.321754974389091, 4.414834858504533, 4.513841403290124, 4.6192318237894385, 4.731515324195419, 4.851260250479812, 4.979102473454306, 5.1157552516848765, 5.262020883163467, 5.418804530447432, 5.587130701229865, 5.768162991938376, 5.963227865453559, 6.173843448457078, 6.401754617444734, 6.648976020633955, 6.917845192176233, 7.2110886074518925, 7.5319044797130825, 7.884067420872487, 8.272061950084884, 8.701254486735618, 9.17811730090384, 9.710523528502463, 10.308140772543041, 10.98296361076726, 11.750045193700872, 12.628519637577343, 13.643058178913888, 14.825987743242846, 16.220448278950347, 17.885228807624465, 19.902411629205666, 22.38990555672129, 25.522899587918545, 29.572527204665462, 34.9800624871291, 42.51090584803222, 53.60808918257983, 71.32163393911162, 103.2746017865684, 174.5381420691041, 430.04237395273947]}, {\"fill\": \"tonexty\", \"fillcolor\": \"rgba(248, 148, 6, 0.4)\", \"line\": {\"color\": \"rgba(255,255,255,0)\", \"width\": 0}, \"marker\": {\"color\": \"#444\"}, \"mode\": \"lines\", \"name\": \"Pred Value Upper\", \"showlegend\": false, \"type\": \"scatter\", \"x\": [0.01, 0.0198989898989899, 0.029797979797979796, 0.039696969696969696, 0.049595959595959596, 0.059494949494949496, 0.06939393939393938, 0.07929292929292929, 0.08919191919191918, 0.09909090909090908, 0.10898989898989898, 0.11888888888888888, 0.12878787878787878, 0.1386868686868687, 0.1485858585858586, 0.15848484848484848, 0.16838383838383839, 0.1782828282828283, 0.18818181818181817, 0.19808080808080808, 0.207979797979798, 0.21787878787878787, 0.22777777777777777, 0.23767676767676768, 0.24757575757575756, 0.25747474747474747, 0.2673737373737374, 0.2772727272727273, 0.2871717171717172, 0.29707070707070704, 0.30696969696969695, 0.31686868686868686, 0.32676767676767676, 0.33666666666666667, 0.3465656565656566, 0.3564646464646465, 0.36636363636363634, 0.37626262626262624, 0.38616161616161615, 0.39606060606060606, 0.40595959595959596, 0.41585858585858587, 0.4257575757575757, 0.43565656565656563, 0.44555555555555554, 0.45545454545454545, 0.46535353535353535, 0.47525252525252526, 0.4851515151515151, 0.495050505050505, 0.5049494949494949, 0.5148484848484849, 0.5247474747474747, 0.5346464646464646, 0.5445454545454546, 0.5544444444444444, 0.5643434343434344, 0.5742424242424242, 0.5841414141414141, 0.594040404040404, 0.6039393939393939, 0.6138383838383838, 0.6237373737373737, 0.6336363636363637, 0.6435353535353535, 0.6534343434343434, 0.6633333333333333, 0.6732323232323232, 0.6831313131313131, 0.693030303030303, 0.702929292929293, 0.7128282828282828, 0.7227272727272727, 0.7326262626262626, 0.7425252525252525, 0.7524242424242424, 0.7623232323232323, 0.7722222222222221, 0.7821212121212121, 0.792020202020202, 0.8019191919191919, 0.8118181818181818, 0.8217171717171717, 0.8316161616161616, 0.8415151515151514, 0.8514141414141414, 0.8613131313131313, 0.8712121212121212, 0.8811111111111111, 0.891010101010101, 0.9009090909090909, 0.9108080808080807, 0.9207070707070707, 0.9306060606060605, 0.9405050505050505, 0.9504040404040404, 0.9603030303030302, 0.9702020202020202, 0.98010101010101, 0.99], \"y\": [9.289254105934415, 7.185053489387057, 6.2028876618650575, 5.602349808667982, 5.187152164500404, 4.879058890771663, 4.639741777391046, 4.447860727906127, 4.2904424728893895, 4.159075987409705, 4.0480330948685594, 3.9532582813496724, 3.8717887638966095, 3.8014034789858697, 3.740401188578014, 3.6874550103032577, 3.6415140560923573, 3.601735132765489, 3.567434210080979, 3.5380512320578177, 3.5131241458805347, 3.492269430830434, 3.4751672964375384, 3.461550291350853, 3.4511944420241276, 3.4439122944708407, 3.439547406542191, 3.4379699595777446, 3.439073244179917, 3.4427708365167087, 3.448994326398234, 3.4576914913981267, 3.4688248359103113, 3.482370432601477, 3.498317017894473, 3.5166653040702682, 3.537427479151306, 3.560626872539698, 3.586297769884628, 3.6144853651824786, 3.6452458419288507, 3.678646578443689, 3.714766475439069, 3.753696406623425, 3.7955397957481347, 3.84041332610182, 3.888447791137337, 3.9397890977688794, 3.994599436998299, 4.053058640023989, 4.115365741971532, 4.181740779998256, 4.2524268579265545, 4.32769251594773, 4.407834451549487, 4.493180646949541, 4.584093969335205, 4.680976323576474, 4.784273453385602, 4.894480506888865, 5.01214850721779, 5.137891899261775, 5.272397381769955, 5.416434281666829, 5.570866787545595, 5.736668435535568, 5.914939338058864, 6.106926771075248, 6.314049897325329, 6.537929614231846, 6.780424792652676, 7.043676540509754, 7.33016261713779, 7.642764787987067, 7.9848528142005515, 8.360390018375554, 8.774067105475773, 9.231473369609722, 9.73931792287039, 10.30571866688031, 10.94058421786803, 11.656125218606343, 12.467548598949712, 13.39401502480067, 14.459982267241267, 15.697126601715418, 17.147150797317977, 18.865988872288277, 20.93027931656133, 23.447653196100344, 26.57370215179583, 30.5412104818277, 35.71321077674902, 42.685596705760894, 52.50196791807709, 67.1518534919688, 90.89618916015841, 134.55971141561565, 234.525892806993, 608.4949539717054]}, {\"line\": {\"color\": \"rgba(83, 51, 237, 1)\"}, \"name\": \"True Value\", \"showlegend\": true, \"type\": \"scattergl\", \"x\": [0.01, 0.0198989898989899, 0.029797979797979796, 0.039696969696969696, 0.049595959595959596, 0.059494949494949496, 0.06939393939393938, 0.07929292929292929, 0.08919191919191918, 0.09909090909090908, 0.10898989898989898, 0.11888888888888888, 0.12878787878787878, 0.1386868686868687, 0.1485858585858586, 0.15848484848484848, 0.16838383838383839, 0.1782828282828283, 0.18818181818181817, 0.19808080808080808, 0.207979797979798, 0.21787878787878787, 0.22777777777777777, 0.23767676767676768, 0.24757575757575756, 0.25747474747474747, 0.2673737373737374, 0.2772727272727273, 0.2871717171717172, 0.29707070707070704, 0.30696969696969695, 0.31686868686868686, 0.32676767676767676, 0.33666666666666667, 0.3465656565656566, 0.3564646464646465, 0.36636363636363634, 0.37626262626262624, 0.38616161616161615, 0.39606060606060606, 0.40595959595959596, 0.41585858585858587, 0.4257575757575757, 0.43565656565656563, 0.44555555555555554, 0.45545454545454545, 0.46535353535353535, 0.47525252525252526, 0.4851515151515151, 0.495050505050505, 0.5049494949494949, 0.5148484848484849, 0.5247474747474747, 0.5346464646464646, 0.5445454545454546, 0.5544444444444444, 0.5643434343434344, 0.5742424242424242, 0.5841414141414141, 0.594040404040404, 0.6039393939393939, 0.6138383838383838, 0.6237373737373737, 0.6336363636363637, 0.6435353535353535, 0.6534343434343434, 0.6633333333333333, 0.6732323232323232, 0.6831313131313131, 0.693030303030303, 0.702929292929293, 0.7128282828282828, 0.7227272727272727, 0.7326262626262626, 0.7425252525252525, 0.7524242424242424, 0.7623232323232323, 0.7722222222222221, 0.7821212121212121, 0.792020202020202, 0.8019191919191919, 0.8118181818181818, 0.8217171717171717, 0.8316161616161616, 0.8415151515151514, 0.8514141414141414, 0.8613131313131313, 0.8712121212121212, 0.8811111111111111, 0.891010101010101, 0.9009090909090909, 0.9108080808080807, 0.9207070707070707, 0.9306060606060605, 0.9405050505050505, 0.9504040404040404, 0.9603030303030302, 0.9702020202020202, 0.98010101010101, 0.99], \"y\": [1.0, 1.0, 1.0, 1.0, 1.0, 1.0, 1.0, 1.0, 1.0, 1.0, 1.0, 1.0, 1.0, 1.0, 1.0, 1.0, 1.0, 1.0, 1.0, 1.0, 1.0, 1.0, 1.0, 1.0, 1.0, 1.0, 1.0, 1.0, 1.0, 1.0, 1.0, 1.0, 1.0, 1.0, 1.0, 1.0, 1.0, 1.0, 1.0, 1.0, 1.0, 1.0, 1.0, 1.0, 1.0, 1.0, 1.0, 1.0, 1.0, 1.0, 1.0, 1.0, 1.0, 1.0, 1.0, 1.0, 1.0, 1.0, 1.0, 1.0, 1.0, 1.0, 1.0, 1.0, 1.0, 1.0, 1.0, 1.0, 1.0, 1.0, 1.0, 1.0, 1.0, 1.0, 1.0, 1.0, 1.0, 1.0, 1.0, 1.0, 1.0, 1.0, 1.0, 1.0, 1.0, 1.0, 1.0, 1.0, 1.0, 1.0, 1.0, 1.0, 1.0, 1.0, 1.0, 1.0, 1.0, 1.0, 1.0, 1.0]}],\n",
       "                        {\"template\": {\"data\": {\"bar\": [{\"error_x\": {\"color\": \"#2a3f5f\"}, \"error_y\": {\"color\": \"#2a3f5f\"}, \"marker\": {\"line\": {\"color\": \"#E5ECF6\", \"width\": 0.5}}, \"type\": \"bar\"}], \"barpolar\": [{\"marker\": {\"line\": {\"color\": \"#E5ECF6\", \"width\": 0.5}}, \"type\": \"barpolar\"}], \"carpet\": [{\"aaxis\": {\"endlinecolor\": \"#2a3f5f\", \"gridcolor\": \"white\", \"linecolor\": \"white\", \"minorgridcolor\": \"white\", \"startlinecolor\": \"#2a3f5f\"}, \"baxis\": {\"endlinecolor\": \"#2a3f5f\", \"gridcolor\": \"white\", \"linecolor\": \"white\", \"minorgridcolor\": \"white\", \"startlinecolor\": \"#2a3f5f\"}, \"type\": \"carpet\"}], \"choropleth\": [{\"colorbar\": {\"outlinewidth\": 0, \"ticks\": \"\"}, \"type\": \"choropleth\"}], \"contour\": [{\"colorbar\": {\"outlinewidth\": 0, \"ticks\": \"\"}, \"colorscale\": [[0.0, \"#0d0887\"], [0.1111111111111111, \"#46039f\"], [0.2222222222222222, \"#7201a8\"], [0.3333333333333333, \"#9c179e\"], [0.4444444444444444, \"#bd3786\"], [0.5555555555555556, \"#d8576b\"], [0.6666666666666666, \"#ed7953\"], [0.7777777777777778, \"#fb9f3a\"], [0.8888888888888888, \"#fdca26\"], [1.0, \"#f0f921\"]], \"type\": \"contour\"}], \"contourcarpet\": [{\"colorbar\": {\"outlinewidth\": 0, \"ticks\": \"\"}, \"type\": \"contourcarpet\"}], \"heatmap\": [{\"colorbar\": {\"outlinewidth\": 0, \"ticks\": \"\"}, \"colorscale\": [[0.0, \"#0d0887\"], [0.1111111111111111, \"#46039f\"], [0.2222222222222222, \"#7201a8\"], [0.3333333333333333, \"#9c179e\"], [0.4444444444444444, \"#bd3786\"], [0.5555555555555556, \"#d8576b\"], [0.6666666666666666, \"#ed7953\"], [0.7777777777777778, \"#fb9f3a\"], [0.8888888888888888, \"#fdca26\"], [1.0, \"#f0f921\"]], \"type\": \"heatmap\"}], \"heatmapgl\": [{\"colorbar\": {\"outlinewidth\": 0, \"ticks\": \"\"}, \"colorscale\": [[0.0, \"#0d0887\"], [0.1111111111111111, \"#46039f\"], [0.2222222222222222, \"#7201a8\"], [0.3333333333333333, \"#9c179e\"], [0.4444444444444444, \"#bd3786\"], [0.5555555555555556, \"#d8576b\"], [0.6666666666666666, \"#ed7953\"], [0.7777777777777778, \"#fb9f3a\"], [0.8888888888888888, \"#fdca26\"], [1.0, \"#f0f921\"]], \"type\": \"heatmapgl\"}], \"histogram\": [{\"marker\": {\"colorbar\": {\"outlinewidth\": 0, \"ticks\": \"\"}}, \"type\": \"histogram\"}], \"histogram2d\": [{\"colorbar\": {\"outlinewidth\": 0, \"ticks\": \"\"}, \"colorscale\": [[0.0, \"#0d0887\"], [0.1111111111111111, \"#46039f\"], [0.2222222222222222, \"#7201a8\"], [0.3333333333333333, \"#9c179e\"], [0.4444444444444444, \"#bd3786\"], [0.5555555555555556, \"#d8576b\"], [0.6666666666666666, \"#ed7953\"], [0.7777777777777778, \"#fb9f3a\"], [0.8888888888888888, \"#fdca26\"], [1.0, \"#f0f921\"]], \"type\": \"histogram2d\"}], \"histogram2dcontour\": [{\"colorbar\": {\"outlinewidth\": 0, \"ticks\": \"\"}, \"colorscale\": [[0.0, \"#0d0887\"], [0.1111111111111111, \"#46039f\"], [0.2222222222222222, \"#7201a8\"], [0.3333333333333333, \"#9c179e\"], [0.4444444444444444, \"#bd3786\"], [0.5555555555555556, \"#d8576b\"], [0.6666666666666666, \"#ed7953\"], [0.7777777777777778, \"#fb9f3a\"], [0.8888888888888888, \"#fdca26\"], [1.0, \"#f0f921\"]], \"type\": \"histogram2dcontour\"}], \"mesh3d\": [{\"colorbar\": {\"outlinewidth\": 0, \"ticks\": \"\"}, \"type\": \"mesh3d\"}], \"parcoords\": [{\"line\": {\"colorbar\": {\"outlinewidth\": 0, \"ticks\": \"\"}}, \"type\": \"parcoords\"}], \"pie\": [{\"automargin\": true, \"type\": \"pie\"}], \"scatter\": [{\"marker\": {\"colorbar\": {\"outlinewidth\": 0, \"ticks\": \"\"}}, \"type\": \"scatter\"}], \"scatter3d\": [{\"line\": {\"colorbar\": {\"outlinewidth\": 0, \"ticks\": \"\"}}, \"marker\": {\"colorbar\": {\"outlinewidth\": 0, \"ticks\": \"\"}}, \"type\": \"scatter3d\"}], \"scattercarpet\": [{\"marker\": {\"colorbar\": {\"outlinewidth\": 0, \"ticks\": \"\"}}, \"type\": \"scattercarpet\"}], \"scattergeo\": [{\"marker\": {\"colorbar\": {\"outlinewidth\": 0, \"ticks\": \"\"}}, \"type\": \"scattergeo\"}], \"scattergl\": [{\"marker\": {\"colorbar\": {\"outlinewidth\": 0, \"ticks\": \"\"}}, \"type\": \"scattergl\"}], \"scattermapbox\": [{\"marker\": {\"colorbar\": {\"outlinewidth\": 0, \"ticks\": \"\"}}, \"type\": \"scattermapbox\"}], \"scatterpolar\": [{\"marker\": {\"colorbar\": {\"outlinewidth\": 0, \"ticks\": \"\"}}, \"type\": \"scatterpolar\"}], \"scatterpolargl\": [{\"marker\": {\"colorbar\": {\"outlinewidth\": 0, \"ticks\": \"\"}}, \"type\": \"scatterpolargl\"}], \"scatterternary\": [{\"marker\": {\"colorbar\": {\"outlinewidth\": 0, \"ticks\": \"\"}}, \"type\": \"scatterternary\"}], \"surface\": [{\"colorbar\": {\"outlinewidth\": 0, \"ticks\": \"\"}, \"colorscale\": [[0.0, \"#0d0887\"], [0.1111111111111111, \"#46039f\"], [0.2222222222222222, \"#7201a8\"], [0.3333333333333333, \"#9c179e\"], [0.4444444444444444, \"#bd3786\"], [0.5555555555555556, \"#d8576b\"], [0.6666666666666666, \"#ed7953\"], [0.7777777777777778, \"#fb9f3a\"], [0.8888888888888888, \"#fdca26\"], [1.0, \"#f0f921\"]], \"type\": \"surface\"}], \"table\": [{\"cells\": {\"fill\": {\"color\": \"#EBF0F8\"}, \"line\": {\"color\": \"white\"}}, \"header\": {\"fill\": {\"color\": \"#C8D4E3\"}, \"line\": {\"color\": \"white\"}}, \"type\": \"table\"}]}, \"layout\": {\"annotationdefaults\": {\"arrowcolor\": \"#2a3f5f\", \"arrowhead\": 0, \"arrowwidth\": 1}, \"coloraxis\": {\"colorbar\": {\"outlinewidth\": 0, \"ticks\": \"\"}}, \"colorscale\": {\"diverging\": [[0, \"#8e0152\"], [0.1, \"#c51b7d\"], [0.2, \"#de77ae\"], [0.3, \"#f1b6da\"], [0.4, \"#fde0ef\"], [0.5, \"#f7f7f7\"], [0.6, \"#e6f5d0\"], [0.7, \"#b8e186\"], [0.8, \"#7fbc41\"], [0.9, \"#4d9221\"], [1, \"#276419\"]], \"sequential\": [[0.0, \"#0d0887\"], [0.1111111111111111, \"#46039f\"], [0.2222222222222222, \"#7201a8\"], [0.3333333333333333, \"#9c179e\"], [0.4444444444444444, \"#bd3786\"], [0.5555555555555556, \"#d8576b\"], [0.6666666666666666, \"#ed7953\"], [0.7777777777777778, \"#fb9f3a\"], [0.8888888888888888, \"#fdca26\"], [1.0, \"#f0f921\"]], \"sequentialminus\": [[0.0, \"#0d0887\"], [0.1111111111111111, \"#46039f\"], [0.2222222222222222, \"#7201a8\"], [0.3333333333333333, \"#9c179e\"], [0.4444444444444444, \"#bd3786\"], [0.5555555555555556, \"#d8576b\"], [0.6666666666666666, \"#ed7953\"], [0.7777777777777778, \"#fb9f3a\"], [0.8888888888888888, \"#fdca26\"], [1.0, \"#f0f921\"]]}, \"colorway\": [\"#636efa\", \"#EF553B\", \"#00cc96\", \"#ab63fa\", \"#FFA15A\", \"#19d3f3\", \"#FF6692\", \"#B6E880\", \"#FF97FF\", \"#FECB52\"], \"font\": {\"color\": \"#2a3f5f\"}, \"geo\": {\"bgcolor\": \"white\", \"lakecolor\": \"white\", \"landcolor\": \"#E5ECF6\", \"showlakes\": true, \"showland\": true, \"subunitcolor\": \"white\"}, \"hoverlabel\": {\"align\": \"left\"}, \"hovermode\": \"closest\", \"mapbox\": {\"style\": \"light\"}, \"paper_bgcolor\": \"white\", \"plot_bgcolor\": \"#E5ECF6\", \"polar\": {\"angularaxis\": {\"gridcolor\": \"white\", \"linecolor\": \"white\", \"ticks\": \"\"}, \"bgcolor\": \"#E5ECF6\", \"radialaxis\": {\"gridcolor\": \"white\", \"linecolor\": \"white\", \"ticks\": \"\"}}, \"scene\": {\"xaxis\": {\"backgroundcolor\": \"#E5ECF6\", \"gridcolor\": \"white\", \"gridwidth\": 2, \"linecolor\": \"white\", \"showbackground\": true, \"ticks\": \"\", \"zerolinecolor\": \"white\"}, \"yaxis\": {\"backgroundcolor\": \"#E5ECF6\", \"gridcolor\": \"white\", \"gridwidth\": 2, \"linecolor\": \"white\", \"showbackground\": true, \"ticks\": \"\", \"zerolinecolor\": \"white\"}, \"zaxis\": {\"backgroundcolor\": \"#E5ECF6\", \"gridcolor\": \"white\", \"gridwidth\": 2, \"linecolor\": \"white\", \"showbackground\": true, \"ticks\": \"\", \"zerolinecolor\": \"white\"}}, \"shapedefaults\": {\"line\": {\"color\": \"#2a3f5f\"}}, \"ternary\": {\"aaxis\": {\"gridcolor\": \"white\", \"linecolor\": \"white\", \"ticks\": \"\"}, \"baxis\": {\"gridcolor\": \"white\", \"linecolor\": \"white\", \"ticks\": \"\"}, \"bgcolor\": \"#E5ECF6\", \"caxis\": {\"gridcolor\": \"white\", \"linecolor\": \"white\", \"ticks\": \"\"}}, \"title\": {\"x\": 0.05}, \"xaxis\": {\"automargin\": true, \"gridcolor\": \"white\", \"linecolor\": \"white\", \"ticks\": \"\", \"title\": {\"standoff\": 15}, \"zerolinecolor\": \"white\", \"zerolinewidth\": 2}, \"yaxis\": {\"automargin\": true, \"gridcolor\": \"white\", \"linecolor\": \"white\", \"ticks\": \"\", \"title\": {\"standoff\": 15}, \"zerolinecolor\": \"white\", \"zerolinewidth\": 2}}}, \"title\": {\"pad\": {\"l\": 350}, \"text\": \"PDF-Down Ratio Plot\", \"xanchor\": \"left\", \"yanchor\": \"top\"}},\n",
       "                        {\"responsive\": true}\n",
       "                    ).then(function(){\n",
       "                            \n",
       "var gd = document.getElementById('635535b3-2f64-4588-ba7c-18904b29bc02');\n",
       "var x = new MutationObserver(function (mutations, observer) {{\n",
       "        var display = window.getComputedStyle(gd).display;\n",
       "        if (!display || display === 'none') {{\n",
       "            console.log([gd, 'removed!']);\n",
       "            Plotly.purge(gd);\n",
       "            observer.disconnect();\n",
       "        }}\n",
       "}});\n",
       "\n",
       "// Listen for the removal of the full notebook cells\n",
       "var notebookContainer = gd.closest('#notebook-container');\n",
       "if (notebookContainer) {{\n",
       "    x.observe(notebookContainer, {childList: true});\n",
       "}}\n",
       "\n",
       "// Listen for the clearing of the current output cell\n",
       "var outputEl = gd.closest('.output');\n",
       "if (outputEl) {{\n",
       "    x.observe(outputEl, {childList: true});\n",
       "}}\n",
       "\n",
       "                        })\n",
       "                };\n",
       "                });\n",
       "            </script>\n",
       "        </div>"
      ]
     },
     "metadata": {},
     "output_type": "display_data"
    }
   ],
   "source": [
    "#--- yPred ---- PDF Down\n",
    "yPred = pdf_dict['d'].mean(axis = 0)/d\n",
    "\n",
    "#--- bounds\n",
    "upperBound = pdf_dict['d'].mean(axis=0)/d + pdf_dict['d'].std(axis=0)/d\n",
    "lowerbound = pdf_dict['d'].mean(axis=0)/d - pdf_dict['d'].std(axis=0)/d\n",
    "\n",
    "ratioPlot = generatePDFplots(x,d_n,upperBound,yPred,lowerbound,'PDF-Down Ratio Plot')\n",
    "ratioPlot.show()"
   ]
  },
  {
   "cell_type": "code",
   "execution_count": 50,
   "metadata": {},
   "outputs": [
    {
     "data": {
      "application/vnd.plotly.v1+json": {
       "config": {
        "plotlyServerURL": "https://plot.ly"
       },
       "data": [
        {
         "line": {
          "width": 0
         },
         "marker": {
          "color": "#444"
         },
         "mode": "lines",
         "name": "Pred Value Lower",
         "showlegend": false,
         "type": "scatter",
         "x": [
          0.01,
          0.0198989898989899,
          0.029797979797979796,
          0.039696969696969696,
          0.049595959595959596,
          0.059494949494949496,
          0.06939393939393938,
          0.07929292929292929,
          0.08919191919191918,
          0.09909090909090908,
          0.10898989898989898,
          0.11888888888888888,
          0.12878787878787878,
          0.1386868686868687,
          0.1485858585858586,
          0.15848484848484848,
          0.16838383838383839,
          0.1782828282828283,
          0.18818181818181817,
          0.19808080808080808,
          0.207979797979798,
          0.21787878787878787,
          0.22777777777777777,
          0.23767676767676768,
          0.24757575757575756,
          0.25747474747474747,
          0.2673737373737374,
          0.2772727272727273,
          0.2871717171717172,
          0.29707070707070704,
          0.30696969696969695,
          0.31686868686868686,
          0.32676767676767676,
          0.33666666666666667,
          0.3465656565656566,
          0.3564646464646465,
          0.36636363636363634,
          0.37626262626262624,
          0.38616161616161615,
          0.39606060606060606,
          0.40595959595959596,
          0.41585858585858587,
          0.4257575757575757,
          0.43565656565656563,
          0.44555555555555554,
          0.45545454545454545,
          0.46535353535353535,
          0.47525252525252526,
          0.4851515151515151,
          0.495050505050505,
          0.5049494949494949,
          0.5148484848484849,
          0.5247474747474747,
          0.5346464646464646,
          0.5445454545454546,
          0.5544444444444444,
          0.5643434343434344,
          0.5742424242424242,
          0.5841414141414141,
          0.594040404040404,
          0.6039393939393939,
          0.6138383838383838,
          0.6237373737373737,
          0.6336363636363637,
          0.6435353535353535,
          0.6534343434343434,
          0.6633333333333333,
          0.6732323232323232,
          0.6831313131313131,
          0.693030303030303,
          0.702929292929293,
          0.7128282828282828,
          0.7227272727272727,
          0.7326262626262626,
          0.7425252525252525,
          0.7524242424242424,
          0.7623232323232323,
          0.7722222222222221,
          0.7821212121212121,
          0.792020202020202,
          0.8019191919191919,
          0.8118181818181818,
          0.8217171717171717,
          0.8316161616161616,
          0.8415151515151514,
          0.8514141414141414,
          0.8613131313131313,
          0.8712121212121212,
          0.8811111111111111,
          0.891010101010101,
          0.9009090909090909,
          0.9108080808080807,
          0.9207070707070707,
          0.9306060606060605,
          0.9405050505050505,
          0.9504040404040404,
          0.9603030303030302,
          0.9702020202020202,
          0.98010101010101,
          0.99
         ],
         "y": [
          1.9215855784153115,
          1.9081469615257314,
          1.896143199146127,
          1.884883224919728,
          1.8740921629805867,
          1.8636295417318376,
          1.8534125063030755,
          1.8433873575084156,
          1.8335168653869909,
          1.8237738648379431,
          1.814137717085915,
          1.8045922153931244,
          1.7951242765039543,
          1.78572308641345,
          1.7763795222499839,
          1.7670857490999134,
          1.7578349316744315,
          1.7486210237172832,
          1.739438611478283,
          1.730282795702099,
          1.721149101653519,
          1.712033409953318,
          1.7029319031347638,
          1.6938410242625836,
          1.684757444932567,
          1.6756780406460476,
          1.666599872027464,
          1.6575201706886915,
          1.6484363287841997,
          1.6393458914744796,
          1.6302465516419193,
          1.6211361462982519,
          1.6120126541951123,
          1.602874194207712,
          1.593719024110774,
          1.584545539410529,
          1.5753522719386597,
          1.5661378879560561,
          1.5569011855566248,
          1.5476410912044418,
          1.5383566552811667,
          1.5290470465634187,
          1.5197115455914632,
          1.5103495369290614,
          1.500960500348929,
          1.4915440010075462,
          1.482099678696231,
          1.4726272362718171,
          1.4631264273795104,
          1.453597043582823,
          1.4440389010108794,
          1.4344518266227728,
          1.424835644172422,
          1.415190159936592,
          1.4055151482441088,
          1.3958103368164854,
          1.3860753919000275,
          1.3763099031371446,
          1.3665133680903492,
          1.3566851762963401,
          1.3468245926887363,
          1.336930740186478,
          1.3270025811987227,
          1.3170388977452605,
          1.3070382698317922,
          1.296999051649169,
          1.286919345081637,
          1.2767969699064559,
          1.2666294299408776,
          1.2564138742339839,
          1.2461470522013207,
          1.2358252613453073,
          1.225444285877381,
          1.2149993241328965,
          1.204484902114841,
          1.19389476976876,
          1.1832217756141545,
          1.172457714040401,
          1.1615931377812276,
          1.1506171256071842,
          1.1395169918169794,
          1.128277919204283,
          1.1168824901104537,
          1.1053100798143716,
          1.0935360610273377,
          1.0815307446214524,
          1.0692579447576793,
          1.0566729972245683,
          1.0437199615658335,
          1.030327569316145,
          1.0164031808360847,
          1.0018234537860695,
          0.9864193241047202,
          0.9699505826060768,
          0.952060050574342,
          0.932184055821107,
          0.909357677998409,
          0.8817214230502405,
          0.8449381447544011,
          0.7842792599143728
         ]
        },
        {
         "fill": "tonexty",
         "fillcolor": "rgba(248, 148, 6, 0.4)",
         "line": {
          "color": "rgba(217, 30, 24, 1)"
         },
         "mode": "lines",
         "name": "Pred Value",
         "showlegend": true,
         "type": "scatter",
         "x": [
          0.01,
          0.0198989898989899,
          0.029797979797979796,
          0.039696969696969696,
          0.049595959595959596,
          0.059494949494949496,
          0.06939393939393938,
          0.07929292929292929,
          0.08919191919191918,
          0.09909090909090908,
          0.10898989898989898,
          0.11888888888888888,
          0.12878787878787878,
          0.1386868686868687,
          0.1485858585858586,
          0.15848484848484848,
          0.16838383838383839,
          0.1782828282828283,
          0.18818181818181817,
          0.19808080808080808,
          0.207979797979798,
          0.21787878787878787,
          0.22777777777777777,
          0.23767676767676768,
          0.24757575757575756,
          0.25747474747474747,
          0.2673737373737374,
          0.2772727272727273,
          0.2871717171717172,
          0.29707070707070704,
          0.30696969696969695,
          0.31686868686868686,
          0.32676767676767676,
          0.33666666666666667,
          0.3465656565656566,
          0.3564646464646465,
          0.36636363636363634,
          0.37626262626262624,
          0.38616161616161615,
          0.39606060606060606,
          0.40595959595959596,
          0.41585858585858587,
          0.4257575757575757,
          0.43565656565656563,
          0.44555555555555554,
          0.45545454545454545,
          0.46535353535353535,
          0.47525252525252526,
          0.4851515151515151,
          0.495050505050505,
          0.5049494949494949,
          0.5148484848484849,
          0.5247474747474747,
          0.5346464646464646,
          0.5445454545454546,
          0.5544444444444444,
          0.5643434343434344,
          0.5742424242424242,
          0.5841414141414141,
          0.594040404040404,
          0.6039393939393939,
          0.6138383838383838,
          0.6237373737373737,
          0.6336363636363637,
          0.6435353535353535,
          0.6534343434343434,
          0.6633333333333333,
          0.6732323232323232,
          0.6831313131313131,
          0.693030303030303,
          0.702929292929293,
          0.7128282828282828,
          0.7227272727272727,
          0.7326262626262626,
          0.7425252525252525,
          0.7524242424242424,
          0.7623232323232323,
          0.7722222222222221,
          0.7821212121212121,
          0.792020202020202,
          0.8019191919191919,
          0.8118181818181818,
          0.8217171717171717,
          0.8316161616161616,
          0.8415151515151514,
          0.8514141414141414,
          0.8613131313131313,
          0.8712121212121212,
          0.8811111111111111,
          0.891010101010101,
          0.9009090909090909,
          0.9108080808080807,
          0.9207070707070707,
          0.9306060606060605,
          0.9405050505050505,
          0.9504040404040404,
          0.9603030303030302,
          0.9702020202020202,
          0.98010101010101,
          0.99
         ],
         "y": [
          2.2362525823489863,
          2.1678631413868477,
          2.1255536038840086,
          2.0936711184850303,
          2.0674140317359715,
          2.0446750308695925,
          2.0243428204531915,
          2.0057602552150158,
          1.988506838770379,
          1.9722974655213779,
          1.956930058315525,
          1.9422562703708781,
          1.9281640516678593,
          1.9145667488495681,
          1.9013960068334361,
          1.888596985708226,
          1.876125042806644,
          1.8639433728604444,
          1.8520212926454618,
          1.8403329700260085,
          1.8288564661837283,
          1.8175730028755355,
          1.8064663942046963,
          1.7955226005534275,
          1.784729374517256,
          1.7740759770225323,
          1.763552947614747,
          1.753151917011086,
          1.7428654529568886,
          1.732686932567614,
          1.7226104359144203,
          1.7126306567855805,
          1.7027428274388858,
          1.6929426548314972,
          1.6832262663281623,
          1.6735901632870749,
          1.6640311812329864,
          1.6545464555713585,
          1.6451333919905835,
          1.6357896408533834,
          1.6265130750024228,
          1.6173017705050399,
          1.6081539899436854,
          1.5990681679253325,
          1.5900428985383452,
          1.581076924531191,
          1.5721691280259316,
          1.5633185226121669,
          1.5545242466950775,
          1.5457855579956696,
          1.5371018291227634,
          1.5284725441557205,
          1.5198972961946495,
          1.511375785851646,
          1.5029078206728927,
          1.4944933154975861,
          1.4861322937763517,
          1.4778248898893498,
          1.4695713525232856,
          1.4613720491878557,
          1.4532274719759943,
          1.4451382447003427,
          1.4371051315708787,
          1.4291290476176102,
          1.421211071109107,
          1.4133524582746384,
          1.4055546607077798,
          1.3978193459159092,
          1.390148421588489,
          1.3825440642930202,
          1.3750087534805606,
          1.3675453119032213,
          1.3601569538310616,
          1.352847342825372,
          1.3456206613110133,
          1.3384816948326004,
          1.3314359347391098,
          1.3244897042031445,
          1.317650314070587,
          1.3109262572375713,
          1.3043274533419622,
          1.29786555995939,
          1.2915543728678383,
          1.2854103473369805,
          1.2794532865080672,
          1.2737072645877598,
          1.2682018866261835,
          1.2629740416281614,
          1.2580703972549243,
          1.2535510420276625,
          1.2494949635496506,
          1.2460085817857662,
          1.2432396081090356,
          1.2414007263533062,
          1.2408126943115174,
          1.2419894020195585,
          1.245824849949682,
          1.2540718523117722,
          1.2708945507022407,
          1.3107009010862982
         ]
        },
        {
         "fill": "tonexty",
         "fillcolor": "rgba(248, 148, 6, 0.4)",
         "line": {
          "color": "rgba(255,255,255,0)",
          "width": 0
         },
         "marker": {
          "color": "#444"
         },
         "mode": "lines",
         "name": "Pred Value Upper",
         "showlegend": false,
         "type": "scatter",
         "x": [
          0.01,
          0.0198989898989899,
          0.029797979797979796,
          0.039696969696969696,
          0.049595959595959596,
          0.059494949494949496,
          0.06939393939393938,
          0.07929292929292929,
          0.08919191919191918,
          0.09909090909090908,
          0.10898989898989898,
          0.11888888888888888,
          0.12878787878787878,
          0.1386868686868687,
          0.1485858585858586,
          0.15848484848484848,
          0.16838383838383839,
          0.1782828282828283,
          0.18818181818181817,
          0.19808080808080808,
          0.207979797979798,
          0.21787878787878787,
          0.22777777777777777,
          0.23767676767676768,
          0.24757575757575756,
          0.25747474747474747,
          0.2673737373737374,
          0.2772727272727273,
          0.2871717171717172,
          0.29707070707070704,
          0.30696969696969695,
          0.31686868686868686,
          0.32676767676767676,
          0.33666666666666667,
          0.3465656565656566,
          0.3564646464646465,
          0.36636363636363634,
          0.37626262626262624,
          0.38616161616161615,
          0.39606060606060606,
          0.40595959595959596,
          0.41585858585858587,
          0.4257575757575757,
          0.43565656565656563,
          0.44555555555555554,
          0.45545454545454545,
          0.46535353535353535,
          0.47525252525252526,
          0.4851515151515151,
          0.495050505050505,
          0.5049494949494949,
          0.5148484848484849,
          0.5247474747474747,
          0.5346464646464646,
          0.5445454545454546,
          0.5544444444444444,
          0.5643434343434344,
          0.5742424242424242,
          0.5841414141414141,
          0.594040404040404,
          0.6039393939393939,
          0.6138383838383838,
          0.6237373737373737,
          0.6336363636363637,
          0.6435353535353535,
          0.6534343434343434,
          0.6633333333333333,
          0.6732323232323232,
          0.6831313131313131,
          0.693030303030303,
          0.702929292929293,
          0.7128282828282828,
          0.7227272727272727,
          0.7326262626262626,
          0.7425252525252525,
          0.7524242424242424,
          0.7623232323232323,
          0.7722222222222221,
          0.7821212121212121,
          0.792020202020202,
          0.8019191919191919,
          0.8118181818181818,
          0.8217171717171717,
          0.8316161616161616,
          0.8415151515151514,
          0.8514141414141414,
          0.8613131313131313,
          0.8712121212121212,
          0.8811111111111111,
          0.891010101010101,
          0.9009090909090909,
          0.9108080808080807,
          0.9207070707070707,
          0.9306060606060605,
          0.9405050505050505,
          0.9504040404040404,
          0.9603030303030302,
          0.9702020202020202,
          0.98010101010101,
          0.99
         ],
         "y": [
          2.550919586282661,
          2.427579321247964,
          2.35496400862189,
          2.3024590120503325,
          2.260735900491356,
          2.2257205200073473,
          2.1952731346033074,
          2.168133152921616,
          2.143496812153767,
          2.1208210662048126,
          2.099722399545135,
          2.0799203253486316,
          2.0612038268317643,
          2.043410411285686,
          2.026412491416888,
          2.0101082223165387,
          1.9944151539388566,
          1.9792657220036056,
          1.9646039738126406,
          1.950383144349918,
          1.9365638307139377,
          1.9231125957977528,
          1.9100008852746289,
          1.8972041768442713,
          1.8847013041019451,
          1.872473913399017,
          1.8605060232020298,
          1.8487836633334807,
          1.8372945771295774,
          1.8260279736607483,
          1.8149743201869213,
          1.804125167272909,
          1.7934730006826594,
          1.7830111154552823,
          1.7727335085455507,
          1.7626347871636208,
          1.7527100905273132,
          1.7429550231866608,
          1.7333655984245422,
          1.723938190502325,
          1.714669494723679,
          1.705556494446661,
          1.6965964342959077,
          1.6877867989216035,
          1.6791252967277615,
          1.670609848054836,
          1.662238577355632,
          1.6540098089525166,
          1.6459220660106446,
          1.6379740724085163,
          1.6301647572346474,
          1.6224932616886683,
          1.6149589482168771,
          1.6075614117666999,
          1.6003004931016767,
          1.593176294178687,
          1.586189195652676,
          1.579339876641555,
          1.572629336956222,
          1.5660589220793713,
          1.5596303512632523,
          1.5533457492142073,
          1.5472076819430347,
          1.5412191974899598,
          1.535383872386422,
          1.5297058649001078,
          1.5241899763339226,
          1.5188417219253625,
          1.5136674132361003,
          1.5086742543520566,
          1.5038704547598005,
          1.4992653624611352,
          1.4948696217847421,
          1.4906953615178475,
          1.4867564205071857,
          1.4830686198964407,
          1.479650093864065,
          1.476521694365888,
          1.4737074903599465,
          1.4712353888679583,
          1.469137914866945,
          1.467453200714497,
          1.4662262556252228,
          1.4655106148595893,
          1.4653705119887968,
          1.4658837845540673,
          1.4671458284946877,
          1.4692750860317545,
          1.4724208329440152,
          1.47677451473918,
          1.4825867462632165,
          1.490193709785463,
          1.500059892113351,
          1.5128508701005356,
          1.5295653380486929,
          1.5517947482180101,
          1.582292021900955,
          1.626422281573304,
          1.6968509566500802,
          1.8371225422582236
         ]
        },
        {
         "name": "True Value",
         "showlegend": true,
         "type": "scattergl",
         "x": [
          0.01,
          0.0198989898989899,
          0.029797979797979796,
          0.039696969696969696,
          0.049595959595959596,
          0.059494949494949496,
          0.06939393939393938,
          0.07929292929292929,
          0.08919191919191918,
          0.09909090909090908,
          0.10898989898989898,
          0.11888888888888888,
          0.12878787878787878,
          0.1386868686868687,
          0.1485858585858586,
          0.15848484848484848,
          0.16838383838383839,
          0.1782828282828283,
          0.18818181818181817,
          0.19808080808080808,
          0.207979797979798,
          0.21787878787878787,
          0.22777777777777777,
          0.23767676767676768,
          0.24757575757575756,
          0.25747474747474747,
          0.2673737373737374,
          0.2772727272727273,
          0.2871717171717172,
          0.29707070707070704,
          0.30696969696969695,
          0.31686868686868686,
          0.32676767676767676,
          0.33666666666666667,
          0.3465656565656566,
          0.3564646464646465,
          0.36636363636363634,
          0.37626262626262624,
          0.38616161616161615,
          0.39606060606060606,
          0.40595959595959596,
          0.41585858585858587,
          0.4257575757575757,
          0.43565656565656563,
          0.44555555555555554,
          0.45545454545454545,
          0.46535353535353535,
          0.47525252525252526,
          0.4851515151515151,
          0.495050505050505,
          0.5049494949494949,
          0.5148484848484849,
          0.5247474747474747,
          0.5346464646464646,
          0.5445454545454546,
          0.5544444444444444,
          0.5643434343434344,
          0.5742424242424242,
          0.5841414141414141,
          0.594040404040404,
          0.6039393939393939,
          0.6138383838383838,
          0.6237373737373737,
          0.6336363636363637,
          0.6435353535353535,
          0.6534343434343434,
          0.6633333333333333,
          0.6732323232323232,
          0.6831313131313131,
          0.693030303030303,
          0.702929292929293,
          0.7128282828282828,
          0.7227272727272727,
          0.7326262626262626,
          0.7425252525252525,
          0.7524242424242424,
          0.7623232323232323,
          0.7722222222222221,
          0.7821212121212121,
          0.792020202020202,
          0.8019191919191919,
          0.8118181818181818,
          0.8217171717171717,
          0.8316161616161616,
          0.8415151515151514,
          0.8514141414141414,
          0.8613131313131313,
          0.8712121212121212,
          0.8811111111111111,
          0.891010101010101,
          0.9009090909090909,
          0.9108080808080807,
          0.9207070707070707,
          0.9306060606060605,
          0.9405050505050505,
          0.9504040404040404,
          0.9603030303030302,
          0.9702020202020202,
          0.98010101010101,
          0.99
         ],
         "y": [
          1,
          1,
          1,
          1,
          1,
          1,
          1,
          1,
          1,
          1,
          1,
          1,
          1,
          1,
          1,
          1,
          1,
          1,
          1,
          1,
          1,
          1,
          1,
          1,
          1,
          1,
          1,
          1,
          1,
          1,
          1,
          1,
          1,
          1,
          1,
          1,
          1,
          1,
          1,
          1,
          1,
          1,
          1,
          1,
          1,
          1,
          1,
          1,
          1,
          1,
          1,
          1,
          1,
          1,
          1,
          1,
          1,
          1,
          1,
          1,
          1,
          1,
          1,
          1,
          1,
          1,
          1,
          1,
          1,
          1,
          1,
          1,
          1,
          1,
          1,
          1,
          1,
          1,
          1,
          1,
          1,
          1,
          1,
          1,
          1,
          1,
          1,
          1,
          1,
          1,
          1,
          1,
          1,
          1,
          1,
          1,
          1,
          1,
          1,
          1
         ]
        }
       ],
       "layout": {
        "template": {
         "data": {
          "bar": [
           {
            "error_x": {
             "color": "#2a3f5f"
            },
            "error_y": {
             "color": "#2a3f5f"
            },
            "marker": {
             "line": {
              "color": "#E5ECF6",
              "width": 0.5
             }
            },
            "type": "bar"
           }
          ],
          "barpolar": [
           {
            "marker": {
             "line": {
              "color": "#E5ECF6",
              "width": 0.5
             }
            },
            "type": "barpolar"
           }
          ],
          "carpet": [
           {
            "aaxis": {
             "endlinecolor": "#2a3f5f",
             "gridcolor": "white",
             "linecolor": "white",
             "minorgridcolor": "white",
             "startlinecolor": "#2a3f5f"
            },
            "baxis": {
             "endlinecolor": "#2a3f5f",
             "gridcolor": "white",
             "linecolor": "white",
             "minorgridcolor": "white",
             "startlinecolor": "#2a3f5f"
            },
            "type": "carpet"
           }
          ],
          "choropleth": [
           {
            "colorbar": {
             "outlinewidth": 0,
             "ticks": ""
            },
            "type": "choropleth"
           }
          ],
          "contour": [
           {
            "colorbar": {
             "outlinewidth": 0,
             "ticks": ""
            },
            "colorscale": [
             [
              0,
              "#0d0887"
             ],
             [
              0.1111111111111111,
              "#46039f"
             ],
             [
              0.2222222222222222,
              "#7201a8"
             ],
             [
              0.3333333333333333,
              "#9c179e"
             ],
             [
              0.4444444444444444,
              "#bd3786"
             ],
             [
              0.5555555555555556,
              "#d8576b"
             ],
             [
              0.6666666666666666,
              "#ed7953"
             ],
             [
              0.7777777777777778,
              "#fb9f3a"
             ],
             [
              0.8888888888888888,
              "#fdca26"
             ],
             [
              1,
              "#f0f921"
             ]
            ],
            "type": "contour"
           }
          ],
          "contourcarpet": [
           {
            "colorbar": {
             "outlinewidth": 0,
             "ticks": ""
            },
            "type": "contourcarpet"
           }
          ],
          "heatmap": [
           {
            "colorbar": {
             "outlinewidth": 0,
             "ticks": ""
            },
            "colorscale": [
             [
              0,
              "#0d0887"
             ],
             [
              0.1111111111111111,
              "#46039f"
             ],
             [
              0.2222222222222222,
              "#7201a8"
             ],
             [
              0.3333333333333333,
              "#9c179e"
             ],
             [
              0.4444444444444444,
              "#bd3786"
             ],
             [
              0.5555555555555556,
              "#d8576b"
             ],
             [
              0.6666666666666666,
              "#ed7953"
             ],
             [
              0.7777777777777778,
              "#fb9f3a"
             ],
             [
              0.8888888888888888,
              "#fdca26"
             ],
             [
              1,
              "#f0f921"
             ]
            ],
            "type": "heatmap"
           }
          ],
          "heatmapgl": [
           {
            "colorbar": {
             "outlinewidth": 0,
             "ticks": ""
            },
            "colorscale": [
             [
              0,
              "#0d0887"
             ],
             [
              0.1111111111111111,
              "#46039f"
             ],
             [
              0.2222222222222222,
              "#7201a8"
             ],
             [
              0.3333333333333333,
              "#9c179e"
             ],
             [
              0.4444444444444444,
              "#bd3786"
             ],
             [
              0.5555555555555556,
              "#d8576b"
             ],
             [
              0.6666666666666666,
              "#ed7953"
             ],
             [
              0.7777777777777778,
              "#fb9f3a"
             ],
             [
              0.8888888888888888,
              "#fdca26"
             ],
             [
              1,
              "#f0f921"
             ]
            ],
            "type": "heatmapgl"
           }
          ],
          "histogram": [
           {
            "marker": {
             "colorbar": {
              "outlinewidth": 0,
              "ticks": ""
             }
            },
            "type": "histogram"
           }
          ],
          "histogram2d": [
           {
            "colorbar": {
             "outlinewidth": 0,
             "ticks": ""
            },
            "colorscale": [
             [
              0,
              "#0d0887"
             ],
             [
              0.1111111111111111,
              "#46039f"
             ],
             [
              0.2222222222222222,
              "#7201a8"
             ],
             [
              0.3333333333333333,
              "#9c179e"
             ],
             [
              0.4444444444444444,
              "#bd3786"
             ],
             [
              0.5555555555555556,
              "#d8576b"
             ],
             [
              0.6666666666666666,
              "#ed7953"
             ],
             [
              0.7777777777777778,
              "#fb9f3a"
             ],
             [
              0.8888888888888888,
              "#fdca26"
             ],
             [
              1,
              "#f0f921"
             ]
            ],
            "type": "histogram2d"
           }
          ],
          "histogram2dcontour": [
           {
            "colorbar": {
             "outlinewidth": 0,
             "ticks": ""
            },
            "colorscale": [
             [
              0,
              "#0d0887"
             ],
             [
              0.1111111111111111,
              "#46039f"
             ],
             [
              0.2222222222222222,
              "#7201a8"
             ],
             [
              0.3333333333333333,
              "#9c179e"
             ],
             [
              0.4444444444444444,
              "#bd3786"
             ],
             [
              0.5555555555555556,
              "#d8576b"
             ],
             [
              0.6666666666666666,
              "#ed7953"
             ],
             [
              0.7777777777777778,
              "#fb9f3a"
             ],
             [
              0.8888888888888888,
              "#fdca26"
             ],
             [
              1,
              "#f0f921"
             ]
            ],
            "type": "histogram2dcontour"
           }
          ],
          "mesh3d": [
           {
            "colorbar": {
             "outlinewidth": 0,
             "ticks": ""
            },
            "type": "mesh3d"
           }
          ],
          "parcoords": [
           {
            "line": {
             "colorbar": {
              "outlinewidth": 0,
              "ticks": ""
             }
            },
            "type": "parcoords"
           }
          ],
          "pie": [
           {
            "automargin": true,
            "type": "pie"
           }
          ],
          "scatter": [
           {
            "marker": {
             "colorbar": {
              "outlinewidth": 0,
              "ticks": ""
             }
            },
            "type": "scatter"
           }
          ],
          "scatter3d": [
           {
            "line": {
             "colorbar": {
              "outlinewidth": 0,
              "ticks": ""
             }
            },
            "marker": {
             "colorbar": {
              "outlinewidth": 0,
              "ticks": ""
             }
            },
            "type": "scatter3d"
           }
          ],
          "scattercarpet": [
           {
            "marker": {
             "colorbar": {
              "outlinewidth": 0,
              "ticks": ""
             }
            },
            "type": "scattercarpet"
           }
          ],
          "scattergeo": [
           {
            "marker": {
             "colorbar": {
              "outlinewidth": 0,
              "ticks": ""
             }
            },
            "type": "scattergeo"
           }
          ],
          "scattergl": [
           {
            "marker": {
             "colorbar": {
              "outlinewidth": 0,
              "ticks": ""
             }
            },
            "type": "scattergl"
           }
          ],
          "scattermapbox": [
           {
            "marker": {
             "colorbar": {
              "outlinewidth": 0,
              "ticks": ""
             }
            },
            "type": "scattermapbox"
           }
          ],
          "scatterpolar": [
           {
            "marker": {
             "colorbar": {
              "outlinewidth": 0,
              "ticks": ""
             }
            },
            "type": "scatterpolar"
           }
          ],
          "scatterpolargl": [
           {
            "marker": {
             "colorbar": {
              "outlinewidth": 0,
              "ticks": ""
             }
            },
            "type": "scatterpolargl"
           }
          ],
          "scatterternary": [
           {
            "marker": {
             "colorbar": {
              "outlinewidth": 0,
              "ticks": ""
             }
            },
            "type": "scatterternary"
           }
          ],
          "surface": [
           {
            "colorbar": {
             "outlinewidth": 0,
             "ticks": ""
            },
            "colorscale": [
             [
              0,
              "#0d0887"
             ],
             [
              0.1111111111111111,
              "#46039f"
             ],
             [
              0.2222222222222222,
              "#7201a8"
             ],
             [
              0.3333333333333333,
              "#9c179e"
             ],
             [
              0.4444444444444444,
              "#bd3786"
             ],
             [
              0.5555555555555556,
              "#d8576b"
             ],
             [
              0.6666666666666666,
              "#ed7953"
             ],
             [
              0.7777777777777778,
              "#fb9f3a"
             ],
             [
              0.8888888888888888,
              "#fdca26"
             ],
             [
              1,
              "#f0f921"
             ]
            ],
            "type": "surface"
           }
          ],
          "table": [
           {
            "cells": {
             "fill": {
              "color": "#EBF0F8"
             },
             "line": {
              "color": "white"
             }
            },
            "header": {
             "fill": {
              "color": "#C8D4E3"
             },
             "line": {
              "color": "white"
             }
            },
            "type": "table"
           }
          ]
         },
         "layout": {
          "annotationdefaults": {
           "arrowcolor": "#2a3f5f",
           "arrowhead": 0,
           "arrowwidth": 1
          },
          "coloraxis": {
           "colorbar": {
            "outlinewidth": 0,
            "ticks": ""
           }
          },
          "colorscale": {
           "diverging": [
            [
             0,
             "#8e0152"
            ],
            [
             0.1,
             "#c51b7d"
            ],
            [
             0.2,
             "#de77ae"
            ],
            [
             0.3,
             "#f1b6da"
            ],
            [
             0.4,
             "#fde0ef"
            ],
            [
             0.5,
             "#f7f7f7"
            ],
            [
             0.6,
             "#e6f5d0"
            ],
            [
             0.7,
             "#b8e186"
            ],
            [
             0.8,
             "#7fbc41"
            ],
            [
             0.9,
             "#4d9221"
            ],
            [
             1,
             "#276419"
            ]
           ],
           "sequential": [
            [
             0,
             "#0d0887"
            ],
            [
             0.1111111111111111,
             "#46039f"
            ],
            [
             0.2222222222222222,
             "#7201a8"
            ],
            [
             0.3333333333333333,
             "#9c179e"
            ],
            [
             0.4444444444444444,
             "#bd3786"
            ],
            [
             0.5555555555555556,
             "#d8576b"
            ],
            [
             0.6666666666666666,
             "#ed7953"
            ],
            [
             0.7777777777777778,
             "#fb9f3a"
            ],
            [
             0.8888888888888888,
             "#fdca26"
            ],
            [
             1,
             "#f0f921"
            ]
           ],
           "sequentialminus": [
            [
             0,
             "#0d0887"
            ],
            [
             0.1111111111111111,
             "#46039f"
            ],
            [
             0.2222222222222222,
             "#7201a8"
            ],
            [
             0.3333333333333333,
             "#9c179e"
            ],
            [
             0.4444444444444444,
             "#bd3786"
            ],
            [
             0.5555555555555556,
             "#d8576b"
            ],
            [
             0.6666666666666666,
             "#ed7953"
            ],
            [
             0.7777777777777778,
             "#fb9f3a"
            ],
            [
             0.8888888888888888,
             "#fdca26"
            ],
            [
             1,
             "#f0f921"
            ]
           ]
          },
          "colorway": [
           "#636efa",
           "#EF553B",
           "#00cc96",
           "#ab63fa",
           "#FFA15A",
           "#19d3f3",
           "#FF6692",
           "#B6E880",
           "#FF97FF",
           "#FECB52"
          ],
          "font": {
           "color": "#2a3f5f"
          },
          "geo": {
           "bgcolor": "white",
           "lakecolor": "white",
           "landcolor": "#E5ECF6",
           "showlakes": true,
           "showland": true,
           "subunitcolor": "white"
          },
          "hoverlabel": {
           "align": "left"
          },
          "hovermode": "closest",
          "mapbox": {
           "style": "light"
          },
          "paper_bgcolor": "white",
          "plot_bgcolor": "#E5ECF6",
          "polar": {
           "angularaxis": {
            "gridcolor": "white",
            "linecolor": "white",
            "ticks": ""
           },
           "bgcolor": "#E5ECF6",
           "radialaxis": {
            "gridcolor": "white",
            "linecolor": "white",
            "ticks": ""
           }
          },
          "scene": {
           "xaxis": {
            "backgroundcolor": "#E5ECF6",
            "gridcolor": "white",
            "gridwidth": 2,
            "linecolor": "white",
            "showbackground": true,
            "ticks": "",
            "zerolinecolor": "white"
           },
           "yaxis": {
            "backgroundcolor": "#E5ECF6",
            "gridcolor": "white",
            "gridwidth": 2,
            "linecolor": "white",
            "showbackground": true,
            "ticks": "",
            "zerolinecolor": "white"
           },
           "zaxis": {
            "backgroundcolor": "#E5ECF6",
            "gridcolor": "white",
            "gridwidth": 2,
            "linecolor": "white",
            "showbackground": true,
            "ticks": "",
            "zerolinecolor": "white"
           }
          },
          "shapedefaults": {
           "line": {
            "color": "#2a3f5f"
           }
          },
          "ternary": {
           "aaxis": {
            "gridcolor": "white",
            "linecolor": "white",
            "ticks": ""
           },
           "baxis": {
            "gridcolor": "white",
            "linecolor": "white",
            "ticks": ""
           },
           "bgcolor": "#E5ECF6",
           "caxis": {
            "gridcolor": "white",
            "linecolor": "white",
            "ticks": ""
           }
          },
          "title": {
           "x": 0.05
          },
          "xaxis": {
           "automargin": true,
           "gridcolor": "white",
           "linecolor": "white",
           "ticks": "",
           "title": {
            "standoff": 15
           },
           "zerolinecolor": "white",
           "zerolinewidth": 2
          },
          "yaxis": {
           "automargin": true,
           "gridcolor": "white",
           "linecolor": "white",
           "ticks": "",
           "title": {
            "standoff": 15
           },
           "zerolinecolor": "white",
           "zerolinewidth": 2
          }
         }
        },
        "title": {
         "text": "PDF UP Ratio Plot "
        }
       }
      },
      "text/html": [
       "<div>\n",
       "        \n",
       "        \n",
       "            <div id=\"3c1a51f4-3870-4763-8d67-10fe9f14e5c6\" class=\"plotly-graph-div\" style=\"height:525px; width:100%;\"></div>\n",
       "            <script type=\"text/javascript\">\n",
       "                require([\"plotly\"], function(Plotly) {\n",
       "                    window.PLOTLYENV=window.PLOTLYENV || {};\n",
       "                    \n",
       "                if (document.getElementById(\"3c1a51f4-3870-4763-8d67-10fe9f14e5c6\")) {\n",
       "                    Plotly.newPlot(\n",
       "                        '3c1a51f4-3870-4763-8d67-10fe9f14e5c6',\n",
       "                        [{\"line\": {\"width\": 0}, \"marker\": {\"color\": \"#444\"}, \"mode\": \"lines\", \"name\": \"Pred Value Lower\", \"showlegend\": false, \"type\": \"scatter\", \"x\": [0.01, 0.0198989898989899, 0.029797979797979796, 0.039696969696969696, 0.049595959595959596, 0.059494949494949496, 0.06939393939393938, 0.07929292929292929, 0.08919191919191918, 0.09909090909090908, 0.10898989898989898, 0.11888888888888888, 0.12878787878787878, 0.1386868686868687, 0.1485858585858586, 0.15848484848484848, 0.16838383838383839, 0.1782828282828283, 0.18818181818181817, 0.19808080808080808, 0.207979797979798, 0.21787878787878787, 0.22777777777777777, 0.23767676767676768, 0.24757575757575756, 0.25747474747474747, 0.2673737373737374, 0.2772727272727273, 0.2871717171717172, 0.29707070707070704, 0.30696969696969695, 0.31686868686868686, 0.32676767676767676, 0.33666666666666667, 0.3465656565656566, 0.3564646464646465, 0.36636363636363634, 0.37626262626262624, 0.38616161616161615, 0.39606060606060606, 0.40595959595959596, 0.41585858585858587, 0.4257575757575757, 0.43565656565656563, 0.44555555555555554, 0.45545454545454545, 0.46535353535353535, 0.47525252525252526, 0.4851515151515151, 0.495050505050505, 0.5049494949494949, 0.5148484848484849, 0.5247474747474747, 0.5346464646464646, 0.5445454545454546, 0.5544444444444444, 0.5643434343434344, 0.5742424242424242, 0.5841414141414141, 0.594040404040404, 0.6039393939393939, 0.6138383838383838, 0.6237373737373737, 0.6336363636363637, 0.6435353535353535, 0.6534343434343434, 0.6633333333333333, 0.6732323232323232, 0.6831313131313131, 0.693030303030303, 0.702929292929293, 0.7128282828282828, 0.7227272727272727, 0.7326262626262626, 0.7425252525252525, 0.7524242424242424, 0.7623232323232323, 0.7722222222222221, 0.7821212121212121, 0.792020202020202, 0.8019191919191919, 0.8118181818181818, 0.8217171717171717, 0.8316161616161616, 0.8415151515151514, 0.8514141414141414, 0.8613131313131313, 0.8712121212121212, 0.8811111111111111, 0.891010101010101, 0.9009090909090909, 0.9108080808080807, 0.9207070707070707, 0.9306060606060605, 0.9405050505050505, 0.9504040404040404, 0.9603030303030302, 0.9702020202020202, 0.98010101010101, 0.99], \"y\": [1.9215855784153115, 1.9081469615257314, 1.896143199146127, 1.884883224919728, 1.8740921629805867, 1.8636295417318376, 1.8534125063030755, 1.8433873575084156, 1.8335168653869909, 1.8237738648379431, 1.814137717085915, 1.8045922153931244, 1.7951242765039543, 1.78572308641345, 1.7763795222499839, 1.7670857490999134, 1.7578349316744315, 1.7486210237172832, 1.739438611478283, 1.730282795702099, 1.721149101653519, 1.712033409953318, 1.7029319031347638, 1.6938410242625836, 1.684757444932567, 1.6756780406460476, 1.666599872027464, 1.6575201706886915, 1.6484363287841997, 1.6393458914744796, 1.6302465516419193, 1.6211361462982519, 1.6120126541951123, 1.602874194207712, 1.593719024110774, 1.584545539410529, 1.5753522719386597, 1.5661378879560561, 1.5569011855566248, 1.5476410912044418, 1.5383566552811667, 1.5290470465634187, 1.5197115455914632, 1.5103495369290614, 1.500960500348929, 1.4915440010075462, 1.482099678696231, 1.4726272362718171, 1.4631264273795104, 1.453597043582823, 1.4440389010108794, 1.4344518266227728, 1.424835644172422, 1.415190159936592, 1.4055151482441088, 1.3958103368164854, 1.3860753919000275, 1.3763099031371446, 1.3665133680903492, 1.3566851762963401, 1.3468245926887363, 1.336930740186478, 1.3270025811987227, 1.3170388977452605, 1.3070382698317922, 1.296999051649169, 1.286919345081637, 1.2767969699064559, 1.2666294299408776, 1.2564138742339839, 1.2461470522013207, 1.2358252613453073, 1.225444285877381, 1.2149993241328965, 1.204484902114841, 1.19389476976876, 1.1832217756141545, 1.172457714040401, 1.1615931377812276, 1.1506171256071842, 1.1395169918169794, 1.128277919204283, 1.1168824901104537, 1.1053100798143716, 1.0935360610273377, 1.0815307446214524, 1.0692579447576793, 1.0566729972245683, 1.0437199615658335, 1.030327569316145, 1.0164031808360847, 1.0018234537860695, 0.9864193241047202, 0.9699505826060768, 0.952060050574342, 0.932184055821107, 0.909357677998409, 0.8817214230502405, 0.8449381447544011, 0.7842792599143728]}, {\"fill\": \"tonexty\", \"fillcolor\": \"rgba(248, 148, 6, 0.4)\", \"line\": {\"color\": \"rgba(217, 30, 24, 1)\"}, \"mode\": \"lines\", \"name\": \"Pred Value\", \"showlegend\": true, \"type\": \"scatter\", \"x\": [0.01, 0.0198989898989899, 0.029797979797979796, 0.039696969696969696, 0.049595959595959596, 0.059494949494949496, 0.06939393939393938, 0.07929292929292929, 0.08919191919191918, 0.09909090909090908, 0.10898989898989898, 0.11888888888888888, 0.12878787878787878, 0.1386868686868687, 0.1485858585858586, 0.15848484848484848, 0.16838383838383839, 0.1782828282828283, 0.18818181818181817, 0.19808080808080808, 0.207979797979798, 0.21787878787878787, 0.22777777777777777, 0.23767676767676768, 0.24757575757575756, 0.25747474747474747, 0.2673737373737374, 0.2772727272727273, 0.2871717171717172, 0.29707070707070704, 0.30696969696969695, 0.31686868686868686, 0.32676767676767676, 0.33666666666666667, 0.3465656565656566, 0.3564646464646465, 0.36636363636363634, 0.37626262626262624, 0.38616161616161615, 0.39606060606060606, 0.40595959595959596, 0.41585858585858587, 0.4257575757575757, 0.43565656565656563, 0.44555555555555554, 0.45545454545454545, 0.46535353535353535, 0.47525252525252526, 0.4851515151515151, 0.495050505050505, 0.5049494949494949, 0.5148484848484849, 0.5247474747474747, 0.5346464646464646, 0.5445454545454546, 0.5544444444444444, 0.5643434343434344, 0.5742424242424242, 0.5841414141414141, 0.594040404040404, 0.6039393939393939, 0.6138383838383838, 0.6237373737373737, 0.6336363636363637, 0.6435353535353535, 0.6534343434343434, 0.6633333333333333, 0.6732323232323232, 0.6831313131313131, 0.693030303030303, 0.702929292929293, 0.7128282828282828, 0.7227272727272727, 0.7326262626262626, 0.7425252525252525, 0.7524242424242424, 0.7623232323232323, 0.7722222222222221, 0.7821212121212121, 0.792020202020202, 0.8019191919191919, 0.8118181818181818, 0.8217171717171717, 0.8316161616161616, 0.8415151515151514, 0.8514141414141414, 0.8613131313131313, 0.8712121212121212, 0.8811111111111111, 0.891010101010101, 0.9009090909090909, 0.9108080808080807, 0.9207070707070707, 0.9306060606060605, 0.9405050505050505, 0.9504040404040404, 0.9603030303030302, 0.9702020202020202, 0.98010101010101, 0.99], \"y\": [2.2362525823489863, 2.1678631413868477, 2.1255536038840086, 2.0936711184850303, 2.0674140317359715, 2.0446750308695925, 2.0243428204531915, 2.0057602552150158, 1.988506838770379, 1.9722974655213779, 1.956930058315525, 1.9422562703708781, 1.9281640516678593, 1.9145667488495681, 1.9013960068334361, 1.888596985708226, 1.876125042806644, 1.8639433728604444, 1.8520212926454618, 1.8403329700260085, 1.8288564661837283, 1.8175730028755355, 1.8064663942046963, 1.7955226005534275, 1.784729374517256, 1.7740759770225323, 1.763552947614747, 1.753151917011086, 1.7428654529568886, 1.732686932567614, 1.7226104359144203, 1.7126306567855805, 1.7027428274388858, 1.6929426548314972, 1.6832262663281623, 1.6735901632870749, 1.6640311812329864, 1.6545464555713585, 1.6451333919905835, 1.6357896408533834, 1.6265130750024228, 1.6173017705050399, 1.6081539899436854, 1.5990681679253325, 1.5900428985383452, 1.581076924531191, 1.5721691280259316, 1.5633185226121669, 1.5545242466950775, 1.5457855579956696, 1.5371018291227634, 1.5284725441557205, 1.5198972961946495, 1.511375785851646, 1.5029078206728927, 1.4944933154975861, 1.4861322937763517, 1.4778248898893498, 1.4695713525232856, 1.4613720491878557, 1.4532274719759943, 1.4451382447003427, 1.4371051315708787, 1.4291290476176102, 1.421211071109107, 1.4133524582746384, 1.4055546607077798, 1.3978193459159092, 1.390148421588489, 1.3825440642930202, 1.3750087534805606, 1.3675453119032213, 1.3601569538310616, 1.352847342825372, 1.3456206613110133, 1.3384816948326004, 1.3314359347391098, 1.3244897042031445, 1.317650314070587, 1.3109262572375713, 1.3043274533419622, 1.29786555995939, 1.2915543728678383, 1.2854103473369805, 1.2794532865080672, 1.2737072645877598, 1.2682018866261835, 1.2629740416281614, 1.2580703972549243, 1.2535510420276625, 1.2494949635496506, 1.2460085817857662, 1.2432396081090356, 1.2414007263533062, 1.2408126943115174, 1.2419894020195585, 1.245824849949682, 1.2540718523117722, 1.2708945507022407, 1.3107009010862982]}, {\"fill\": \"tonexty\", \"fillcolor\": \"rgba(248, 148, 6, 0.4)\", \"line\": {\"color\": \"rgba(255,255,255,0)\", \"width\": 0}, \"marker\": {\"color\": \"#444\"}, \"mode\": \"lines\", \"name\": \"Pred Value Upper\", \"showlegend\": false, \"type\": \"scatter\", \"x\": [0.01, 0.0198989898989899, 0.029797979797979796, 0.039696969696969696, 0.049595959595959596, 0.059494949494949496, 0.06939393939393938, 0.07929292929292929, 0.08919191919191918, 0.09909090909090908, 0.10898989898989898, 0.11888888888888888, 0.12878787878787878, 0.1386868686868687, 0.1485858585858586, 0.15848484848484848, 0.16838383838383839, 0.1782828282828283, 0.18818181818181817, 0.19808080808080808, 0.207979797979798, 0.21787878787878787, 0.22777777777777777, 0.23767676767676768, 0.24757575757575756, 0.25747474747474747, 0.2673737373737374, 0.2772727272727273, 0.2871717171717172, 0.29707070707070704, 0.30696969696969695, 0.31686868686868686, 0.32676767676767676, 0.33666666666666667, 0.3465656565656566, 0.3564646464646465, 0.36636363636363634, 0.37626262626262624, 0.38616161616161615, 0.39606060606060606, 0.40595959595959596, 0.41585858585858587, 0.4257575757575757, 0.43565656565656563, 0.44555555555555554, 0.45545454545454545, 0.46535353535353535, 0.47525252525252526, 0.4851515151515151, 0.495050505050505, 0.5049494949494949, 0.5148484848484849, 0.5247474747474747, 0.5346464646464646, 0.5445454545454546, 0.5544444444444444, 0.5643434343434344, 0.5742424242424242, 0.5841414141414141, 0.594040404040404, 0.6039393939393939, 0.6138383838383838, 0.6237373737373737, 0.6336363636363637, 0.6435353535353535, 0.6534343434343434, 0.6633333333333333, 0.6732323232323232, 0.6831313131313131, 0.693030303030303, 0.702929292929293, 0.7128282828282828, 0.7227272727272727, 0.7326262626262626, 0.7425252525252525, 0.7524242424242424, 0.7623232323232323, 0.7722222222222221, 0.7821212121212121, 0.792020202020202, 0.8019191919191919, 0.8118181818181818, 0.8217171717171717, 0.8316161616161616, 0.8415151515151514, 0.8514141414141414, 0.8613131313131313, 0.8712121212121212, 0.8811111111111111, 0.891010101010101, 0.9009090909090909, 0.9108080808080807, 0.9207070707070707, 0.9306060606060605, 0.9405050505050505, 0.9504040404040404, 0.9603030303030302, 0.9702020202020202, 0.98010101010101, 0.99], \"y\": [2.550919586282661, 2.427579321247964, 2.35496400862189, 2.3024590120503325, 2.260735900491356, 2.2257205200073473, 2.1952731346033074, 2.168133152921616, 2.143496812153767, 2.1208210662048126, 2.099722399545135, 2.0799203253486316, 2.0612038268317643, 2.043410411285686, 2.026412491416888, 2.0101082223165387, 1.9944151539388566, 1.9792657220036056, 1.9646039738126406, 1.950383144349918, 1.9365638307139377, 1.9231125957977528, 1.9100008852746289, 1.8972041768442713, 1.8847013041019451, 1.872473913399017, 1.8605060232020298, 1.8487836633334807, 1.8372945771295774, 1.8260279736607483, 1.8149743201869213, 1.804125167272909, 1.7934730006826594, 1.7830111154552823, 1.7727335085455507, 1.7626347871636208, 1.7527100905273132, 1.7429550231866608, 1.7333655984245422, 1.723938190502325, 1.714669494723679, 1.705556494446661, 1.6965964342959077, 1.6877867989216035, 1.6791252967277615, 1.670609848054836, 1.662238577355632, 1.6540098089525166, 1.6459220660106446, 1.6379740724085163, 1.6301647572346474, 1.6224932616886683, 1.6149589482168771, 1.6075614117666999, 1.6003004931016767, 1.593176294178687, 1.586189195652676, 1.579339876641555, 1.572629336956222, 1.5660589220793713, 1.5596303512632523, 1.5533457492142073, 1.5472076819430347, 1.5412191974899598, 1.535383872386422, 1.5297058649001078, 1.5241899763339226, 1.5188417219253625, 1.5136674132361003, 1.5086742543520566, 1.5038704547598005, 1.4992653624611352, 1.4948696217847421, 1.4906953615178475, 1.4867564205071857, 1.4830686198964407, 1.479650093864065, 1.476521694365888, 1.4737074903599465, 1.4712353888679583, 1.469137914866945, 1.467453200714497, 1.4662262556252228, 1.4655106148595893, 1.4653705119887968, 1.4658837845540673, 1.4671458284946877, 1.4692750860317545, 1.4724208329440152, 1.47677451473918, 1.4825867462632165, 1.490193709785463, 1.500059892113351, 1.5128508701005356, 1.5295653380486929, 1.5517947482180101, 1.582292021900955, 1.626422281573304, 1.6968509566500802, 1.8371225422582236]}, {\"name\": \"True Value\", \"showlegend\": true, \"type\": \"scattergl\", \"x\": [0.01, 0.0198989898989899, 0.029797979797979796, 0.039696969696969696, 0.049595959595959596, 0.059494949494949496, 0.06939393939393938, 0.07929292929292929, 0.08919191919191918, 0.09909090909090908, 0.10898989898989898, 0.11888888888888888, 0.12878787878787878, 0.1386868686868687, 0.1485858585858586, 0.15848484848484848, 0.16838383838383839, 0.1782828282828283, 0.18818181818181817, 0.19808080808080808, 0.207979797979798, 0.21787878787878787, 0.22777777777777777, 0.23767676767676768, 0.24757575757575756, 0.25747474747474747, 0.2673737373737374, 0.2772727272727273, 0.2871717171717172, 0.29707070707070704, 0.30696969696969695, 0.31686868686868686, 0.32676767676767676, 0.33666666666666667, 0.3465656565656566, 0.3564646464646465, 0.36636363636363634, 0.37626262626262624, 0.38616161616161615, 0.39606060606060606, 0.40595959595959596, 0.41585858585858587, 0.4257575757575757, 0.43565656565656563, 0.44555555555555554, 0.45545454545454545, 0.46535353535353535, 0.47525252525252526, 0.4851515151515151, 0.495050505050505, 0.5049494949494949, 0.5148484848484849, 0.5247474747474747, 0.5346464646464646, 0.5445454545454546, 0.5544444444444444, 0.5643434343434344, 0.5742424242424242, 0.5841414141414141, 0.594040404040404, 0.6039393939393939, 0.6138383838383838, 0.6237373737373737, 0.6336363636363637, 0.6435353535353535, 0.6534343434343434, 0.6633333333333333, 0.6732323232323232, 0.6831313131313131, 0.693030303030303, 0.702929292929293, 0.7128282828282828, 0.7227272727272727, 0.7326262626262626, 0.7425252525252525, 0.7524242424242424, 0.7623232323232323, 0.7722222222222221, 0.7821212121212121, 0.792020202020202, 0.8019191919191919, 0.8118181818181818, 0.8217171717171717, 0.8316161616161616, 0.8415151515151514, 0.8514141414141414, 0.8613131313131313, 0.8712121212121212, 0.8811111111111111, 0.891010101010101, 0.9009090909090909, 0.9108080808080807, 0.9207070707070707, 0.9306060606060605, 0.9405050505050505, 0.9504040404040404, 0.9603030303030302, 0.9702020202020202, 0.98010101010101, 0.99], \"y\": [1.0, 1.0, 1.0, 1.0, 1.0, 1.0, 1.0, 1.0, 1.0, 1.0, 1.0, 1.0, 1.0, 1.0, 1.0, 1.0, 1.0, 1.0, 1.0, 1.0, 1.0, 1.0, 1.0, 1.0, 1.0, 1.0, 1.0, 1.0, 1.0, 1.0, 1.0, 1.0, 1.0, 1.0, 1.0, 1.0, 1.0, 1.0, 1.0, 1.0, 1.0, 1.0, 1.0, 1.0, 1.0, 1.0, 1.0, 1.0, 1.0, 1.0, 1.0, 1.0, 1.0, 1.0, 1.0, 1.0, 1.0, 1.0, 1.0, 1.0, 1.0, 1.0, 1.0, 1.0, 1.0, 1.0, 1.0, 1.0, 1.0, 1.0, 1.0, 1.0, 1.0, 1.0, 1.0, 1.0, 1.0, 1.0, 1.0, 1.0, 1.0, 1.0, 1.0, 1.0, 1.0, 1.0, 1.0, 1.0, 1.0, 1.0, 1.0, 1.0, 1.0, 1.0, 1.0, 1.0, 1.0, 1.0, 1.0, 1.0]}],\n",
       "                        {\"template\": {\"data\": {\"bar\": [{\"error_x\": {\"color\": \"#2a3f5f\"}, \"error_y\": {\"color\": \"#2a3f5f\"}, \"marker\": {\"line\": {\"color\": \"#E5ECF6\", \"width\": 0.5}}, \"type\": \"bar\"}], \"barpolar\": [{\"marker\": {\"line\": {\"color\": \"#E5ECF6\", \"width\": 0.5}}, \"type\": \"barpolar\"}], \"carpet\": [{\"aaxis\": {\"endlinecolor\": \"#2a3f5f\", \"gridcolor\": \"white\", \"linecolor\": \"white\", \"minorgridcolor\": \"white\", \"startlinecolor\": \"#2a3f5f\"}, \"baxis\": {\"endlinecolor\": \"#2a3f5f\", \"gridcolor\": \"white\", \"linecolor\": \"white\", \"minorgridcolor\": \"white\", \"startlinecolor\": \"#2a3f5f\"}, \"type\": \"carpet\"}], \"choropleth\": [{\"colorbar\": {\"outlinewidth\": 0, \"ticks\": \"\"}, \"type\": \"choropleth\"}], \"contour\": [{\"colorbar\": {\"outlinewidth\": 0, \"ticks\": \"\"}, \"colorscale\": [[0.0, \"#0d0887\"], [0.1111111111111111, \"#46039f\"], [0.2222222222222222, \"#7201a8\"], [0.3333333333333333, \"#9c179e\"], [0.4444444444444444, \"#bd3786\"], [0.5555555555555556, \"#d8576b\"], [0.6666666666666666, \"#ed7953\"], [0.7777777777777778, \"#fb9f3a\"], [0.8888888888888888, \"#fdca26\"], [1.0, \"#f0f921\"]], \"type\": \"contour\"}], \"contourcarpet\": [{\"colorbar\": {\"outlinewidth\": 0, \"ticks\": \"\"}, \"type\": \"contourcarpet\"}], \"heatmap\": [{\"colorbar\": {\"outlinewidth\": 0, \"ticks\": \"\"}, \"colorscale\": [[0.0, \"#0d0887\"], [0.1111111111111111, \"#46039f\"], [0.2222222222222222, \"#7201a8\"], [0.3333333333333333, \"#9c179e\"], [0.4444444444444444, \"#bd3786\"], [0.5555555555555556, \"#d8576b\"], [0.6666666666666666, \"#ed7953\"], [0.7777777777777778, \"#fb9f3a\"], [0.8888888888888888, \"#fdca26\"], [1.0, \"#f0f921\"]], \"type\": \"heatmap\"}], \"heatmapgl\": [{\"colorbar\": {\"outlinewidth\": 0, \"ticks\": \"\"}, \"colorscale\": [[0.0, \"#0d0887\"], [0.1111111111111111, \"#46039f\"], [0.2222222222222222, \"#7201a8\"], [0.3333333333333333, \"#9c179e\"], [0.4444444444444444, \"#bd3786\"], [0.5555555555555556, \"#d8576b\"], [0.6666666666666666, \"#ed7953\"], [0.7777777777777778, \"#fb9f3a\"], [0.8888888888888888, \"#fdca26\"], [1.0, \"#f0f921\"]], \"type\": \"heatmapgl\"}], \"histogram\": [{\"marker\": {\"colorbar\": {\"outlinewidth\": 0, \"ticks\": \"\"}}, \"type\": \"histogram\"}], \"histogram2d\": [{\"colorbar\": {\"outlinewidth\": 0, \"ticks\": \"\"}, \"colorscale\": [[0.0, \"#0d0887\"], [0.1111111111111111, \"#46039f\"], [0.2222222222222222, \"#7201a8\"], [0.3333333333333333, \"#9c179e\"], [0.4444444444444444, \"#bd3786\"], [0.5555555555555556, \"#d8576b\"], [0.6666666666666666, \"#ed7953\"], [0.7777777777777778, \"#fb9f3a\"], [0.8888888888888888, \"#fdca26\"], [1.0, \"#f0f921\"]], \"type\": \"histogram2d\"}], \"histogram2dcontour\": [{\"colorbar\": {\"outlinewidth\": 0, \"ticks\": \"\"}, \"colorscale\": [[0.0, \"#0d0887\"], [0.1111111111111111, \"#46039f\"], [0.2222222222222222, \"#7201a8\"], [0.3333333333333333, \"#9c179e\"], [0.4444444444444444, \"#bd3786\"], [0.5555555555555556, \"#d8576b\"], [0.6666666666666666, \"#ed7953\"], [0.7777777777777778, \"#fb9f3a\"], [0.8888888888888888, \"#fdca26\"], [1.0, \"#f0f921\"]], \"type\": \"histogram2dcontour\"}], \"mesh3d\": [{\"colorbar\": {\"outlinewidth\": 0, \"ticks\": \"\"}, \"type\": \"mesh3d\"}], \"parcoords\": [{\"line\": {\"colorbar\": {\"outlinewidth\": 0, \"ticks\": \"\"}}, \"type\": \"parcoords\"}], \"pie\": [{\"automargin\": true, \"type\": \"pie\"}], \"scatter\": [{\"marker\": {\"colorbar\": {\"outlinewidth\": 0, \"ticks\": \"\"}}, \"type\": \"scatter\"}], \"scatter3d\": [{\"line\": {\"colorbar\": {\"outlinewidth\": 0, \"ticks\": \"\"}}, \"marker\": {\"colorbar\": {\"outlinewidth\": 0, \"ticks\": \"\"}}, \"type\": \"scatter3d\"}], \"scattercarpet\": [{\"marker\": {\"colorbar\": {\"outlinewidth\": 0, \"ticks\": \"\"}}, \"type\": \"scattercarpet\"}], \"scattergeo\": [{\"marker\": {\"colorbar\": {\"outlinewidth\": 0, \"ticks\": \"\"}}, \"type\": \"scattergeo\"}], \"scattergl\": [{\"marker\": {\"colorbar\": {\"outlinewidth\": 0, \"ticks\": \"\"}}, \"type\": \"scattergl\"}], \"scattermapbox\": [{\"marker\": {\"colorbar\": {\"outlinewidth\": 0, \"ticks\": \"\"}}, \"type\": \"scattermapbox\"}], \"scatterpolar\": [{\"marker\": {\"colorbar\": {\"outlinewidth\": 0, \"ticks\": \"\"}}, \"type\": \"scatterpolar\"}], \"scatterpolargl\": [{\"marker\": {\"colorbar\": {\"outlinewidth\": 0, \"ticks\": \"\"}}, \"type\": \"scatterpolargl\"}], \"scatterternary\": [{\"marker\": {\"colorbar\": {\"outlinewidth\": 0, \"ticks\": \"\"}}, \"type\": \"scatterternary\"}], \"surface\": [{\"colorbar\": {\"outlinewidth\": 0, \"ticks\": \"\"}, \"colorscale\": [[0.0, \"#0d0887\"], [0.1111111111111111, \"#46039f\"], [0.2222222222222222, \"#7201a8\"], [0.3333333333333333, \"#9c179e\"], [0.4444444444444444, \"#bd3786\"], [0.5555555555555556, \"#d8576b\"], [0.6666666666666666, \"#ed7953\"], [0.7777777777777778, \"#fb9f3a\"], [0.8888888888888888, \"#fdca26\"], [1.0, \"#f0f921\"]], \"type\": \"surface\"}], \"table\": [{\"cells\": {\"fill\": {\"color\": \"#EBF0F8\"}, \"line\": {\"color\": \"white\"}}, \"header\": {\"fill\": {\"color\": \"#C8D4E3\"}, \"line\": {\"color\": \"white\"}}, \"type\": \"table\"}]}, \"layout\": {\"annotationdefaults\": {\"arrowcolor\": \"#2a3f5f\", \"arrowhead\": 0, \"arrowwidth\": 1}, \"coloraxis\": {\"colorbar\": {\"outlinewidth\": 0, \"ticks\": \"\"}}, \"colorscale\": {\"diverging\": [[0, \"#8e0152\"], [0.1, \"#c51b7d\"], [0.2, \"#de77ae\"], [0.3, \"#f1b6da\"], [0.4, \"#fde0ef\"], [0.5, \"#f7f7f7\"], [0.6, \"#e6f5d0\"], [0.7, \"#b8e186\"], [0.8, \"#7fbc41\"], [0.9, \"#4d9221\"], [1, \"#276419\"]], \"sequential\": [[0.0, \"#0d0887\"], [0.1111111111111111, \"#46039f\"], [0.2222222222222222, \"#7201a8\"], [0.3333333333333333, \"#9c179e\"], [0.4444444444444444, \"#bd3786\"], [0.5555555555555556, \"#d8576b\"], [0.6666666666666666, \"#ed7953\"], [0.7777777777777778, \"#fb9f3a\"], [0.8888888888888888, \"#fdca26\"], [1.0, \"#f0f921\"]], \"sequentialminus\": [[0.0, \"#0d0887\"], [0.1111111111111111, \"#46039f\"], [0.2222222222222222, \"#7201a8\"], [0.3333333333333333, \"#9c179e\"], [0.4444444444444444, \"#bd3786\"], [0.5555555555555556, \"#d8576b\"], [0.6666666666666666, \"#ed7953\"], [0.7777777777777778, \"#fb9f3a\"], [0.8888888888888888, \"#fdca26\"], [1.0, \"#f0f921\"]]}, \"colorway\": [\"#636efa\", \"#EF553B\", \"#00cc96\", \"#ab63fa\", \"#FFA15A\", \"#19d3f3\", \"#FF6692\", \"#B6E880\", \"#FF97FF\", \"#FECB52\"], \"font\": {\"color\": \"#2a3f5f\"}, \"geo\": {\"bgcolor\": \"white\", \"lakecolor\": \"white\", \"landcolor\": \"#E5ECF6\", \"showlakes\": true, \"showland\": true, \"subunitcolor\": \"white\"}, \"hoverlabel\": {\"align\": \"left\"}, \"hovermode\": \"closest\", \"mapbox\": {\"style\": \"light\"}, \"paper_bgcolor\": \"white\", \"plot_bgcolor\": \"#E5ECF6\", \"polar\": {\"angularaxis\": {\"gridcolor\": \"white\", \"linecolor\": \"white\", \"ticks\": \"\"}, \"bgcolor\": \"#E5ECF6\", \"radialaxis\": {\"gridcolor\": \"white\", \"linecolor\": \"white\", \"ticks\": \"\"}}, \"scene\": {\"xaxis\": {\"backgroundcolor\": \"#E5ECF6\", \"gridcolor\": \"white\", \"gridwidth\": 2, \"linecolor\": \"white\", \"showbackground\": true, \"ticks\": \"\", \"zerolinecolor\": \"white\"}, \"yaxis\": {\"backgroundcolor\": \"#E5ECF6\", \"gridcolor\": \"white\", \"gridwidth\": 2, \"linecolor\": \"white\", \"showbackground\": true, \"ticks\": \"\", \"zerolinecolor\": \"white\"}, \"zaxis\": {\"backgroundcolor\": \"#E5ECF6\", \"gridcolor\": \"white\", \"gridwidth\": 2, \"linecolor\": \"white\", \"showbackground\": true, \"ticks\": \"\", \"zerolinecolor\": \"white\"}}, \"shapedefaults\": {\"line\": {\"color\": \"#2a3f5f\"}}, \"ternary\": {\"aaxis\": {\"gridcolor\": \"white\", \"linecolor\": \"white\", \"ticks\": \"\"}, \"baxis\": {\"gridcolor\": \"white\", \"linecolor\": \"white\", \"ticks\": \"\"}, \"bgcolor\": \"#E5ECF6\", \"caxis\": {\"gridcolor\": \"white\", \"linecolor\": \"white\", \"ticks\": \"\"}}, \"title\": {\"x\": 0.05}, \"xaxis\": {\"automargin\": true, \"gridcolor\": \"white\", \"linecolor\": \"white\", \"ticks\": \"\", \"title\": {\"standoff\": 15}, \"zerolinecolor\": \"white\", \"zerolinewidth\": 2}, \"yaxis\": {\"automargin\": true, \"gridcolor\": \"white\", \"linecolor\": \"white\", \"ticks\": \"\", \"title\": {\"standoff\": 15}, \"zerolinecolor\": \"white\", \"zerolinewidth\": 2}}}, \"title\": {\"text\": \"PDF UP Ratio Plot \"}},\n",
       "                        {\"responsive\": true}\n",
       "                    ).then(function(){\n",
       "                            \n",
       "var gd = document.getElementById('3c1a51f4-3870-4763-8d67-10fe9f14e5c6');\n",
       "var x = new MutationObserver(function (mutations, observer) {{\n",
       "        var display = window.getComputedStyle(gd).display;\n",
       "        if (!display || display === 'none') {{\n",
       "            console.log([gd, 'removed!']);\n",
       "            Plotly.purge(gd);\n",
       "            observer.disconnect();\n",
       "        }}\n",
       "}});\n",
       "\n",
       "// Listen for the removal of the full notebook cells\n",
       "var notebookContainer = gd.closest('#notebook-container');\n",
       "if (notebookContainer) {{\n",
       "    x.observe(notebookContainer, {childList: true});\n",
       "}}\n",
       "\n",
       "// Listen for the clearing of the current output cell\n",
       "var outputEl = gd.closest('.output');\n",
       "if (outputEl) {{\n",
       "    x.observe(outputEl, {childList: true});\n",
       "}}\n",
       "\n",
       "                        })\n",
       "                };\n",
       "                });\n",
       "            </script>\n",
       "        </div>"
      ]
     },
     "metadata": {},
     "output_type": "display_data"
    }
   ],
   "source": [
    "\n",
    "\n",
    "#--- Pred ERROR trace upperBound\n",
    "predErrTraceUpper = go.Scatter(\n",
    "                        x = x,\n",
    "                        y = upperBound,\n",
    "                        line_color='rgba(255,255,255,0)',\n",
    "                        name='Pred Value Upper',\n",
    "                        mode='lines',\n",
    "                        marker=dict(color=\"#444\"),\n",
    "                        line=dict(width=0),\n",
    "                        fillcolor='rgba(248, 148, 6, 0.4)',\n",
    "                        fill='tonexty',\n",
    "                        showlegend=False)\n",
    "\n",
    "#--- Pred trace\n",
    "predTrace = go.Scatter(x = x,\n",
    "                         y = pdf_dict['u'].mean(axis = 0)/u,\n",
    "                         #line_color='rgb(248, 148, 6)',\n",
    "                         name='Pred Value',\n",
    "                         mode='lines',\n",
    "                         line=dict(color='rgba(217, 30, 24, 1)'),\n",
    "                         #marker=dict(color=\"rgba(248, 148, 6,0.4)\"),\n",
    "                         fillcolor='rgba(248, 148, 6, 0.4)',\n",
    "                         fill='tonexty',\n",
    "                         showlegend=True)\n",
    "\n",
    "#--- Pred ERROR trace lowerBound\n",
    "predErrTraceLower = go.Scatter(\n",
    "                        x = x,\n",
    "                        y = lowerbound,\n",
    "                        #fillcolor='rgba(248, 148, 6,0.4)',\n",
    "                        #line_color='rgba(255,255,255,0)',\n",
    "                        mode='lines',                    \n",
    "                        marker=dict(color=\"#444\"),\n",
    "                        line=dict(width=0),\n",
    "                        name='Pred Value Lower',\n",
    "                        showlegend=False)\n",
    "\n",
    "#--- \n",
    "predData = [predErrTraceLower, predTrace, predErrTraceUpper]\n",
    "predLayout = go.Layout(\n",
    "                #yaxis=dict(title='Wind speed (m/s)'),\n",
    "                title='PDF UP Ratio Plot ',\n",
    "                #showlegend = False\n",
    "                )\n",
    "ratioPlot = go.Figure(data=predData, layout=predLayout)\n",
    "\n",
    "#--- true trace\n",
    "True_Trace = go.Scattergl(\n",
    "                        x = x,\n",
    "                        y = u_n,\n",
    "                        name='True Value',\n",
    "                        showlegend=True)\n",
    "#--- add true trace - rgba(248, 148, 6, 1)\n",
    "ratioPlot.add_trace(True_Trace)"
   ]
  },
  {
   "cell_type": "code",
   "execution_count": 61,
   "metadata": {},
   "outputs": [
    {
     "data": {
      "text/plain": [
       "<matplotlib.collections.PolyCollection at 0x1fcec701438>"
      ]
     },
     "execution_count": 61,
     "metadata": {},
     "output_type": "execute_result"
    },
    {
     "data": {
      "image/png": "[encoded data removed]",
      "text/plain": [
       "<Figure size 432x288 with 1 Axes>"
      ]
     },
     "metadata": {
      "needs_background": "light"
     },
     "output_type": "display_data"
    }
   ],
   "source": [
    "x = np.linspace(0.01,0.99,100)\n",
    "Q2=4.0\n",
    "set_params(truebar)\n",
    "u = get_pdf(x,Q2,'u')\n",
    "d = get_pdf(x,Q2,'d')\n",
    "plt.plot(x,u) #--- true\n",
    "plt.plot(pdf_dict['x-axis'], pdf_dict['u'].mean(axis = 0))\n",
    "plt.legend(['true', 'pred'])\n",
    "plt.fill_between(x,pdf_dict['u'].mean(axis=0) + pdf_dict['u'].std(axis=0),pdf_dict['u'].mean(axis=0) - pdf_dict['u'].std(axis=0),color=\"g\")"
   ]
  },
  {
   "cell_type": "code",
   "execution_count": 38,
   "metadata": {},
   "outputs": [
    {
     "data": {
      "text/plain": [
       "<matplotlib.collections.PolyCollection at 0x1fce777ffd0>"
      ]
     },
     "execution_count": 38,
     "metadata": {},
     "output_type": "execute_result"
    },
    {
     "data": {
      "image/png": "[encoded data removed]",
      "text/plain": [
       "<Figure size 432x288 with 1 Axes>"
      ]
     },
     "metadata": {
      "needs_background": "light"
     },
     "output_type": "display_data"
    }
   ],
   "source": [
    "x = np.linspace(0.01,0.99,100)\n",
    "Q2=4.0\n",
    "set_params(truebar)\n",
    "u = get_pdf(x,Q2,'u')\n",
    "d = get_pdf(x,Q2,'d')\n",
    "u_n = u/u\n",
    "d_n = d/d\n",
    "plt.plot(x,u_n) #--- true\n",
    "plt.plot(pdf_dict['x-axis'], pdf_dict['u'].mean(axis = 0)/u)\n",
    "plt.legend(['true', 'pred'])\n",
    "plt.fill_between(x,pdf_dict['u'].mean(axis=0)/u + pdf_dict['u'].std(axis=0)/u,pdf_dict['u'].mean(axis=0)/u - pdf_dict['u'].std(axis=0)/u,color=\"g\")"
   ]
  },
  {
   "cell_type": "code",
   "execution_count": 45,
   "metadata": {},
   "outputs": [
    {
     "data": {
      "application/vnd.plotly.v1+json": {
       "config": {
        "plotlyServerURL": "https://plot.ly"
       },
       "data": [
        {
         "error_y": {
          "array": [
           1.3475049348422738,
           1.0743047398619245,
           0.9318828149084676,
           0.8376396358320979,
           0.768202381684501,
           0.7138009127834152,
           0.6694586268834098,
           0.6323104528775454,
           0.6005625536318584,
           0.5730208626834309,
           0.5488525854445016,
           0.5274551932514364,
           0.5083796870560847,
           0.49128326559617375,
           0.4758988611913342,
           0.4620148185889771,
           0.44946091988624703,
           0.43809851669995836,
           0.4278133996828069,
           0.41851053989321657,
           0.4101101397253062,
           0.40254461901930555,
           0.3957562816265992,
           0.38969548574207247,
           0.3843191933092473,
           0.3795898091040428,
           0.3754742444719015,
           0.37194315776151227,
           0.36897033560410003,
           0.36653218786599007,
           0.364607335382298,
           0.363176274162644,
           0.3622211031326592,
           0.36172530498098016,
           0.36167357156561053,
           0.3620516667727978,
           0.362846320843808,
           0.36404515108275676,
           0.3656366045980448,
           0.3676099193577018,
           0.3699551003868682,
           0.37266290842516525,
           0.37572485880612405,
           0.3791332287284417,
           0.38288107146429373,
           0.3869622363960184,
           0.3913713940910854,
           0.3961040659181176,
           0.40115665797600497,
           0.4065264993565754,
           0.4122118849926113,
           0.41821212356158655,
           0.4245275911269029,
           0.4311597914087969,
           0.4381114237938457,
           0.44538646042328084,
           0.45299023395578236,
           0.46092953789098395,
           0.46921274167857724,
           0.4778499232402302,
           0.4868530220162797,
           0.4962360162397823,
           0.5060151288661531,
           0.5162090674845815,
           0.526839304655511,
           0.5379304065187649,
           0.5495104192810042,
           0.5616113254267273,
           0.574269584347957,
           0.5875267757475278,
           0.6014303689024952,
           0.6160346470379969,
           0.6314018241565751,
           0.647603402391201,
           0.6647218322878498,
           0.682852557786032,
           0.7021065540953737,
           0.7226135031609053,
           0.7445258024317875,
           0.7680236749462217,
           0.7933217526954672,
           0.8206776570802751,
           0.8504033259757411,
           0.8828801788360416,
           0.9185797402125607,
           0.9580921795654893,
           1.002166586114962,
           1.0517690739384504,
           1.1081687477212638,
           1.173068621648668,
           1.2488118157827843,
           1.3387194230897366,
           1.4476709401967849,
           1.5831605188757174,
           1.7573621921261147,
           1.991558307661047,
           2.3268853536513805,
           2.8554292263386807,
           3.8389060281699026,
           6.481152888371426
          ],
          "color": "orange",
          "type": "data",
          "visible": true
         },
         "name": "PDF UP",
         "showlegend": true,
         "type": "scattergl",
         "x": [
          0.01,
          0.0198989898989899,
          0.029797979797979796,
          0.039696969696969696,
          0.049595959595959596,
          0.059494949494949496,
          0.06939393939393938,
          0.07929292929292929,
          0.08919191919191918,
          0.09909090909090908,
          0.10898989898989898,
          0.11888888888888888,
          0.12878787878787878,
          0.1386868686868687,
          0.1485858585858586,
          0.15848484848484848,
          0.16838383838383839,
          0.1782828282828283,
          0.18818181818181817,
          0.19808080808080808,
          0.207979797979798,
          0.21787878787878787,
          0.22777777777777777,
          0.23767676767676768,
          0.24757575757575756,
          0.25747474747474747,
          0.2673737373737374,
          0.2772727272727273,
          0.2871717171717172,
          0.29707070707070704,
          0.30696969696969695,
          0.31686868686868686,
          0.32676767676767676,
          0.33666666666666667,
          0.3465656565656566,
          0.3564646464646465,
          0.36636363636363634,
          0.37626262626262624,
          0.38616161616161615,
          0.39606060606060606,
          0.40595959595959596,
          0.41585858585858587,
          0.4257575757575757,
          0.43565656565656563,
          0.44555555555555554,
          0.45545454545454545,
          0.46535353535353535,
          0.47525252525252526,
          0.4851515151515151,
          0.495050505050505,
          0.5049494949494949,
          0.5148484848484849,
          0.5247474747474747,
          0.5346464646464646,
          0.5445454545454546,
          0.5544444444444444,
          0.5643434343434344,
          0.5742424242424242,
          0.5841414141414141,
          0.594040404040404,
          0.6039393939393939,
          0.6138383838383838,
          0.6237373737373737,
          0.6336363636363637,
          0.6435353535353535,
          0.6534343434343434,
          0.6633333333333333,
          0.6732323232323232,
          0.6831313131313131,
          0.693030303030303,
          0.702929292929293,
          0.7128282828282828,
          0.7227272727272727,
          0.7326262626262626,
          0.7425252525252525,
          0.7524242424242424,
          0.7623232323232323,
          0.7722222222222221,
          0.7821212121212121,
          0.792020202020202,
          0.8019191919191919,
          0.8118181818181818,
          0.8217171717171717,
          0.8316161616161616,
          0.8415151515151514,
          0.8514141414141414,
          0.8613131313131313,
          0.8712121212121212,
          0.8811111111111111,
          0.891010101010101,
          0.9009090909090909,
          0.9108080808080807,
          0.9207070707070707,
          0.9306060606060605,
          0.9405050505050505,
          0.9504040404040404,
          0.9603030303030302,
          0.9702020202020202,
          0.98010101010101,
          0.99
         ],
         "y": [
          1,
          1,
          1,
          1,
          1,
          1,
          1,
          1,
          1,
          1,
          1,
          1,
          1,
          1,
          1,
          1,
          1,
          1,
          1,
          1,
          1,
          1,
          1,
          1,
          1,
          1,
          1,
          1,
          1,
          1,
          1,
          1,
          1,
          1,
          1,
          1,
          1,
          1,
          1,
          1,
          1,
          1,
          1,
          1,
          1,
          1,
          1,
          1,
          1,
          1,
          1,
          1,
          1,
          1,
          1,
          1,
          1,
          1,
          1,
          1,
          1,
          1,
          1,
          1,
          1,
          1,
          1,
          1,
          1,
          1,
          1,
          1,
          1,
          1,
          1,
          1,
          1,
          1,
          1,
          1,
          1,
          1,
          1,
          1,
          1,
          1,
          1,
          1,
          1,
          1,
          1,
          1,
          1,
          1,
          1,
          1,
          1,
          1,
          1,
          1
         ]
        }
       ],
       "layout": {
        "template": {
         "data": {
          "bar": [
           {
            "error_x": {
             "color": "#2a3f5f"
            },
            "error_y": {
             "color": "#2a3f5f"
            },
            "marker": {
             "line": {
              "color": "#E5ECF6",
              "width": 0.5
             }
            },
            "type": "bar"
           }
          ],
          "barpolar": [
           {
            "marker": {
             "line": {
              "color": "#E5ECF6",
              "width": 0.5
             }
            },
            "type": "barpolar"
           }
          ],
          "carpet": [
           {
            "aaxis": {
             "endlinecolor": "#2a3f5f",
             "gridcolor": "white",
             "linecolor": "white",
             "minorgridcolor": "white",
             "startlinecolor": "#2a3f5f"
            },
            "baxis": {
             "endlinecolor": "#2a3f5f",
             "gridcolor": "white",
             "linecolor": "white",
             "minorgridcolor": "white",
             "startlinecolor": "#2a3f5f"
            },
            "type": "carpet"
           }
          ],
          "choropleth": [
           {
            "colorbar": {
             "outlinewidth": 0,
             "ticks": ""
            },
            "type": "choropleth"
           }
          ],
          "contour": [
           {
            "colorbar": {
             "outlinewidth": 0,
             "ticks": ""
            },
            "colorscale": [
             [
              0,
              "#0d0887"
             ],
             [
              0.1111111111111111,
              "#46039f"
             ],
             [
              0.2222222222222222,
              "#7201a8"
             ],
             [
              0.3333333333333333,
              "#9c179e"
             ],
             [
              0.4444444444444444,
              "#bd3786"
             ],
             [
              0.5555555555555556,
              "#d8576b"
             ],
             [
              0.6666666666666666,
              "#ed7953"
             ],
             [
              0.7777777777777778,
              "#fb9f3a"
             ],
             [
              0.8888888888888888,
              "#fdca26"
             ],
             [
              1,
              "#f0f921"
             ]
            ],
            "type": "contour"
           }
          ],
          "contourcarpet": [
           {
            "colorbar": {
             "outlinewidth": 0,
             "ticks": ""
            },
            "type": "contourcarpet"
           }
          ],
          "heatmap": [
           {
            "colorbar": {
             "outlinewidth": 0,
             "ticks": ""
            },
            "colorscale": [
             [
              0,
              "#0d0887"
             ],
             [
              0.1111111111111111,
              "#46039f"
             ],
             [
              0.2222222222222222,
              "#7201a8"
             ],
             [
              0.3333333333333333,
              "#9c179e"
             ],
             [
              0.4444444444444444,
              "#bd3786"
             ],
             [
              0.5555555555555556,
              "#d8576b"
             ],
             [
              0.6666666666666666,
              "#ed7953"
             ],
             [
              0.7777777777777778,
              "#fb9f3a"
             ],
             [
              0.8888888888888888,
              "#fdca26"
             ],
             [
              1,
              "#f0f921"
             ]
            ],
            "type": "heatmap"
           }
          ],
          "heatmapgl": [
           {
            "colorbar": {
             "outlinewidth": 0,
             "ticks": ""
            },
            "colorscale": [
             [
              0,
              "#0d0887"
             ],
             [
              0.1111111111111111,
              "#46039f"
             ],
             [
              0.2222222222222222,
              "#7201a8"
             ],
             [
              0.3333333333333333,
              "#9c179e"
             ],
             [
              0.4444444444444444,
              "#bd3786"
             ],
             [
              0.5555555555555556,
              "#d8576b"
             ],
             [
              0.6666666666666666,
              "#ed7953"
             ],
             [
              0.7777777777777778,
              "#fb9f3a"
             ],
             [
              0.8888888888888888,
              "#fdca26"
             ],
             [
              1,
              "#f0f921"
             ]
            ],
            "type": "heatmapgl"
           }
          ],
          "histogram": [
           {
            "marker": {
             "colorbar": {
              "outlinewidth": 0,
              "ticks": ""
             }
            },
            "type": "histogram"
           }
          ],
          "histogram2d": [
           {
            "colorbar": {
             "outlinewidth": 0,
             "ticks": ""
            },
            "colorscale": [
             [
              0,
              "#0d0887"
             ],
             [
              0.1111111111111111,
              "#46039f"
             ],
             [
              0.2222222222222222,
              "#7201a8"
             ],
             [
              0.3333333333333333,
              "#9c179e"
             ],
             [
              0.4444444444444444,
              "#bd3786"
             ],
             [
              0.5555555555555556,
              "#d8576b"
             ],
             [
              0.6666666666666666,
              "#ed7953"
             ],
             [
              0.7777777777777778,
              "#fb9f3a"
             ],
             [
              0.8888888888888888,
              "#fdca26"
             ],
             [
              1,
              "#f0f921"
             ]
            ],
            "type": "histogram2d"
           }
          ],
          "histogram2dcontour": [
           {
            "colorbar": {
             "outlinewidth": 0,
             "ticks": ""
            },
            "colorscale": [
             [
              0,
              "#0d0887"
             ],
             [
              0.1111111111111111,
              "#46039f"
             ],
             [
              0.2222222222222222,
              "#7201a8"
             ],
             [
              0.3333333333333333,
              "#9c179e"
             ],
             [
              0.4444444444444444,
              "#bd3786"
             ],
             [
              0.5555555555555556,
              "#d8576b"
             ],
             [
              0.6666666666666666,
              "#ed7953"
             ],
             [
              0.7777777777777778,
              "#fb9f3a"
             ],
             [
              0.8888888888888888,
              "#fdca26"
             ],
             [
              1,
              "#f0f921"
             ]
            ],
            "type": "histogram2dcontour"
           }
          ],
          "mesh3d": [
           {
            "colorbar": {
             "outlinewidth": 0,
             "ticks": ""
            },
            "type": "mesh3d"
           }
          ],
          "parcoords": [
           {
            "line": {
             "colorbar": {
              "outlinewidth": 0,
              "ticks": ""
             }
            },
            "type": "parcoords"
           }
          ],
          "pie": [
           {
            "automargin": true,
            "type": "pie"
           }
          ],
          "scatter": [
           {
            "marker": {
             "colorbar": {
              "outlinewidth": 0,
              "ticks": ""
             }
            },
            "type": "scatter"
           }
          ],
          "scatter3d": [
           {
            "line": {
             "colorbar": {
              "outlinewidth": 0,
              "ticks": ""
             }
            },
            "marker": {
             "colorbar": {
              "outlinewidth": 0,
              "ticks": ""
             }
            },
            "type": "scatter3d"
           }
          ],
          "scattercarpet": [
           {
            "marker": {
             "colorbar": {
              "outlinewidth": 0,
              "ticks": ""
             }
            },
            "type": "scattercarpet"
           }
          ],
          "scattergeo": [
           {
            "marker": {
             "colorbar": {
              "outlinewidth": 0,
              "ticks": ""
             }
            },
            "type": "scattergeo"
           }
          ],
          "scattergl": [
           {
            "marker": {
             "colorbar": {
              "outlinewidth": 0,
              "ticks": ""
             }
            },
            "type": "scattergl"
           }
          ],
          "scattermapbox": [
           {
            "marker": {
             "colorbar": {
              "outlinewidth": 0,
              "ticks": ""
             }
            },
            "type": "scattermapbox"
           }
          ],
          "scatterpolar": [
           {
            "marker": {
             "colorbar": {
              "outlinewidth": 0,
              "ticks": ""
             }
            },
            "type": "scatterpolar"
           }
          ],
          "scatterpolargl": [
           {
            "marker": {
             "colorbar": {
              "outlinewidth": 0,
              "ticks": ""
             }
            },
            "type": "scatterpolargl"
           }
          ],
          "scatterternary": [
           {
            "marker": {
             "colorbar": {
              "outlinewidth": 0,
              "ticks": ""
             }
            },
            "type": "scatterternary"
           }
          ],
          "surface": [
           {
            "colorbar": {
             "outlinewidth": 0,
             "ticks": ""
            },
            "colorscale": [
             [
              0,
              "#0d0887"
             ],
             [
              0.1111111111111111,
              "#46039f"
             ],
             [
              0.2222222222222222,
              "#7201a8"
             ],
             [
              0.3333333333333333,
              "#9c179e"
             ],
             [
              0.4444444444444444,
              "#bd3786"
             ],
             [
              0.5555555555555556,
              "#d8576b"
             ],
             [
              0.6666666666666666,
              "#ed7953"
             ],
             [
              0.7777777777777778,
              "#fb9f3a"
             ],
             [
              0.8888888888888888,
              "#fdca26"
             ],
             [
              1,
              "#f0f921"
             ]
            ],
            "type": "surface"
           }
          ],
          "table": [
           {
            "cells": {
             "fill": {
              "color": "#EBF0F8"
             },
             "line": {
              "color": "white"
             }
            },
            "header": {
             "fill": {
              "color": "#C8D4E3"
             },
             "line": {
              "color": "white"
             }
            },
            "type": "table"
           }
          ]
         },
         "layout": {
          "annotationdefaults": {
           "arrowcolor": "#2a3f5f",
           "arrowhead": 0,
           "arrowwidth": 1
          },
          "coloraxis": {
           "colorbar": {
            "outlinewidth": 0,
            "ticks": ""
           }
          },
          "colorscale": {
           "diverging": [
            [
             0,
             "#8e0152"
            ],
            [
             0.1,
             "#c51b7d"
            ],
            [
             0.2,
             "#de77ae"
            ],
            [
             0.3,
             "#f1b6da"
            ],
            [
             0.4,
             "#fde0ef"
            ],
            [
             0.5,
             "#f7f7f7"
            ],
            [
             0.6,
             "#e6f5d0"
            ],
            [
             0.7,
             "#b8e186"
            ],
            [
             0.8,
             "#7fbc41"
            ],
            [
             0.9,
             "#4d9221"
            ],
            [
             1,
             "#276419"
            ]
           ],
           "sequential": [
            [
             0,
             "#0d0887"
            ],
            [
             0.1111111111111111,
             "#46039f"
            ],
            [
             0.2222222222222222,
             "#7201a8"
            ],
            [
             0.3333333333333333,
             "#9c179e"
            ],
            [
             0.4444444444444444,
             "#bd3786"
            ],
            [
             0.5555555555555556,
             "#d8576b"
            ],
            [
             0.6666666666666666,
             "#ed7953"
            ],
            [
             0.7777777777777778,
             "#fb9f3a"
            ],
            [
             0.8888888888888888,
             "#fdca26"
            ],
            [
             1,
             "#f0f921"
            ]
           ],
           "sequentialminus": [
            [
             0,
             "#0d0887"
            ],
            [
             0.1111111111111111,
             "#46039f"
            ],
            [
             0.2222222222222222,
             "#7201a8"
            ],
            [
             0.3333333333333333,
             "#9c179e"
            ],
            [
             0.4444444444444444,
             "#bd3786"
            ],
            [
             0.5555555555555556,
             "#d8576b"
            ],
            [
             0.6666666666666666,
             "#ed7953"
            ],
            [
             0.7777777777777778,
             "#fb9f3a"
            ],
            [
             0.8888888888888888,
             "#fdca26"
            ],
            [
             1,
             "#f0f921"
            ]
           ]
          },
          "colorway": [
           "#636efa",
           "#EF553B",
           "#00cc96",
           "#ab63fa",
           "#FFA15A",
           "#19d3f3",
           "#FF6692",
           "#B6E880",
           "#FF97FF",
           "#FECB52"
          ],
          "font": {
           "color": "#2a3f5f"
          },
          "geo": {
           "bgcolor": "white",
           "lakecolor": "white",
           "landcolor": "#E5ECF6",
           "showlakes": true,
           "showland": true,
           "subunitcolor": "white"
          },
          "hoverlabel": {
           "align": "left"
          },
          "hovermode": "closest",
          "mapbox": {
           "style": "light"
          },
          "paper_bgcolor": "white",
          "plot_bgcolor": "#E5ECF6",
          "polar": {
           "angularaxis": {
            "gridcolor": "white",
            "linecolor": "white",
            "ticks": ""
           },
           "bgcolor": "#E5ECF6",
           "radialaxis": {
            "gridcolor": "white",
            "linecolor": "white",
            "ticks": ""
           }
          },
          "scene": {
           "xaxis": {
            "backgroundcolor": "#E5ECF6",
            "gridcolor": "white",
            "gridwidth": 2,
            "linecolor": "white",
            "showbackground": true,
            "ticks": "",
            "zerolinecolor": "white"
           },
           "yaxis": {
            "backgroundcolor": "#E5ECF6",
            "gridcolor": "white",
            "gridwidth": 2,
            "linecolor": "white",
            "showbackground": true,
            "ticks": "",
            "zerolinecolor": "white"
           },
           "zaxis": {
            "backgroundcolor": "#E5ECF6",
            "gridcolor": "white",
            "gridwidth": 2,
            "linecolor": "white",
            "showbackground": true,
            "ticks": "",
            "zerolinecolor": "white"
           }
          },
          "shapedefaults": {
           "line": {
            "color": "#2a3f5f"
           }
          },
          "ternary": {
           "aaxis": {
            "gridcolor": "white",
            "linecolor": "white",
            "ticks": ""
           },
           "baxis": {
            "gridcolor": "white",
            "linecolor": "white",
            "ticks": ""
           },
           "bgcolor": "#E5ECF6",
           "caxis": {
            "gridcolor": "white",
            "linecolor": "white",
            "ticks": ""
           }
          },
          "title": {
           "x": 0.05
          },
          "xaxis": {
           "automargin": true,
           "gridcolor": "white",
           "linecolor": "white",
           "ticks": "",
           "title": {
            "standoff": 15
           },
           "zerolinecolor": "white",
           "zerolinewidth": 2
          },
          "yaxis": {
           "automargin": true,
           "gridcolor": "white",
           "linecolor": "white",
           "ticks": "",
           "title": {
            "standoff": 15
           },
           "zerolinecolor": "white",
           "zerolinewidth": 2
          }
         }
        }
       }
      },
      "text/html": [
       "<div>\n",
       "        \n",
       "        \n",
       "            <div id=\"51ee77ea-2a96-4826-b05f-46586e314603\" class=\"plotly-graph-div\" style=\"height:525px; width:100%;\"></div>\n",
       "            <script type=\"text/javascript\">\n",
       "                require([\"plotly\"], function(Plotly) {\n",
       "                    window.PLOTLYENV=window.PLOTLYENV || {};\n",
       "                    \n",
       "                if (document.getElementById(\"51ee77ea-2a96-4826-b05f-46586e314603\")) {\n",
       "                    Plotly.newPlot(\n",
       "                        '51ee77ea-2a96-4826-b05f-46586e314603',\n",
       "                        [{\"error_y\": {\"array\": [1.3475049348422738, 1.0743047398619245, 0.9318828149084676, 0.8376396358320979, 0.768202381684501, 0.7138009127834152, 0.6694586268834098, 0.6323104528775454, 0.6005625536318584, 0.5730208626834309, 0.5488525854445016, 0.5274551932514364, 0.5083796870560847, 0.49128326559617375, 0.4758988611913342, 0.4620148185889771, 0.44946091988624703, 0.43809851669995836, 0.4278133996828069, 0.41851053989321657, 0.4101101397253062, 0.40254461901930555, 0.3957562816265992, 0.38969548574207247, 0.3843191933092473, 0.3795898091040428, 0.3754742444719015, 0.37194315776151227, 0.36897033560410003, 0.36653218786599007, 0.364607335382298, 0.363176274162644, 0.3622211031326592, 0.36172530498098016, 0.36167357156561053, 0.3620516667727978, 0.362846320843808, 0.36404515108275676, 0.3656366045980448, 0.3676099193577018, 0.3699551003868682, 0.37266290842516525, 0.37572485880612405, 0.3791332287284417, 0.38288107146429373, 0.3869622363960184, 0.3913713940910854, 0.3961040659181176, 0.40115665797600497, 0.4065264993565754, 0.4122118849926113, 0.41821212356158655, 0.4245275911269029, 0.4311597914087969, 0.4381114237938457, 0.44538646042328084, 0.45299023395578236, 0.46092953789098395, 0.46921274167857724, 0.4778499232402302, 0.4868530220162797, 0.4962360162397823, 0.5060151288661531, 0.5162090674845815, 0.526839304655511, 0.5379304065187649, 0.5495104192810042, 0.5616113254267273, 0.574269584347957, 0.5875267757475278, 0.6014303689024952, 0.6160346470379969, 0.6314018241565751, 0.647603402391201, 0.6647218322878498, 0.682852557786032, 0.7021065540953737, 0.7226135031609053, 0.7445258024317875, 0.7680236749462217, 0.7933217526954672, 0.8206776570802751, 0.8504033259757411, 0.8828801788360416, 0.9185797402125607, 0.9580921795654893, 1.002166586114962, 1.0517690739384504, 1.1081687477212638, 1.173068621648668, 1.2488118157827843, 1.3387194230897366, 1.4476709401967849, 1.5831605188757174, 1.7573621921261147, 1.991558307661047, 2.3268853536513805, 2.8554292263386807, 3.8389060281699026, 6.481152888371426], \"color\": \"orange\", \"type\": \"data\", \"visible\": true}, \"name\": \"PDF UP\", \"showlegend\": true, \"type\": \"scattergl\", \"x\": [0.01, 0.0198989898989899, 0.029797979797979796, 0.039696969696969696, 0.049595959595959596, 0.059494949494949496, 0.06939393939393938, 0.07929292929292929, 0.08919191919191918, 0.09909090909090908, 0.10898989898989898, 0.11888888888888888, 0.12878787878787878, 0.1386868686868687, 0.1485858585858586, 0.15848484848484848, 0.16838383838383839, 0.1782828282828283, 0.18818181818181817, 0.19808080808080808, 0.207979797979798, 0.21787878787878787, 0.22777777777777777, 0.23767676767676768, 0.24757575757575756, 0.25747474747474747, 0.2673737373737374, 0.2772727272727273, 0.2871717171717172, 0.29707070707070704, 0.30696969696969695, 0.31686868686868686, 0.32676767676767676, 0.33666666666666667, 0.3465656565656566, 0.3564646464646465, 0.36636363636363634, 0.37626262626262624, 0.38616161616161615, 0.39606060606060606, 0.40595959595959596, 0.41585858585858587, 0.4257575757575757, 0.43565656565656563, 0.44555555555555554, 0.45545454545454545, 0.46535353535353535, 0.47525252525252526, 0.4851515151515151, 0.495050505050505, 0.5049494949494949, 0.5148484848484849, 0.5247474747474747, 0.5346464646464646, 0.5445454545454546, 0.5544444444444444, 0.5643434343434344, 0.5742424242424242, 0.5841414141414141, 0.594040404040404, 0.6039393939393939, 0.6138383838383838, 0.6237373737373737, 0.6336363636363637, 0.6435353535353535, 0.6534343434343434, 0.6633333333333333, 0.6732323232323232, 0.6831313131313131, 0.693030303030303, 0.702929292929293, 0.7128282828282828, 0.7227272727272727, 0.7326262626262626, 0.7425252525252525, 0.7524242424242424, 0.7623232323232323, 0.7722222222222221, 0.7821212121212121, 0.792020202020202, 0.8019191919191919, 0.8118181818181818, 0.8217171717171717, 0.8316161616161616, 0.8415151515151514, 0.8514141414141414, 0.8613131313131313, 0.8712121212121212, 0.8811111111111111, 0.891010101010101, 0.9009090909090909, 0.9108080808080807, 0.9207070707070707, 0.9306060606060605, 0.9405050505050505, 0.9504040404040404, 0.9603030303030302, 0.9702020202020202, 0.98010101010101, 0.99], \"y\": [1.0, 1.0, 1.0, 1.0, 1.0, 1.0, 1.0, 1.0, 1.0, 1.0, 1.0, 1.0, 1.0, 1.0, 1.0, 1.0, 1.0, 1.0, 1.0, 1.0, 1.0, 1.0, 1.0, 1.0, 1.0, 1.0, 1.0, 1.0, 1.0, 1.0, 1.0, 1.0, 1.0, 1.0, 1.0, 1.0, 1.0, 1.0, 1.0, 1.0, 1.0, 1.0, 1.0, 1.0, 1.0, 1.0, 1.0, 1.0, 1.0, 1.0, 1.0, 1.0, 1.0, 1.0, 1.0, 1.0, 1.0, 1.0, 1.0, 1.0, 1.0, 1.0, 1.0, 1.0, 1.0, 1.0, 1.0, 1.0, 1.0, 1.0, 1.0, 1.0, 1.0, 1.0, 1.0, 1.0, 1.0, 1.0, 1.0, 1.0, 1.0, 1.0, 1.0, 1.0, 1.0, 1.0, 1.0, 1.0, 1.0, 1.0, 1.0, 1.0, 1.0, 1.0, 1.0, 1.0, 1.0, 1.0, 1.0, 1.0]}],\n",
       "                        {\"template\": {\"data\": {\"bar\": [{\"error_x\": {\"color\": \"#2a3f5f\"}, \"error_y\": {\"color\": \"#2a3f5f\"}, \"marker\": {\"line\": {\"color\": \"#E5ECF6\", \"width\": 0.5}}, \"type\": \"bar\"}], \"barpolar\": [{\"marker\": {\"line\": {\"color\": \"#E5ECF6\", \"width\": 0.5}}, \"type\": \"barpolar\"}], \"carpet\": [{\"aaxis\": {\"endlinecolor\": \"#2a3f5f\", \"gridcolor\": \"white\", \"linecolor\": \"white\", \"minorgridcolor\": \"white\", \"startlinecolor\": \"#2a3f5f\"}, \"baxis\": {\"endlinecolor\": \"#2a3f5f\", \"gridcolor\": \"white\", \"linecolor\": \"white\", \"minorgridcolor\": \"white\", \"startlinecolor\": \"#2a3f5f\"}, \"type\": \"carpet\"}], \"choropleth\": [{\"colorbar\": {\"outlinewidth\": 0, \"ticks\": \"\"}, \"type\": \"choropleth\"}], \"contour\": [{\"colorbar\": {\"outlinewidth\": 0, \"ticks\": \"\"}, \"colorscale\": [[0.0, \"#0d0887\"], [0.1111111111111111, \"#46039f\"], [0.2222222222222222, \"#7201a8\"], [0.3333333333333333, \"#9c179e\"], [0.4444444444444444, \"#bd3786\"], [0.5555555555555556, \"#d8576b\"], [0.6666666666666666, \"#ed7953\"], [0.7777777777777778, \"#fb9f3a\"], [0.8888888888888888, \"#fdca26\"], [1.0, \"#f0f921\"]], \"type\": \"contour\"}], \"contourcarpet\": [{\"colorbar\": {\"outlinewidth\": 0, \"ticks\": \"\"}, \"type\": \"contourcarpet\"}], \"heatmap\": [{\"colorbar\": {\"outlinewidth\": 0, \"ticks\": \"\"}, \"colorscale\": [[0.0, \"#0d0887\"], [0.1111111111111111, \"#46039f\"], [0.2222222222222222, \"#7201a8\"], [0.3333333333333333, \"#9c179e\"], [0.4444444444444444, \"#bd3786\"], [0.5555555555555556, \"#d8576b\"], [0.6666666666666666, \"#ed7953\"], [0.7777777777777778, \"#fb9f3a\"], [0.8888888888888888, \"#fdca26\"], [1.0, \"#f0f921\"]], \"type\": \"heatmap\"}], \"heatmapgl\": [{\"colorbar\": {\"outlinewidth\": 0, \"ticks\": \"\"}, \"colorscale\": [[0.0, \"#0d0887\"], [0.1111111111111111, \"#46039f\"], [0.2222222222222222, \"#7201a8\"], [0.3333333333333333, \"#9c179e\"], [0.4444444444444444, \"#bd3786\"], [0.5555555555555556, \"#d8576b\"], [0.6666666666666666, \"#ed7953\"], [0.7777777777777778, \"#fb9f3a\"], [0.8888888888888888, \"#fdca26\"], [1.0, \"#f0f921\"]], \"type\": \"heatmapgl\"}], \"histogram\": [{\"marker\": {\"colorbar\": {\"outlinewidth\": 0, \"ticks\": \"\"}}, \"type\": \"histogram\"}], \"histogram2d\": [{\"colorbar\": {\"outlinewidth\": 0, \"ticks\": \"\"}, \"colorscale\": [[0.0, \"#0d0887\"], [0.1111111111111111, \"#46039f\"], [0.2222222222222222, \"#7201a8\"], [0.3333333333333333, \"#9c179e\"], [0.4444444444444444, \"#bd3786\"], [0.5555555555555556, \"#d8576b\"], [0.6666666666666666, \"#ed7953\"], [0.7777777777777778, \"#fb9f3a\"], [0.8888888888888888, \"#fdca26\"], [1.0, \"#f0f921\"]], \"type\": \"histogram2d\"}], \"histogram2dcontour\": [{\"colorbar\": {\"outlinewidth\": 0, \"ticks\": \"\"}, \"colorscale\": [[0.0, \"#0d0887\"], [0.1111111111111111, \"#46039f\"], [0.2222222222222222, \"#7201a8\"], [0.3333333333333333, \"#9c179e\"], [0.4444444444444444, \"#bd3786\"], [0.5555555555555556, \"#d8576b\"], [0.6666666666666666, \"#ed7953\"], [0.7777777777777778, \"#fb9f3a\"], [0.8888888888888888, \"#fdca26\"], [1.0, \"#f0f921\"]], \"type\": \"histogram2dcontour\"}], \"mesh3d\": [{\"colorbar\": {\"outlinewidth\": 0, \"ticks\": \"\"}, \"type\": \"mesh3d\"}], \"parcoords\": [{\"line\": {\"colorbar\": {\"outlinewidth\": 0, \"ticks\": \"\"}}, \"type\": \"parcoords\"}], \"pie\": [{\"automargin\": true, \"type\": \"pie\"}], \"scatter\": [{\"marker\": {\"colorbar\": {\"outlinewidth\": 0, \"ticks\": \"\"}}, \"type\": \"scatter\"}], \"scatter3d\": [{\"line\": {\"colorbar\": {\"outlinewidth\": 0, \"ticks\": \"\"}}, \"marker\": {\"colorbar\": {\"outlinewidth\": 0, \"ticks\": \"\"}}, \"type\": \"scatter3d\"}], \"scattercarpet\": [{\"marker\": {\"colorbar\": {\"outlinewidth\": 0, \"ticks\": \"\"}}, \"type\": \"scattercarpet\"}], \"scattergeo\": [{\"marker\": {\"colorbar\": {\"outlinewidth\": 0, \"ticks\": \"\"}}, \"type\": \"scattergeo\"}], \"scattergl\": [{\"marker\": {\"colorbar\": {\"outlinewidth\": 0, \"ticks\": \"\"}}, \"type\": \"scattergl\"}], \"scattermapbox\": [{\"marker\": {\"colorbar\": {\"outlinewidth\": 0, \"ticks\": \"\"}}, \"type\": \"scattermapbox\"}], \"scatterpolar\": [{\"marker\": {\"colorbar\": {\"outlinewidth\": 0, \"ticks\": \"\"}}, \"type\": \"scatterpolar\"}], \"scatterpolargl\": [{\"marker\": {\"colorbar\": {\"outlinewidth\": 0, \"ticks\": \"\"}}, \"type\": \"scatterpolargl\"}], \"scatterternary\": [{\"marker\": {\"colorbar\": {\"outlinewidth\": 0, \"ticks\": \"\"}}, \"type\": \"scatterternary\"}], \"surface\": [{\"colorbar\": {\"outlinewidth\": 0, \"ticks\": \"\"}, \"colorscale\": [[0.0, \"#0d0887\"], [0.1111111111111111, \"#46039f\"], [0.2222222222222222, \"#7201a8\"], [0.3333333333333333, \"#9c179e\"], [0.4444444444444444, \"#bd3786\"], [0.5555555555555556, \"#d8576b\"], [0.6666666666666666, \"#ed7953\"], [0.7777777777777778, \"#fb9f3a\"], [0.8888888888888888, \"#fdca26\"], [1.0, \"#f0f921\"]], \"type\": \"surface\"}], \"table\": [{\"cells\": {\"fill\": {\"color\": \"#EBF0F8\"}, \"line\": {\"color\": \"white\"}}, \"header\": {\"fill\": {\"color\": \"#C8D4E3\"}, \"line\": {\"color\": \"white\"}}, \"type\": \"table\"}]}, \"layout\": {\"annotationdefaults\": {\"arrowcolor\": \"#2a3f5f\", \"arrowhead\": 0, \"arrowwidth\": 1}, \"coloraxis\": {\"colorbar\": {\"outlinewidth\": 0, \"ticks\": \"\"}}, \"colorscale\": {\"diverging\": [[0, \"#8e0152\"], [0.1, \"#c51b7d\"], [0.2, \"#de77ae\"], [0.3, \"#f1b6da\"], [0.4, \"#fde0ef\"], [0.5, \"#f7f7f7\"], [0.6, \"#e6f5d0\"], [0.7, \"#b8e186\"], [0.8, \"#7fbc41\"], [0.9, \"#4d9221\"], [1, \"#276419\"]], \"sequential\": [[0.0, \"#0d0887\"], [0.1111111111111111, \"#46039f\"], [0.2222222222222222, \"#7201a8\"], [0.3333333333333333, \"#9c179e\"], [0.4444444444444444, \"#bd3786\"], [0.5555555555555556, \"#d8576b\"], [0.6666666666666666, \"#ed7953\"], [0.7777777777777778, \"#fb9f3a\"], [0.8888888888888888, \"#fdca26\"], [1.0, \"#f0f921\"]], \"sequentialminus\": [[0.0, \"#0d0887\"], [0.1111111111111111, \"#46039f\"], [0.2222222222222222, \"#7201a8\"], [0.3333333333333333, \"#9c179e\"], [0.4444444444444444, \"#bd3786\"], [0.5555555555555556, \"#d8576b\"], [0.6666666666666666, \"#ed7953\"], [0.7777777777777778, \"#fb9f3a\"], [0.8888888888888888, \"#fdca26\"], [1.0, \"#f0f921\"]]}, \"colorway\": [\"#636efa\", \"#EF553B\", \"#00cc96\", \"#ab63fa\", \"#FFA15A\", \"#19d3f3\", \"#FF6692\", \"#B6E880\", \"#FF97FF\", \"#FECB52\"], \"font\": {\"color\": \"#2a3f5f\"}, \"geo\": {\"bgcolor\": \"white\", \"lakecolor\": \"white\", \"landcolor\": \"#E5ECF6\", \"showlakes\": true, \"showland\": true, \"subunitcolor\": \"white\"}, \"hoverlabel\": {\"align\": \"left\"}, \"hovermode\": \"closest\", \"mapbox\": {\"style\": \"light\"}, \"paper_bgcolor\": \"white\", \"plot_bgcolor\": \"#E5ECF6\", \"polar\": {\"angularaxis\": {\"gridcolor\": \"white\", \"linecolor\": \"white\", \"ticks\": \"\"}, \"bgcolor\": \"#E5ECF6\", \"radialaxis\": {\"gridcolor\": \"white\", \"linecolor\": \"white\", \"ticks\": \"\"}}, \"scene\": {\"xaxis\": {\"backgroundcolor\": \"#E5ECF6\", \"gridcolor\": \"white\", \"gridwidth\": 2, \"linecolor\": \"white\", \"showbackground\": true, \"ticks\": \"\", \"zerolinecolor\": \"white\"}, \"yaxis\": {\"backgroundcolor\": \"#E5ECF6\", \"gridcolor\": \"white\", \"gridwidth\": 2, \"linecolor\": \"white\", \"showbackground\": true, \"ticks\": \"\", \"zerolinecolor\": \"white\"}, \"zaxis\": {\"backgroundcolor\": \"#E5ECF6\", \"gridcolor\": \"white\", \"gridwidth\": 2, \"linecolor\": \"white\", \"showbackground\": true, \"ticks\": \"\", \"zerolinecolor\": \"white\"}}, \"shapedefaults\": {\"line\": {\"color\": \"#2a3f5f\"}}, \"ternary\": {\"aaxis\": {\"gridcolor\": \"white\", \"linecolor\": \"white\", \"ticks\": \"\"}, \"baxis\": {\"gridcolor\": \"white\", \"linecolor\": \"white\", \"ticks\": \"\"}, \"bgcolor\": \"#E5ECF6\", \"caxis\": {\"gridcolor\": \"white\", \"linecolor\": \"white\", \"ticks\": \"\"}}, \"title\": {\"x\": 0.05}, \"xaxis\": {\"automargin\": true, \"gridcolor\": \"white\", \"linecolor\": \"white\", \"ticks\": \"\", \"title\": {\"standoff\": 15}, \"zerolinecolor\": \"white\", \"zerolinewidth\": 2}, \"yaxis\": {\"automargin\": true, \"gridcolor\": \"white\", \"linecolor\": \"white\", \"ticks\": \"\", \"title\": {\"standoff\": 15}, \"zerolinecolor\": \"white\", \"zerolinewidth\": 2}}}},\n",
       "                        {\"responsive\": true}\n",
       "                    ).then(function(){\n",
       "                            \n",
       "var gd = document.getElementById('51ee77ea-2a96-4826-b05f-46586e314603');\n",
       "var x = new MutationObserver(function (mutations, observer) {{\n",
       "        var display = window.getComputedStyle(gd).display;\n",
       "        if (!display || display === 'none') {{\n",
       "            console.log([gd, 'removed!']);\n",
       "            Plotly.purge(gd);\n",
       "            observer.disconnect();\n",
       "        }}\n",
       "}});\n",
       "\n",
       "// Listen for the removal of the full notebook cells\n",
       "var notebookContainer = gd.closest('#notebook-container');\n",
       "if (notebookContainer) {{\n",
       "    x.observe(notebookContainer, {childList: true});\n",
       "}}\n",
       "\n",
       "// Listen for the clearing of the current output cell\n",
       "var outputEl = gd.closest('.output');\n",
       "if (outputEl) {{\n",
       "    x.observe(outputEl, {childList: true});\n",
       "}}\n",
       "\n",
       "                        })\n",
       "                };\n",
       "                });\n",
       "            </script>\n",
       "        </div>"
      ]
     },
     "metadata": {},
     "output_type": "display_data"
    }
   ],
   "source": [
    "#--- Plot the figure (Ratio Plot)\n",
    "figure_g = go.Figure()\n",
    "pdf_up_trace = go.Scattergl(\n",
    "                        x = x,\n",
    "                        y = np.ones(len(pdf_dict['x-axis'])),#pdf_dict['u'].mean(axis=0),\n",
    "                        name='PDF UP',\n",
    "                        showlegend=True,\n",
    "                        error_y=dict(\n",
    "                                type='data',\n",
    "                                color='orange',\n",
    "                                array=pdf_dict['u'].std(axis=0)/u,\n",
    "                                #array=pdf_dict['u'].std(axis=0)*5,\n",
    "                                visible=True\n",
    "                                )\n",
    "                        )\n",
    "#--- Plotting pdf_up\n",
    "figure_g.add_trace(pdf_up_trace)"
   ]
  },
  {
   "cell_type": "code",
   "execution_count": 128,
   "metadata": {},
   "outputs": [
    {
     "data": {
      "image/png": "[encoded data removed]",
      "text/plain": [
       "<Figure size 432x288 with 1 Axes>"
      ]
     },
     "metadata": {
      "needs_background": "light"
     },
     "output_type": "display_data"
    }
   ],
   "source": [
    "#--- plotting true Values \n",
    "x = np.linspace(0.01,0.99,100)\n",
    "Q2=4.0\n",
    "set_params(par[1])\n",
    "u = get_pdf(x,Q2,'u')\n",
    "d = get_pdf(x,Q2,'d')\n",
    "plt.plot(x,u) #--- true\n",
    "plt.show()"
   ]
  },
  {
   "cell_type": "markdown",
   "metadata": {},
   "source": [
    "### New Model Code"
   ]
  },
  {
   "cell_type": "code",
   "execution_count": 18,
   "metadata": {},
   "outputs": [],
   "source": [
    "X = np.load(\"data/X.npy\")\n",
    "Q2 = np.load(\"data/Q2.npy\")"
   ]
  },
  {
   "cell_type": "code",
   "execution_count": 19,
   "metadata": {},
   "outputs": [],
   "source": [
    "cross = np.load('Model/crossTest_Toydata.npy')"
   ]
  },
  {
   "cell_type": "code",
   "execution_count": 35,
   "metadata": {},
   "outputs": [],
   "source": [
    "import pickle\n",
    "from tensorflow import keras\n",
    "import mdn\n",
    "\n",
    "scaleCross = pickle.load(open( 'Model/crossScaler.sav', 'rb'))\n",
    "scaleOutput = pickle.load(open( 'Model/parScaler.sav','rb'))"
   ]
  },
  {
   "cell_type": "code",
   "execution_count": 20,
   "metadata": {},
   "outputs": [
    {
     "data": {
      "text/plain": [
       "(12, 202)"
      ]
     },
     "execution_count": 20,
     "metadata": {},
     "output_type": "execute_result"
    }
   ],
   "source": [
    "cross.shape"
   ]
  },
  {
   "cell_type": "code",
   "execution_count": 27,
   "metadata": {},
   "outputs": [],
   "source": [
    "crossScaled = scaleCross.transform(cross)"
   ]
  },
  {
   "cell_type": "code",
   "execution_count": 28,
   "metadata": {},
   "outputs": [
    {
     "data": {
      "text/plain": [
       "array([-0.41488139, -0.40406453, -0.40423206, -0.40438827, -0.38003561,\n",
       "       -0.38021067, -0.38037393, -0.38052684, -0.38067063, -0.33581119,\n",
       "       -0.33599494, -0.33616632, -0.33632686, -0.33647783, -0.3366203 ,\n",
       "       -0.33675514, -0.26265163, -0.26284192, -0.26301943, -0.26318575,\n",
       "       -0.26334218, -0.26348982, -0.26362958, -0.26376226, -0.26388853,\n",
       "       -0.15524189, -0.15542396, -0.15559383, -0.15575303, -0.15590279,\n",
       "       -0.15604416, -0.15617801, -0.15630509, -0.15642606, -0.15654145,\n",
       "       -0.15665175, -0.03657336, -0.03669504, -0.03680863, -0.03691513,\n",
       "       -0.03701537, -0.03711003, -0.03719969, -0.03728486, -0.03736596,\n",
       "       -0.03744335, -0.03751735, -0.03758825, -0.03765629, -0.01928015,\n",
       "       -0.019221  , -0.01916634, -0.01911556, -0.01906819, -0.01902382,\n",
       "       -0.01898212, -0.01894281, -0.01890565, -0.01887043, -0.01883697,\n",
       "       -0.01880512, -0.01877473, -0.01874569, -0.01871789, -0.22942252,\n",
       "       -0.22918937, -0.22897279, -0.22877068, -0.22858129, -0.22840318,\n",
       "       -0.22823514, -0.22807613, -0.22792527, -0.2277818 , -0.22764506,\n",
       "       -0.22751447, -0.22738953, -0.22726978, -0.22715483, -0.22704433,\n",
       "       -0.22693796, -0.30911605, -0.3100693 , -0.31093848, -0.31173571,\n",
       "       -0.31247073, -0.31315154, -0.31378473, -0.31437581, -0.31492944,\n",
       "       -0.31544956, -0.31593956, -0.31640236, -0.31684048, -0.31725613,\n",
       "       -0.31765125, -0.31802755, -0.31838654, -0.31872956, -0.31905782,\n",
       "       -0.3193724 , -0.22705673, -0.18745429, -0.18734224, -0.18723758,\n",
       "       -0.13511309, -0.13493779, -0.13477412, -0.13462063, -0.13447615,\n",
       "       -0.06540904, -0.06514974, -0.06490767, -0.0646807 , -0.06446707,\n",
       "       -0.06426532, -0.06407422,  0.02803875,  0.0284171 ,  0.0287703 ,\n",
       "        0.02910146,  0.02941314,  0.02970749,  0.0299863 ,  0.03025113,\n",
       "        0.03050328,  0.15026798,  0.15083357,  0.15136161,  0.15185672,\n",
       "        0.15232274,  0.15276286,  0.15317979,  0.15357581,  0.15395291,\n",
       "        0.15431279,  0.15465694,  0.28401816,  0.28492106,  0.28576396,\n",
       "        0.28655426,  0.28729807,  0.28800052,  0.2886659 ,  0.2892979 ,\n",
       "        0.28989966,  0.29047393,  0.29102308,  0.29154919,  0.2920541 ,\n",
       "        0.32223718,  0.32382694,  0.32530908,  0.32669702,  0.32800182,\n",
       "        0.3292327 ,  0.33039745,  0.33150269,  0.33255411,  0.3335566 ,\n",
       "        0.33451444,  0.33543137,  0.33631068,  0.33715527,  0.33796775,\n",
       "        0.07679876,  0.0796534 ,  0.08230365,  0.08477576,  0.0870913 ,\n",
       "        0.08926818,  0.09132144,  0.09326386,  0.09510633,  0.09685826,\n",
       "        0.09852777,  0.10012199,  0.10164715,  0.10310876,  0.1045117 ,\n",
       "        0.10586032,  0.1071585 , -0.25574876, -0.25450627, -0.25335064,\n",
       "       -0.25227104, -0.25125854, -0.25030564, -0.24940605, -0.24855438,\n",
       "       -0.24774602, -0.246977  , -0.24624382, -0.24554347, -0.24487326,\n",
       "       -0.24423084, -0.24361409, -0.24302115, -0.24245033, -0.24190013,\n",
       "       -0.24136917, -0.24085623])"
      ]
     },
     "execution_count": 28,
     "metadata": {},
     "output_type": "execute_result"
    }
   ],
   "source": [
    "crossScaled[0]"
   ]
  },
  {
   "cell_type": "code",
   "execution_count": 24,
   "metadata": {},
   "outputs": [
    {
     "data": {
      "text/plain": [
       "'C:\\\\Users\\\\hpendyal\\\\AppData\\\\Local\\\\Continuum\\\\anaconda3\\\\envs\\\\cnf-env\\\\python.exe'"
      ]
     },
     "execution_count": 24,
     "metadata": {},
     "output_type": "execute_result"
    }
   ],
   "source": [
    "import sys\n",
    "sys.executable"
   ]
  },
  {
   "cell_type": "code",
   "execution_count": 39,
   "metadata": {},
   "outputs": [
    {
     "ename": "ValueError",
     "evalue": "Unknown layer: MDN",
     "output_type": "error",
     "traceback": [
      "\u001b[1;31m---------------------------------------------------------------------------\u001b[0m",
      "\u001b[1;31mValueError\u001b[0m                                Traceback (most recent call last)",
      "\u001b[1;32m<ipython-input-39-75346e566b3d>\u001b[0m in \u001b[0;36m<module>\u001b[1;34m\u001b[0m\n\u001b[1;32m----> 1\u001b[1;33m \u001b[0mscaleModel\u001b[0m \u001b[1;33m=\u001b[0m \u001b[0mpickle\u001b[0m\u001b[1;33m.\u001b[0m\u001b[0mload\u001b[0m\u001b[1;33m(\u001b[0m\u001b[0mopen\u001b[0m\u001b[1;33m(\u001b[0m \u001b[1;34m'Model/AEMDN_Fmodel.sav'\u001b[0m\u001b[1;33m,\u001b[0m\u001b[1;34m'rb'\u001b[0m\u001b[1;33m)\u001b[0m\u001b[1;33m)\u001b[0m\u001b[1;33m\u001b[0m\u001b[1;33m\u001b[0m\u001b[0m\n\u001b[0m",
      "\u001b[1;32m~\\AppData\\Local\\Continuum\\anaconda3\\envs\\cnf-env\\lib\\site-packages\\keras\\engine\\network.py\u001b[0m in \u001b[0;36m__setstate__\u001b[1;34m(self, state)\u001b[0m\n\u001b[0;32m   1264\u001b[0m \u001b[1;33m\u001b[0m\u001b[0m\n\u001b[0;32m   1265\u001b[0m     \u001b[1;32mdef\u001b[0m \u001b[0m__setstate__\u001b[0m\u001b[1;33m(\u001b[0m\u001b[0mself\u001b[0m\u001b[1;33m,\u001b[0m \u001b[0mstate\u001b[0m\u001b[1;33m)\u001b[0m\u001b[1;33m:\u001b[0m\u001b[1;33m\u001b[0m\u001b[1;33m\u001b[0m\u001b[0m\n\u001b[1;32m-> 1266\u001b[1;33m         \u001b[0mmodel\u001b[0m \u001b[1;33m=\u001b[0m \u001b[0msaving\u001b[0m\u001b[1;33m.\u001b[0m\u001b[0munpickle_model\u001b[0m\u001b[1;33m(\u001b[0m\u001b[0mstate\u001b[0m\u001b[1;33m)\u001b[0m\u001b[1;33m\u001b[0m\u001b[1;33m\u001b[0m\u001b[0m\n\u001b[0m\u001b[0;32m   1267\u001b[0m         \u001b[0mself\u001b[0m\u001b[1;33m.\u001b[0m\u001b[0m__dict__\u001b[0m\u001b[1;33m.\u001b[0m\u001b[0mupdate\u001b[0m\u001b[1;33m(\u001b[0m\u001b[0mmodel\u001b[0m\u001b[1;33m.\u001b[0m\u001b[0m__dict__\u001b[0m\u001b[1;33m)\u001b[0m\u001b[1;33m\u001b[0m\u001b[1;33m\u001b[0m\u001b[0m\n\u001b[0;32m   1268\u001b[0m \u001b[1;33m\u001b[0m\u001b[0m\n",
      "\u001b[1;32m~\\AppData\\Local\\Continuum\\anaconda3\\envs\\cnf-env\\lib\\site-packages\\keras\\engine\\saving.py\u001b[0m in \u001b[0;36munpickle_model\u001b[1;34m(state)\u001b[0m\n\u001b[0;32m    433\u001b[0m \u001b[1;32mdef\u001b[0m \u001b[0munpickle_model\u001b[0m\u001b[1;33m(\u001b[0m\u001b[0mstate\u001b[0m\u001b[1;33m)\u001b[0m\u001b[1;33m:\u001b[0m\u001b[1;33m\u001b[0m\u001b[1;33m\u001b[0m\u001b[0m\n\u001b[0;32m    434\u001b[0m     \u001b[0mf\u001b[0m \u001b[1;33m=\u001b[0m \u001b[0mh5dict\u001b[0m\u001b[1;33m(\u001b[0m\u001b[0mstate\u001b[0m\u001b[1;33m,\u001b[0m \u001b[0mmode\u001b[0m\u001b[1;33m=\u001b[0m\u001b[1;34m'r'\u001b[0m\u001b[1;33m)\u001b[0m\u001b[1;33m\u001b[0m\u001b[1;33m\u001b[0m\u001b[0m\n\u001b[1;32m--> 435\u001b[1;33m     \u001b[1;32mreturn\u001b[0m \u001b[0m_deserialize_model\u001b[0m\u001b[1;33m(\u001b[0m\u001b[0mf\u001b[0m\u001b[1;33m)\u001b[0m\u001b[1;33m\u001b[0m\u001b[1;33m\u001b[0m\u001b[0m\n\u001b[0m\u001b[0;32m    436\u001b[0m \u001b[1;33m\u001b[0m\u001b[0m\n\u001b[0;32m    437\u001b[0m \u001b[1;33m\u001b[0m\u001b[0m\n",
      "\u001b[1;32m~\\AppData\\Local\\Continuum\\anaconda3\\envs\\cnf-env\\lib\\site-packages\\keras\\engine\\saving.py\u001b[0m in \u001b[0;36m_deserialize_model\u001b[1;34m(f, custom_objects, compile)\u001b[0m\n\u001b[0;32m    223\u001b[0m         \u001b[1;32mraise\u001b[0m \u001b[0mValueError\u001b[0m\u001b[1;33m(\u001b[0m\u001b[1;34m'No model found in config.'\u001b[0m\u001b[1;33m)\u001b[0m\u001b[1;33m\u001b[0m\u001b[1;33m\u001b[0m\u001b[0m\n\u001b[0;32m    224\u001b[0m     \u001b[0mmodel_config\u001b[0m \u001b[1;33m=\u001b[0m \u001b[0mjson\u001b[0m\u001b[1;33m.\u001b[0m\u001b[0mloads\u001b[0m\u001b[1;33m(\u001b[0m\u001b[0mmodel_config\u001b[0m\u001b[1;33m.\u001b[0m\u001b[0mdecode\u001b[0m\u001b[1;33m(\u001b[0m\u001b[1;34m'utf-8'\u001b[0m\u001b[1;33m)\u001b[0m\u001b[1;33m)\u001b[0m\u001b[1;33m\u001b[0m\u001b[1;33m\u001b[0m\u001b[0m\n\u001b[1;32m--> 225\u001b[1;33m     \u001b[0mmodel\u001b[0m \u001b[1;33m=\u001b[0m \u001b[0mmodel_from_config\u001b[0m\u001b[1;33m(\u001b[0m\u001b[0mmodel_config\u001b[0m\u001b[1;33m,\u001b[0m \u001b[0mcustom_objects\u001b[0m\u001b[1;33m=\u001b[0m\u001b[0mcustom_objects\u001b[0m\u001b[1;33m)\u001b[0m\u001b[1;33m\u001b[0m\u001b[1;33m\u001b[0m\u001b[0m\n\u001b[0m\u001b[0;32m    226\u001b[0m     \u001b[0mmodel_weights_group\u001b[0m \u001b[1;33m=\u001b[0m \u001b[0mf\u001b[0m\u001b[1;33m[\u001b[0m\u001b[1;34m'model_weights'\u001b[0m\u001b[1;33m]\u001b[0m\u001b[1;33m\u001b[0m\u001b[1;33m\u001b[0m\u001b[0m\n\u001b[0;32m    227\u001b[0m \u001b[1;33m\u001b[0m\u001b[0m\n",
      "\u001b[1;32m~\\AppData\\Local\\Continuum\\anaconda3\\envs\\cnf-env\\lib\\site-packages\\keras\\engine\\saving.py\u001b[0m in \u001b[0;36mmodel_from_config\u001b[1;34m(config, custom_objects)\u001b[0m\n\u001b[0;32m    456\u001b[0m                         '`Sequential.from_config(config)`?')\n\u001b[0;32m    457\u001b[0m     \u001b[1;32mfrom\u001b[0m \u001b[1;33m.\u001b[0m\u001b[1;33m.\u001b[0m\u001b[0mlayers\u001b[0m \u001b[1;32mimport\u001b[0m \u001b[0mdeserialize\u001b[0m\u001b[1;33m\u001b[0m\u001b[1;33m\u001b[0m\u001b[0m\n\u001b[1;32m--> 458\u001b[1;33m     \u001b[1;32mreturn\u001b[0m \u001b[0mdeserialize\u001b[0m\u001b[1;33m(\u001b[0m\u001b[0mconfig\u001b[0m\u001b[1;33m,\u001b[0m \u001b[0mcustom_objects\u001b[0m\u001b[1;33m=\u001b[0m\u001b[0mcustom_objects\u001b[0m\u001b[1;33m)\u001b[0m\u001b[1;33m\u001b[0m\u001b[1;33m\u001b[0m\u001b[0m\n\u001b[0m\u001b[0;32m    459\u001b[0m \u001b[1;33m\u001b[0m\u001b[0m\n\u001b[0;32m    460\u001b[0m \u001b[1;33m\u001b[0m\u001b[0m\n",
      "\u001b[1;32m~\\AppData\\Local\\Continuum\\anaconda3\\envs\\cnf-env\\lib\\site-packages\\keras\\layers\\__init__.py\u001b[0m in \u001b[0;36mdeserialize\u001b[1;34m(config, custom_objects)\u001b[0m\n\u001b[0;32m     53\u001b[0m                                     \u001b[0mmodule_objects\u001b[0m\u001b[1;33m=\u001b[0m\u001b[0mglobs\u001b[0m\u001b[1;33m,\u001b[0m\u001b[1;33m\u001b[0m\u001b[1;33m\u001b[0m\u001b[0m\n\u001b[0;32m     54\u001b[0m                                     \u001b[0mcustom_objects\u001b[0m\u001b[1;33m=\u001b[0m\u001b[0mcustom_objects\u001b[0m\u001b[1;33m,\u001b[0m\u001b[1;33m\u001b[0m\u001b[1;33m\u001b[0m\u001b[0m\n\u001b[1;32m---> 55\u001b[1;33m                                     printable_module_name='layer')\n\u001b[0m",
      "\u001b[1;32m~\\AppData\\Local\\Continuum\\anaconda3\\envs\\cnf-env\\lib\\site-packages\\keras\\utils\\generic_utils.py\u001b[0m in \u001b[0;36mdeserialize_keras_object\u001b[1;34m(identifier, module_objects, custom_objects, printable_module_name)\u001b[0m\n\u001b[0;32m    143\u001b[0m                     \u001b[0mconfig\u001b[0m\u001b[1;33m[\u001b[0m\u001b[1;34m'config'\u001b[0m\u001b[1;33m]\u001b[0m\u001b[1;33m,\u001b[0m\u001b[1;33m\u001b[0m\u001b[1;33m\u001b[0m\u001b[0m\n\u001b[0;32m    144\u001b[0m                     custom_objects=dict(list(_GLOBAL_CUSTOM_OBJECTS.items()) +\n\u001b[1;32m--> 145\u001b[1;33m                                         list(custom_objects.items())))\n\u001b[0m\u001b[0;32m    146\u001b[0m             \u001b[1;32mwith\u001b[0m \u001b[0mCustomObjectScope\u001b[0m\u001b[1;33m(\u001b[0m\u001b[0mcustom_objects\u001b[0m\u001b[1;33m)\u001b[0m\u001b[1;33m:\u001b[0m\u001b[1;33m\u001b[0m\u001b[1;33m\u001b[0m\u001b[0m\n\u001b[0;32m    147\u001b[0m                 \u001b[1;32mreturn\u001b[0m \u001b[0mcls\u001b[0m\u001b[1;33m.\u001b[0m\u001b[0mfrom_config\u001b[0m\u001b[1;33m(\u001b[0m\u001b[0mconfig\u001b[0m\u001b[1;33m[\u001b[0m\u001b[1;34m'config'\u001b[0m\u001b[1;33m]\u001b[0m\u001b[1;33m)\u001b[0m\u001b[1;33m\u001b[0m\u001b[1;33m\u001b[0m\u001b[0m\n",
      "\u001b[1;32m~\\AppData\\Local\\Continuum\\anaconda3\\envs\\cnf-env\\lib\\site-packages\\keras\\engine\\network.py\u001b[0m in \u001b[0;36mfrom_config\u001b[1;34m(cls, config, custom_objects)\u001b[0m\n\u001b[0;32m   1020\u001b[0m         \u001b[1;31m# First, we create all layers and enqueue nodes to be processed\u001b[0m\u001b[1;33m\u001b[0m\u001b[1;33m\u001b[0m\u001b[1;33m\u001b[0m\u001b[0m\n\u001b[0;32m   1021\u001b[0m         \u001b[1;32mfor\u001b[0m \u001b[0mlayer_data\u001b[0m \u001b[1;32min\u001b[0m \u001b[0mconfig\u001b[0m\u001b[1;33m[\u001b[0m\u001b[1;34m'layers'\u001b[0m\u001b[1;33m]\u001b[0m\u001b[1;33m:\u001b[0m\u001b[1;33m\u001b[0m\u001b[1;33m\u001b[0m\u001b[0m\n\u001b[1;32m-> 1022\u001b[1;33m             \u001b[0mprocess_layer\u001b[0m\u001b[1;33m(\u001b[0m\u001b[0mlayer_data\u001b[0m\u001b[1;33m)\u001b[0m\u001b[1;33m\u001b[0m\u001b[1;33m\u001b[0m\u001b[0m\n\u001b[0m\u001b[0;32m   1023\u001b[0m         \u001b[1;31m# Then we process nodes in order of layer depth.\u001b[0m\u001b[1;33m\u001b[0m\u001b[1;33m\u001b[0m\u001b[1;33m\u001b[0m\u001b[0m\n\u001b[0;32m   1024\u001b[0m         \u001b[1;31m# Nodes that cannot yet be processed (if the inbound node\u001b[0m\u001b[1;33m\u001b[0m\u001b[1;33m\u001b[0m\u001b[1;33m\u001b[0m\u001b[0m\n",
      "\u001b[1;32m~\\AppData\\Local\\Continuum\\anaconda3\\envs\\cnf-env\\lib\\site-packages\\keras\\engine\\network.py\u001b[0m in \u001b[0;36mprocess_layer\u001b[1;34m(layer_data)\u001b[0m\n\u001b[0;32m   1006\u001b[0m \u001b[1;33m\u001b[0m\u001b[0m\n\u001b[0;32m   1007\u001b[0m             layer = deserialize_layer(layer_data,\n\u001b[1;32m-> 1008\u001b[1;33m                                       custom_objects=custom_objects)\n\u001b[0m\u001b[0;32m   1009\u001b[0m             \u001b[0mcreated_layers\u001b[0m\u001b[1;33m[\u001b[0m\u001b[0mlayer_name\u001b[0m\u001b[1;33m]\u001b[0m \u001b[1;33m=\u001b[0m \u001b[0mlayer\u001b[0m\u001b[1;33m\u001b[0m\u001b[1;33m\u001b[0m\u001b[0m\n\u001b[0;32m   1010\u001b[0m \u001b[1;33m\u001b[0m\u001b[0m\n",
      "\u001b[1;32m~\\AppData\\Local\\Continuum\\anaconda3\\envs\\cnf-env\\lib\\site-packages\\keras\\layers\\__init__.py\u001b[0m in \u001b[0;36mdeserialize\u001b[1;34m(config, custom_objects)\u001b[0m\n\u001b[0;32m     53\u001b[0m                                     \u001b[0mmodule_objects\u001b[0m\u001b[1;33m=\u001b[0m\u001b[0mglobs\u001b[0m\u001b[1;33m,\u001b[0m\u001b[1;33m\u001b[0m\u001b[1;33m\u001b[0m\u001b[0m\n\u001b[0;32m     54\u001b[0m                                     \u001b[0mcustom_objects\u001b[0m\u001b[1;33m=\u001b[0m\u001b[0mcustom_objects\u001b[0m\u001b[1;33m,\u001b[0m\u001b[1;33m\u001b[0m\u001b[1;33m\u001b[0m\u001b[0m\n\u001b[1;32m---> 55\u001b[1;33m                                     printable_module_name='layer')\n\u001b[0m",
      "\u001b[1;32m~\\AppData\\Local\\Continuum\\anaconda3\\envs\\cnf-env\\lib\\site-packages\\keras\\utils\\generic_utils.py\u001b[0m in \u001b[0;36mdeserialize_keras_object\u001b[1;34m(identifier, module_objects, custom_objects, printable_module_name)\u001b[0m\n\u001b[0;32m    143\u001b[0m                     \u001b[0mconfig\u001b[0m\u001b[1;33m[\u001b[0m\u001b[1;34m'config'\u001b[0m\u001b[1;33m]\u001b[0m\u001b[1;33m,\u001b[0m\u001b[1;33m\u001b[0m\u001b[1;33m\u001b[0m\u001b[0m\n\u001b[0;32m    144\u001b[0m                     custom_objects=dict(list(_GLOBAL_CUSTOM_OBJECTS.items()) +\n\u001b[1;32m--> 145\u001b[1;33m                                         list(custom_objects.items())))\n\u001b[0m\u001b[0;32m    146\u001b[0m             \u001b[1;32mwith\u001b[0m \u001b[0mCustomObjectScope\u001b[0m\u001b[1;33m(\u001b[0m\u001b[0mcustom_objects\u001b[0m\u001b[1;33m)\u001b[0m\u001b[1;33m:\u001b[0m\u001b[1;33m\u001b[0m\u001b[1;33m\u001b[0m\u001b[0m\n\u001b[0;32m    147\u001b[0m                 \u001b[1;32mreturn\u001b[0m \u001b[0mcls\u001b[0m\u001b[1;33m.\u001b[0m\u001b[0mfrom_config\u001b[0m\u001b[1;33m(\u001b[0m\u001b[0mconfig\u001b[0m\u001b[1;33m[\u001b[0m\u001b[1;34m'config'\u001b[0m\u001b[1;33m]\u001b[0m\u001b[1;33m)\u001b[0m\u001b[1;33m\u001b[0m\u001b[1;33m\u001b[0m\u001b[0m\n",
      "\u001b[1;32m~\\AppData\\Local\\Continuum\\anaconda3\\envs\\cnf-env\\lib\\site-packages\\keras\\engine\\network.py\u001b[0m in \u001b[0;36mfrom_config\u001b[1;34m(cls, config, custom_objects)\u001b[0m\n\u001b[0;32m   1020\u001b[0m         \u001b[1;31m# First, we create all layers and enqueue nodes to be processed\u001b[0m\u001b[1;33m\u001b[0m\u001b[1;33m\u001b[0m\u001b[1;33m\u001b[0m\u001b[0m\n\u001b[0;32m   1021\u001b[0m         \u001b[1;32mfor\u001b[0m \u001b[0mlayer_data\u001b[0m \u001b[1;32min\u001b[0m \u001b[0mconfig\u001b[0m\u001b[1;33m[\u001b[0m\u001b[1;34m'layers'\u001b[0m\u001b[1;33m]\u001b[0m\u001b[1;33m:\u001b[0m\u001b[1;33m\u001b[0m\u001b[1;33m\u001b[0m\u001b[0m\n\u001b[1;32m-> 1022\u001b[1;33m             \u001b[0mprocess_layer\u001b[0m\u001b[1;33m(\u001b[0m\u001b[0mlayer_data\u001b[0m\u001b[1;33m)\u001b[0m\u001b[1;33m\u001b[0m\u001b[1;33m\u001b[0m\u001b[0m\n\u001b[0m\u001b[0;32m   1023\u001b[0m         \u001b[1;31m# Then we process nodes in order of layer depth.\u001b[0m\u001b[1;33m\u001b[0m\u001b[1;33m\u001b[0m\u001b[1;33m\u001b[0m\u001b[0m\n\u001b[0;32m   1024\u001b[0m         \u001b[1;31m# Nodes that cannot yet be processed (if the inbound node\u001b[0m\u001b[1;33m\u001b[0m\u001b[1;33m\u001b[0m\u001b[1;33m\u001b[0m\u001b[0m\n",
      "\u001b[1;32m~\\AppData\\Local\\Continuum\\anaconda3\\envs\\cnf-env\\lib\\site-packages\\keras\\engine\\network.py\u001b[0m in \u001b[0;36mprocess_layer\u001b[1;34m(layer_data)\u001b[0m\n\u001b[0;32m   1006\u001b[0m \u001b[1;33m\u001b[0m\u001b[0m\n\u001b[0;32m   1007\u001b[0m             layer = deserialize_layer(layer_data,\n\u001b[1;32m-> 1008\u001b[1;33m                                       custom_objects=custom_objects)\n\u001b[0m\u001b[0;32m   1009\u001b[0m             \u001b[0mcreated_layers\u001b[0m\u001b[1;33m[\u001b[0m\u001b[0mlayer_name\u001b[0m\u001b[1;33m]\u001b[0m \u001b[1;33m=\u001b[0m \u001b[0mlayer\u001b[0m\u001b[1;33m\u001b[0m\u001b[1;33m\u001b[0m\u001b[0m\n\u001b[0;32m   1010\u001b[0m \u001b[1;33m\u001b[0m\u001b[0m\n",
      "\u001b[1;32m~\\AppData\\Local\\Continuum\\anaconda3\\envs\\cnf-env\\lib\\site-packages\\keras\\layers\\__init__.py\u001b[0m in \u001b[0;36mdeserialize\u001b[1;34m(config, custom_objects)\u001b[0m\n\u001b[0;32m     53\u001b[0m                                     \u001b[0mmodule_objects\u001b[0m\u001b[1;33m=\u001b[0m\u001b[0mglobs\u001b[0m\u001b[1;33m,\u001b[0m\u001b[1;33m\u001b[0m\u001b[1;33m\u001b[0m\u001b[0m\n\u001b[0;32m     54\u001b[0m                                     \u001b[0mcustom_objects\u001b[0m\u001b[1;33m=\u001b[0m\u001b[0mcustom_objects\u001b[0m\u001b[1;33m,\u001b[0m\u001b[1;33m\u001b[0m\u001b[1;33m\u001b[0m\u001b[0m\n\u001b[1;32m---> 55\u001b[1;33m                                     printable_module_name='layer')\n\u001b[0m",
      "\u001b[1;32m~\\AppData\\Local\\Continuum\\anaconda3\\envs\\cnf-env\\lib\\site-packages\\keras\\utils\\generic_utils.py\u001b[0m in \u001b[0;36mdeserialize_keras_object\u001b[1;34m(identifier, module_objects, custom_objects, printable_module_name)\u001b[0m\n\u001b[0;32m    136\u001b[0m             \u001b[1;32mif\u001b[0m \u001b[0mcls\u001b[0m \u001b[1;32mis\u001b[0m \u001b[1;32mNone\u001b[0m\u001b[1;33m:\u001b[0m\u001b[1;33m\u001b[0m\u001b[1;33m\u001b[0m\u001b[0m\n\u001b[0;32m    137\u001b[0m                 raise ValueError('Unknown ' + printable_module_name +\n\u001b[1;32m--> 138\u001b[1;33m                                  ': ' + class_name)\n\u001b[0m\u001b[0;32m    139\u001b[0m         \u001b[1;32mif\u001b[0m \u001b[0mhasattr\u001b[0m\u001b[1;33m(\u001b[0m\u001b[0mcls\u001b[0m\u001b[1;33m,\u001b[0m \u001b[1;34m'from_config'\u001b[0m\u001b[1;33m)\u001b[0m\u001b[1;33m:\u001b[0m\u001b[1;33m\u001b[0m\u001b[1;33m\u001b[0m\u001b[0m\n\u001b[0;32m    140\u001b[0m             \u001b[0mcustom_objects\u001b[0m \u001b[1;33m=\u001b[0m \u001b[0mcustom_objects\u001b[0m \u001b[1;32mor\u001b[0m \u001b[1;33m{\u001b[0m\u001b[1;33m}\u001b[0m\u001b[1;33m\u001b[0m\u001b[1;33m\u001b[0m\u001b[0m\n",
      "\u001b[1;31mValueError\u001b[0m: Unknown layer: MDN"
     ]
    }
   ],
   "source": [
    "scaleModel = pickle.load(open( 'Model/AEMDN_Fmodel.sav','rb'))"
   ]
  },
  {
   "cell_type": "code",
   "execution_count": 30,
   "metadata": {},
   "outputs": [],
   "source": [
    "tmp = np.split(crossScaled[0],2)\n",
    "obs_p = tmp[0]\n",
    "obs_n = tmp[1]"
   ]
  },
  {
   "cell_type": "code",
   "execution_count": 31,
   "metadata": {},
   "outputs": [
    {
     "data": {
      "text/plain": [
       "array([[0.76881447, 0.52929838, 0.53125285, 0.46983889, 0.53680678,\n",
       "        0.36188286, 0.25254108, 0.1676334 , 0.29321924, 0.3080291 ],\n",
       "       [0.58362873, 0.4288494 , 0.80391187, 0.6937444 , 0.63603009,\n",
       "        0.81357126, 0.81537267, 0.61728257, 0.5764315 , 0.5138928 ],\n",
       "       [0.11636324, 0.33142982, 0.35977824, 0.51617524, 0.71152621,\n",
       "        0.60269041, 0.21351204, 0.55819494, 0.4813045 , 0.55541497],\n",
       "       [0.21860194, 0.02795252, 0.19904722, 0.37745041, 0.61484434,\n",
       "        0.27740918, 0.08673855, 0.13138952, 0.32837647, 0.57457225],\n",
       "       [0.38686714, 0.09622508, 0.61868842, 0.36456219, 0.39701546,\n",
       "        0.14955276, 0.37381534, 0.10077448, 0.24024595, 0.79594763],\n",
       "       [0.15068809, 0.08291106, 0.14574464, 0.38972542, 0.34262973,\n",
       "        0.73832021, 0.47761453, 0.62503765, 0.21478158, 0.29944298],\n",
       "       [0.59808505, 0.55497999, 0.55389361, 0.39464508, 0.58886822,\n",
       "        0.16125954, 0.35068395, 0.50404658, 0.43012801, 0.62821466],\n",
       "       [0.76881447, 0.52929838, 0.53125285, 0.46983889, 0.53680678,\n",
       "        0.36188286, 0.25254108, 0.1676334 , 0.29321924, 0.3080291 ],\n",
       "       [0.70412583, 0.54083627, 0.69377687, 0.72455422, 0.73257869,\n",
       "        0.61557639, 0.49665492, 0.59724206, 0.31243815, 0.3164559 ],\n",
       "       [0.73112666, 0.26842777, 0.19940917, 0.34657746, 0.70776705,\n",
       "        0.41227201, 0.56569852, 0.21852728, 0.96365074, 0.60575526],\n",
       "       [0.77806583, 0.41276691, 0.10200275, 0.70420391, 0.353033  ,\n",
       "        0.55909099, 0.60187624, 0.71772412, 0.82977137, 0.67032749],\n",
       "       [0.33303658, 0.55788051, 0.07024319, 0.5206367 , 0.23054573,\n",
       "        0.35753407, 0.49596639, 0.79304211, 0.56592017, 0.52619691]])"
      ]
     },
     "execution_count": 31,
     "metadata": {},
     "output_type": "execute_result"
    }
   ],
   "source": [
    "#--- analyzing True value\n",
    "par = np.load('Model/parTrue_Toydata.npy')\n",
    "scaleOutput.transform(par)"
   ]
  },
  {
   "cell_type": "code",
   "execution_count": null,
   "metadata": {},
   "outputs": [],
   "source": []
  }
 ],
 "metadata": {
  "kernelspec": {
   "display_name": "Python 3",
   "language": "python",
   "name": "python3"
  },
  "language_info": {
   "codemirror_mode": {
    "name": "ipython",
    "version": 3
   },
   "file_extension": ".py",
   "mimetype": "text/x-python",
   "name": "python",
   "nbconvert_exporter": "python",
   "pygments_lexer": "ipython3",
   "version": "3.6.10"
  }
 },
 "nbformat": 4,
 "nbformat_minor": 2
}
