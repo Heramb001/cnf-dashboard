{
 "cells": [
  {
   "cell_type": "markdown",
   "metadata": {},
   "source": [
    "# Dashboard Understanding\n",
    "\n",
    "\n",
    "***Data Flow***\n",
    "\n",
    "--> Select Points $(x, Q^2)$ \n",
    "\n",
    "--> add noise to cross section ***(created from concatenation of obs_p and obs_n of corresponding $(x,Q^2)$)***\n",
    "\n",
    "--> send the crossection data to the Model \n",
    "\n",
    "--> generates output (parameters) \n",
    "\n",
    "--> Parameters are used to generate PDF UP and PDF DOWN \n",
    "\n",
    "\n",
    "***Equation to add Noise***\n",
    "\n",
    "$(xsec)' = xsec + (\\sigma * f * R)$\n",
    "\n",
    "- uncertainity ($\\sigma$)\n",
    "\n",
    "- noise ($f$)\n",
    "\n",
    "- Random value ($R$)\n",
    "\n",
    "***To generate PDFs***\n",
    "\n",
    "$x$ = an array of range(0,100)\n",
    "\n",
    "$Q^2$ = constant value"
   ]
  },
  {
   "cell_type": "code",
   "execution_count": 1,
   "metadata": {},
   "outputs": [],
   "source": [
    "# libraries\n",
    "import numpy as np #--- pdf,mlutils\n",
    "import pandas as pd\n",
    "import plotly.graph_objs as go\n",
    "import dash\n",
    "import matplotlib.pyplot as plt\n",
    "\n",
    "#---mlutils\n",
    "from tensorflow.keras.models import load_model\n",
    "#from keras.models import load_model\n",
    "import tensorflow as tf\n",
    "import warnings\n",
    "warnings.filterwarnings('ignore')\n",
    "import h5py\n",
    "\n",
    "#---pdf libs\n",
    "from scipy.special import gamma\n",
    "import sys,os\n",
    "\n",
    "#--- only for jupyter\n",
    "from ipywidgets import interactive, HBox, VBox"
   ]
  },
  {
   "cell_type": "code",
   "execution_count": 2,
   "metadata": {},
   "outputs": [
    {
     "data": {
      "text/plain": [
       "((100, 101), (100, 101), (101,), (101,))"
      ]
     },
     "execution_count": 2,
     "metadata": {},
     "output_type": "execute_result"
    }
   ],
   "source": [
    "#-- Loading the data\n",
    "X = np.load(\"data/X.npy\")\n",
    "Q2 = np.load(\"data/Q2.npy\")\n",
    "obs_p = np.load(\"data/obs_p.npy\") #-- toy data is of shape (100,101)\n",
    "obs_n = np.load(\"data/obs_n.npy\") #-- toy data is of shape (100,101)\n",
    "obs_p.shape, obs_n.shape, X.shape, Q2.shape"
   ]
  },
  {
   "cell_type": "code",
   "execution_count": 3,
   "metadata": {},
   "outputs": [
    {
     "data": {
      "text/html": [
       "<div>\n",
       "<style scoped>\n",
       "    .dataframe tbody tr th:only-of-type {\n",
       "        vertical-align: middle;\n",
       "    }\n",
       "\n",
       "    .dataframe tbody tr th {\n",
       "        vertical-align: top;\n",
       "    }\n",
       "\n",
       "    .dataframe thead th {\n",
       "        text-align: right;\n",
       "    }\n",
       "</style>\n",
       "<table border=\"1\" class=\"dataframe\">\n",
       "  <thead>\n",
       "    <tr style=\"text-align: right;\">\n",
       "      <th></th>\n",
       "      <th>X</th>\n",
       "      <th>Q2</th>\n",
       "      <th>obs_p</th>\n",
       "      <th>obs_n</th>\n",
       "      <th>is_selected</th>\n",
       "      <th>co-ord</th>\n",
       "    </tr>\n",
       "  </thead>\n",
       "  <tbody>\n",
       "    <tr>\n",
       "      <td>0</td>\n",
       "      <td>0.012055</td>\n",
       "      <td>1.000000</td>\n",
       "      <td>2.627395</td>\n",
       "      <td>0.727704</td>\n",
       "      <td>False</td>\n",
       "      <td>(0.012055362337673993, 1.0)</td>\n",
       "    </tr>\n",
       "    <tr>\n",
       "      <td>1</td>\n",
       "      <td>0.019467</td>\n",
       "      <td>1.000000</td>\n",
       "      <td>2.862549</td>\n",
       "      <td>0.816804</td>\n",
       "      <td>False</td>\n",
       "      <td>(0.019466967101596316, 1.0)</td>\n",
       "    </tr>\n",
       "    <tr>\n",
       "      <td>2</td>\n",
       "      <td>0.019467</td>\n",
       "      <td>1.260221</td>\n",
       "      <td>2.798435</td>\n",
       "      <td>0.799198</td>\n",
       "      <td>False</td>\n",
       "      <td>(0.019466967101596316, 1.260220615891982)</td>\n",
       "    </tr>\n",
       "    <tr>\n",
       "      <td>3</td>\n",
       "      <td>0.019467</td>\n",
       "      <td>1.588156</td>\n",
       "      <td>2.739728</td>\n",
       "      <td>0.783056</td>\n",
       "      <td>False</td>\n",
       "      <td>(0.019466967101596316, 1.5881560007191666)</td>\n",
       "    </tr>\n",
       "    <tr>\n",
       "      <td>4</td>\n",
       "      <td>0.031435</td>\n",
       "      <td>1.000000</td>\n",
       "      <td>3.108782</td>\n",
       "      <td>0.920222</td>\n",
       "      <td>False</td>\n",
       "      <td>(0.031435206800076304, 1.0)</td>\n",
       "    </tr>\n",
       "  </tbody>\n",
       "</table>\n",
       "</div>"
      ],
      "text/plain": [
       "          X        Q2     obs_p     obs_n  is_selected  \\\n",
       "0  0.012055  1.000000  2.627395  0.727704        False   \n",
       "1  0.019467  1.000000  2.862549  0.816804        False   \n",
       "2  0.019467  1.260221  2.798435  0.799198        False   \n",
       "3  0.019467  1.588156  2.739728  0.783056        False   \n",
       "4  0.031435  1.000000  3.108782  0.920222        False   \n",
       "\n",
       "                                       co-ord  \n",
       "0                 (0.012055362337673993, 1.0)  \n",
       "1                 (0.019466967101596316, 1.0)  \n",
       "2   (0.019466967101596316, 1.260220615891982)  \n",
       "3  (0.019466967101596316, 1.5881560007191666)  \n",
       "4                 (0.031435206800076304, 1.0)  "
      ]
     },
     "execution_count": 3,
     "metadata": {},
     "output_type": "execute_result"
    }
   ],
   "source": [
    "data = pd.DataFrame(data = X,\n",
    "                    index=np.arange(len(X)),\n",
    "                    columns=['X']\n",
    "                    )\n",
    "data['Q2'] = Q2\n",
    "data['obs_p'] = obs_p[0,:] #--- currently taking only one sample\n",
    "data['obs_n'] = obs_n[0,:] #--- currently taking only one sample\n",
    "data['is_selected'] = False\n",
    "data['co-ord'] = list(zip(X,Q2))\n",
    "data.head()"
   ]
  },
  {
   "cell_type": "code",
   "execution_count": 4,
   "metadata": {},
   "outputs": [
    {
     "name": "stdout",
     "output_type": "stream",
     "text": [
      "False\n"
     ]
    }
   ],
   "source": [
    "dataSelected = False\n",
    "print(dataSelected)\n",
    "def selectedData(trace,points,selector):\n",
    "    global dataSelected\n",
    "    dataSelected = True\n",
    "    #print(points)\n",
    "    temp_x = []\n",
    "    temp_q2 = []\n",
    "    temp_op = []\n",
    "    temp_on = []\n",
    "    t.data[0].cells.values = [data.loc[points.point_inds][col] for col in ['X','Q2','obs_p','obs_n']]\n",
    "    data.loc[points.point_inds,'is_selected'] =  True\n",
    "    return dataSelected"
   ]
  },
  {
   "cell_type": "code",
   "execution_count": 5,
   "metadata": {},
   "outputs": [
    {
     "data": {
      "application/vnd.jupyter.widget-view+json": {
       "model_id": "2d8fd84f6299431fabd475f1495d4761",
       "version_major": 2,
       "version_minor": 0
      },
      "text/plain": [
       "VBox(children=(FigureWidget({\n",
       "    'data': [{'mode': 'markers',\n",
       "              'type': 'scattergl',\n",
       "            …"
      ]
     },
     "metadata": {},
     "output_type": "display_data"
    }
   ],
   "source": [
    "#plotting the data\n",
    "figure = go.FigureWidget(data=go.Scattergl(x=data['X'],y=data['Q2'],mode='markers',),\n",
    "                   layout=go.Layout(xaxis_title=\"X\",yaxis_title=\"Q2\"))\n",
    "#figure.show()\n",
    "input_data = figure.data[0]\n",
    "\n",
    "#--- for jupyter notebook\n",
    "# Create a table FigureWidget that updates on selection from points in the scatter plot of f\n",
    "t = go.FigureWidget([go.Table(\n",
    "    header=dict(values=['X','Q2','obs_p','obs_n'],\n",
    "                fill = dict(color='#C2D4FF'),\n",
    "                align = ['left'] * 5),\n",
    "    cells=dict(values=[data[col] for col in ['X','Q2','obs_p','obs_n']],\n",
    "               fill = dict(color='#F5F8FF'),\n",
    "               align = ['left'] * 5))])\n",
    "\n",
    "\n",
    "input_data.on_selection(selectedData)\n",
    "\n",
    "\n",
    "# Put everything together ---- jupyter\n",
    "VBox((figure,t))"
   ]
  },
  {
   "cell_type": "code",
   "execution_count": 6,
   "metadata": {},
   "outputs": [
    {
     "name": "stdout",
     "output_type": "stream",
     "text": [
      "True\n"
     ]
    },
    {
     "data": {
      "text/html": [
       "<div>\n",
       "<style scoped>\n",
       "    .dataframe tbody tr th:only-of-type {\n",
       "        vertical-align: middle;\n",
       "    }\n",
       "\n",
       "    .dataframe tbody tr th {\n",
       "        vertical-align: top;\n",
       "    }\n",
       "\n",
       "    .dataframe thead th {\n",
       "        text-align: right;\n",
       "    }\n",
       "</style>\n",
       "<table border=\"1\" class=\"dataframe\">\n",
       "  <thead>\n",
       "    <tr style=\"text-align: right;\">\n",
       "      <th></th>\n",
       "      <th>X</th>\n",
       "      <th>Q2</th>\n",
       "      <th>obs_p</th>\n",
       "      <th>obs_n</th>\n",
       "      <th>is_selected</th>\n",
       "      <th>co-ord</th>\n",
       "    </tr>\n",
       "  </thead>\n",
       "  <tbody>\n",
       "    <tr>\n",
       "      <td>81</td>\n",
       "      <td>0.9</td>\n",
       "      <td>1.000000</td>\n",
       "      <td>0.356107</td>\n",
       "      <td>0.093364</td>\n",
       "      <td>True</td>\n",
       "      <td>(0.9, 1.0)</td>\n",
       "    </tr>\n",
       "    <tr>\n",
       "      <td>82</td>\n",
       "      <td>0.9</td>\n",
       "      <td>1.260221</td>\n",
       "      <td>0.354355</td>\n",
       "      <td>0.092944</td>\n",
       "      <td>True</td>\n",
       "      <td>(0.9, 1.260220615891982)</td>\n",
       "    </tr>\n",
       "    <tr>\n",
       "      <td>83</td>\n",
       "      <td>0.9</td>\n",
       "      <td>1.588156</td>\n",
       "      <td>0.352701</td>\n",
       "      <td>0.092546</td>\n",
       "      <td>True</td>\n",
       "      <td>(0.9, 1.5881560007191666)</td>\n",
       "    </tr>\n",
       "    <tr>\n",
       "      <td>84</td>\n",
       "      <td>0.9</td>\n",
       "      <td>2.001427</td>\n",
       "      <td>0.351136</td>\n",
       "      <td>0.092169</td>\n",
       "      <td>True</td>\n",
       "      <td>(0.9, 2.0014269333588555)</td>\n",
       "    </tr>\n",
       "    <tr>\n",
       "      <td>85</td>\n",
       "      <td>0.9</td>\n",
       "      <td>2.522239</td>\n",
       "      <td>0.349649</td>\n",
       "      <td>0.091810</td>\n",
       "      <td>True</td>\n",
       "      <td>(0.9, 2.5222394826202974)</td>\n",
       "    </tr>\n",
       "    <tr>\n",
       "      <td>86</td>\n",
       "      <td>0.9</td>\n",
       "      <td>3.178578</td>\n",
       "      <td>0.348233</td>\n",
       "      <td>0.091467</td>\n",
       "      <td>True</td>\n",
       "      <td>(0.9, 3.1785781942148255)</td>\n",
       "    </tr>\n",
       "    <tr>\n",
       "      <td>87</td>\n",
       "      <td>0.9</td>\n",
       "      <td>4.005710</td>\n",
       "      <td>0.346883</td>\n",
       "      <td>0.091140</td>\n",
       "      <td>True</td>\n",
       "      <td>(0.9, 4.005709769574232)</td>\n",
       "    </tr>\n",
       "    <tr>\n",
       "      <td>88</td>\n",
       "      <td>0.9</td>\n",
       "      <td>5.048078</td>\n",
       "      <td>0.345591</td>\n",
       "      <td>0.090827</td>\n",
       "      <td>True</td>\n",
       "      <td>(0.9, 5.048078032897367)</td>\n",
       "    </tr>\n",
       "    <tr>\n",
       "      <td>89</td>\n",
       "      <td>0.9</td>\n",
       "      <td>6.361692</td>\n",
       "      <td>0.344353</td>\n",
       "      <td>0.090526</td>\n",
       "      <td>True</td>\n",
       "      <td>(0.9, 6.361692007688706)</td>\n",
       "    </tr>\n",
       "    <tr>\n",
       "      <td>90</td>\n",
       "      <td>0.9</td>\n",
       "      <td>8.017135</td>\n",
       "      <td>0.343165</td>\n",
       "      <td>0.090237</td>\n",
       "      <td>True</td>\n",
       "      <td>(0.9, 8.017135420044562)</td>\n",
       "    </tr>\n",
       "    <tr>\n",
       "      <td>91</td>\n",
       "      <td>0.9</td>\n",
       "      <td>10.103359</td>\n",
       "      <td>0.342023</td>\n",
       "      <td>0.089958</td>\n",
       "      <td>True</td>\n",
       "      <td>(0.9, 10.10335933673798)</td>\n",
       "    </tr>\n",
       "    <tr>\n",
       "      <td>92</td>\n",
       "      <td>0.9</td>\n",
       "      <td>12.732462</td>\n",
       "      <td>0.340923</td>\n",
       "      <td>0.089690</td>\n",
       "      <td>True</td>\n",
       "      <td>(0.9, 12.732461725921944)</td>\n",
       "    </tr>\n",
       "    <tr>\n",
       "      <td>93</td>\n",
       "      <td>0.9</td>\n",
       "      <td>16.045711</td>\n",
       "      <td>0.339862</td>\n",
       "      <td>0.089431</td>\n",
       "      <td>True</td>\n",
       "      <td>(0.9, 16.045710758062445)</td>\n",
       "    </tr>\n",
       "    <tr>\n",
       "      <td>94</td>\n",
       "      <td>0.9</td>\n",
       "      <td>20.221135</td>\n",
       "      <td>0.338838</td>\n",
       "      <td>0.089181</td>\n",
       "      <td>True</td>\n",
       "      <td>(0.9, 20.221135493950054)</td>\n",
       "    </tr>\n",
       "    <tr>\n",
       "      <td>95</td>\n",
       "      <td>0.9</td>\n",
       "      <td>25.483092</td>\n",
       "      <td>0.337848</td>\n",
       "      <td>0.088938</td>\n",
       "      <td>True</td>\n",
       "      <td>(0.9, 25.483091826220953)</td>\n",
       "    </tr>\n",
       "    <tr>\n",
       "      <td>96</td>\n",
       "      <td>0.9</td>\n",
       "      <td>32.114318</td>\n",
       "      <td>0.336890</td>\n",
       "      <td>0.088704</td>\n",
       "      <td>True</td>\n",
       "      <td>(0.9, 32.11431767607212)</td>\n",
       "    </tr>\n",
       "    <tr>\n",
       "      <td>97</td>\n",
       "      <td>0.9</td>\n",
       "      <td>40.471125</td>\n",
       "      <td>0.335961</td>\n",
       "      <td>0.088476</td>\n",
       "      <td>True</td>\n",
       "      <td>(0.9, 40.47112520069036)</td>\n",
       "    </tr>\n",
       "    <tr>\n",
       "      <td>98</td>\n",
       "      <td>0.9</td>\n",
       "      <td>51.002546</td>\n",
       "      <td>0.335061</td>\n",
       "      <td>0.088255</td>\n",
       "      <td>True</td>\n",
       "      <td>(0.9, 51.00254632625551)</td>\n",
       "    </tr>\n",
       "    <tr>\n",
       "      <td>99</td>\n",
       "      <td>0.9</td>\n",
       "      <td>64.274460</td>\n",
       "      <td>0.334188</td>\n",
       "      <td>0.088041</td>\n",
       "      <td>True</td>\n",
       "      <td>(0.9, 64.27446034333309)</td>\n",
       "    </tr>\n",
       "    <tr>\n",
       "      <td>100</td>\n",
       "      <td>0.9</td>\n",
       "      <td>81.000000</td>\n",
       "      <td>0.333339</td>\n",
       "      <td>0.087832</td>\n",
       "      <td>True</td>\n",
       "      <td>(0.9, 81.0)</td>\n",
       "    </tr>\n",
       "  </tbody>\n",
       "</table>\n",
       "</div>"
      ],
      "text/plain": [
       "       X         Q2     obs_p     obs_n  is_selected  \\\n",
       "81   0.9   1.000000  0.356107  0.093364         True   \n",
       "82   0.9   1.260221  0.354355  0.092944         True   \n",
       "83   0.9   1.588156  0.352701  0.092546         True   \n",
       "84   0.9   2.001427  0.351136  0.092169         True   \n",
       "85   0.9   2.522239  0.349649  0.091810         True   \n",
       "86   0.9   3.178578  0.348233  0.091467         True   \n",
       "87   0.9   4.005710  0.346883  0.091140         True   \n",
       "88   0.9   5.048078  0.345591  0.090827         True   \n",
       "89   0.9   6.361692  0.344353  0.090526         True   \n",
       "90   0.9   8.017135  0.343165  0.090237         True   \n",
       "91   0.9  10.103359  0.342023  0.089958         True   \n",
       "92   0.9  12.732462  0.340923  0.089690         True   \n",
       "93   0.9  16.045711  0.339862  0.089431         True   \n",
       "94   0.9  20.221135  0.338838  0.089181         True   \n",
       "95   0.9  25.483092  0.337848  0.088938         True   \n",
       "96   0.9  32.114318  0.336890  0.088704         True   \n",
       "97   0.9  40.471125  0.335961  0.088476         True   \n",
       "98   0.9  51.002546  0.335061  0.088255         True   \n",
       "99   0.9  64.274460  0.334188  0.088041         True   \n",
       "100  0.9  81.000000  0.333339  0.087832         True   \n",
       "\n",
       "                        co-ord  \n",
       "81                  (0.9, 1.0)  \n",
       "82    (0.9, 1.260220615891982)  \n",
       "83   (0.9, 1.5881560007191666)  \n",
       "84   (0.9, 2.0014269333588555)  \n",
       "85   (0.9, 2.5222394826202974)  \n",
       "86   (0.9, 3.1785781942148255)  \n",
       "87    (0.9, 4.005709769574232)  \n",
       "88    (0.9, 5.048078032897367)  \n",
       "89    (0.9, 6.361692007688706)  \n",
       "90    (0.9, 8.017135420044562)  \n",
       "91    (0.9, 10.10335933673798)  \n",
       "92   (0.9, 12.732461725921944)  \n",
       "93   (0.9, 16.045710758062445)  \n",
       "94   (0.9, 20.221135493950054)  \n",
       "95   (0.9, 25.483091826220953)  \n",
       "96    (0.9, 32.11431767607212)  \n",
       "97    (0.9, 40.47112520069036)  \n",
       "98    (0.9, 51.00254632625551)  \n",
       "99    (0.9, 64.27446034333309)  \n",
       "100                (0.9, 81.0)  "
      ]
     },
     "execution_count": 6,
     "metadata": {},
     "output_type": "execute_result"
    }
   ],
   "source": [
    "print(dataSelected)\n",
    "data[data['is_selected'] == True]"
   ]
  },
  {
   "cell_type": "markdown",
   "metadata": {},
   "source": [
    "#### Constant Values For Uncertainity, Noise (F-value)\n"
   ]
  },
  {
   "cell_type": "code",
   "execution_count": 7,
   "metadata": {},
   "outputs": [],
   "source": [
    "uncertainity_value = 0.05\n",
    "f_value = 5\n",
    "\n",
    "#--- default values of noise and uncertainity\n",
    "d_uncertainity_value = 0.05\n",
    "d_f_value = 1"
   ]
  },
  {
   "cell_type": "markdown",
   "metadata": {},
   "source": [
    "#### Adding noise to the crossectional values\n",
    "\n",
    "we add noise repeatedly for a range of 1000 where we get an array of shape (1000,101)"
   ]
  },
  {
   "cell_type": "code",
   "execution_count": 12,
   "metadata": {},
   "outputs": [],
   "source": [
    "def addNoiseSelected(data, n_value, uncertainity_value, validation_column, data_column, num_features):\n",
    "    predList = []\n",
    "    #--- formula \n",
    "    #--- for the selected_data : xsec + Randomnumber * uncertainity * noise_value\n",
    "    for i in range(1000):\n",
    "        predList.append(np.where(data[validation_column]==True, #--- if data is selected\n",
    "                                 data[data_column] + (float(uncertainity_value) * np.random.randn(num_features,) * float(n_value)), #---- add value (noise * uncertainity * random number)\n",
    "                                 data[data_column] + (float(d_uncertainity_value) * np.random.randn(num_features,) * float(d_f_value)))) #--- else remain the data as it is\n",
    "        #predList.append(data + (alpha * np.random.rand(num_features,)))\n",
    "    predList = np.array(predList)\n",
    "    return predList\n"
   ]
  },
  {
   "cell_type": "code",
   "execution_count": 13,
   "metadata": {},
   "outputs": [],
   "source": [
    "def calculate_xsec(p_Data, n_Data):\n",
    "    return np.concatenate((p_Data, n_Data), axis = 1)"
   ]
  },
  {
   "cell_type": "code",
   "execution_count": 14,
   "metadata": {},
   "outputs": [
    {
     "name": "stdout",
     "output_type": "stream",
     "text": [
      "(1000, 202)\n"
     ]
    }
   ],
   "source": [
    "#--- if data is not selected we add noise to all the values\n",
    "if not dataSelected : \n",
    "    data['is_selected'] = True\n",
    "    print('--> no data selected so adding noise to every point')\n",
    "\n",
    "#--- get the list of data with added noise\n",
    "obs_p_noised = addNoiseSelected(data, f_value, uncertainity_value, 'is_selected', 'obs_p', len(data['obs_p']))\n",
    "obs_n_noised = addNoiseSelected(data, f_value, uncertainity_value, 'is_selected', 'obs_n', len(data['obs_n']))\n",
    "\n",
    "#--- concatenate the lists to get the cross-sectional Data\n",
    "xsec = calculate_xsec(obs_p_noised, obs_n_noised)\n",
    "print(xsec.shape)"
   ]
  },
  {
   "cell_type": "code",
   "execution_count": 15,
   "metadata": {},
   "outputs": [
    {
     "name": "stdout",
     "output_type": "stream",
     "text": [
      "[2.62739496 2.86254862 2.79843463 2.73972796 3.10878211 3.04933402\n",
      " 2.99471389 2.9442627  2.8974438  3.35659226 3.30344547 3.25444417\n",
      " 3.20903486 3.16676522 3.12726121 3.09021019 3.58513279 3.54019841\n",
      " 3.49861805 3.45995439 3.42384878 3.39000366 3.3581695  3.32813513\n",
      " 3.29972031 3.74999402 3.71536454 3.6831932  3.65316802 3.62503212\n",
      " 3.59857158 3.57360641 3.54998376 3.52757277 3.50626056 3.48594912\n",
      " 3.75762651 3.73516719 3.71420144 3.69454633 3.67605045 3.65858711\n",
      " 3.64204921 3.62634543 3.61139726 3.59713674 3.58350463 3.57044898\n",
      " 3.55792403 3.41611362 3.40619255 3.39685002 3.38802057 3.37964942\n",
      " 3.37169021 3.36410333 3.35685472 3.34991481 3.34325782 3.33686107\n",
      " 3.33070454 3.32477049 3.31904304 3.31350802 2.37396808 2.37246489\n",
      " 2.37097214 2.36949452 2.36803518 2.36659621 2.36517894 2.36378415\n",
      " 2.36241224 2.36106331 2.35973725 2.35843382 2.35715266 2.35589334\n",
      " 2.35465539 2.3534383  2.35224153 0.35610736 0.35435511 0.35270143\n",
      " 0.35113571 0.34964895 0.34823348 0.3468827  0.34559092 0.34435313\n",
      " 0.34316498 0.3420226  0.34092258 0.33986186 0.33883772 0.3378477\n",
      " 0.33688959 0.33596138 0.33506127 0.33418759 0.33333884]\n",
      "[ 2.65437555  2.90575082  2.75816108  2.70363354  3.13280753  3.13368087\n",
      "  2.95647634  2.94403799  2.91064065  3.37744856  3.29598417  3.21578761\n",
      "  3.09421593  3.1694675   3.09262509  3.15044158  3.65329534  3.48808769\n",
      "  3.44421489  3.54798478  3.41506187  3.40932142  3.33425363  3.27991044\n",
      "  3.25527789  3.78921168  3.73150302  3.65424184  3.65677336  3.63065527\n",
      "  3.56986699  3.53600843  3.61619072  3.59238069  3.50104454  3.58194483\n",
      "  3.74899954  3.76084554  3.60468495  3.79241998  3.62004257  3.66926926\n",
      "  3.54799444  3.50149032  3.62862735  3.56518509  3.54183746  3.50123181\n",
      "  3.63975591  3.35976867  3.41650882  3.39910729  3.26578828  3.47040291\n",
      "  3.39476062  3.23622111  3.31847163  3.44117829  3.41425257  3.31171326\n",
      "  3.23520971  3.28321186  3.37651073  3.37429356  2.28113268  2.48907965\n",
      "  2.38380637  2.37241236  2.27905098  2.38230803  2.31692762  2.36088854\n",
      "  2.36073995  2.38177597  2.33262361  2.39963824  2.33749714  2.27886373\n",
      "  2.37926868  2.37913062  2.36862879 -0.113539    0.77520176  0.24328145\n",
      "  0.08092344  0.44324621  0.17095935  0.09830995  0.352401    0.18262443\n",
      "  0.49627685  0.38050612  0.35469142  0.13923182  0.35615672  0.49093364\n",
      "  0.27810583  0.68472159  0.34282126  0.18783542  0.62385435]\n"
     ]
    }
   ],
   "source": [
    "print(data['obs_p'].to_numpy())\n",
    "print(obs_p_noised[0])"
   ]
  },
  {
   "cell_type": "code",
   "execution_count": 16,
   "metadata": {},
   "outputs": [
    {
     "name": "stdout",
     "output_type": "stream",
     "text": [
      "--> Before Adding Noise :  [0.33506127 0.33418759 0.33333884]\n",
      "--> After Adding Noise :  [0.34282126 0.18783542 0.62385435]\n"
     ]
    }
   ],
   "source": [
    "print('--> Before Adding Noise : ',data['obs_p'].to_numpy()[-3:])\n",
    "print('--> After Adding Noise : ',obs_p_noised[0][-3:])"
   ]
  },
  {
   "cell_type": "code",
   "execution_count": 17,
   "metadata": {},
   "outputs": [
    {
     "name": "stdout",
     "output_type": "stream",
     "text": [
      "--> Before Adding Noise :  [0.08825534 0.08804079 0.0878322 ]\n",
      "--> After Adding Noise :  [0.21578853 0.16168074 0.1892816 ]\n"
     ]
    }
   ],
   "source": [
    "print('--> Before Adding Noise : ',data['obs_n'].to_numpy()[-3:])\n",
    "print('--> After Adding Noise : ',obs_n_noised[0][-3:])"
   ]
  },
  {
   "cell_type": "markdown",
   "metadata": {},
   "source": [
    "#### Running the model to generate the parameters"
   ]
  },
  {
   "cell_type": "code",
   "execution_count": 18,
   "metadata": {},
   "outputs": [],
   "source": [
    "def backwardPredict(fname, model, xsec_noised):\n",
    "    # load xsec file\n",
    "    #xsec = calculate_xsec(dataframe)\n",
    "    ml = load_model('mldata/%s.h5'%model) \n",
    "\n",
    "    # make the prediction\n",
    "    pred = ml.predict(xsec_noised)\n",
    "    #pred = par_scaler.inverse_transform(pred)\n",
    "    np.save('data/%s-par.npy'%fname, pred)\n",
    "    return pred"
   ]
  },
  {
   "cell_type": "code",
   "execution_count": 19,
   "metadata": {},
   "outputs": [
    {
     "name": "stdout",
     "output_type": "stream",
     "text": [
      "WARNING:tensorflow:From C:\\Users\\heram\\AppData\\Local\\Continuum\\anaconda3\\lib\\site-packages\\tensorflow_core\\python\\ops\\resource_variable_ops.py:1630: calling BaseResourceVariable.__init__ (from tensorflow.python.ops.resource_variable_ops) with constraint is deprecated and will be removed in a future version.\n",
      "Instructions for updating:\n",
      "If using Keras pass *_constraint arguments to layers.\n"
     ]
    }
   ],
   "source": [
    "fname = 'test_backward'\n",
    "model_select = 'my_model'\n",
    "nn_pred = backwardPredict(fname, model_select, xsec)"
   ]
  },
  {
   "cell_type": "code",
   "execution_count": 20,
   "metadata": {},
   "outputs": [
    {
     "data": {
      "text/plain": [
       "(1000, 10)"
      ]
     },
     "execution_count": 20,
     "metadata": {},
     "output_type": "execute_result"
    }
   ],
   "source": [
    "nn_pred.shape"
   ]
  },
  {
   "cell_type": "markdown",
   "metadata": {},
   "source": [
    "#### Calculate pdfs from generated parmaeters"
   ]
  },
  {
   "cell_type": "code",
   "execution_count": 21,
   "metadata": {},
   "outputs": [],
   "source": [
    "#--- need to know the significance of each term\n",
    "Q02=4.0\n",
    "lam2=0.2**2\n",
    "pu=np.ones(10)\n",
    "pd=np.ones(10)\n",
    "pu[5:]*=0.1\n",
    "pd[5:]*=0.1"
   ]
  },
  {
   "cell_type": "code",
   "execution_count": 22,
   "metadata": {},
   "outputs": [],
   "source": [
    "def set_params(par):\n",
    "    pu[:5]=par[:5]\n",
    "    pd[:5]=par[5:]\n",
    "  \n",
    "def get_s(Q2):\n",
    "    return np.log(np.log(Q2/lam2)/np.log(Q02/lam2))\n",
    "\n",
    "def _get_shape(x,p):\n",
    "    return p[0]*x**p[1]*(1-x)**p[2]*(1+p[3]*x+p[4]*x**2)\n",
    "    \n",
    "def get_shape(x,p,s):\n",
    "    N=p[0] + p[5] * s\n",
    "    a=p[1] + p[6] * s\n",
    "    b=p[2] + p[7] * s\n",
    "    c=p[3] + p[8] * s\n",
    "    d=p[4] + p[9] * s\n",
    "    return _get_shape(x,[N,a,b,c,d])\n",
    "\n",
    "def get_pdf(x,Q2,flav):\n",
    "    s=get_s(Q2)\n",
    "    if flav=='u': return get_shape(x,pu,s)\n",
    "    if flav=='d': return get_shape(x,pd,s)\n",
    "    \n",
    "def calculate_pdf(data_par):\n",
    "    x = np.linspace(0.01,0.99,100)\n",
    "    Q2=4.0\n",
    "    u=[]\n",
    "    d=[]\n",
    "    for i in range(data_par.shape[0]):\n",
    "        set_params(data_par[i])\n",
    "        u.append(get_pdf(x,Q2,'u'))\n",
    "        d.append(get_pdf(x,Q2,'d'))\n",
    "    u = np.array(u)\n",
    "    d = np.array(d)\n",
    "    print('--> (RUNLOG) - Up data shape : ',u.shape)\n",
    "    print('--> (RUNLOG) - Down data Shape : ',d.shape)\n",
    "    return {'u' : u, 'd' : d, 'x-axis' : x}"
   ]
  },
  {
   "cell_type": "code",
   "execution_count": 23,
   "metadata": {},
   "outputs": [
    {
     "name": "stdout",
     "output_type": "stream",
     "text": [
      "--> (RUNLOG) - Up data shape :  (1000, 100)\n",
      "--> (RUNLOG) - Down data Shape :  (1000, 100)\n"
     ]
    }
   ],
   "source": [
    "pdf_dict = calculate_pdf(nn_pred)"
   ]
  },
  {
   "cell_type": "code",
   "execution_count": 25,
   "metadata": {},
   "outputs": [
    {
     "data": {
      "application/vnd.plotly.v1+json": {
       "config": {
        "plotlyServerURL": "https://plot.ly"
       },
       "data": [
        {
         "error_y": {
          "array": [
           1.3439911274576861,
           0.9445162557694464,
           0.760781487640323,
           0.6496981689638446,
           0.5735130226284044,
           0.5172645772788137,
           0.47366676557199466,
           0.4386873533156106,
           0.40988986844105324,
           0.385704251374094,
           0.365067750059231,
           0.34723253368142837,
           0.3316556081377461,
           0.3179324015401986,
           0.30575491338166044,
           0.2948843627195031,
           0.285132748745763,
           0.27635008259238947,
           0.26841533740668866,
           0.2612299006626037,
           0.2547127494526215,
           0.2487968365651217,
           0.2434263430035023,
           0.23855456072911146,
           0.23414224062057132,
           0.23015628849003056,
           0.22656872473925901,
           0.22335584602203667,
           0.22049754337861618,
           0.21797674284648874,
           0.21577894292953667,
           0.2138918294631647,
           0.21230495298382346,
           0.21100945713676036,
           0.2099978492423272,
           0.20926380610535328,
           0.20880200964904314,
           0.20860800809720126,
           0.2086780992995762,
           0.2090092334572172,
           0.20959893300600052,
           0.21044522779438082,
           0.2115466039758411,
           0.21290196525160393,
           0.21451060526438276,
           0.21637219007529282,
           0.21848674976597543,
           0.22085467830660452,
           0.22347674092508898,
           0.22635408830896953,
           0.22948827707278918,
           0.23288129603245325,
           0.2365355979454806,
           0.2404541365026964,
           0.2446404084931925,
           0.24909850121058896,
           0.2538331453255773,
           0.25884977361867795,
           0.26415458615044835,
           0.26975462264729955,
           0.2756578431044189,
           0.2818732178594739,
           0.2884108286801928,
           0.2952819827466226,
           0.30249934180891297,
           0.31007706928215273,
           0.3180309986244467,
           0.3263788270636112,
           0.3351403396312755,
           0.3443376695831565,
           0.3539956027003682,
           0.3641419347721046,
           0.37480789388108676,
           0.386028642122533,
           0.3978438753238335,
           0.41029854452928843,
           0.4234437299443541,
           0.4373377073731219,
           0.4520472599131451,
           0.4676493052398268,
           0.4842329333828362,
           0.5019019847638486,
           0.5207783485356645,
           0.5410062350170799,
           0.5627577863249585,
           0.5862405578273525,
           0.6117076666785171,
           0.6394718272374811,
           0.6699251943347795,
           0.7035681364801181,
           0.741052201214992,
           0.7832465264642098,
           0.8313448096378385,
           0.8870464497148471,
           0.9528829995389444,
           1.03285533046527,
           1.1338167098783651,
           1.2689612076069543,
           1.4689255760090578,
           1.836277443064379
          ],
          "color": "orange",
          "type": "data",
          "visible": true
         },
         "name": "PDF UP",
         "showlegend": true,
         "type": "scattergl",
         "x": [
          0.01,
          0.0198989898989899,
          0.029797979797979796,
          0.039696969696969696,
          0.049595959595959596,
          0.059494949494949496,
          0.06939393939393938,
          0.07929292929292929,
          0.08919191919191918,
          0.09909090909090908,
          0.10898989898989898,
          0.11888888888888888,
          0.12878787878787878,
          0.1386868686868687,
          0.1485858585858586,
          0.15848484848484848,
          0.16838383838383839,
          0.1782828282828283,
          0.18818181818181817,
          0.19808080808080808,
          0.207979797979798,
          0.21787878787878787,
          0.22777777777777777,
          0.23767676767676768,
          0.24757575757575756,
          0.25747474747474747,
          0.2673737373737374,
          0.2772727272727273,
          0.2871717171717172,
          0.29707070707070704,
          0.30696969696969695,
          0.31686868686868686,
          0.32676767676767676,
          0.33666666666666667,
          0.3465656565656566,
          0.3564646464646465,
          0.36636363636363634,
          0.37626262626262624,
          0.38616161616161615,
          0.39606060606060606,
          0.40595959595959596,
          0.41585858585858587,
          0.4257575757575757,
          0.43565656565656563,
          0.44555555555555554,
          0.45545454545454545,
          0.46535353535353535,
          0.47525252525252526,
          0.4851515151515151,
          0.495050505050505,
          0.5049494949494949,
          0.5148484848484849,
          0.5247474747474747,
          0.5346464646464646,
          0.5445454545454546,
          0.5544444444444444,
          0.5643434343434344,
          0.5742424242424242,
          0.5841414141414141,
          0.594040404040404,
          0.6039393939393939,
          0.6138383838383838,
          0.6237373737373737,
          0.6336363636363637,
          0.6435353535353535,
          0.6534343434343434,
          0.6633333333333333,
          0.6732323232323232,
          0.6831313131313131,
          0.693030303030303,
          0.702929292929293,
          0.7128282828282828,
          0.7227272727272727,
          0.7326262626262626,
          0.7425252525252525,
          0.7524242424242424,
          0.7623232323232323,
          0.7722222222222221,
          0.7821212121212121,
          0.792020202020202,
          0.8019191919191919,
          0.8118181818181818,
          0.8217171717171717,
          0.8316161616161616,
          0.8415151515151514,
          0.8514141414141414,
          0.8613131313131313,
          0.8712121212121212,
          0.8811111111111111,
          0.891010101010101,
          0.9009090909090909,
          0.9108080808080807,
          0.9207070707070707,
          0.9306060606060605,
          0.9405050505050505,
          0.9504040404040404,
          0.9603030303030302,
          0.9702020202020202,
          0.98010101010101,
          0.99
         ],
         "y": [
          1,
          1,
          1,
          1,
          1,
          1,
          1,
          1,
          1,
          1,
          1,
          1,
          1,
          1,
          1,
          1,
          1,
          1,
          1,
          1,
          1,
          1,
          1,
          1,
          1,
          1,
          1,
          1,
          1,
          1,
          1,
          1,
          1,
          1,
          1,
          1,
          1,
          1,
          1,
          1,
          1,
          1,
          1,
          1,
          1,
          1,
          1,
          1,
          1,
          1,
          1,
          1,
          1,
          1,
          1,
          1,
          1,
          1,
          1,
          1,
          1,
          1,
          1,
          1,
          1,
          1,
          1,
          1,
          1,
          1,
          1,
          1,
          1,
          1,
          1,
          1,
          1,
          1,
          1,
          1,
          1,
          1,
          1,
          1,
          1,
          1,
          1,
          1,
          1,
          1,
          1,
          1,
          1,
          1,
          1,
          1,
          1,
          1,
          1,
          1
         ]
        }
       ],
       "layout": {
        "template": {
         "data": {
          "bar": [
           {
            "error_x": {
             "color": "#2a3f5f"
            },
            "error_y": {
             "color": "#2a3f5f"
            },
            "marker": {
             "line": {
              "color": "#E5ECF6",
              "width": 0.5
             }
            },
            "type": "bar"
           }
          ],
          "barpolar": [
           {
            "marker": {
             "line": {
              "color": "#E5ECF6",
              "width": 0.5
             }
            },
            "type": "barpolar"
           }
          ],
          "carpet": [
           {
            "aaxis": {
             "endlinecolor": "#2a3f5f",
             "gridcolor": "white",
             "linecolor": "white",
             "minorgridcolor": "white",
             "startlinecolor": "#2a3f5f"
            },
            "baxis": {
             "endlinecolor": "#2a3f5f",
             "gridcolor": "white",
             "linecolor": "white",
             "minorgridcolor": "white",
             "startlinecolor": "#2a3f5f"
            },
            "type": "carpet"
           }
          ],
          "choropleth": [
           {
            "colorbar": {
             "outlinewidth": 0,
             "ticks": ""
            },
            "type": "choropleth"
           }
          ],
          "contour": [
           {
            "colorbar": {
             "outlinewidth": 0,
             "ticks": ""
            },
            "colorscale": [
             [
              0,
              "#0d0887"
             ],
             [
              0.1111111111111111,
              "#46039f"
             ],
             [
              0.2222222222222222,
              "#7201a8"
             ],
             [
              0.3333333333333333,
              "#9c179e"
             ],
             [
              0.4444444444444444,
              "#bd3786"
             ],
             [
              0.5555555555555556,
              "#d8576b"
             ],
             [
              0.6666666666666666,
              "#ed7953"
             ],
             [
              0.7777777777777778,
              "#fb9f3a"
             ],
             [
              0.8888888888888888,
              "#fdca26"
             ],
             [
              1,
              "#f0f921"
             ]
            ],
            "type": "contour"
           }
          ],
          "contourcarpet": [
           {
            "colorbar": {
             "outlinewidth": 0,
             "ticks": ""
            },
            "type": "contourcarpet"
           }
          ],
          "heatmap": [
           {
            "colorbar": {
             "outlinewidth": 0,
             "ticks": ""
            },
            "colorscale": [
             [
              0,
              "#0d0887"
             ],
             [
              0.1111111111111111,
              "#46039f"
             ],
             [
              0.2222222222222222,
              "#7201a8"
             ],
             [
              0.3333333333333333,
              "#9c179e"
             ],
             [
              0.4444444444444444,
              "#bd3786"
             ],
             [
              0.5555555555555556,
              "#d8576b"
             ],
             [
              0.6666666666666666,
              "#ed7953"
             ],
             [
              0.7777777777777778,
              "#fb9f3a"
             ],
             [
              0.8888888888888888,
              "#fdca26"
             ],
             [
              1,
              "#f0f921"
             ]
            ],
            "type": "heatmap"
           }
          ],
          "heatmapgl": [
           {
            "colorbar": {
             "outlinewidth": 0,
             "ticks": ""
            },
            "colorscale": [
             [
              0,
              "#0d0887"
             ],
             [
              0.1111111111111111,
              "#46039f"
             ],
             [
              0.2222222222222222,
              "#7201a8"
             ],
             [
              0.3333333333333333,
              "#9c179e"
             ],
             [
              0.4444444444444444,
              "#bd3786"
             ],
             [
              0.5555555555555556,
              "#d8576b"
             ],
             [
              0.6666666666666666,
              "#ed7953"
             ],
             [
              0.7777777777777778,
              "#fb9f3a"
             ],
             [
              0.8888888888888888,
              "#fdca26"
             ],
             [
              1,
              "#f0f921"
             ]
            ],
            "type": "heatmapgl"
           }
          ],
          "histogram": [
           {
            "marker": {
             "colorbar": {
              "outlinewidth": 0,
              "ticks": ""
             }
            },
            "type": "histogram"
           }
          ],
          "histogram2d": [
           {
            "colorbar": {
             "outlinewidth": 0,
             "ticks": ""
            },
            "colorscale": [
             [
              0,
              "#0d0887"
             ],
             [
              0.1111111111111111,
              "#46039f"
             ],
             [
              0.2222222222222222,
              "#7201a8"
             ],
             [
              0.3333333333333333,
              "#9c179e"
             ],
             [
              0.4444444444444444,
              "#bd3786"
             ],
             [
              0.5555555555555556,
              "#d8576b"
             ],
             [
              0.6666666666666666,
              "#ed7953"
             ],
             [
              0.7777777777777778,
              "#fb9f3a"
             ],
             [
              0.8888888888888888,
              "#fdca26"
             ],
             [
              1,
              "#f0f921"
             ]
            ],
            "type": "histogram2d"
           }
          ],
          "histogram2dcontour": [
           {
            "colorbar": {
             "outlinewidth": 0,
             "ticks": ""
            },
            "colorscale": [
             [
              0,
              "#0d0887"
             ],
             [
              0.1111111111111111,
              "#46039f"
             ],
             [
              0.2222222222222222,
              "#7201a8"
             ],
             [
              0.3333333333333333,
              "#9c179e"
             ],
             [
              0.4444444444444444,
              "#bd3786"
             ],
             [
              0.5555555555555556,
              "#d8576b"
             ],
             [
              0.6666666666666666,
              "#ed7953"
             ],
             [
              0.7777777777777778,
              "#fb9f3a"
             ],
             [
              0.8888888888888888,
              "#fdca26"
             ],
             [
              1,
              "#f0f921"
             ]
            ],
            "type": "histogram2dcontour"
           }
          ],
          "mesh3d": [
           {
            "colorbar": {
             "outlinewidth": 0,
             "ticks": ""
            },
            "type": "mesh3d"
           }
          ],
          "parcoords": [
           {
            "line": {
             "colorbar": {
              "outlinewidth": 0,
              "ticks": ""
             }
            },
            "type": "parcoords"
           }
          ],
          "pie": [
           {
            "automargin": true,
            "type": "pie"
           }
          ],
          "scatter": [
           {
            "marker": {
             "colorbar": {
              "outlinewidth": 0,
              "ticks": ""
             }
            },
            "type": "scatter"
           }
          ],
          "scatter3d": [
           {
            "line": {
             "colorbar": {
              "outlinewidth": 0,
              "ticks": ""
             }
            },
            "marker": {
             "colorbar": {
              "outlinewidth": 0,
              "ticks": ""
             }
            },
            "type": "scatter3d"
           }
          ],
          "scattercarpet": [
           {
            "marker": {
             "colorbar": {
              "outlinewidth": 0,
              "ticks": ""
             }
            },
            "type": "scattercarpet"
           }
          ],
          "scattergeo": [
           {
            "marker": {
             "colorbar": {
              "outlinewidth": 0,
              "ticks": ""
             }
            },
            "type": "scattergeo"
           }
          ],
          "scattergl": [
           {
            "marker": {
             "colorbar": {
              "outlinewidth": 0,
              "ticks": ""
             }
            },
            "type": "scattergl"
           }
          ],
          "scattermapbox": [
           {
            "marker": {
             "colorbar": {
              "outlinewidth": 0,
              "ticks": ""
             }
            },
            "type": "scattermapbox"
           }
          ],
          "scatterpolar": [
           {
            "marker": {
             "colorbar": {
              "outlinewidth": 0,
              "ticks": ""
             }
            },
            "type": "scatterpolar"
           }
          ],
          "scatterpolargl": [
           {
            "marker": {
             "colorbar": {
              "outlinewidth": 0,
              "ticks": ""
             }
            },
            "type": "scatterpolargl"
           }
          ],
          "scatterternary": [
           {
            "marker": {
             "colorbar": {
              "outlinewidth": 0,
              "ticks": ""
             }
            },
            "type": "scatterternary"
           }
          ],
          "surface": [
           {
            "colorbar": {
             "outlinewidth": 0,
             "ticks": ""
            },
            "colorscale": [
             [
              0,
              "#0d0887"
             ],
             [
              0.1111111111111111,
              "#46039f"
             ],
             [
              0.2222222222222222,
              "#7201a8"
             ],
             [
              0.3333333333333333,
              "#9c179e"
             ],
             [
              0.4444444444444444,
              "#bd3786"
             ],
             [
              0.5555555555555556,
              "#d8576b"
             ],
             [
              0.6666666666666666,
              "#ed7953"
             ],
             [
              0.7777777777777778,
              "#fb9f3a"
             ],
             [
              0.8888888888888888,
              "#fdca26"
             ],
             [
              1,
              "#f0f921"
             ]
            ],
            "type": "surface"
           }
          ],
          "table": [
           {
            "cells": {
             "fill": {
              "color": "#EBF0F8"
             },
             "line": {
              "color": "white"
             }
            },
            "header": {
             "fill": {
              "color": "#C8D4E3"
             },
             "line": {
              "color": "white"
             }
            },
            "type": "table"
           }
          ]
         },
         "layout": {
          "annotationdefaults": {
           "arrowcolor": "#2a3f5f",
           "arrowhead": 0,
           "arrowwidth": 1
          },
          "coloraxis": {
           "colorbar": {
            "outlinewidth": 0,
            "ticks": ""
           }
          },
          "colorscale": {
           "diverging": [
            [
             0,
             "#8e0152"
            ],
            [
             0.1,
             "#c51b7d"
            ],
            [
             0.2,
             "#de77ae"
            ],
            [
             0.3,
             "#f1b6da"
            ],
            [
             0.4,
             "#fde0ef"
            ],
            [
             0.5,
             "#f7f7f7"
            ],
            [
             0.6,
             "#e6f5d0"
            ],
            [
             0.7,
             "#b8e186"
            ],
            [
             0.8,
             "#7fbc41"
            ],
            [
             0.9,
             "#4d9221"
            ],
            [
             1,
             "#276419"
            ]
           ],
           "sequential": [
            [
             0,
             "#0d0887"
            ],
            [
             0.1111111111111111,
             "#46039f"
            ],
            [
             0.2222222222222222,
             "#7201a8"
            ],
            [
             0.3333333333333333,
             "#9c179e"
            ],
            [
             0.4444444444444444,
             "#bd3786"
            ],
            [
             0.5555555555555556,
             "#d8576b"
            ],
            [
             0.6666666666666666,
             "#ed7953"
            ],
            [
             0.7777777777777778,
             "#fb9f3a"
            ],
            [
             0.8888888888888888,
             "#fdca26"
            ],
            [
             1,
             "#f0f921"
            ]
           ],
           "sequentialminus": [
            [
             0,
             "#0d0887"
            ],
            [
             0.1111111111111111,
             "#46039f"
            ],
            [
             0.2222222222222222,
             "#7201a8"
            ],
            [
             0.3333333333333333,
             "#9c179e"
            ],
            [
             0.4444444444444444,
             "#bd3786"
            ],
            [
             0.5555555555555556,
             "#d8576b"
            ],
            [
             0.6666666666666666,
             "#ed7953"
            ],
            [
             0.7777777777777778,
             "#fb9f3a"
            ],
            [
             0.8888888888888888,
             "#fdca26"
            ],
            [
             1,
             "#f0f921"
            ]
           ]
          },
          "colorway": [
           "#636efa",
           "#EF553B",
           "#00cc96",
           "#ab63fa",
           "#FFA15A",
           "#19d3f3",
           "#FF6692",
           "#B6E880",
           "#FF97FF",
           "#FECB52"
          ],
          "font": {
           "color": "#2a3f5f"
          },
          "geo": {
           "bgcolor": "white",
           "lakecolor": "white",
           "landcolor": "#E5ECF6",
           "showlakes": true,
           "showland": true,
           "subunitcolor": "white"
          },
          "hoverlabel": {
           "align": "left"
          },
          "hovermode": "closest",
          "mapbox": {
           "style": "light"
          },
          "paper_bgcolor": "white",
          "plot_bgcolor": "#E5ECF6",
          "polar": {
           "angularaxis": {
            "gridcolor": "white",
            "linecolor": "white",
            "ticks": ""
           },
           "bgcolor": "#E5ECF6",
           "radialaxis": {
            "gridcolor": "white",
            "linecolor": "white",
            "ticks": ""
           }
          },
          "scene": {
           "xaxis": {
            "backgroundcolor": "#E5ECF6",
            "gridcolor": "white",
            "gridwidth": 2,
            "linecolor": "white",
            "showbackground": true,
            "ticks": "",
            "zerolinecolor": "white"
           },
           "yaxis": {
            "backgroundcolor": "#E5ECF6",
            "gridcolor": "white",
            "gridwidth": 2,
            "linecolor": "white",
            "showbackground": true,
            "ticks": "",
            "zerolinecolor": "white"
           },
           "zaxis": {
            "backgroundcolor": "#E5ECF6",
            "gridcolor": "white",
            "gridwidth": 2,
            "linecolor": "white",
            "showbackground": true,
            "ticks": "",
            "zerolinecolor": "white"
           }
          },
          "shapedefaults": {
           "line": {
            "color": "#2a3f5f"
           }
          },
          "ternary": {
           "aaxis": {
            "gridcolor": "white",
            "linecolor": "white",
            "ticks": ""
           },
           "baxis": {
            "gridcolor": "white",
            "linecolor": "white",
            "ticks": ""
           },
           "bgcolor": "#E5ECF6",
           "caxis": {
            "gridcolor": "white",
            "linecolor": "white",
            "ticks": ""
           }
          },
          "title": {
           "x": 0.05
          },
          "xaxis": {
           "automargin": true,
           "gridcolor": "white",
           "linecolor": "white",
           "ticks": "",
           "title": {
            "standoff": 15
           },
           "zerolinecolor": "white",
           "zerolinewidth": 2
          },
          "yaxis": {
           "automargin": true,
           "gridcolor": "white",
           "linecolor": "white",
           "ticks": "",
           "title": {
            "standoff": 15
           },
           "zerolinecolor": "white",
           "zerolinewidth": 2
          }
         }
        }
       }
      },
      "text/html": [
       "<div>\n",
       "        \n",
       "        \n",
       "            <div id=\"8ccb4eeb-b5f6-4bae-9828-c852d2a39c31\" class=\"plotly-graph-div\" style=\"height:525px; width:100%;\"></div>\n",
       "            <script type=\"text/javascript\">\n",
       "                require([\"plotly\"], function(Plotly) {\n",
       "                    window.PLOTLYENV=window.PLOTLYENV || {};\n",
       "                    \n",
       "                if (document.getElementById(\"8ccb4eeb-b5f6-4bae-9828-c852d2a39c31\")) {\n",
       "                    Plotly.newPlot(\n",
       "                        '8ccb4eeb-b5f6-4bae-9828-c852d2a39c31',\n",
       "                        [{\"error_y\": {\"array\": [1.3439911274576861, 0.9445162557694464, 0.760781487640323, 0.6496981689638446, 0.5735130226284044, 0.5172645772788137, 0.47366676557199466, 0.4386873533156106, 0.40988986844105324, 0.385704251374094, 0.365067750059231, 0.34723253368142837, 0.3316556081377461, 0.3179324015401986, 0.30575491338166044, 0.2948843627195031, 0.285132748745763, 0.27635008259238947, 0.26841533740668866, 0.2612299006626037, 0.2547127494526215, 0.2487968365651217, 0.2434263430035023, 0.23855456072911146, 0.23414224062057132, 0.23015628849003056, 0.22656872473925901, 0.22335584602203667, 0.22049754337861618, 0.21797674284648874, 0.21577894292953667, 0.2138918294631647, 0.21230495298382346, 0.21100945713676036, 0.2099978492423272, 0.20926380610535328, 0.20880200964904314, 0.20860800809720126, 0.2086780992995762, 0.2090092334572172, 0.20959893300600052, 0.21044522779438082, 0.2115466039758411, 0.21290196525160393, 0.21451060526438276, 0.21637219007529282, 0.21848674976597543, 0.22085467830660452, 0.22347674092508898, 0.22635408830896953, 0.22948827707278918, 0.23288129603245325, 0.2365355979454806, 0.2404541365026964, 0.2446404084931925, 0.24909850121058896, 0.2538331453255773, 0.25884977361867795, 0.26415458615044835, 0.26975462264729955, 0.2756578431044189, 0.2818732178594739, 0.2884108286801928, 0.2952819827466226, 0.30249934180891297, 0.31007706928215273, 0.3180309986244467, 0.3263788270636112, 0.3351403396312755, 0.3443376695831565, 0.3539956027003682, 0.3641419347721046, 0.37480789388108676, 0.386028642122533, 0.3978438753238335, 0.41029854452928843, 0.4234437299443541, 0.4373377073731219, 0.4520472599131451, 0.4676493052398268, 0.4842329333828362, 0.5019019847638486, 0.5207783485356645, 0.5410062350170799, 0.5627577863249585, 0.5862405578273525, 0.6117076666785171, 0.6394718272374811, 0.6699251943347795, 0.7035681364801181, 0.741052201214992, 0.7832465264642098, 0.8313448096378385, 0.8870464497148471, 0.9528829995389444, 1.03285533046527, 1.1338167098783651, 1.2689612076069543, 1.4689255760090578, 1.836277443064379], \"color\": \"orange\", \"type\": \"data\", \"visible\": true}, \"name\": \"PDF UP\", \"showlegend\": true, \"type\": \"scattergl\", \"x\": [0.01, 0.0198989898989899, 0.029797979797979796, 0.039696969696969696, 0.049595959595959596, 0.059494949494949496, 0.06939393939393938, 0.07929292929292929, 0.08919191919191918, 0.09909090909090908, 0.10898989898989898, 0.11888888888888888, 0.12878787878787878, 0.1386868686868687, 0.1485858585858586, 0.15848484848484848, 0.16838383838383839, 0.1782828282828283, 0.18818181818181817, 0.19808080808080808, 0.207979797979798, 0.21787878787878787, 0.22777777777777777, 0.23767676767676768, 0.24757575757575756, 0.25747474747474747, 0.2673737373737374, 0.2772727272727273, 0.2871717171717172, 0.29707070707070704, 0.30696969696969695, 0.31686868686868686, 0.32676767676767676, 0.33666666666666667, 0.3465656565656566, 0.3564646464646465, 0.36636363636363634, 0.37626262626262624, 0.38616161616161615, 0.39606060606060606, 0.40595959595959596, 0.41585858585858587, 0.4257575757575757, 0.43565656565656563, 0.44555555555555554, 0.45545454545454545, 0.46535353535353535, 0.47525252525252526, 0.4851515151515151, 0.495050505050505, 0.5049494949494949, 0.5148484848484849, 0.5247474747474747, 0.5346464646464646, 0.5445454545454546, 0.5544444444444444, 0.5643434343434344, 0.5742424242424242, 0.5841414141414141, 0.594040404040404, 0.6039393939393939, 0.6138383838383838, 0.6237373737373737, 0.6336363636363637, 0.6435353535353535, 0.6534343434343434, 0.6633333333333333, 0.6732323232323232, 0.6831313131313131, 0.693030303030303, 0.702929292929293, 0.7128282828282828, 0.7227272727272727, 0.7326262626262626, 0.7425252525252525, 0.7524242424242424, 0.7623232323232323, 0.7722222222222221, 0.7821212121212121, 0.792020202020202, 0.8019191919191919, 0.8118181818181818, 0.8217171717171717, 0.8316161616161616, 0.8415151515151514, 0.8514141414141414, 0.8613131313131313, 0.8712121212121212, 0.8811111111111111, 0.891010101010101, 0.9009090909090909, 0.9108080808080807, 0.9207070707070707, 0.9306060606060605, 0.9405050505050505, 0.9504040404040404, 0.9603030303030302, 0.9702020202020202, 0.98010101010101, 0.99], \"y\": [1.0, 1.0, 1.0, 1.0, 1.0, 1.0, 1.0, 1.0, 1.0, 1.0, 1.0, 1.0, 1.0, 1.0, 1.0, 1.0, 1.0, 1.0, 1.0, 1.0, 1.0, 1.0, 1.0, 1.0, 1.0, 1.0, 1.0, 1.0, 1.0, 1.0, 1.0, 1.0, 1.0, 1.0, 1.0, 1.0, 1.0, 1.0, 1.0, 1.0, 1.0, 1.0, 1.0, 1.0, 1.0, 1.0, 1.0, 1.0, 1.0, 1.0, 1.0, 1.0, 1.0, 1.0, 1.0, 1.0, 1.0, 1.0, 1.0, 1.0, 1.0, 1.0, 1.0, 1.0, 1.0, 1.0, 1.0, 1.0, 1.0, 1.0, 1.0, 1.0, 1.0, 1.0, 1.0, 1.0, 1.0, 1.0, 1.0, 1.0, 1.0, 1.0, 1.0, 1.0, 1.0, 1.0, 1.0, 1.0, 1.0, 1.0, 1.0, 1.0, 1.0, 1.0, 1.0, 1.0, 1.0, 1.0, 1.0, 1.0]}],\n",
       "                        {\"template\": {\"data\": {\"bar\": [{\"error_x\": {\"color\": \"#2a3f5f\"}, \"error_y\": {\"color\": \"#2a3f5f\"}, \"marker\": {\"line\": {\"color\": \"#E5ECF6\", \"width\": 0.5}}, \"type\": \"bar\"}], \"barpolar\": [{\"marker\": {\"line\": {\"color\": \"#E5ECF6\", \"width\": 0.5}}, \"type\": \"barpolar\"}], \"carpet\": [{\"aaxis\": {\"endlinecolor\": \"#2a3f5f\", \"gridcolor\": \"white\", \"linecolor\": \"white\", \"minorgridcolor\": \"white\", \"startlinecolor\": \"#2a3f5f\"}, \"baxis\": {\"endlinecolor\": \"#2a3f5f\", \"gridcolor\": \"white\", \"linecolor\": \"white\", \"minorgridcolor\": \"white\", \"startlinecolor\": \"#2a3f5f\"}, \"type\": \"carpet\"}], \"choropleth\": [{\"colorbar\": {\"outlinewidth\": 0, \"ticks\": \"\"}, \"type\": \"choropleth\"}], \"contour\": [{\"colorbar\": {\"outlinewidth\": 0, \"ticks\": \"\"}, \"colorscale\": [[0.0, \"#0d0887\"], [0.1111111111111111, \"#46039f\"], [0.2222222222222222, \"#7201a8\"], [0.3333333333333333, \"#9c179e\"], [0.4444444444444444, \"#bd3786\"], [0.5555555555555556, \"#d8576b\"], [0.6666666666666666, \"#ed7953\"], [0.7777777777777778, \"#fb9f3a\"], [0.8888888888888888, \"#fdca26\"], [1.0, \"#f0f921\"]], \"type\": \"contour\"}], \"contourcarpet\": [{\"colorbar\": {\"outlinewidth\": 0, \"ticks\": \"\"}, \"type\": \"contourcarpet\"}], \"heatmap\": [{\"colorbar\": {\"outlinewidth\": 0, \"ticks\": \"\"}, \"colorscale\": [[0.0, \"#0d0887\"], [0.1111111111111111, \"#46039f\"], [0.2222222222222222, \"#7201a8\"], [0.3333333333333333, \"#9c179e\"], [0.4444444444444444, \"#bd3786\"], [0.5555555555555556, \"#d8576b\"], [0.6666666666666666, \"#ed7953\"], [0.7777777777777778, \"#fb9f3a\"], [0.8888888888888888, \"#fdca26\"], [1.0, \"#f0f921\"]], \"type\": \"heatmap\"}], \"heatmapgl\": [{\"colorbar\": {\"outlinewidth\": 0, \"ticks\": \"\"}, \"colorscale\": [[0.0, \"#0d0887\"], [0.1111111111111111, \"#46039f\"], [0.2222222222222222, \"#7201a8\"], [0.3333333333333333, \"#9c179e\"], [0.4444444444444444, \"#bd3786\"], [0.5555555555555556, \"#d8576b\"], [0.6666666666666666, \"#ed7953\"], [0.7777777777777778, \"#fb9f3a\"], [0.8888888888888888, \"#fdca26\"], [1.0, \"#f0f921\"]], \"type\": \"heatmapgl\"}], \"histogram\": [{\"marker\": {\"colorbar\": {\"outlinewidth\": 0, \"ticks\": \"\"}}, \"type\": \"histogram\"}], \"histogram2d\": [{\"colorbar\": {\"outlinewidth\": 0, \"ticks\": \"\"}, \"colorscale\": [[0.0, \"#0d0887\"], [0.1111111111111111, \"#46039f\"], [0.2222222222222222, \"#7201a8\"], [0.3333333333333333, \"#9c179e\"], [0.4444444444444444, \"#bd3786\"], [0.5555555555555556, \"#d8576b\"], [0.6666666666666666, \"#ed7953\"], [0.7777777777777778, \"#fb9f3a\"], [0.8888888888888888, \"#fdca26\"], [1.0, \"#f0f921\"]], \"type\": \"histogram2d\"}], \"histogram2dcontour\": [{\"colorbar\": {\"outlinewidth\": 0, \"ticks\": \"\"}, \"colorscale\": [[0.0, \"#0d0887\"], [0.1111111111111111, \"#46039f\"], [0.2222222222222222, \"#7201a8\"], [0.3333333333333333, \"#9c179e\"], [0.4444444444444444, \"#bd3786\"], [0.5555555555555556, \"#d8576b\"], [0.6666666666666666, \"#ed7953\"], [0.7777777777777778, \"#fb9f3a\"], [0.8888888888888888, \"#fdca26\"], [1.0, \"#f0f921\"]], \"type\": \"histogram2dcontour\"}], \"mesh3d\": [{\"colorbar\": {\"outlinewidth\": 0, \"ticks\": \"\"}, \"type\": \"mesh3d\"}], \"parcoords\": [{\"line\": {\"colorbar\": {\"outlinewidth\": 0, \"ticks\": \"\"}}, \"type\": \"parcoords\"}], \"pie\": [{\"automargin\": true, \"type\": \"pie\"}], \"scatter\": [{\"marker\": {\"colorbar\": {\"outlinewidth\": 0, \"ticks\": \"\"}}, \"type\": \"scatter\"}], \"scatter3d\": [{\"line\": {\"colorbar\": {\"outlinewidth\": 0, \"ticks\": \"\"}}, \"marker\": {\"colorbar\": {\"outlinewidth\": 0, \"ticks\": \"\"}}, \"type\": \"scatter3d\"}], \"scattercarpet\": [{\"marker\": {\"colorbar\": {\"outlinewidth\": 0, \"ticks\": \"\"}}, \"type\": \"scattercarpet\"}], \"scattergeo\": [{\"marker\": {\"colorbar\": {\"outlinewidth\": 0, \"ticks\": \"\"}}, \"type\": \"scattergeo\"}], \"scattergl\": [{\"marker\": {\"colorbar\": {\"outlinewidth\": 0, \"ticks\": \"\"}}, \"type\": \"scattergl\"}], \"scattermapbox\": [{\"marker\": {\"colorbar\": {\"outlinewidth\": 0, \"ticks\": \"\"}}, \"type\": \"scattermapbox\"}], \"scatterpolar\": [{\"marker\": {\"colorbar\": {\"outlinewidth\": 0, \"ticks\": \"\"}}, \"type\": \"scatterpolar\"}], \"scatterpolargl\": [{\"marker\": {\"colorbar\": {\"outlinewidth\": 0, \"ticks\": \"\"}}, \"type\": \"scatterpolargl\"}], \"scatterternary\": [{\"marker\": {\"colorbar\": {\"outlinewidth\": 0, \"ticks\": \"\"}}, \"type\": \"scatterternary\"}], \"surface\": [{\"colorbar\": {\"outlinewidth\": 0, \"ticks\": \"\"}, \"colorscale\": [[0.0, \"#0d0887\"], [0.1111111111111111, \"#46039f\"], [0.2222222222222222, \"#7201a8\"], [0.3333333333333333, \"#9c179e\"], [0.4444444444444444, \"#bd3786\"], [0.5555555555555556, \"#d8576b\"], [0.6666666666666666, \"#ed7953\"], [0.7777777777777778, \"#fb9f3a\"], [0.8888888888888888, \"#fdca26\"], [1.0, \"#f0f921\"]], \"type\": \"surface\"}], \"table\": [{\"cells\": {\"fill\": {\"color\": \"#EBF0F8\"}, \"line\": {\"color\": \"white\"}}, \"header\": {\"fill\": {\"color\": \"#C8D4E3\"}, \"line\": {\"color\": \"white\"}}, \"type\": \"table\"}]}, \"layout\": {\"annotationdefaults\": {\"arrowcolor\": \"#2a3f5f\", \"arrowhead\": 0, \"arrowwidth\": 1}, \"coloraxis\": {\"colorbar\": {\"outlinewidth\": 0, \"ticks\": \"\"}}, \"colorscale\": {\"diverging\": [[0, \"#8e0152\"], [0.1, \"#c51b7d\"], [0.2, \"#de77ae\"], [0.3, \"#f1b6da\"], [0.4, \"#fde0ef\"], [0.5, \"#f7f7f7\"], [0.6, \"#e6f5d0\"], [0.7, \"#b8e186\"], [0.8, \"#7fbc41\"], [0.9, \"#4d9221\"], [1, \"#276419\"]], \"sequential\": [[0.0, \"#0d0887\"], [0.1111111111111111, \"#46039f\"], [0.2222222222222222, \"#7201a8\"], [0.3333333333333333, \"#9c179e\"], [0.4444444444444444, \"#bd3786\"], [0.5555555555555556, \"#d8576b\"], [0.6666666666666666, \"#ed7953\"], [0.7777777777777778, \"#fb9f3a\"], [0.8888888888888888, \"#fdca26\"], [1.0, \"#f0f921\"]], \"sequentialminus\": [[0.0, \"#0d0887\"], [0.1111111111111111, \"#46039f\"], [0.2222222222222222, \"#7201a8\"], [0.3333333333333333, \"#9c179e\"], [0.4444444444444444, \"#bd3786\"], [0.5555555555555556, \"#d8576b\"], [0.6666666666666666, \"#ed7953\"], [0.7777777777777778, \"#fb9f3a\"], [0.8888888888888888, \"#fdca26\"], [1.0, \"#f0f921\"]]}, \"colorway\": [\"#636efa\", \"#EF553B\", \"#00cc96\", \"#ab63fa\", \"#FFA15A\", \"#19d3f3\", \"#FF6692\", \"#B6E880\", \"#FF97FF\", \"#FECB52\"], \"font\": {\"color\": \"#2a3f5f\"}, \"geo\": {\"bgcolor\": \"white\", \"lakecolor\": \"white\", \"landcolor\": \"#E5ECF6\", \"showlakes\": true, \"showland\": true, \"subunitcolor\": \"white\"}, \"hoverlabel\": {\"align\": \"left\"}, \"hovermode\": \"closest\", \"mapbox\": {\"style\": \"light\"}, \"paper_bgcolor\": \"white\", \"plot_bgcolor\": \"#E5ECF6\", \"polar\": {\"angularaxis\": {\"gridcolor\": \"white\", \"linecolor\": \"white\", \"ticks\": \"\"}, \"bgcolor\": \"#E5ECF6\", \"radialaxis\": {\"gridcolor\": \"white\", \"linecolor\": \"white\", \"ticks\": \"\"}}, \"scene\": {\"xaxis\": {\"backgroundcolor\": \"#E5ECF6\", \"gridcolor\": \"white\", \"gridwidth\": 2, \"linecolor\": \"white\", \"showbackground\": true, \"ticks\": \"\", \"zerolinecolor\": \"white\"}, \"yaxis\": {\"backgroundcolor\": \"#E5ECF6\", \"gridcolor\": \"white\", \"gridwidth\": 2, \"linecolor\": \"white\", \"showbackground\": true, \"ticks\": \"\", \"zerolinecolor\": \"white\"}, \"zaxis\": {\"backgroundcolor\": \"#E5ECF6\", \"gridcolor\": \"white\", \"gridwidth\": 2, \"linecolor\": \"white\", \"showbackground\": true, \"ticks\": \"\", \"zerolinecolor\": \"white\"}}, \"shapedefaults\": {\"line\": {\"color\": \"#2a3f5f\"}}, \"ternary\": {\"aaxis\": {\"gridcolor\": \"white\", \"linecolor\": \"white\", \"ticks\": \"\"}, \"baxis\": {\"gridcolor\": \"white\", \"linecolor\": \"white\", \"ticks\": \"\"}, \"bgcolor\": \"#E5ECF6\", \"caxis\": {\"gridcolor\": \"white\", \"linecolor\": \"white\", \"ticks\": \"\"}}, \"title\": {\"x\": 0.05}, \"xaxis\": {\"automargin\": true, \"gridcolor\": \"white\", \"linecolor\": \"white\", \"ticks\": \"\", \"title\": {\"standoff\": 15}, \"zerolinecolor\": \"white\", \"zerolinewidth\": 2}, \"yaxis\": {\"automargin\": true, \"gridcolor\": \"white\", \"linecolor\": \"white\", \"ticks\": \"\", \"title\": {\"standoff\": 15}, \"zerolinecolor\": \"white\", \"zerolinewidth\": 2}}}},\n",
       "                        {\"responsive\": true}\n",
       "                    ).then(function(){\n",
       "                            \n",
       "var gd = document.getElementById('8ccb4eeb-b5f6-4bae-9828-c852d2a39c31');\n",
       "var x = new MutationObserver(function (mutations, observer) {{\n",
       "        var display = window.getComputedStyle(gd).display;\n",
       "        if (!display || display === 'none') {{\n",
       "            console.log([gd, 'removed!']);\n",
       "            Plotly.purge(gd);\n",
       "            observer.disconnect();\n",
       "        }}\n",
       "}});\n",
       "\n",
       "// Listen for the removal of the full notebook cells\n",
       "var notebookContainer = gd.closest('#notebook-container');\n",
       "if (notebookContainer) {{\n",
       "    x.observe(notebookContainer, {childList: true});\n",
       "}}\n",
       "\n",
       "// Listen for the clearing of the current output cell\n",
       "var outputEl = gd.closest('.output');\n",
       "if (outputEl) {{\n",
       "    x.observe(outputEl, {childList: true});\n",
       "}}\n",
       "\n",
       "                        })\n",
       "                };\n",
       "                });\n",
       "            </script>\n",
       "        </div>"
      ]
     },
     "metadata": {},
     "output_type": "display_data"
    }
   ],
   "source": [
    "#--- Plot the figure (Ratio Plot)\n",
    "figure_g = go.Figure()\n",
    "pdf_up_trace = go.Scattergl(\n",
    "                        x = pdf_dict['x-axis'],\n",
    "                        y = np.ones(len(pdf_dict['x-axis'])),#pdf_dict['u'].mean(axis=0),\n",
    "                        name='PDF UP',\n",
    "                        showlegend=True,\n",
    "                        error_y=dict(\n",
    "                                type='data',\n",
    "                                color='orange',\n",
    "                                array=pdf_dict['u'].std(axis=0)/pdf_dict['d'].mean(axis=0),\n",
    "                                #array=pdf_dict['u'].std(axis=0)*5,\n",
    "                                visible=True\n",
    "                                )\n",
    "                        )\n",
    "#--- Plotting pdf_up\n",
    "figure_g.add_trace(pdf_up_trace)"
   ]
  },
  {
   "cell_type": "code",
   "execution_count": null,
   "metadata": {},
   "outputs": [],
   "source": []
  }
 ],
 "metadata": {
  "kernelspec": {
   "display_name": "Python 3",
   "language": "python",
   "name": "python3"
  },
  "language_info": {
   "codemirror_mode": {
    "name": "ipython",
    "version": 3
   },
   "file_extension": ".py",
   "mimetype": "text/x-python",
   "name": "python",
   "nbconvert_exporter": "python",
   "pygments_lexer": "ipython3",
   "version": "3.7.4"
  }
 },
 "nbformat": 4,
 "nbformat_minor": 2
}
