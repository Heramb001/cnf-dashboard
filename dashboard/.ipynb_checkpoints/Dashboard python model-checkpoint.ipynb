{
 "cells": [
  {
   "cell_type": "markdown",
   "metadata": {},
   "source": [
    "# Dashboard Understanding\n",
    "\n",
    "\n",
    "***Data Flow***\n",
    "\n",
    "--> Select Points $(x, Q^2)$ \n",
    "\n",
    "--> add noise to cross section ***(created from concatenation of obs_p and obs_n of corresponding $(x,Q^2)$)***\n",
    "\n",
    "--> send the crossection data to the Model \n",
    "\n",
    "--> generates output (parameters) \n",
    "\n",
    "--> Parameters are used to generate PDF UP and PDF DOWN \n",
    "\n",
    "\n",
    "***Equation to add Noise***\n",
    "\n",
    "$(xsec)' = xsec + (\\sigma * f * R)$\n",
    "\n",
    "- uncertainity ($\\sigma$)\n",
    "\n",
    "- noise ($f$)\n",
    "\n",
    "- Random value ($R$)\n",
    "\n",
    "***To generate PDFs***\n",
    "\n",
    "$x$ = an array of range(0,100)\n",
    "\n",
    "$Q^2$ = constant value"
   ]
  },
  {
   "cell_type": "code",
   "execution_count": 22,
   "metadata": {},
   "outputs": [],
   "source": [
    "# libraries\n",
    "import numpy as np #--- pdf,mlutils\n",
    "import pandas as pd\n",
    "import plotly.graph_objs as go\n",
    "import dash\n",
    "import matplotlib.pyplot as plt\n",
    "\n",
    "#---mlutils\n",
    "from tensorflow.keras.models import load_model\n",
    "#from keras.models import load_model\n",
    "import tensorflow as tf\n",
    "import warnings\n",
    "warnings.filterwarnings('ignore')\n",
    "import h5py\n",
    "\n",
    "#---pdf libs\n",
    "from scipy.special import gamma\n",
    "import sys,os\n",
    "\n",
    "#--- only for jupyter\n",
    "from ipywidgets import interactive, HBox, VBox"
   ]
  },
  {
   "cell_type": "code",
   "execution_count": 3,
   "metadata": {},
   "outputs": [
    {
     "data": {
      "text/plain": [
       "((100, 101), (100, 101), (101,), (101,))"
      ]
     },
     "execution_count": 3,
     "metadata": {},
     "output_type": "execute_result"
    }
   ],
   "source": [
    "#-- Loading the data\n",
    "X = np.load(\"data/X.npy\")\n",
    "Q2 = np.load(\"data/Q2.npy\")\n",
    "obs_p = np.load(\"data/obs_p.npy\") #-- toy data is of shape (100,101)\n",
    "obs_n = np.load(\"data/obs_n.npy\") #-- toy data is of shape (100,101)\n",
    "obs_p.shape, obs_n.shape, X.shape, Q2.shape"
   ]
  },
  {
   "cell_type": "code",
   "execution_count": 4,
   "metadata": {},
   "outputs": [
    {
     "data": {
      "text/html": [
       "<div>\n",
       "<style scoped>\n",
       "    .dataframe tbody tr th:only-of-type {\n",
       "        vertical-align: middle;\n",
       "    }\n",
       "\n",
       "    .dataframe tbody tr th {\n",
       "        vertical-align: top;\n",
       "    }\n",
       "\n",
       "    .dataframe thead th {\n",
       "        text-align: right;\n",
       "    }\n",
       "</style>\n",
       "<table border=\"1\" class=\"dataframe\">\n",
       "  <thead>\n",
       "    <tr style=\"text-align: right;\">\n",
       "      <th></th>\n",
       "      <th>X</th>\n",
       "      <th>Q2</th>\n",
       "      <th>obs_p</th>\n",
       "      <th>obs_n</th>\n",
       "      <th>is_selected</th>\n",
       "      <th>co-ord</th>\n",
       "    </tr>\n",
       "  </thead>\n",
       "  <tbody>\n",
       "    <tr>\n",
       "      <th>0</th>\n",
       "      <td>0.012055</td>\n",
       "      <td>1.000000</td>\n",
       "      <td>2.627395</td>\n",
       "      <td>0.727704</td>\n",
       "      <td>False</td>\n",
       "      <td>(0.012055362337673993, 1.0)</td>\n",
       "    </tr>\n",
       "    <tr>\n",
       "      <th>1</th>\n",
       "      <td>0.019467</td>\n",
       "      <td>1.000000</td>\n",
       "      <td>2.862549</td>\n",
       "      <td>0.816804</td>\n",
       "      <td>False</td>\n",
       "      <td>(0.019466967101596316, 1.0)</td>\n",
       "    </tr>\n",
       "    <tr>\n",
       "      <th>2</th>\n",
       "      <td>0.019467</td>\n",
       "      <td>1.260221</td>\n",
       "      <td>2.798435</td>\n",
       "      <td>0.799198</td>\n",
       "      <td>False</td>\n",
       "      <td>(0.019466967101596316, 1.260220615891982)</td>\n",
       "    </tr>\n",
       "    <tr>\n",
       "      <th>3</th>\n",
       "      <td>0.019467</td>\n",
       "      <td>1.588156</td>\n",
       "      <td>2.739728</td>\n",
       "      <td>0.783056</td>\n",
       "      <td>False</td>\n",
       "      <td>(0.019466967101596316, 1.5881560007191666)</td>\n",
       "    </tr>\n",
       "    <tr>\n",
       "      <th>4</th>\n",
       "      <td>0.031435</td>\n",
       "      <td>1.000000</td>\n",
       "      <td>3.108782</td>\n",
       "      <td>0.920222</td>\n",
       "      <td>False</td>\n",
       "      <td>(0.031435206800076304, 1.0)</td>\n",
       "    </tr>\n",
       "  </tbody>\n",
       "</table>\n",
       "</div>"
      ],
      "text/plain": [
       "          X        Q2     obs_p     obs_n  is_selected  \\\n",
       "0  0.012055  1.000000  2.627395  0.727704        False   \n",
       "1  0.019467  1.000000  2.862549  0.816804        False   \n",
       "2  0.019467  1.260221  2.798435  0.799198        False   \n",
       "3  0.019467  1.588156  2.739728  0.783056        False   \n",
       "4  0.031435  1.000000  3.108782  0.920222        False   \n",
       "\n",
       "                                       co-ord  \n",
       "0                 (0.012055362337673993, 1.0)  \n",
       "1                 (0.019466967101596316, 1.0)  \n",
       "2   (0.019466967101596316, 1.260220615891982)  \n",
       "3  (0.019466967101596316, 1.5881560007191666)  \n",
       "4                 (0.031435206800076304, 1.0)  "
      ]
     },
     "execution_count": 4,
     "metadata": {},
     "output_type": "execute_result"
    }
   ],
   "source": [
    "data = pd.DataFrame(data = X,\n",
    "                    index=np.arange(len(X)),\n",
    "                    columns=['X']\n",
    "                    )\n",
    "data['Q2'] = Q2\n",
    "data['obs_p'] = obs_p[0,:] #--- currently taking only one sample\n",
    "data['obs_n'] = obs_n[0,:] #--- currently taking only one sample\n",
    "data['is_selected'] = False\n",
    "data['co-ord'] = list(zip(X,Q2))\n",
    "data.head()"
   ]
  },
  {
   "cell_type": "code",
   "execution_count": 32,
   "metadata": {},
   "outputs": [],
   "source": [
    "dataSelected = False\n",
    "\n",
    "def selectedData(trace,points,selector):\n",
    "    global dataSelected\n",
    "    dataSelected = True\n",
    "    print(points)\n",
    "    temp_x = []\n",
    "    temp_q2 = []\n",
    "    temp_op = []\n",
    "    temp_on = []\n",
    "    for point in points['points']:\n",
    "            #return point\n",
    "            #--- update the is_selected column\n",
    "            data.loc[data['co-ord'] == (point['x'],point['y']),'is_selected'] =  True\n",
    "            temp_op.append(data.loc[data['co-ord'] == (point['x'],point['y']), 'obs_p'])\n",
    "            temp_on.append(data.loc[data['co-ord'] == (point['x'],point['y']), 'obs_n'])\n",
    "            temp_x.append(point['x'])\n",
    "            temp_q2.append(point['y'])\n",
    "    df = pd.DataFrame(data=temp_x, columns=[\"X\"])\n",
    "    df['Q2'] = temp_q2\n",
    "    df['obs_p'] = temp_op\n",
    "    df['obs_n'] = temp_on\n",
    "    print(df)"
   ]
  },
  {
   "cell_type": "code",
   "execution_count": 38,
   "metadata": {},
   "outputs": [
    {
     "name": "stdout",
     "output_type": "stream",
     "text": [
      "False\n"
     ]
    },
    {
     "data": {
      "application/vnd.jupyter.widget-view+json": {
       "model_id": "361cd8371229449f841485bc298e3c7b",
       "version_major": 2,
       "version_minor": 0
      },
      "text/plain": [
       "VBox(children=(FigureWidget({\n",
       "    'data': [{'mode': 'markers',\n",
       "              'type': 'scattergl',\n",
       "            …"
      ]
     },
     "metadata": {},
     "output_type": "display_data"
    }
   ],
   "source": [
    "#plotting the data\n",
    "figure = go.FigureWidget(data=go.Scattergl(x=data['X'],y=data['Q2'],mode='markers',),\n",
    "                   layout=go.Layout(xaxis_title=\"X\",yaxis_title=\"Q2\"))\n",
    "#figure.show()\n",
    "input_data = figure.data[0]\n",
    "\n",
    "#--- for jupyter notebook\n",
    "# Create a table FigureWidget that updates on selection from points in the scatter plot of f\n",
    "t = go.FigureWidget([go.Table(\n",
    "    header=dict(values=['X','Q2','obs_p','obs_n'],\n",
    "                fill = dict(color='#C2D4FF'),\n",
    "                align = ['left'] * 5),\n",
    "    cells=dict(values=[data[col] for col in ['X','Q2','obs_p','obs_n']],\n",
    "               fill = dict(color='#F5F8FF'),\n",
    "               align = ['left'] * 5))])\n",
    "\n",
    "\n",
    "input_data.on_selection(selectedData)\n",
    "\n",
    "\n",
    "# Put everything together ---- jupyter\n",
    "VBox((figure,t))"
   ]
  },
  {
   "cell_type": "markdown",
   "metadata": {},
   "source": [
    "#### Constant Values For Uncertainity, Noise (F-value)\n"
   ]
  },
  {
   "cell_type": "code",
   "execution_count": 7,
   "metadata": {},
   "outputs": [],
   "source": [
    "uncertainity_value = 0.05\n",
    "f_value = 1"
   ]
  },
  {
   "cell_type": "markdown",
   "metadata": {},
   "source": [
    "#### Adding noise to the crossectional values"
   ]
  },
  {
   "cell_type": "code",
   "execution_count": 8,
   "metadata": {},
   "outputs": [],
   "source": [
    "def addNoiseSelected(data, n_value, uncertainity_value, validation_column, data_column, num_features):\n",
    "    predList = []\n",
    "    #--- formula \n",
    "    #--- for the selected_data : xsec + Randomnumber * uncertainity * noise_value\n",
    "    for i in range(1000):\n",
    "        predList.append(np.where(data[validation_column]==True, #--- if data is selected\n",
    "                                 data[data_column] + (float(uncertainity_value) * np.random.rand(num_features,) * float(n_value)), #---- add value (noise * uncertainity * random number)\n",
    "                                 data[data_column])) #--- else remain the data as it is\n",
    "        #predList.append(data + (alpha * np.random.rand(num_features,)))\n",
    "    predList = np.array(predList)\n",
    "    return predList\n"
   ]
  },
  {
   "cell_type": "code",
   "execution_count": 9,
   "metadata": {},
   "outputs": [],
   "source": [
    "def calculate_xsec(p_Data, n_Data):\n",
    "    return np.concatenate((p_Data, n_Data), axis = 1)"
   ]
  },
  {
   "cell_type": "code",
   "execution_count": 10,
   "metadata": {},
   "outputs": [],
   "source": [
    "#--- for now we add noise to all the values\n",
    "data['is_selected'] = True\n",
    "\n",
    "#--- get the list of data with added noise\n",
    "obs_p_noised = addNoiseSelected(data, f_value, uncertainity_value, 'is_selected', 'obs_p', len(data['obs_p']))\n",
    "obs_n_noised = addNoiseSelected(data, f_value, uncertainity_value, 'is_selected', 'obs_n', len(data['obs_n']))\n",
    "\n",
    "#--- concatenate the lists to get the cross-sectional Data\n",
    "xsec = calculate_xsec(obs_p_noised, obs_n_noised)"
   ]
  },
  {
   "cell_type": "markdown",
   "metadata": {},
   "source": [
    "#### Running the model to generate the parameters"
   ]
  },
  {
   "cell_type": "code",
   "execution_count": 11,
   "metadata": {},
   "outputs": [],
   "source": [
    "#def load_model(model):\n",
    "#    model = load_model('mldata/%s.h5'%model) \n",
    "#    return model"
   ]
  },
  {
   "cell_type": "code",
   "execution_count": 14,
   "metadata": {},
   "outputs": [],
   "source": [
    "def backwardPredict(fname, model, xsec_noised):\n",
    "    # load xsec file\n",
    "    #xsec = calculate_xsec(dataframe)\n",
    "    ml = load_model('mldata/%s.h5'%model) \n",
    "\n",
    "    # make the prediction\n",
    "    pred = ml.predict(xsec_noised)\n",
    "    #pred = par_scaler.inverse_transform(pred)\n",
    "    np.save('data/%s-par.npy'%fname, pred)\n",
    "    return pred"
   ]
  },
  {
   "cell_type": "code",
   "execution_count": 16,
   "metadata": {},
   "outputs": [],
   "source": [
    "fname = 'test_backward'\n",
    "model_select = 'my_model'\n",
    "nn_pred = backwardPredict(fname, model_select, xsec)"
   ]
  },
  {
   "cell_type": "markdown",
   "metadata": {},
   "source": [
    "#### Calculate pdfs from generated parmaeters"
   ]
  },
  {
   "cell_type": "code",
   "execution_count": 17,
   "metadata": {},
   "outputs": [],
   "source": [
    "#--- need to know the significance of each term\n",
    "Q02=4.0\n",
    "lam2=0.2**2\n",
    "pu=np.ones(10)\n",
    "pd=np.ones(10)\n",
    "pu[5:]*=0.1\n",
    "pd[5:]*=0.1"
   ]
  },
  {
   "cell_type": "code",
   "execution_count": 18,
   "metadata": {},
   "outputs": [],
   "source": [
    "def set_params(par):\n",
    "    pu[:5]=par[:5]\n",
    "    pd[:5]=par[5:]\n",
    "  \n",
    "def get_s(Q2):\n",
    "    return np.log(np.log(Q2/lam2)/np.log(Q02/lam2))\n",
    "\n",
    "def _get_shape(x,p):\n",
    "    return p[0]*x**p[1]*(1-x)**p[2]*(1+p[3]*x+p[4]*x**2)\n",
    "    \n",
    "def get_shape(x,p,s):\n",
    "    N=p[0] + p[5] * s\n",
    "    a=p[1] + p[6] * s\n",
    "    b=p[2] + p[7] * s\n",
    "    c=p[3] + p[8] * s\n",
    "    d=p[4] + p[9] * s\n",
    "    return _get_shape(x,[N,a,b,c,d])\n",
    "\n",
    "def get_pdf(x,Q2,flav):\n",
    "    s=get_s(Q2)\n",
    "    if flav=='u': return get_shape(x,pu,s)\n",
    "    if flav=='d': return get_shape(x,pd,s)\n",
    "    \n",
    "def calculate_pdf(data_par):\n",
    "    x = np.linspace(0.01,0.99,100)\n",
    "    Q2=4.0\n",
    "    u=[]\n",
    "    d=[]\n",
    "    for i in range(data_par.shape[0]):\n",
    "        set_params(data_par[i])\n",
    "        u.append(get_pdf(x,Q2,'u'))\n",
    "        d.append(get_pdf(x,Q2,'d'))\n",
    "    u = np.array(u)\n",
    "    d = np.array(d)\n",
    "    print('--> (RUNLOG) - Up data shape : ',u.shape)\n",
    "    print('--> (RUNLOG) - Down data Shape : ',d.shape)\n",
    "    return {'u' : u, 'd' : d, 'x-axis' : x}"
   ]
  },
  {
   "cell_type": "code",
   "execution_count": 19,
   "metadata": {},
   "outputs": [
    {
     "name": "stdout",
     "output_type": "stream",
     "text": [
      "--> (RUNLOG) - Up data shape :  (1000, 100)\n",
      "--> (RUNLOG) - Down data Shape :  (1000, 100)\n"
     ]
    }
   ],
   "source": [
    "pdf_dict = calculate_pdf(nn_pred)"
   ]
  },
  {
   "cell_type": "code",
   "execution_count": 21,
   "metadata": {},
   "outputs": [
    {
     "data": {
      "application/vnd.plotly.v1+json": {
       "config": {
        "plotlyServerURL": "https://plot.ly"
       },
       "data": [
        {
         "error_y": {
          "array": [
           0.18182016604925452,
           0.12696686841068525,
           0.10185241903833299,
           0.08670150408102466,
           0.07632407100815806,
           0.06866982420630445,
           0.06274248827501838,
           0.05799160110946298,
           0.054084952847754685,
           0.05080866397817184,
           0.0480180585581842,
           0.04561137682049058,
           0.043514748646946814,
           0.04167313576945491,
           0.040044628135395006,
           0.038596718473404935,
           0.03730379194571998,
           0.03614538849975646,
           0.03510497154815984,
           0.034169037231383106,
           0.03332645812048016,
           0.03256799164074786,
           0.03188590637728396,
           0.031273694155037245,
           0.03072584548279313,
           0.03023767246204049,
           0.029805167713902108,
           0.029424890971897676,
           0.029093877171497896,
           0.028809561428561545,
           0.02856971742871968,
           0.028372406576602414,
           0.028215935864715002,
           0.02809882287700898,
           0.028019766684025574,
           0.02797762364493175,
           0.02797138732844517,
           0.028000171915323616,
           0.028063198561396642,
           0.028159784290705835,
           0.028289333059686363,
           0.028451328690353384,
           0.02864532941684003,
           0.028870963828135834,
           0.02912792802256121,
           0.029415983817909247,
           0.02973495788640863,
           0.03008474170650772,
           0.030465292244538967,
           0.030876633299005564,
           0.0313188574588543,
           0.031792128644928835,
           0.0322966852210453,
           0.032832843678055536,
           0.033401002911105954,
           0.03400164912736835,
           0.03463536143918473,
           0.035302818216252564,
           0.03600480429072224,
           0.03674221913152039,
           0.03751608612963838,
           0.038327563165493794,
           0.03917795466397451,
           0.04006872538389294,
           0.04100151623817553,
           0.041978162501561354,
           0.04300071483692883,
           0.04407146366354237,
           0.04519296750566569,
           0.046368086104912234,
           0.04760001926342701,
           0.04889235261966439,
           0.050249111860599896,
           0.05167482726623822,
           0.05317461099547207,
           0.0547542502003766,
           0.05642031996073473,
           0.058180321250654275,
           0.06004285081339601,
           0.06201781211896952,
           0.06411667979617831,
           0.06635283450001239,
           0.06874199176916077,
           0.07130275811194754,
           0.0740573620565436,
           0.07703263007436907,
           0.08026131201361308,
           0.08378391654110098,
           0.08765130969182304,
           0.09192848848513992,
           0.09670022505898618,
           0.10207980643803335,
           0.10822313971070432,
           0.11535269104390303,
           0.12380073767076995,
           0.1340940346244455,
           0.14713824241895243,
           0.1646851134448549,
           0.1908279176404339,
           0.2394071718007515
          ],
          "color": "orange",
          "type": "data",
          "visible": true
         },
         "name": "PDF UP",
         "showlegend": true,
         "type": "scattergl",
         "x": [
          0.01,
          0.0198989898989899,
          0.029797979797979796,
          0.039696969696969696,
          0.049595959595959596,
          0.059494949494949496,
          0.06939393939393938,
          0.07929292929292929,
          0.08919191919191918,
          0.09909090909090908,
          0.10898989898989898,
          0.11888888888888888,
          0.12878787878787878,
          0.1386868686868687,
          0.1485858585858586,
          0.15848484848484848,
          0.16838383838383839,
          0.1782828282828283,
          0.18818181818181817,
          0.19808080808080808,
          0.207979797979798,
          0.21787878787878787,
          0.22777777777777777,
          0.23767676767676768,
          0.24757575757575756,
          0.25747474747474747,
          0.2673737373737374,
          0.2772727272727273,
          0.2871717171717172,
          0.29707070707070704,
          0.30696969696969695,
          0.31686868686868686,
          0.32676767676767676,
          0.33666666666666667,
          0.3465656565656566,
          0.3564646464646465,
          0.36636363636363634,
          0.37626262626262624,
          0.38616161616161615,
          0.39606060606060606,
          0.40595959595959596,
          0.41585858585858587,
          0.4257575757575757,
          0.43565656565656563,
          0.44555555555555554,
          0.45545454545454545,
          0.46535353535353535,
          0.47525252525252526,
          0.4851515151515151,
          0.495050505050505,
          0.5049494949494949,
          0.5148484848484849,
          0.5247474747474747,
          0.5346464646464646,
          0.5445454545454546,
          0.5544444444444444,
          0.5643434343434344,
          0.5742424242424242,
          0.5841414141414141,
          0.594040404040404,
          0.6039393939393939,
          0.6138383838383838,
          0.6237373737373737,
          0.6336363636363637,
          0.6435353535353535,
          0.6534343434343434,
          0.6633333333333333,
          0.6732323232323232,
          0.6831313131313131,
          0.693030303030303,
          0.702929292929293,
          0.7128282828282828,
          0.7227272727272727,
          0.7326262626262626,
          0.7425252525252525,
          0.7524242424242424,
          0.7623232323232323,
          0.7722222222222221,
          0.7821212121212121,
          0.792020202020202,
          0.8019191919191919,
          0.8118181818181818,
          0.8217171717171717,
          0.8316161616161616,
          0.8415151515151514,
          0.8514141414141414,
          0.8613131313131313,
          0.8712121212121212,
          0.8811111111111111,
          0.891010101010101,
          0.9009090909090909,
          0.9108080808080807,
          0.9207070707070707,
          0.9306060606060605,
          0.9405050505050505,
          0.9504040404040404,
          0.9603030303030302,
          0.9702020202020202,
          0.98010101010101,
          0.99
         ],
         "y": [
          1,
          1,
          1,
          1,
          1,
          1,
          1,
          1,
          1,
          1,
          1,
          1,
          1,
          1,
          1,
          1,
          1,
          1,
          1,
          1,
          1,
          1,
          1,
          1,
          1,
          1,
          1,
          1,
          1,
          1,
          1,
          1,
          1,
          1,
          1,
          1,
          1,
          1,
          1,
          1,
          1,
          1,
          1,
          1,
          1,
          1,
          1,
          1,
          1,
          1,
          1,
          1,
          1,
          1,
          1,
          1,
          1,
          1,
          1,
          1,
          1,
          1,
          1,
          1,
          1,
          1,
          1,
          1,
          1,
          1,
          1,
          1,
          1,
          1,
          1,
          1,
          1,
          1,
          1,
          1,
          1,
          1,
          1,
          1,
          1,
          1,
          1,
          1,
          1,
          1,
          1,
          1,
          1,
          1,
          1,
          1,
          1,
          1,
          1,
          1
         ]
        }
       ],
       "layout": {
        "template": {
         "data": {
          "bar": [
           {
            "error_x": {
             "color": "#2a3f5f"
            },
            "error_y": {
             "color": "#2a3f5f"
            },
            "marker": {
             "line": {
              "color": "#E5ECF6",
              "width": 0.5
             }
            },
            "type": "bar"
           }
          ],
          "barpolar": [
           {
            "marker": {
             "line": {
              "color": "#E5ECF6",
              "width": 0.5
             }
            },
            "type": "barpolar"
           }
          ],
          "carpet": [
           {
            "aaxis": {
             "endlinecolor": "#2a3f5f",
             "gridcolor": "white",
             "linecolor": "white",
             "minorgridcolor": "white",
             "startlinecolor": "#2a3f5f"
            },
            "baxis": {
             "endlinecolor": "#2a3f5f",
             "gridcolor": "white",
             "linecolor": "white",
             "minorgridcolor": "white",
             "startlinecolor": "#2a3f5f"
            },
            "type": "carpet"
           }
          ],
          "choropleth": [
           {
            "colorbar": {
             "outlinewidth": 0,
             "ticks": ""
            },
            "type": "choropleth"
           }
          ],
          "contour": [
           {
            "colorbar": {
             "outlinewidth": 0,
             "ticks": ""
            },
            "colorscale": [
             [
              0,
              "#0d0887"
             ],
             [
              0.1111111111111111,
              "#46039f"
             ],
             [
              0.2222222222222222,
              "#7201a8"
             ],
             [
              0.3333333333333333,
              "#9c179e"
             ],
             [
              0.4444444444444444,
              "#bd3786"
             ],
             [
              0.5555555555555556,
              "#d8576b"
             ],
             [
              0.6666666666666666,
              "#ed7953"
             ],
             [
              0.7777777777777778,
              "#fb9f3a"
             ],
             [
              0.8888888888888888,
              "#fdca26"
             ],
             [
              1,
              "#f0f921"
             ]
            ],
            "type": "contour"
           }
          ],
          "contourcarpet": [
           {
            "colorbar": {
             "outlinewidth": 0,
             "ticks": ""
            },
            "type": "contourcarpet"
           }
          ],
          "heatmap": [
           {
            "colorbar": {
             "outlinewidth": 0,
             "ticks": ""
            },
            "colorscale": [
             [
              0,
              "#0d0887"
             ],
             [
              0.1111111111111111,
              "#46039f"
             ],
             [
              0.2222222222222222,
              "#7201a8"
             ],
             [
              0.3333333333333333,
              "#9c179e"
             ],
             [
              0.4444444444444444,
              "#bd3786"
             ],
             [
              0.5555555555555556,
              "#d8576b"
             ],
             [
              0.6666666666666666,
              "#ed7953"
             ],
             [
              0.7777777777777778,
              "#fb9f3a"
             ],
             [
              0.8888888888888888,
              "#fdca26"
             ],
             [
              1,
              "#f0f921"
             ]
            ],
            "type": "heatmap"
           }
          ],
          "heatmapgl": [
           {
            "colorbar": {
             "outlinewidth": 0,
             "ticks": ""
            },
            "colorscale": [
             [
              0,
              "#0d0887"
             ],
             [
              0.1111111111111111,
              "#46039f"
             ],
             [
              0.2222222222222222,
              "#7201a8"
             ],
             [
              0.3333333333333333,
              "#9c179e"
             ],
             [
              0.4444444444444444,
              "#bd3786"
             ],
             [
              0.5555555555555556,
              "#d8576b"
             ],
             [
              0.6666666666666666,
              "#ed7953"
             ],
             [
              0.7777777777777778,
              "#fb9f3a"
             ],
             [
              0.8888888888888888,
              "#fdca26"
             ],
             [
              1,
              "#f0f921"
             ]
            ],
            "type": "heatmapgl"
           }
          ],
          "histogram": [
           {
            "marker": {
             "colorbar": {
              "outlinewidth": 0,
              "ticks": ""
             }
            },
            "type": "histogram"
           }
          ],
          "histogram2d": [
           {
            "colorbar": {
             "outlinewidth": 0,
             "ticks": ""
            },
            "colorscale": [
             [
              0,
              "#0d0887"
             ],
             [
              0.1111111111111111,
              "#46039f"
             ],
             [
              0.2222222222222222,
              "#7201a8"
             ],
             [
              0.3333333333333333,
              "#9c179e"
             ],
             [
              0.4444444444444444,
              "#bd3786"
             ],
             [
              0.5555555555555556,
              "#d8576b"
             ],
             [
              0.6666666666666666,
              "#ed7953"
             ],
             [
              0.7777777777777778,
              "#fb9f3a"
             ],
             [
              0.8888888888888888,
              "#fdca26"
             ],
             [
              1,
              "#f0f921"
             ]
            ],
            "type": "histogram2d"
           }
          ],
          "histogram2dcontour": [
           {
            "colorbar": {
             "outlinewidth": 0,
             "ticks": ""
            },
            "colorscale": [
             [
              0,
              "#0d0887"
             ],
             [
              0.1111111111111111,
              "#46039f"
             ],
             [
              0.2222222222222222,
              "#7201a8"
             ],
             [
              0.3333333333333333,
              "#9c179e"
             ],
             [
              0.4444444444444444,
              "#bd3786"
             ],
             [
              0.5555555555555556,
              "#d8576b"
             ],
             [
              0.6666666666666666,
              "#ed7953"
             ],
             [
              0.7777777777777778,
              "#fb9f3a"
             ],
             [
              0.8888888888888888,
              "#fdca26"
             ],
             [
              1,
              "#f0f921"
             ]
            ],
            "type": "histogram2dcontour"
           }
          ],
          "mesh3d": [
           {
            "colorbar": {
             "outlinewidth": 0,
             "ticks": ""
            },
            "type": "mesh3d"
           }
          ],
          "parcoords": [
           {
            "line": {
             "colorbar": {
              "outlinewidth": 0,
              "ticks": ""
             }
            },
            "type": "parcoords"
           }
          ],
          "pie": [
           {
            "automargin": true,
            "type": "pie"
           }
          ],
          "scatter": [
           {
            "marker": {
             "colorbar": {
              "outlinewidth": 0,
              "ticks": ""
             }
            },
            "type": "scatter"
           }
          ],
          "scatter3d": [
           {
            "line": {
             "colorbar": {
              "outlinewidth": 0,
              "ticks": ""
             }
            },
            "marker": {
             "colorbar": {
              "outlinewidth": 0,
              "ticks": ""
             }
            },
            "type": "scatter3d"
           }
          ],
          "scattercarpet": [
           {
            "marker": {
             "colorbar": {
              "outlinewidth": 0,
              "ticks": ""
             }
            },
            "type": "scattercarpet"
           }
          ],
          "scattergeo": [
           {
            "marker": {
             "colorbar": {
              "outlinewidth": 0,
              "ticks": ""
             }
            },
            "type": "scattergeo"
           }
          ],
          "scattergl": [
           {
            "marker": {
             "colorbar": {
              "outlinewidth": 0,
              "ticks": ""
             }
            },
            "type": "scattergl"
           }
          ],
          "scattermapbox": [
           {
            "marker": {
             "colorbar": {
              "outlinewidth": 0,
              "ticks": ""
             }
            },
            "type": "scattermapbox"
           }
          ],
          "scatterpolar": [
           {
            "marker": {
             "colorbar": {
              "outlinewidth": 0,
              "ticks": ""
             }
            },
            "type": "scatterpolar"
           }
          ],
          "scatterpolargl": [
           {
            "marker": {
             "colorbar": {
              "outlinewidth": 0,
              "ticks": ""
             }
            },
            "type": "scatterpolargl"
           }
          ],
          "scatterternary": [
           {
            "marker": {
             "colorbar": {
              "outlinewidth": 0,
              "ticks": ""
             }
            },
            "type": "scatterternary"
           }
          ],
          "surface": [
           {
            "colorbar": {
             "outlinewidth": 0,
             "ticks": ""
            },
            "colorscale": [
             [
              0,
              "#0d0887"
             ],
             [
              0.1111111111111111,
              "#46039f"
             ],
             [
              0.2222222222222222,
              "#7201a8"
             ],
             [
              0.3333333333333333,
              "#9c179e"
             ],
             [
              0.4444444444444444,
              "#bd3786"
             ],
             [
              0.5555555555555556,
              "#d8576b"
             ],
             [
              0.6666666666666666,
              "#ed7953"
             ],
             [
              0.7777777777777778,
              "#fb9f3a"
             ],
             [
              0.8888888888888888,
              "#fdca26"
             ],
             [
              1,
              "#f0f921"
             ]
            ],
            "type": "surface"
           }
          ],
          "table": [
           {
            "cells": {
             "fill": {
              "color": "#EBF0F8"
             },
             "line": {
              "color": "white"
             }
            },
            "header": {
             "fill": {
              "color": "#C8D4E3"
             },
             "line": {
              "color": "white"
             }
            },
            "type": "table"
           }
          ]
         },
         "layout": {
          "annotationdefaults": {
           "arrowcolor": "#2a3f5f",
           "arrowhead": 0,
           "arrowwidth": 1
          },
          "coloraxis": {
           "colorbar": {
            "outlinewidth": 0,
            "ticks": ""
           }
          },
          "colorscale": {
           "diverging": [
            [
             0,
             "#8e0152"
            ],
            [
             0.1,
             "#c51b7d"
            ],
            [
             0.2,
             "#de77ae"
            ],
            [
             0.3,
             "#f1b6da"
            ],
            [
             0.4,
             "#fde0ef"
            ],
            [
             0.5,
             "#f7f7f7"
            ],
            [
             0.6,
             "#e6f5d0"
            ],
            [
             0.7,
             "#b8e186"
            ],
            [
             0.8,
             "#7fbc41"
            ],
            [
             0.9,
             "#4d9221"
            ],
            [
             1,
             "#276419"
            ]
           ],
           "sequential": [
            [
             0,
             "#0d0887"
            ],
            [
             0.1111111111111111,
             "#46039f"
            ],
            [
             0.2222222222222222,
             "#7201a8"
            ],
            [
             0.3333333333333333,
             "#9c179e"
            ],
            [
             0.4444444444444444,
             "#bd3786"
            ],
            [
             0.5555555555555556,
             "#d8576b"
            ],
            [
             0.6666666666666666,
             "#ed7953"
            ],
            [
             0.7777777777777778,
             "#fb9f3a"
            ],
            [
             0.8888888888888888,
             "#fdca26"
            ],
            [
             1,
             "#f0f921"
            ]
           ],
           "sequentialminus": [
            [
             0,
             "#0d0887"
            ],
            [
             0.1111111111111111,
             "#46039f"
            ],
            [
             0.2222222222222222,
             "#7201a8"
            ],
            [
             0.3333333333333333,
             "#9c179e"
            ],
            [
             0.4444444444444444,
             "#bd3786"
            ],
            [
             0.5555555555555556,
             "#d8576b"
            ],
            [
             0.6666666666666666,
             "#ed7953"
            ],
            [
             0.7777777777777778,
             "#fb9f3a"
            ],
            [
             0.8888888888888888,
             "#fdca26"
            ],
            [
             1,
             "#f0f921"
            ]
           ]
          },
          "colorway": [
           "#636efa",
           "#EF553B",
           "#00cc96",
           "#ab63fa",
           "#FFA15A",
           "#19d3f3",
           "#FF6692",
           "#B6E880",
           "#FF97FF",
           "#FECB52"
          ],
          "font": {
           "color": "#2a3f5f"
          },
          "geo": {
           "bgcolor": "white",
           "lakecolor": "white",
           "landcolor": "#E5ECF6",
           "showlakes": true,
           "showland": true,
           "subunitcolor": "white"
          },
          "hoverlabel": {
           "align": "left"
          },
          "hovermode": "closest",
          "mapbox": {
           "style": "light"
          },
          "paper_bgcolor": "white",
          "plot_bgcolor": "#E5ECF6",
          "polar": {
           "angularaxis": {
            "gridcolor": "white",
            "linecolor": "white",
            "ticks": ""
           },
           "bgcolor": "#E5ECF6",
           "radialaxis": {
            "gridcolor": "white",
            "linecolor": "white",
            "ticks": ""
           }
          },
          "scene": {
           "xaxis": {
            "backgroundcolor": "#E5ECF6",
            "gridcolor": "white",
            "gridwidth": 2,
            "linecolor": "white",
            "showbackground": true,
            "ticks": "",
            "zerolinecolor": "white"
           },
           "yaxis": {
            "backgroundcolor": "#E5ECF6",
            "gridcolor": "white",
            "gridwidth": 2,
            "linecolor": "white",
            "showbackground": true,
            "ticks": "",
            "zerolinecolor": "white"
           },
           "zaxis": {
            "backgroundcolor": "#E5ECF6",
            "gridcolor": "white",
            "gridwidth": 2,
            "linecolor": "white",
            "showbackground": true,
            "ticks": "",
            "zerolinecolor": "white"
           }
          },
          "shapedefaults": {
           "line": {
            "color": "#2a3f5f"
           }
          },
          "ternary": {
           "aaxis": {
            "gridcolor": "white",
            "linecolor": "white",
            "ticks": ""
           },
           "baxis": {
            "gridcolor": "white",
            "linecolor": "white",
            "ticks": ""
           },
           "bgcolor": "#E5ECF6",
           "caxis": {
            "gridcolor": "white",
            "linecolor": "white",
            "ticks": ""
           }
          },
          "title": {
           "x": 0.05
          },
          "xaxis": {
           "automargin": true,
           "gridcolor": "white",
           "linecolor": "white",
           "ticks": "",
           "title": {
            "standoff": 15
           },
           "zerolinecolor": "white",
           "zerolinewidth": 2
          },
          "yaxis": {
           "automargin": true,
           "gridcolor": "white",
           "linecolor": "white",
           "ticks": "",
           "title": {
            "standoff": 15
           },
           "zerolinecolor": "white",
           "zerolinewidth": 2
          }
         }
        }
       }
      },
      "text/html": [
       "<div>\n",
       "        \n",
       "        \n",
       "            <div id=\"5b075b0c-d2e5-4cd1-a10f-e6e2e975d74d\" class=\"plotly-graph-div\" style=\"height:525px; width:100%;\"></div>\n",
       "            <script type=\"text/javascript\">\n",
       "                require([\"plotly\"], function(Plotly) {\n",
       "                    window.PLOTLYENV=window.PLOTLYENV || {};\n",
       "                    \n",
       "                if (document.getElementById(\"5b075b0c-d2e5-4cd1-a10f-e6e2e975d74d\")) {\n",
       "                    Plotly.newPlot(\n",
       "                        '5b075b0c-d2e5-4cd1-a10f-e6e2e975d74d',\n",
       "                        [{\"error_y\": {\"array\": [0.18182016604925452, 0.12696686841068525, 0.10185241903833299, 0.08670150408102466, 0.07632407100815806, 0.06866982420630445, 0.06274248827501838, 0.05799160110946298, 0.054084952847754685, 0.05080866397817184, 0.0480180585581842, 0.04561137682049058, 0.043514748646946814, 0.04167313576945491, 0.040044628135395006, 0.038596718473404935, 0.03730379194571998, 0.03614538849975646, 0.03510497154815984, 0.034169037231383106, 0.03332645812048016, 0.03256799164074786, 0.03188590637728396, 0.031273694155037245, 0.03072584548279313, 0.03023767246204049, 0.029805167713902108, 0.029424890971897676, 0.029093877171497896, 0.028809561428561545, 0.02856971742871968, 0.028372406576602414, 0.028215935864715002, 0.02809882287700898, 0.028019766684025574, 0.02797762364493175, 0.02797138732844517, 0.028000171915323616, 0.028063198561396642, 0.028159784290705835, 0.028289333059686363, 0.028451328690353384, 0.02864532941684003, 0.028870963828135834, 0.02912792802256121, 0.029415983817909247, 0.02973495788640863, 0.03008474170650772, 0.030465292244538967, 0.030876633299005564, 0.0313188574588543, 0.031792128644928835, 0.0322966852210453, 0.032832843678055536, 0.033401002911105954, 0.03400164912736835, 0.03463536143918473, 0.035302818216252564, 0.03600480429072224, 0.03674221913152039, 0.03751608612963838, 0.038327563165493794, 0.03917795466397451, 0.04006872538389294, 0.04100151623817553, 0.041978162501561354, 0.04300071483692883, 0.04407146366354237, 0.04519296750566569, 0.046368086104912234, 0.04760001926342701, 0.04889235261966439, 0.050249111860599896, 0.05167482726623822, 0.05317461099547207, 0.0547542502003766, 0.05642031996073473, 0.058180321250654275, 0.06004285081339601, 0.06201781211896952, 0.06411667979617831, 0.06635283450001239, 0.06874199176916077, 0.07130275811194754, 0.0740573620565436, 0.07703263007436907, 0.08026131201361308, 0.08378391654110098, 0.08765130969182304, 0.09192848848513992, 0.09670022505898618, 0.10207980643803335, 0.10822313971070432, 0.11535269104390303, 0.12380073767076995, 0.1340940346244455, 0.14713824241895243, 0.1646851134448549, 0.1908279176404339, 0.2394071718007515], \"color\": \"orange\", \"type\": \"data\", \"visible\": true}, \"name\": \"PDF UP\", \"showlegend\": true, \"type\": \"scattergl\", \"x\": [0.01, 0.0198989898989899, 0.029797979797979796, 0.039696969696969696, 0.049595959595959596, 0.059494949494949496, 0.06939393939393938, 0.07929292929292929, 0.08919191919191918, 0.09909090909090908, 0.10898989898989898, 0.11888888888888888, 0.12878787878787878, 0.1386868686868687, 0.1485858585858586, 0.15848484848484848, 0.16838383838383839, 0.1782828282828283, 0.18818181818181817, 0.19808080808080808, 0.207979797979798, 0.21787878787878787, 0.22777777777777777, 0.23767676767676768, 0.24757575757575756, 0.25747474747474747, 0.2673737373737374, 0.2772727272727273, 0.2871717171717172, 0.29707070707070704, 0.30696969696969695, 0.31686868686868686, 0.32676767676767676, 0.33666666666666667, 0.3465656565656566, 0.3564646464646465, 0.36636363636363634, 0.37626262626262624, 0.38616161616161615, 0.39606060606060606, 0.40595959595959596, 0.41585858585858587, 0.4257575757575757, 0.43565656565656563, 0.44555555555555554, 0.45545454545454545, 0.46535353535353535, 0.47525252525252526, 0.4851515151515151, 0.495050505050505, 0.5049494949494949, 0.5148484848484849, 0.5247474747474747, 0.5346464646464646, 0.5445454545454546, 0.5544444444444444, 0.5643434343434344, 0.5742424242424242, 0.5841414141414141, 0.594040404040404, 0.6039393939393939, 0.6138383838383838, 0.6237373737373737, 0.6336363636363637, 0.6435353535353535, 0.6534343434343434, 0.6633333333333333, 0.6732323232323232, 0.6831313131313131, 0.693030303030303, 0.702929292929293, 0.7128282828282828, 0.7227272727272727, 0.7326262626262626, 0.7425252525252525, 0.7524242424242424, 0.7623232323232323, 0.7722222222222221, 0.7821212121212121, 0.792020202020202, 0.8019191919191919, 0.8118181818181818, 0.8217171717171717, 0.8316161616161616, 0.8415151515151514, 0.8514141414141414, 0.8613131313131313, 0.8712121212121212, 0.8811111111111111, 0.891010101010101, 0.9009090909090909, 0.9108080808080807, 0.9207070707070707, 0.9306060606060605, 0.9405050505050505, 0.9504040404040404, 0.9603030303030302, 0.9702020202020202, 0.98010101010101, 0.99], \"y\": [1.0, 1.0, 1.0, 1.0, 1.0, 1.0, 1.0, 1.0, 1.0, 1.0, 1.0, 1.0, 1.0, 1.0, 1.0, 1.0, 1.0, 1.0, 1.0, 1.0, 1.0, 1.0, 1.0, 1.0, 1.0, 1.0, 1.0, 1.0, 1.0, 1.0, 1.0, 1.0, 1.0, 1.0, 1.0, 1.0, 1.0, 1.0, 1.0, 1.0, 1.0, 1.0, 1.0, 1.0, 1.0, 1.0, 1.0, 1.0, 1.0, 1.0, 1.0, 1.0, 1.0, 1.0, 1.0, 1.0, 1.0, 1.0, 1.0, 1.0, 1.0, 1.0, 1.0, 1.0, 1.0, 1.0, 1.0, 1.0, 1.0, 1.0, 1.0, 1.0, 1.0, 1.0, 1.0, 1.0, 1.0, 1.0, 1.0, 1.0, 1.0, 1.0, 1.0, 1.0, 1.0, 1.0, 1.0, 1.0, 1.0, 1.0, 1.0, 1.0, 1.0, 1.0, 1.0, 1.0, 1.0, 1.0, 1.0, 1.0]}],\n",
       "                        {\"template\": {\"data\": {\"bar\": [{\"error_x\": {\"color\": \"#2a3f5f\"}, \"error_y\": {\"color\": \"#2a3f5f\"}, \"marker\": {\"line\": {\"color\": \"#E5ECF6\", \"width\": 0.5}}, \"type\": \"bar\"}], \"barpolar\": [{\"marker\": {\"line\": {\"color\": \"#E5ECF6\", \"width\": 0.5}}, \"type\": \"barpolar\"}], \"carpet\": [{\"aaxis\": {\"endlinecolor\": \"#2a3f5f\", \"gridcolor\": \"white\", \"linecolor\": \"white\", \"minorgridcolor\": \"white\", \"startlinecolor\": \"#2a3f5f\"}, \"baxis\": {\"endlinecolor\": \"#2a3f5f\", \"gridcolor\": \"white\", \"linecolor\": \"white\", \"minorgridcolor\": \"white\", \"startlinecolor\": \"#2a3f5f\"}, \"type\": \"carpet\"}], \"choropleth\": [{\"colorbar\": {\"outlinewidth\": 0, \"ticks\": \"\"}, \"type\": \"choropleth\"}], \"contour\": [{\"colorbar\": {\"outlinewidth\": 0, \"ticks\": \"\"}, \"colorscale\": [[0.0, \"#0d0887\"], [0.1111111111111111, \"#46039f\"], [0.2222222222222222, \"#7201a8\"], [0.3333333333333333, \"#9c179e\"], [0.4444444444444444, \"#bd3786\"], [0.5555555555555556, \"#d8576b\"], [0.6666666666666666, \"#ed7953\"], [0.7777777777777778, \"#fb9f3a\"], [0.8888888888888888, \"#fdca26\"], [1.0, \"#f0f921\"]], \"type\": \"contour\"}], \"contourcarpet\": [{\"colorbar\": {\"outlinewidth\": 0, \"ticks\": \"\"}, \"type\": \"contourcarpet\"}], \"heatmap\": [{\"colorbar\": {\"outlinewidth\": 0, \"ticks\": \"\"}, \"colorscale\": [[0.0, \"#0d0887\"], [0.1111111111111111, \"#46039f\"], [0.2222222222222222, \"#7201a8\"], [0.3333333333333333, \"#9c179e\"], [0.4444444444444444, \"#bd3786\"], [0.5555555555555556, \"#d8576b\"], [0.6666666666666666, \"#ed7953\"], [0.7777777777777778, \"#fb9f3a\"], [0.8888888888888888, \"#fdca26\"], [1.0, \"#f0f921\"]], \"type\": \"heatmap\"}], \"heatmapgl\": [{\"colorbar\": {\"outlinewidth\": 0, \"ticks\": \"\"}, \"colorscale\": [[0.0, \"#0d0887\"], [0.1111111111111111, \"#46039f\"], [0.2222222222222222, \"#7201a8\"], [0.3333333333333333, \"#9c179e\"], [0.4444444444444444, \"#bd3786\"], [0.5555555555555556, \"#d8576b\"], [0.6666666666666666, \"#ed7953\"], [0.7777777777777778, \"#fb9f3a\"], [0.8888888888888888, \"#fdca26\"], [1.0, \"#f0f921\"]], \"type\": \"heatmapgl\"}], \"histogram\": [{\"marker\": {\"colorbar\": {\"outlinewidth\": 0, \"ticks\": \"\"}}, \"type\": \"histogram\"}], \"histogram2d\": [{\"colorbar\": {\"outlinewidth\": 0, \"ticks\": \"\"}, \"colorscale\": [[0.0, \"#0d0887\"], [0.1111111111111111, \"#46039f\"], [0.2222222222222222, \"#7201a8\"], [0.3333333333333333, \"#9c179e\"], [0.4444444444444444, \"#bd3786\"], [0.5555555555555556, \"#d8576b\"], [0.6666666666666666, \"#ed7953\"], [0.7777777777777778, \"#fb9f3a\"], [0.8888888888888888, \"#fdca26\"], [1.0, \"#f0f921\"]], \"type\": \"histogram2d\"}], \"histogram2dcontour\": [{\"colorbar\": {\"outlinewidth\": 0, \"ticks\": \"\"}, \"colorscale\": [[0.0, \"#0d0887\"], [0.1111111111111111, \"#46039f\"], [0.2222222222222222, \"#7201a8\"], [0.3333333333333333, \"#9c179e\"], [0.4444444444444444, \"#bd3786\"], [0.5555555555555556, \"#d8576b\"], [0.6666666666666666, \"#ed7953\"], [0.7777777777777778, \"#fb9f3a\"], [0.8888888888888888, \"#fdca26\"], [1.0, \"#f0f921\"]], \"type\": \"histogram2dcontour\"}], \"mesh3d\": [{\"colorbar\": {\"outlinewidth\": 0, \"ticks\": \"\"}, \"type\": \"mesh3d\"}], \"parcoords\": [{\"line\": {\"colorbar\": {\"outlinewidth\": 0, \"ticks\": \"\"}}, \"type\": \"parcoords\"}], \"pie\": [{\"automargin\": true, \"type\": \"pie\"}], \"scatter\": [{\"marker\": {\"colorbar\": {\"outlinewidth\": 0, \"ticks\": \"\"}}, \"type\": \"scatter\"}], \"scatter3d\": [{\"line\": {\"colorbar\": {\"outlinewidth\": 0, \"ticks\": \"\"}}, \"marker\": {\"colorbar\": {\"outlinewidth\": 0, \"ticks\": \"\"}}, \"type\": \"scatter3d\"}], \"scattercarpet\": [{\"marker\": {\"colorbar\": {\"outlinewidth\": 0, \"ticks\": \"\"}}, \"type\": \"scattercarpet\"}], \"scattergeo\": [{\"marker\": {\"colorbar\": {\"outlinewidth\": 0, \"ticks\": \"\"}}, \"type\": \"scattergeo\"}], \"scattergl\": [{\"marker\": {\"colorbar\": {\"outlinewidth\": 0, \"ticks\": \"\"}}, \"type\": \"scattergl\"}], \"scattermapbox\": [{\"marker\": {\"colorbar\": {\"outlinewidth\": 0, \"ticks\": \"\"}}, \"type\": \"scattermapbox\"}], \"scatterpolar\": [{\"marker\": {\"colorbar\": {\"outlinewidth\": 0, \"ticks\": \"\"}}, \"type\": \"scatterpolar\"}], \"scatterpolargl\": [{\"marker\": {\"colorbar\": {\"outlinewidth\": 0, \"ticks\": \"\"}}, \"type\": \"scatterpolargl\"}], \"scatterternary\": [{\"marker\": {\"colorbar\": {\"outlinewidth\": 0, \"ticks\": \"\"}}, \"type\": \"scatterternary\"}], \"surface\": [{\"colorbar\": {\"outlinewidth\": 0, \"ticks\": \"\"}, \"colorscale\": [[0.0, \"#0d0887\"], [0.1111111111111111, \"#46039f\"], [0.2222222222222222, \"#7201a8\"], [0.3333333333333333, \"#9c179e\"], [0.4444444444444444, \"#bd3786\"], [0.5555555555555556, \"#d8576b\"], [0.6666666666666666, \"#ed7953\"], [0.7777777777777778, \"#fb9f3a\"], [0.8888888888888888, \"#fdca26\"], [1.0, \"#f0f921\"]], \"type\": \"surface\"}], \"table\": [{\"cells\": {\"fill\": {\"color\": \"#EBF0F8\"}, \"line\": {\"color\": \"white\"}}, \"header\": {\"fill\": {\"color\": \"#C8D4E3\"}, \"line\": {\"color\": \"white\"}}, \"type\": \"table\"}]}, \"layout\": {\"annotationdefaults\": {\"arrowcolor\": \"#2a3f5f\", \"arrowhead\": 0, \"arrowwidth\": 1}, \"coloraxis\": {\"colorbar\": {\"outlinewidth\": 0, \"ticks\": \"\"}}, \"colorscale\": {\"diverging\": [[0, \"#8e0152\"], [0.1, \"#c51b7d\"], [0.2, \"#de77ae\"], [0.3, \"#f1b6da\"], [0.4, \"#fde0ef\"], [0.5, \"#f7f7f7\"], [0.6, \"#e6f5d0\"], [0.7, \"#b8e186\"], [0.8, \"#7fbc41\"], [0.9, \"#4d9221\"], [1, \"#276419\"]], \"sequential\": [[0.0, \"#0d0887\"], [0.1111111111111111, \"#46039f\"], [0.2222222222222222, \"#7201a8\"], [0.3333333333333333, \"#9c179e\"], [0.4444444444444444, \"#bd3786\"], [0.5555555555555556, \"#d8576b\"], [0.6666666666666666, \"#ed7953\"], [0.7777777777777778, \"#fb9f3a\"], [0.8888888888888888, \"#fdca26\"], [1.0, \"#f0f921\"]], \"sequentialminus\": [[0.0, \"#0d0887\"], [0.1111111111111111, \"#46039f\"], [0.2222222222222222, \"#7201a8\"], [0.3333333333333333, \"#9c179e\"], [0.4444444444444444, \"#bd3786\"], [0.5555555555555556, \"#d8576b\"], [0.6666666666666666, \"#ed7953\"], [0.7777777777777778, \"#fb9f3a\"], [0.8888888888888888, \"#fdca26\"], [1.0, \"#f0f921\"]]}, \"colorway\": [\"#636efa\", \"#EF553B\", \"#00cc96\", \"#ab63fa\", \"#FFA15A\", \"#19d3f3\", \"#FF6692\", \"#B6E880\", \"#FF97FF\", \"#FECB52\"], \"font\": {\"color\": \"#2a3f5f\"}, \"geo\": {\"bgcolor\": \"white\", \"lakecolor\": \"white\", \"landcolor\": \"#E5ECF6\", \"showlakes\": true, \"showland\": true, \"subunitcolor\": \"white\"}, \"hoverlabel\": {\"align\": \"left\"}, \"hovermode\": \"closest\", \"mapbox\": {\"style\": \"light\"}, \"paper_bgcolor\": \"white\", \"plot_bgcolor\": \"#E5ECF6\", \"polar\": {\"angularaxis\": {\"gridcolor\": \"white\", \"linecolor\": \"white\", \"ticks\": \"\"}, \"bgcolor\": \"#E5ECF6\", \"radialaxis\": {\"gridcolor\": \"white\", \"linecolor\": \"white\", \"ticks\": \"\"}}, \"scene\": {\"xaxis\": {\"backgroundcolor\": \"#E5ECF6\", \"gridcolor\": \"white\", \"gridwidth\": 2, \"linecolor\": \"white\", \"showbackground\": true, \"ticks\": \"\", \"zerolinecolor\": \"white\"}, \"yaxis\": {\"backgroundcolor\": \"#E5ECF6\", \"gridcolor\": \"white\", \"gridwidth\": 2, \"linecolor\": \"white\", \"showbackground\": true, \"ticks\": \"\", \"zerolinecolor\": \"white\"}, \"zaxis\": {\"backgroundcolor\": \"#E5ECF6\", \"gridcolor\": \"white\", \"gridwidth\": 2, \"linecolor\": \"white\", \"showbackground\": true, \"ticks\": \"\", \"zerolinecolor\": \"white\"}}, \"shapedefaults\": {\"line\": {\"color\": \"#2a3f5f\"}}, \"ternary\": {\"aaxis\": {\"gridcolor\": \"white\", \"linecolor\": \"white\", \"ticks\": \"\"}, \"baxis\": {\"gridcolor\": \"white\", \"linecolor\": \"white\", \"ticks\": \"\"}, \"bgcolor\": \"#E5ECF6\", \"caxis\": {\"gridcolor\": \"white\", \"linecolor\": \"white\", \"ticks\": \"\"}}, \"title\": {\"x\": 0.05}, \"xaxis\": {\"automargin\": true, \"gridcolor\": \"white\", \"linecolor\": \"white\", \"ticks\": \"\", \"title\": {\"standoff\": 15}, \"zerolinecolor\": \"white\", \"zerolinewidth\": 2}, \"yaxis\": {\"automargin\": true, \"gridcolor\": \"white\", \"linecolor\": \"white\", \"ticks\": \"\", \"title\": {\"standoff\": 15}, \"zerolinecolor\": \"white\", \"zerolinewidth\": 2}}}},\n",
       "                        {\"responsive\": true}\n",
       "                    ).then(function(){\n",
       "                            \n",
       "var gd = document.getElementById('5b075b0c-d2e5-4cd1-a10f-e6e2e975d74d');\n",
       "var x = new MutationObserver(function (mutations, observer) {{\n",
       "        var display = window.getComputedStyle(gd).display;\n",
       "        if (!display || display === 'none') {{\n",
       "            console.log([gd, 'removed!']);\n",
       "            Plotly.purge(gd);\n",
       "            observer.disconnect();\n",
       "        }}\n",
       "}});\n",
       "\n",
       "// Listen for the removal of the full notebook cells\n",
       "var notebookContainer = gd.closest('#notebook-container');\n",
       "if (notebookContainer) {{\n",
       "    x.observe(notebookContainer, {childList: true});\n",
       "}}\n",
       "\n",
       "// Listen for the clearing of the current output cell\n",
       "var outputEl = gd.closest('.output');\n",
       "if (outputEl) {{\n",
       "    x.observe(outputEl, {childList: true});\n",
       "}}\n",
       "\n",
       "                        })\n",
       "                };\n",
       "                });\n",
       "            </script>\n",
       "        </div>"
      ]
     },
     "metadata": {},
     "output_type": "display_data"
    }
   ],
   "source": [
    "#--- Plot the figure Ratio Plot\n",
    "figure_g = go.Figure()\n",
    "pdf_up_trace = go.Scattergl(\n",
    "                        x = pdf_dict['x-axis'],\n",
    "                        y = np.ones(len(pdf_dict['x-axis'])),#pdf_dict['u'].mean(axis=0),\n",
    "                        name='PDF UP',\n",
    "                        showlegend=True,\n",
    "                        error_y=dict(\n",
    "                                type='data',\n",
    "                                color='orange',\n",
    "                                array=pdf_dict['u'].std(axis=0)/pdf_dict['d'].mean(axis=0),\n",
    "                                #array=pdf_dict['u'].std(axis=0)*5,\n",
    "                                visible=True\n",
    "                                )\n",
    "                        )\n",
    "#--- Plotting pdf_up\n",
    "figure_g.add_trace(pdf_up_trace)"
   ]
  },
  {
   "cell_type": "code",
   "execution_count": null,
   "metadata": {},
   "outputs": [],
   "source": []
  }
 ],
 "metadata": {
  "kernelspec": {
   "display_name": "Python 3",
   "language": "python",
   "name": "python3"
  },
  "language_info": {
   "codemirror_mode": {
    "name": "ipython",
    "version": 3
   },
   "file_extension": ".py",
   "mimetype": "text/x-python",
   "name": "python",
   "nbconvert_exporter": "python",
   "pygments_lexer": "ipython3",
   "version": "3.6.10"
  }
 },
 "nbformat": 4,
 "nbformat_minor": 2
}
