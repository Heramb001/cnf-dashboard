{
 "cells": [
  {
   "cell_type": "code",
   "execution_count": 5,
   "metadata": {},
   "outputs": [
    {
     "name": "stderr",
     "output_type": "stream",
     "text": [
      "C:\\tools\\Anaconda3\\lib\\site-packages\\sklearn\\externals\\joblib\\__init__.py:15: DeprecationWarning: sklearn.externals.joblib is deprecated in 0.21 and will be removed in 0.23. Please import this functionality directly from joblib, which can be installed with: pip install joblib. If this warning is raised when loading pickled models, you may need to re-serialize those models with scikit-learn 0.21+.\n",
      "  warnings.warn(msg, category=DeprecationWarning)\n"
     ]
    }
   ],
   "source": [
    "import numpy as np\n",
    "from tensorflow.keras.models import load_model\n",
    "import tensorflow as tf\n",
    "#from joblib import dump, load\n",
    "from sklearn.externals import joblib\n",
    "from sklearn.preprocessing import StandardScaler\n",
    "from sklearn.preprocessing import MinMaxScaler\n",
    "import warnings\n",
    "warnings.filterwarnings('ignore')\n",
    "import h5py\n",
    "from tools import load,save,checkdir\n",
    "import theory\n",
    "import os\n",
    "import matplotlib.pyplot as plt"
   ]
  },
  {
   "cell_type": "code",
   "execution_count": 52,
   "metadata": {},
   "outputs": [],
   "source": [
    "def load_model(model):\n",
    "    \n",
    "    model = tf.keras.models.load_model('mldata/%s.h5'%model) \n",
    "    return model\n",
    "\n",
    "model = load_model(\"mymodel\")\n",
    "xsec = np.load(\"mldata/test_backward.npy\")\n",
    "xsec.shape"
   ]
  },
  {
   "cell_type": "code",
   "execution_count": 57,
   "metadata": {},
   "outputs": [],
   "source": [
    "# par = model.predict( np.array( [xsec,] )  )\n",
    "# par.shape"
   ]
  },
  {
   "cell_type": "code",
   "execution_count": 53,
   "metadata": {},
   "outputs": [],
   "source": [
    "try: \n",
    "  import cPickle \n",
    "except:\n",
    "  import _pickle as cPickle \n",
    "import sys, os\n",
    "import zlib\n",
    "\n",
    "def checkdir(path):\n",
    "    if not os.path.exists(path): \n",
    "        os.makedirs(path)\n",
    "\n",
    "def save(data,name):  \n",
    "    cPickle.dumps(data)\n",
    "    compressed=zlib.compress(cPickle.dumps(data))\n",
    "    f=open(name,\"wb\")\n",
    "    f.write(compressed)\n",
    "    f.close()\n",
    "\n",
    "def load(name): \n",
    "    compressed=open(name,\"rb\").read()\n",
    "    data=cPickle.loads(zlib.decompress(compressed))\n",
    "    return data\n",
    "\n",
    "def load2(name): \n",
    "  compressed=open(name,\"rb\").read()\n",
    "  data=cPickle.loads(compressed)\n",
    "  return data\n",
    "\n",
    "def isnumeric(value):\n",
    "  try:\n",
    "    int(value)\n",
    "    return True\n",
    "  except:\n",
    "    return False\n",
    "\n",
    "  return r'$\\mathrm{'+x+'}$'\n",
    "\n",
    "def ERR(msg):\n",
    "  print(msg)\n",
    "  sys.exit()\n",
    "\n",
    "def lprint(msg):\n",
    "  sys.stdout.write('\\r')\n",
    "  sys.stdout.write(msg)\n",
    "  sys.stdout.flush()"
   ]
  },
  {
   "cell_type": "code",
   "execution_count": 54,
   "metadata": {},
   "outputs": [],
   "source": [
    "#!/usr/bin/env python\n",
    "import sys,os\n",
    "import numpy as np\n",
    "from scipy.special import gamma\n",
    "from tools import save, load,checkdir,lprint\n",
    "\n",
    "Q02=4.0\n",
    "lam2=0.2**2\n",
    "pu=np.ones(10)\n",
    "pd=np.ones(10)\n",
    "pu[5:]*=0.1\n",
    "pd[5:]*=0.1\n",
    "\n",
    "pmin=np.zeros(5)\n",
    "pmax=np.zeros(5)\n",
    "pmin[0],pmax[0]= 0,10 # N\n",
    "pmin[1],pmax[1]=-1,1 # a\n",
    "pmin[2],pmax[2]= 0,6 # a\n",
    "pmin[3],pmax[3]=-1,1 # a\n",
    "pmin[4],pmax[4]=-1,1 # a\n",
    "\n",
    "def get_rand_par():\n",
    "    pu=pmin + (pmax-pmin)*np.random.uniform(0,1,pmin.size)\n",
    "    pd=pmin + (pmax-pmin)*np.random.uniform(0,1,pmin.size)\n",
    "    par=np.append(pu,pd)\n",
    "    return par\n",
    "\n",
    "def set_params(par):\n",
    "    pu[:5]=par[:5]\n",
    "    pd[:5]=par[5:]\n",
    "\n",
    "def beta(a, b):\n",
    "    return gamma(a) * gamma(b) / gamma(a + b)\n",
    "\n",
    "def get_s(Q2):\n",
    "    return np.log(np.log(Q2/lam2)/np.log(Q02/lam2))\n",
    "\n",
    "def _get_shape(x,p):\n",
    "    return p[0]*x**p[1]*(1-x)**p[2]*(1+p[3]*x+p[4]*x**2)\n",
    "\n",
    "def get_shape(x,p,s):\n",
    "    N=p[0] + p[5] * s\n",
    "    a=p[1] + p[6] * s\n",
    "    b=p[2] + p[7] * s\n",
    "    c=p[3] + p[8] * s\n",
    "    d=p[4] + p[9] * s\n",
    "    return _get_shape(x,[N,a,b,c,d])\n",
    "\n",
    "def get_pdf(x,Q2,flav):\n",
    "    s=get_s(Q2)\n",
    "    if flav=='u': return get_shape(x,pu,s)\n",
    "    if flav=='d': return get_shape(x,pd,s)\n",
    "\n",
    "def get_obs(x,Q2,had):\n",
    "    u=get_pdf(x,Q2,'u')\n",
    "    d=get_pdf(x,Q2,'d')\n",
    "    if had=='p': return 4*u+d\n",
    "    if had=='n': return 4*d+u\n",
    "\n",
    "\n",
    "if __name__=='__main__':\n",
    "\n",
    "    x = np.linspace(0.01,0.99,100)\n",
    "    Q2=4.0\n",
    "    #print(get_obs(x,Q2,'p'))\n",
    "\n",
    "    set_params(par)\n",
    "\n",
    "    u = get_pdf(x,Q2,'u')\n",
    "    d = get_pdf(x,Q2,'d')"
   ]
  },
  {
   "cell_type": "code",
   "execution_count": 58,
   "metadata": {},
   "outputs": [
    {
     "data": {
      "image/png": "[encoded data removed]",
      "text/plain": [
       "<Figure size 432x288 with 1 Axes>"
      ]
     },
     "metadata": {
      "needs_background": "light"
     },
     "output_type": "display_data"
    }
   ],
   "source": [
    "plt.plot(u)\n",
    "plt.plot(d)\n",
    "plt.legend([\"up data\", \"d data\"])\n",
    "plt.show()"
   ]
  }
 ],
 "metadata": {
  "kernelspec": {
   "display_name": "Python 3",
   "language": "python",
   "name": "python3"
  },
  "language_info": {
   "codemirror_mode": {
    "name": "ipython",
    "version": 3
   },
   "file_extension": ".py",
   "mimetype": "text/x-python",
   "name": "python",
   "nbconvert_exporter": "python",
   "pygments_lexer": "ipython3",
   "version": "3.7.3"
  }
 },
 "nbformat": 4,
 "nbformat_minor": 2
}
