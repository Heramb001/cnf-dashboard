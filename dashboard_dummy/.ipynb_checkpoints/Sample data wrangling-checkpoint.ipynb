{
 "cells": [
  {
   "cell_type": "code",
   "execution_count": 2,
   "metadata": {},
   "outputs": [],
   "source": [
    "import numpy as np\n",
    "import pandas as pd\n",
    "import json"
   ]
  },
  {
   "cell_type": "code",
   "execution_count": 3,
   "metadata": {},
   "outputs": [],
   "source": [
    "data_b = pd.read_csv('./data/B.txt', header=None, prefix = 'X', delimiter=' ')\n",
    "data_b['is_selected'] = False"
   ]
  },
  {
   "cell_type": "code",
   "execution_count": 4,
   "metadata": {},
   "outputs": [
    {
     "data": {
      "text/html": [
       "<div>\n",
       "<style scoped>\n",
       "    .dataframe tbody tr th:only-of-type {\n",
       "        vertical-align: middle;\n",
       "    }\n",
       "\n",
       "    .dataframe tbody tr th {\n",
       "        vertical-align: top;\n",
       "    }\n",
       "\n",
       "    .dataframe thead th {\n",
       "        text-align: right;\n",
       "    }\n",
       "</style>\n",
       "<table border=\"1\" class=\"dataframe\">\n",
       "  <thead>\n",
       "    <tr style=\"text-align: right;\">\n",
       "      <th></th>\n",
       "      <th>X0</th>\n",
       "      <th>X1</th>\n",
       "      <th>is_selected</th>\n",
       "    </tr>\n",
       "  </thead>\n",
       "  <tbody>\n",
       "    <tr>\n",
       "      <td>0</td>\n",
       "      <td>1.4629</td>\n",
       "      <td>1.7974</td>\n",
       "      <td>False</td>\n",
       "    </tr>\n",
       "    <tr>\n",
       "      <td>1</td>\n",
       "      <td>1.4984</td>\n",
       "      <td>1.5395</td>\n",
       "      <td>False</td>\n",
       "    </tr>\n",
       "    <tr>\n",
       "      <td>2</td>\n",
       "      <td>0.5565</td>\n",
       "      <td>0.7249</td>\n",
       "      <td>False</td>\n",
       "    </tr>\n",
       "    <tr>\n",
       "      <td>3</td>\n",
       "      <td>0.8081</td>\n",
       "      <td>1.9161</td>\n",
       "      <td>False</td>\n",
       "    </tr>\n",
       "    <tr>\n",
       "      <td>4</td>\n",
       "      <td>1.4016</td>\n",
       "      <td>0.8231</td>\n",
       "      <td>False</td>\n",
       "    </tr>\n",
       "    <tr>\n",
       "      <td>...</td>\n",
       "      <td>...</td>\n",
       "      <td>...</td>\n",
       "      <td>...</td>\n",
       "    </tr>\n",
       "    <tr>\n",
       "      <td>213</td>\n",
       "      <td>1.4274</td>\n",
       "      <td>1.7278</td>\n",
       "      <td>False</td>\n",
       "    </tr>\n",
       "    <tr>\n",
       "      <td>214</td>\n",
       "      <td>0.8145</td>\n",
       "      <td>1.3389</td>\n",
       "      <td>False</td>\n",
       "    </tr>\n",
       "    <tr>\n",
       "      <td>215</td>\n",
       "      <td>1.0242</td>\n",
       "      <td>1.8874</td>\n",
       "      <td>False</td>\n",
       "    </tr>\n",
       "    <tr>\n",
       "      <td>216</td>\n",
       "      <td>0.3210</td>\n",
       "      <td>1.7564</td>\n",
       "      <td>False</td>\n",
       "    </tr>\n",
       "    <tr>\n",
       "      <td>217</td>\n",
       "      <td>0.6081</td>\n",
       "      <td>1.4781</td>\n",
       "      <td>False</td>\n",
       "    </tr>\n",
       "  </tbody>\n",
       "</table>\n",
       "<p>218 rows × 3 columns</p>\n",
       "</div>"
      ],
      "text/plain": [
       "         X0      X1  is_selected\n",
       "0    1.4629  1.7974        False\n",
       "1    1.4984  1.5395        False\n",
       "2    0.5565  0.7249        False\n",
       "3    0.8081  1.9161        False\n",
       "4    1.4016  0.8231        False\n",
       "..      ...     ...          ...\n",
       "213  1.4274  1.7278        False\n",
       "214  0.8145  1.3389        False\n",
       "215  1.0242  1.8874        False\n",
       "216  0.3210  1.7564        False\n",
       "217  0.6081  1.4781        False\n",
       "\n",
       "[218 rows x 3 columns]"
      ]
     },
     "execution_count": 4,
     "metadata": {},
     "output_type": "execute_result"
    }
   ],
   "source": [
    "data_b"
   ]
  },
  {
   "cell_type": "code",
   "execution_count": 5,
   "metadata": {},
   "outputs": [
    {
     "name": "stdout",
     "output_type": "stream",
     "text": [
      "{\n",
      "  \"points\": [\n",
      "    {\n",
      "      \"x\": 1.279,\n",
      "      \"y\": 1.519\n",
      "    },\n",
      "    {\n",
      "      \"x\": 1.2565,\n",
      "      \"y\": 1.4658\n",
      "    }\n",
      "  ]\n",
      "}\n"
     ]
    },
    {
     "name": "stderr",
     "output_type": "stream",
     "text": [
      "/home/heramb/anaconda3/lib/python3.7/site-packages/ipykernel_launcher.py:19: SettingWithCopyWarning: \n",
      "A value is trying to be set on a copy of a slice from a DataFrame.\n",
      "Try using .loc[row_indexer,col_indexer] = value instead\n",
      "\n",
      "See the caveats in the documentation: http://pandas.pydata.org/pandas-docs/stable/user_guide/indexing.html#returning-a-view-versus-a-copy\n"
     ]
    },
    {
     "data": {
      "text/html": [
       "<div>\n",
       "<style scoped>\n",
       "    .dataframe tbody tr th:only-of-type {\n",
       "        vertical-align: middle;\n",
       "    }\n",
       "\n",
       "    .dataframe tbody tr th {\n",
       "        vertical-align: top;\n",
       "    }\n",
       "\n",
       "    .dataframe thead th {\n",
       "        text-align: right;\n",
       "    }\n",
       "</style>\n",
       "<table border=\"1\" class=\"dataframe\">\n",
       "  <thead>\n",
       "    <tr style=\"text-align: right;\">\n",
       "      <th></th>\n",
       "      <th>X0</th>\n",
       "      <th>X1</th>\n",
       "      <th>is_selected</th>\n",
       "    </tr>\n",
       "  </thead>\n",
       "  <tbody>\n",
       "  </tbody>\n",
       "</table>\n",
       "</div>"
      ],
      "text/plain": [
       "Empty DataFrame\n",
       "Columns: [X0, X1, is_selected]\n",
       "Index: []"
      ]
     },
     "execution_count": 5,
     "metadata": {},
     "output_type": "execute_result"
    }
   ],
   "source": [
    "selectedData = {'points' : \n",
    "                [\n",
    "                    {'x': 1.279,\n",
    "                     'y': 1.519},\n",
    "                    {'x': 1.2565,\n",
    "                     'y': 1.4658}]\n",
    "               }\n",
    "s_data = json.dumps(selectedData, indent=2)\n",
    "print(s_data)\n",
    "if s_data != 'null':\n",
    "    selected = json.loads(s_data)\n",
    "    temp_x = []\n",
    "    temp_y = []\n",
    "    for point in selected['points']:\n",
    "        #return point\n",
    "        \n",
    "        #--- update the is_selected column\n",
    "        #data_b['is_selected'] = np.where(((data_b['X0'] == point['x']) & (data_b['X1'] == point['y'])), True, False)\n",
    "        data_b.loc[(data_b['X0'] == point['x']) & (data_b['X1'] == point['y'])]['is_selected'] =  True\n",
    "        #point['x']\n",
    "        #point['y']\n",
    "        temp_x.append(point['x'])\n",
    "        temp_y.append(point['y'])\n",
    "        #points = s_data['points']\n",
    "    pointsdict = {\n",
    "                'x' : temp_x,\n",
    "                'y' : temp_y \n",
    "    }\n",
    "    \n",
    "data_b[data_b.is_selected == True]"
   ]
  },
  {
   "cell_type": "code",
   "execution_count": null,
   "metadata": {},
   "outputs": [],
   "source": []
  }
 ],
 "metadata": {
  "kernelspec": {
   "display_name": "Python 3",
   "language": "python",
   "name": "python3"
  },
  "language_info": {
   "codemirror_mode": {
    "name": "ipython",
    "version": 3
   },
   "file_extension": ".py",
   "mimetype": "text/x-python",
   "name": "python",
   "nbconvert_exporter": "python",
   "pygments_lexer": "ipython3",
   "version": "3.7.4"
  }
 },
 "nbformat": 4,
 "nbformat_minor": 2
}
